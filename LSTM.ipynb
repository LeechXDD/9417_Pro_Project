{
  "nbformat": 4,
  "nbformat_minor": 0,
  "metadata": {
    "colab": {
      "provenance": [],
      "authorship_tag": "ABX9TyPr5VZKkIs04oYCqCHCOnol",
      "include_colab_link": true
    },
    "kernelspec": {
      "name": "python3",
      "display_name": "Python 3"
    },
    "language_info": {
      "name": "python"
    }
  },
  "cells": [
    {
      "cell_type": "markdown",
      "metadata": {
        "id": "view-in-github",
        "colab_type": "text"
      },
      "source": [
        "<a href=\"https://colab.research.google.com/github/LeechXDD/9417_Pro_Project/blob/main/LSTM.ipynb\" target=\"_parent\"><img src=\"https://colab.research.google.com/assets/colab-badge.svg\" alt=\"Open In Colab\"/></a>"
      ]
    },
    {
      "cell_type": "code",
      "execution_count": 16,
      "metadata": {
        "id": "ueh5uId-wMpu"
      },
      "outputs": [],
      "source": [
        "from tensorflow.keras.models import Sequential\n",
        "from tensorflow.keras.layers import LSTM, Dense\n",
        "import numpy as np\n",
        "import pandas as pd\n",
        "from sklearn.metrics import f1_score"
      ]
    },
    {
      "cell_type": "markdown",
      "source": [
        "##Data preprocessing"
      ],
      "metadata": {
        "id": "LbSLs7pXxMIq"
      }
    },
    {
      "cell_type": "code",
      "source": [
        "dtypes={\n",
        "    'elapsed_time':np.int32,\n",
        "    'event_name':'category',\n",
        "    'name':'category',\n",
        "    'level':np.uint8,\n",
        "    'room_coor_x':np.float32,\n",
        "    'room_coor_y':np.float32,\n",
        "    'screen_coor_x':np.float32,\n",
        "    'screen_coor_y':np.float32,\n",
        "    'hover_duration':np.float32,\n",
        "    'text':'category',\n",
        "    'fqid':'category',\n",
        "    'room_fqid':'category',\n",
        "    'text_fqid':'category',\n",
        "    'fullscreen':'category',\n",
        "    'hq':'category',\n",
        "    'music':'category',\n",
        "    'level_group':'category'}"
      ],
      "metadata": {
        "id": "jLQoO_WCxMqt"
      },
      "execution_count": 17,
      "outputs": []
    },
    {
      "cell_type": "code",
      "source": [
        "from google.colab import drive\n",
        "drive.mount('/content/drive')\n",
        "\n",
        "dataset_df = pd.read_csv('/content/drive/MyDrive/9417project/predict-student-performance-from-game-play.zip (Unzipped Files)/train.csv', dtype=dtypes)\n",
        "labels = pd.read_csv('/content/drive/MyDrive/9417project/predict-student-performance-from-game-play.zip (Unzipped Files)/train_labels.csv')"
      ],
      "metadata": {
        "colab": {
          "base_uri": "https://localhost:8080/"
        },
        "id": "xGcxMlQPxOzf",
        "outputId": "0df6ec40-2f32-4d0a-dbec-d8d24cc36244"
      },
      "execution_count": 18,
      "outputs": [
        {
          "output_type": "stream",
          "name": "stdout",
          "text": [
            "Drive already mounted at /content/drive; to attempt to forcibly remount, call drive.mount(\"/content/drive\", force_remount=True).\n"
          ]
        }
      ]
    },
    {
      "cell_type": "code",
      "source": [
        "labels['session'] = labels.session_id.apply(lambda x: int(x.split('_')[0]) )\n",
        "labels['q'] = labels.session_id.apply(lambda x: int(x.split('_')[-1][1:]) )"
      ],
      "metadata": {
        "id": "9tPTBMuBxSuH"
      },
      "execution_count": 19,
      "outputs": []
    },
    {
      "cell_type": "code",
      "source": [
        "CATEGORICAL = ['event_name', 'name','fqid', 'room_fqid', 'text_fqid']\n",
        "NUMERICAL = ['elapsed_time','level','page','room_coor_x', 'room_coor_y',\n",
        "        'screen_coor_x', 'screen_coor_y', 'hover_duration']"
      ],
      "metadata": {
        "id": "ciIHg6HixUNA"
      },
      "execution_count": 20,
      "outputs": []
    },
    {
      "cell_type": "code",
      "source": [
        "# Reference: https://www.kaggle.com/code/cdeotte/random-forest-baseline-0-664/notebook\n",
        "\n",
        "def feature_engineer(dataset_df):\n",
        "    dfs = []\n",
        "    for c in CATEGORICAL:\n",
        "        tmp = dataset_df.groupby(['session_id','level_group'])[c].agg('nunique')\n",
        "        tmp.name = tmp.name + '_nunique'\n",
        "        dfs.append(tmp)\n",
        "    for c in NUMERICAL:\n",
        "        tmp = dataset_df.groupby(['session_id','level_group'])[c].agg('mean')\n",
        "        dfs.append(tmp)\n",
        "    for c in NUMERICAL:\n",
        "        tmp = dataset_df.groupby(['session_id','level_group'])[c].agg('std')\n",
        "        tmp.name = tmp.name + '_std'\n",
        "        dfs.append(tmp)\n",
        "    dataset_df = pd.concat(dfs,axis=1)\n",
        "    dataset_df = dataset_df.fillna(-1)\n",
        "    dataset_df = dataset_df.reset_index()\n",
        "    dataset_df = dataset_df.set_index('session_id')\n",
        "    return dataset_df"
      ],
      "metadata": {
        "id": "Xrz9SFEaxWBC"
      },
      "execution_count": 21,
      "outputs": []
    },
    {
      "cell_type": "code",
      "source": [
        "dataset_df = feature_engineer(dataset_df)"
      ],
      "metadata": {
        "id": "yCavLpTFxXqP"
      },
      "execution_count": 22,
      "outputs": []
    },
    {
      "cell_type": "code",
      "source": [
        "def split_dataset(dataset, test_ratio=0.20):\n",
        "    USER_LIST = dataset.index.unique()\n",
        "    split = int(len(USER_LIST) * (1 - 0.20))\n",
        "    return dataset.loc[USER_LIST[:split]], dataset.loc[USER_LIST[split:]]\n",
        "\n",
        "train_x, valid_x = split_dataset(dataset_df)"
      ],
      "metadata": {
        "id": "avtUSlrWxZMX"
      },
      "execution_count": 23,
      "outputs": []
    },
    {
      "cell_type": "code",
      "source": [
        "# Fetch the unique list of user sessions in the validation dataset. We assigned\n",
        "# `session_id` as the index of our feature engineered dataset. Hence fetching\n",
        "# the unique values in the index column will give us a list of users in the\n",
        "# validation set.\n",
        "VALID_USER_LIST = valid_x.index.unique()\n",
        "\n",
        "# Create a dataframe for storing the predictions of each question for all users\n",
        "# in the validation set.\n",
        "# For this, the required size of the data frame is:\n",
        "# (no: of users in validation set  x no of questions).\n",
        "# We will initialize all the predicted values in the data frame to zero.\n",
        "# The dataframe's index column is the user `session_id`s.\n",
        "prediction_df = pd.DataFrame(data=np.zeros((len(VALID_USER_LIST),18)), index=VALID_USER_LIST)\n",
        "\n",
        "# Create an empty dictionary to store the models created for each question.\n",
        "models = {}\n",
        "\n",
        "f1_scores = []\n",
        "\n",
        "# Create an empty dictionary to store the evaluation score for each question.\n",
        "evaluation_dict ={}"
      ],
      "metadata": {
        "id": "myvynSmyxu4B"
      },
      "execution_count": 24,
      "outputs": []
    },
    {
      "cell_type": "code",
      "source": [
        "def df_to_dataset(dataframe, shuffle=True, batch_size=32):\n",
        "    dataframe = dataframe.copy()\n",
        "    labels = dataframe.pop('label')  # Assume 'label' is your target column\n",
        "    ds = tf.data.Dataset.from_tensor_slices((dict(dataframe), labels))\n",
        "    if shuffle:\n",
        "        ds = ds.shuffle(buffer_size=len(dataframe))\n",
        "    ds = ds.batch(batch_size)\n",
        "    return ds"
      ],
      "metadata": {
        "id": "_CsY1YQVxwb2"
      },
      "execution_count": 25,
      "outputs": []
    },
    {
      "cell_type": "code",
      "source": [
        "def prepare_data(df, sequence_length):\n",
        "    \"\"\"\n",
        "    Prepare data for LSTM, based on sequence length.\n",
        "    \"\"\"\n",
        "    # Get labels\n",
        "    labels = df.groupby(df.index)[\"correct\"].last().values\n",
        "    # Drop the 'correct' and 'level_group' columns from the features\n",
        "    features = df.drop(columns=[\"correct\", \"level_group\"])\n",
        "\n",
        "    data = []\n",
        "    target = []\n",
        "\n",
        "    # Create sequences\n",
        "    for user, group in features.groupby(features.index):\n",
        "        user_features = group.values\n",
        "        if len(user_features) < sequence_length:\n",
        "            padding = np.zeros((sequence_length - len(user_features), user_features.shape[1]))\n",
        "            user_features = np.concatenate((user_features, padding))\n",
        "        data.append(user_features)\n",
        "        target.append(labels[len(data)-1])\n",
        "\n",
        "    # Convert lists to numpy arrays\n",
        "    data = np.array(data)\n",
        "    target = np.array(target)\n",
        "\n",
        "    return data, target\n"
      ],
      "metadata": {
        "id": "XUoHegj2GDVg"
      },
      "execution_count": 35,
      "outputs": []
    },
    {
      "cell_type": "code",
      "source": [
        "# model define\n",
        "input_shape = (100, 32)"
      ],
      "metadata": {
        "id": "x7zDRR7DyAph"
      },
      "execution_count": 36,
      "outputs": []
    },
    {
      "cell_type": "code",
      "source": [
        "sequence_length = 100\n",
        "# Iterate through questions 1 to 18 to train models for each question, evaluate\n",
        "# the trained model and store the predicted values.\n",
        "for q_no in range(1,19):\n",
        "    # Select level group for the question based on the q_no.\n",
        "    if q_no<=3: grp = '0-4'\n",
        "    elif q_no<=13: grp = '5-12'\n",
        "    elif q_no<=22: grp = '13-22'\n",
        "    print(\"### q_no\", q_no, \"grp\", grp)\n",
        "\n",
        "    # Filter the rows in the datasets based on the selected level group.\n",
        "    train_df = train_x.loc[train_x.level_group == grp]\n",
        "    train_users = train_df.index.values\n",
        "    valid_df = valid_x.loc[valid_x.level_group == grp]\n",
        "    valid_users = valid_df.index.values\n",
        "\n",
        "    print(len(valid_users))\n",
        "\n",
        "    # Select the labels for the related q_no.\n",
        "    train_labels = labels.loc[labels.q==q_no].set_index('session').loc[train_users]\n",
        "    valid_labels = labels.loc[labels.q==q_no].set_index('session').loc[valid_users]\n",
        "\n",
        "    # Add the label to the filtered datasets.\n",
        "    train_df[\"correct\"] = train_labels[\"correct\"]\n",
        "    valid_df[\"correct\"] = valid_labels[\"correct\"]\n",
        "\n",
        "    # Prepare data for LSTM\n",
        "    train_data, train_labels = prepare_data(train_df, sequence_length)\n",
        "    valid_data, valid_labels = prepare_data(valid_df, sequence_length)\n",
        "\n",
        "\n",
        "\n",
        "\n",
        "    print(len(valid_data))\n",
        "    print(len(valid_labels))\n",
        "\n",
        "    # Define the model\n",
        "    model = Sequential()\n",
        "    model.add(LSTM(64, input_shape=(sequence_length, train_data.shape[-1]), return_sequences=True))\n",
        "    model.add(LSTM(32, return_sequences=False))\n",
        "    model.add(Dense(1, activation='sigmoid'))\n",
        "\n",
        "    # Compile the model\n",
        "    model.compile(loss='binary_crossentropy', optimizer='adam', metrics=['accuracy'])\n",
        "\n",
        "    # Train the model\n",
        "    model.fit(train_data, train_labels, epochs=3, validation_data=(valid_data, valid_labels))\n",
        "\n",
        "    # Store the model\n",
        "    models[f'{grp}_{q_no}'] = model\n",
        "\n",
        "    # Evaluate the model\n",
        "    evaluation = model.evaluate(valid_data, valid_labels)\n",
        "    evaluation_dict[q_no] = evaluation[1]\n",
        "    print(f\"Validation accuracy: {evaluation[1]}\")\n",
        "\n",
        "    # Make predictions\n",
        "    predictions = model.predict(valid_data)\n",
        "    prediction_df.loc[valid_users, q_no-1] = predictions.flatten()\n",
        "\n",
        "\n",
        "    binary_predictions = [1 if p > 0.5 else 0 for p in predictions]\n",
        "    # Get the true labels\n",
        "    true_labels = valid_labels[:len(valid_data)]\n",
        "\n",
        "    # Calculate the F1 score and add it to the list\n",
        "    f1 = f1_score(true_labels, binary_predictions)\n",
        "    f1_scores.append(f1)\n",
        "\n"
      ],
      "metadata": {
        "colab": {
          "base_uri": "https://localhost:8080/"
        },
        "id": "iYMqGNoW0HHL",
        "outputId": "aa2c9201-97e2-4e67-b1e1-e00f63c63c9c"
      },
      "execution_count": 37,
      "outputs": [
        {
          "output_type": "stream",
          "name": "stdout",
          "text": [
            "### q_no 1 grp 0-4\n",
            "4713\n"
          ]
        },
        {
          "output_type": "stream",
          "name": "stderr",
          "text": [
            "<ipython-input-37-e403af42e414>:24: SettingWithCopyWarning: \n",
            "A value is trying to be set on a copy of a slice from a DataFrame.\n",
            "Try using .loc[row_indexer,col_indexer] = value instead\n",
            "\n",
            "See the caveats in the documentation: https://pandas.pydata.org/pandas-docs/stable/user_guide/indexing.html#returning-a-view-versus-a-copy\n",
            "  train_df[\"correct\"] = train_labels[\"correct\"]\n",
            "<ipython-input-37-e403af42e414>:25: SettingWithCopyWarning: \n",
            "A value is trying to be set on a copy of a slice from a DataFrame.\n",
            "Try using .loc[row_indexer,col_indexer] = value instead\n",
            "\n",
            "See the caveats in the documentation: https://pandas.pydata.org/pandas-docs/stable/user_guide/indexing.html#returning-a-view-versus-a-copy\n",
            "  valid_df[\"correct\"] = valid_labels[\"correct\"]\n"
          ]
        },
        {
          "output_type": "stream",
          "name": "stdout",
          "text": [
            "4713\n",
            "4713\n",
            "Epoch 1/3\n",
            "590/590 [==============================] - 84s 134ms/step - loss: 0.5902 - accuracy: 0.7250 - val_loss: 0.5813 - val_accuracy: 0.7322\n",
            "Epoch 2/3\n",
            "590/590 [==============================] - 72s 121ms/step - loss: 0.5876 - accuracy: 0.7263 - val_loss: 0.5812 - val_accuracy: 0.7322\n",
            "Epoch 3/3\n",
            "590/590 [==============================] - 72s 121ms/step - loss: 0.5873 - accuracy: 0.7263 - val_loss: 0.5830 - val_accuracy: 0.7322\n",
            "148/148 [==============================] - 5s 35ms/step - loss: 0.5830 - accuracy: 0.7322\n",
            "Validation accuracy: 0.732230007648468\n",
            "148/148 [==============================] - 6s 34ms/step\n",
            "### q_no 2 grp 0-4\n",
            "4713\n"
          ]
        },
        {
          "output_type": "stream",
          "name": "stderr",
          "text": [
            "<ipython-input-37-e403af42e414>:24: SettingWithCopyWarning: \n",
            "A value is trying to be set on a copy of a slice from a DataFrame.\n",
            "Try using .loc[row_indexer,col_indexer] = value instead\n",
            "\n",
            "See the caveats in the documentation: https://pandas.pydata.org/pandas-docs/stable/user_guide/indexing.html#returning-a-view-versus-a-copy\n",
            "  train_df[\"correct\"] = train_labels[\"correct\"]\n",
            "<ipython-input-37-e403af42e414>:25: SettingWithCopyWarning: \n",
            "A value is trying to be set on a copy of a slice from a DataFrame.\n",
            "Try using .loc[row_indexer,col_indexer] = value instead\n",
            "\n",
            "See the caveats in the documentation: https://pandas.pydata.org/pandas-docs/stable/user_guide/indexing.html#returning-a-view-versus-a-copy\n",
            "  valid_df[\"correct\"] = valid_labels[\"correct\"]\n"
          ]
        },
        {
          "output_type": "stream",
          "name": "stdout",
          "text": [
            "4713\n",
            "4713\n",
            "Epoch 1/3\n",
            "590/590 [==============================] - 75s 122ms/step - loss: 0.1109 - accuracy: 0.9782 - val_loss: 0.1159 - val_accuracy: 0.9756\n",
            "Epoch 2/3\n",
            "590/590 [==============================] - 71s 121ms/step - loss: 0.0999 - accuracy: 0.9796 - val_loss: 0.1165 - val_accuracy: 0.9756\n",
            "Epoch 3/3\n",
            "590/590 [==============================] - 72s 121ms/step - loss: 0.0998 - accuracy: 0.9796 - val_loss: 0.1181 - val_accuracy: 0.9756\n",
            "148/148 [==============================] - 5s 36ms/step - loss: 0.1181 - accuracy: 0.9756\n",
            "Validation accuracy: 0.9755994081497192\n",
            "148/148 [==============================] - 6s 34ms/step\n",
            "### q_no 3 grp 0-4\n",
            "4713\n"
          ]
        },
        {
          "output_type": "stream",
          "name": "stderr",
          "text": [
            "<ipython-input-37-e403af42e414>:24: SettingWithCopyWarning: \n",
            "A value is trying to be set on a copy of a slice from a DataFrame.\n",
            "Try using .loc[row_indexer,col_indexer] = value instead\n",
            "\n",
            "See the caveats in the documentation: https://pandas.pydata.org/pandas-docs/stable/user_guide/indexing.html#returning-a-view-versus-a-copy\n",
            "  train_df[\"correct\"] = train_labels[\"correct\"]\n",
            "<ipython-input-37-e403af42e414>:25: SettingWithCopyWarning: \n",
            "A value is trying to be set on a copy of a slice from a DataFrame.\n",
            "Try using .loc[row_indexer,col_indexer] = value instead\n",
            "\n",
            "See the caveats in the documentation: https://pandas.pydata.org/pandas-docs/stable/user_guide/indexing.html#returning-a-view-versus-a-copy\n",
            "  valid_df[\"correct\"] = valid_labels[\"correct\"]\n"
          ]
        },
        {
          "output_type": "stream",
          "name": "stdout",
          "text": [
            "4713\n",
            "4713\n",
            "Epoch 1/3\n",
            "590/590 [==============================] - 69s 111ms/step - loss: 0.2536 - accuracy: 0.9320 - val_loss: 0.2417 - val_accuracy: 0.9351\n",
            "Epoch 2/3\n",
            "590/590 [==============================] - 66s 112ms/step - loss: 0.2444 - accuracy: 0.9337 - val_loss: 0.2403 - val_accuracy: 0.9351\n",
            "Epoch 3/3\n",
            "590/590 [==============================] - 64s 108ms/step - loss: 0.2442 - accuracy: 0.9337 - val_loss: 0.2406 - val_accuracy: 0.9351\n",
            "148/148 [==============================] - 4s 29ms/step - loss: 0.2406 - accuracy: 0.9351\n",
            "Validation accuracy: 0.93507319688797\n",
            "148/148 [==============================] - 5s 31ms/step\n",
            "### q_no 4 grp 5-12\n",
            "4713\n"
          ]
        },
        {
          "output_type": "stream",
          "name": "stderr",
          "text": [
            "<ipython-input-37-e403af42e414>:24: SettingWithCopyWarning: \n",
            "A value is trying to be set on a copy of a slice from a DataFrame.\n",
            "Try using .loc[row_indexer,col_indexer] = value instead\n",
            "\n",
            "See the caveats in the documentation: https://pandas.pydata.org/pandas-docs/stable/user_guide/indexing.html#returning-a-view-versus-a-copy\n",
            "  train_df[\"correct\"] = train_labels[\"correct\"]\n",
            "<ipython-input-37-e403af42e414>:25: SettingWithCopyWarning: \n",
            "A value is trying to be set on a copy of a slice from a DataFrame.\n",
            "Try using .loc[row_indexer,col_indexer] = value instead\n",
            "\n",
            "See the caveats in the documentation: https://pandas.pydata.org/pandas-docs/stable/user_guide/indexing.html#returning-a-view-versus-a-copy\n",
            "  valid_df[\"correct\"] = valid_labels[\"correct\"]\n"
          ]
        },
        {
          "output_type": "stream",
          "name": "stdout",
          "text": [
            "4713\n",
            "4713\n",
            "Epoch 1/3\n",
            "590/590 [==============================] - 62s 101ms/step - loss: 0.5053 - accuracy: 0.7988 - val_loss: 0.5139 - val_accuracy: 0.7919\n",
            "Epoch 2/3\n",
            "590/590 [==============================] - 58s 99ms/step - loss: 0.5015 - accuracy: 0.7998 - val_loss: 0.5126 - val_accuracy: 0.7919\n",
            "Epoch 3/3\n",
            "590/590 [==============================] - 59s 100ms/step - loss: 0.5009 - accuracy: 0.7998 - val_loss: 0.5119 - val_accuracy: 0.7919\n",
            "148/148 [==============================] - 4s 27ms/step - loss: 0.5119 - accuracy: 0.7919\n",
            "Validation accuracy: 0.7918522953987122\n",
            "148/148 [==============================] - 5s 28ms/step\n",
            "### q_no 5 grp 5-12\n",
            "4713\n"
          ]
        },
        {
          "output_type": "stream",
          "name": "stderr",
          "text": [
            "<ipython-input-37-e403af42e414>:24: SettingWithCopyWarning: \n",
            "A value is trying to be set on a copy of a slice from a DataFrame.\n",
            "Try using .loc[row_indexer,col_indexer] = value instead\n",
            "\n",
            "See the caveats in the documentation: https://pandas.pydata.org/pandas-docs/stable/user_guide/indexing.html#returning-a-view-versus-a-copy\n",
            "  train_df[\"correct\"] = train_labels[\"correct\"]\n",
            "<ipython-input-37-e403af42e414>:25: SettingWithCopyWarning: \n",
            "A value is trying to be set on a copy of a slice from a DataFrame.\n",
            "Try using .loc[row_indexer,col_indexer] = value instead\n",
            "\n",
            "See the caveats in the documentation: https://pandas.pydata.org/pandas-docs/stable/user_guide/indexing.html#returning-a-view-versus-a-copy\n",
            "  valid_df[\"correct\"] = valid_labels[\"correct\"]\n"
          ]
        },
        {
          "output_type": "stream",
          "name": "stdout",
          "text": [
            "4713\n",
            "4713\n",
            "Epoch 1/3\n",
            "590/590 [==============================] - 77s 119ms/step - loss: 0.6893 - accuracy: 0.5462 - val_loss: 0.6871 - val_accuracy: 0.5557\n",
            "Epoch 2/3\n",
            "590/590 [==============================] - 70s 118ms/step - loss: 0.6891 - accuracy: 0.5464 - val_loss: 0.6872 - val_accuracy: 0.5557\n",
            "Epoch 3/3\n",
            "590/590 [==============================] - 70s 118ms/step - loss: 0.6890 - accuracy: 0.5464 - val_loss: 0.6869 - val_accuracy: 0.5557\n",
            "148/148 [==============================] - 5s 34ms/step - loss: 0.6869 - accuracy: 0.5557\n",
            "Validation accuracy: 0.5556970238685608\n",
            "148/148 [==============================] - 6s 34ms/step\n",
            "### q_no 6 grp 5-12\n",
            "4713\n"
          ]
        },
        {
          "output_type": "stream",
          "name": "stderr",
          "text": [
            "<ipython-input-37-e403af42e414>:24: SettingWithCopyWarning: \n",
            "A value is trying to be set on a copy of a slice from a DataFrame.\n",
            "Try using .loc[row_indexer,col_indexer] = value instead\n",
            "\n",
            "See the caveats in the documentation: https://pandas.pydata.org/pandas-docs/stable/user_guide/indexing.html#returning-a-view-versus-a-copy\n",
            "  train_df[\"correct\"] = train_labels[\"correct\"]\n",
            "<ipython-input-37-e403af42e414>:25: SettingWithCopyWarning: \n",
            "A value is trying to be set on a copy of a slice from a DataFrame.\n",
            "Try using .loc[row_indexer,col_indexer] = value instead\n",
            "\n",
            "See the caveats in the documentation: https://pandas.pydata.org/pandas-docs/stable/user_guide/indexing.html#returning-a-view-versus-a-copy\n",
            "  valid_df[\"correct\"] = valid_labels[\"correct\"]\n"
          ]
        },
        {
          "output_type": "stream",
          "name": "stdout",
          "text": [
            "4713\n",
            "4713\n",
            "Epoch 1/3\n",
            "590/590 [==============================] - 70s 113ms/step - loss: 0.5404 - accuracy: 0.7722 - val_loss: 0.5200 - val_accuracy: 0.7872\n",
            "Epoch 2/3\n",
            "590/590 [==============================] - 63s 106ms/step - loss: 0.5363 - accuracy: 0.7731 - val_loss: 0.5187 - val_accuracy: 0.7872\n",
            "Epoch 3/3\n",
            "590/590 [==============================] - 62s 106ms/step - loss: 0.5359 - accuracy: 0.7731 - val_loss: 0.5181 - val_accuracy: 0.7872\n",
            "148/148 [==============================] - 4s 30ms/step - loss: 0.5181 - accuracy: 0.7872\n",
            "Validation accuracy: 0.7871843576431274\n",
            "148/148 [==============================] - 5s 27ms/step\n",
            "### q_no 7 grp 5-12\n",
            "4713\n"
          ]
        },
        {
          "output_type": "stream",
          "name": "stderr",
          "text": [
            "<ipython-input-37-e403af42e414>:24: SettingWithCopyWarning: \n",
            "A value is trying to be set on a copy of a slice from a DataFrame.\n",
            "Try using .loc[row_indexer,col_indexer] = value instead\n",
            "\n",
            "See the caveats in the documentation: https://pandas.pydata.org/pandas-docs/stable/user_guide/indexing.html#returning-a-view-versus-a-copy\n",
            "  train_df[\"correct\"] = train_labels[\"correct\"]\n",
            "<ipython-input-37-e403af42e414>:25: SettingWithCopyWarning: \n",
            "A value is trying to be set on a copy of a slice from a DataFrame.\n",
            "Try using .loc[row_indexer,col_indexer] = value instead\n",
            "\n",
            "See the caveats in the documentation: https://pandas.pydata.org/pandas-docs/stable/user_guide/indexing.html#returning-a-view-versus-a-copy\n",
            "  valid_df[\"correct\"] = valid_labels[\"correct\"]\n"
          ]
        },
        {
          "output_type": "stream",
          "name": "stdout",
          "text": [
            "4713\n",
            "4713\n",
            "Epoch 1/3\n",
            "590/590 [==============================] - 60s 96ms/step - loss: 0.5826 - accuracy: 0.7337 - val_loss: 0.5724 - val_accuracy: 0.7460\n",
            "Epoch 2/3\n",
            "590/590 [==============================] - 54s 92ms/step - loss: 0.5804 - accuracy: 0.7336 - val_loss: 0.5667 - val_accuracy: 0.7460\n",
            "Epoch 3/3\n",
            "590/590 [==============================] - 54s 91ms/step - loss: 0.5806 - accuracy: 0.7336 - val_loss: 0.5683 - val_accuracy: 0.7460\n",
            "148/148 [==============================] - 3s 22ms/step - loss: 0.5683 - accuracy: 0.7460\n",
            "Validation accuracy: 0.7460216283798218\n",
            "148/148 [==============================] - 4s 25ms/step\n",
            "### q_no 8 grp 5-12\n",
            "4713\n"
          ]
        },
        {
          "output_type": "stream",
          "name": "stderr",
          "text": [
            "<ipython-input-37-e403af42e414>:24: SettingWithCopyWarning: \n",
            "A value is trying to be set on a copy of a slice from a DataFrame.\n",
            "Try using .loc[row_indexer,col_indexer] = value instead\n",
            "\n",
            "See the caveats in the documentation: https://pandas.pydata.org/pandas-docs/stable/user_guide/indexing.html#returning-a-view-versus-a-copy\n",
            "  train_df[\"correct\"] = train_labels[\"correct\"]\n",
            "<ipython-input-37-e403af42e414>:25: SettingWithCopyWarning: \n",
            "A value is trying to be set on a copy of a slice from a DataFrame.\n",
            "Try using .loc[row_indexer,col_indexer] = value instead\n",
            "\n",
            "See the caveats in the documentation: https://pandas.pydata.org/pandas-docs/stable/user_guide/indexing.html#returning-a-view-versus-a-copy\n",
            "  valid_df[\"correct\"] = valid_labels[\"correct\"]\n"
          ]
        },
        {
          "output_type": "stream",
          "name": "stdout",
          "text": [
            "4713\n",
            "4713\n",
            "Epoch 1/3\n",
            "590/590 [==============================] - 58s 93ms/step - loss: 0.6686 - accuracy: 0.6133 - val_loss: 0.6584 - val_accuracy: 0.6331\n",
            "Epoch 2/3\n",
            "590/590 [==============================] - 53s 90ms/step - loss: 0.6679 - accuracy: 0.6132 - val_loss: 0.6573 - val_accuracy: 0.6331\n",
            "Epoch 3/3\n",
            "590/590 [==============================] - 53s 90ms/step - loss: 0.6677 - accuracy: 0.6132 - val_loss: 0.6583 - val_accuracy: 0.6331\n",
            "148/148 [==============================] - 3s 22ms/step - loss: 0.6583 - accuracy: 0.6331\n",
            "Validation accuracy: 0.633142352104187\n",
            "148/148 [==============================] - 5s 27ms/step\n",
            "### q_no 9 grp 5-12\n",
            "4713\n"
          ]
        },
        {
          "output_type": "stream",
          "name": "stderr",
          "text": [
            "<ipython-input-37-e403af42e414>:24: SettingWithCopyWarning: \n",
            "A value is trying to be set on a copy of a slice from a DataFrame.\n",
            "Try using .loc[row_indexer,col_indexer] = value instead\n",
            "\n",
            "See the caveats in the documentation: https://pandas.pydata.org/pandas-docs/stable/user_guide/indexing.html#returning-a-view-versus-a-copy\n",
            "  train_df[\"correct\"] = train_labels[\"correct\"]\n",
            "<ipython-input-37-e403af42e414>:25: SettingWithCopyWarning: \n",
            "A value is trying to be set on a copy of a slice from a DataFrame.\n",
            "Try using .loc[row_indexer,col_indexer] = value instead\n",
            "\n",
            "See the caveats in the documentation: https://pandas.pydata.org/pandas-docs/stable/user_guide/indexing.html#returning-a-view-versus-a-copy\n",
            "  valid_df[\"correct\"] = valid_labels[\"correct\"]\n"
          ]
        },
        {
          "output_type": "stream",
          "name": "stdout",
          "text": [
            "4713\n",
            "4713\n",
            "Epoch 1/3\n",
            "590/590 [==============================] - 55s 89ms/step - loss: 0.5855 - accuracy: 0.7300 - val_loss: 0.5551 - val_accuracy: 0.7583\n",
            "Epoch 2/3\n",
            "590/590 [==============================] - 48s 82ms/step - loss: 0.5834 - accuracy: 0.7308 - val_loss: 0.5544 - val_accuracy: 0.7583\n",
            "Epoch 3/3\n",
            "590/590 [==============================] - 48s 81ms/step - loss: 0.5831 - accuracy: 0.7308 - val_loss: 0.5538 - val_accuracy: 0.7583\n",
            "148/148 [==============================] - 3s 21ms/step - loss: 0.5538 - accuracy: 0.7583\n",
            "Validation accuracy: 0.7583280205726624\n",
            "148/148 [==============================] - 3s 18ms/step\n",
            "### q_no 10 grp 5-12\n",
            "4713\n"
          ]
        },
        {
          "output_type": "stream",
          "name": "stderr",
          "text": [
            "<ipython-input-37-e403af42e414>:24: SettingWithCopyWarning: \n",
            "A value is trying to be set on a copy of a slice from a DataFrame.\n",
            "Try using .loc[row_indexer,col_indexer] = value instead\n",
            "\n",
            "See the caveats in the documentation: https://pandas.pydata.org/pandas-docs/stable/user_guide/indexing.html#returning-a-view-versus-a-copy\n",
            "  train_df[\"correct\"] = train_labels[\"correct\"]\n",
            "<ipython-input-37-e403af42e414>:25: SettingWithCopyWarning: \n",
            "A value is trying to be set on a copy of a slice from a DataFrame.\n",
            "Try using .loc[row_indexer,col_indexer] = value instead\n",
            "\n",
            "See the caveats in the documentation: https://pandas.pydata.org/pandas-docs/stable/user_guide/indexing.html#returning-a-view-versus-a-copy\n",
            "  valid_df[\"correct\"] = valid_labels[\"correct\"]\n"
          ]
        },
        {
          "output_type": "stream",
          "name": "stdout",
          "text": [
            "4713\n",
            "4713\n",
            "Epoch 1/3\n",
            "590/590 [==============================] - 50s 79ms/step - loss: 0.6933 - accuracy: 0.5007 - val_loss: 0.6930 - val_accuracy: 0.5130\n",
            "Epoch 2/3\n",
            "590/590 [==============================] - 47s 80ms/step - loss: 0.6932 - accuracy: 0.5024 - val_loss: 0.6931 - val_accuracy: 0.5130\n",
            "Epoch 3/3\n",
            "590/590 [==============================] - 45s 76ms/step - loss: 0.6932 - accuracy: 0.5040 - val_loss: 0.6933 - val_accuracy: 0.4870\n",
            "148/148 [==============================] - 3s 20ms/step - loss: 0.6933 - accuracy: 0.4870\n",
            "Validation accuracy: 0.48695099353790283\n",
            "148/148 [==============================] - 3s 18ms/step\n",
            "### q_no 11 grp 5-12\n",
            "4713\n"
          ]
        },
        {
          "output_type": "stream",
          "name": "stderr",
          "text": [
            "<ipython-input-37-e403af42e414>:24: SettingWithCopyWarning: \n",
            "A value is trying to be set on a copy of a slice from a DataFrame.\n",
            "Try using .loc[row_indexer,col_indexer] = value instead\n",
            "\n",
            "See the caveats in the documentation: https://pandas.pydata.org/pandas-docs/stable/user_guide/indexing.html#returning-a-view-versus-a-copy\n",
            "  train_df[\"correct\"] = train_labels[\"correct\"]\n",
            "<ipython-input-37-e403af42e414>:25: SettingWithCopyWarning: \n",
            "A value is trying to be set on a copy of a slice from a DataFrame.\n",
            "Try using .loc[row_indexer,col_indexer] = value instead\n",
            "\n",
            "See the caveats in the documentation: https://pandas.pydata.org/pandas-docs/stable/user_guide/indexing.html#returning-a-view-versus-a-copy\n",
            "  valid_df[\"correct\"] = valid_labels[\"correct\"]\n"
          ]
        },
        {
          "output_type": "stream",
          "name": "stdout",
          "text": [
            "4713\n",
            "4713\n",
            "Epoch 1/3\n",
            "590/590 [==============================] - 48s 76ms/step - loss: 0.6544 - accuracy: 0.6417 - val_loss: 0.6472 - val_accuracy: 0.6505\n",
            "Epoch 2/3\n",
            "590/590 [==============================] - 47s 81ms/step - loss: 0.6530 - accuracy: 0.6419 - val_loss: 0.6476 - val_accuracy: 0.6505\n",
            "Epoch 3/3\n",
            "590/590 [==============================] - 44s 75ms/step - loss: 0.6528 - accuracy: 0.6419 - val_loss: 0.6482 - val_accuracy: 0.6505\n",
            "148/148 [==============================] - 3s 21ms/step - loss: 0.6482 - accuracy: 0.6505\n",
            "Validation accuracy: 0.6505410671234131\n",
            "148/148 [==============================] - 3s 18ms/step\n",
            "### q_no 12 grp 5-12\n",
            "4713\n"
          ]
        },
        {
          "output_type": "stream",
          "name": "stderr",
          "text": [
            "<ipython-input-37-e403af42e414>:24: SettingWithCopyWarning: \n",
            "A value is trying to be set on a copy of a slice from a DataFrame.\n",
            "Try using .loc[row_indexer,col_indexer] = value instead\n",
            "\n",
            "See the caveats in the documentation: https://pandas.pydata.org/pandas-docs/stable/user_guide/indexing.html#returning-a-view-versus-a-copy\n",
            "  train_df[\"correct\"] = train_labels[\"correct\"]\n",
            "<ipython-input-37-e403af42e414>:25: SettingWithCopyWarning: \n",
            "A value is trying to be set on a copy of a slice from a DataFrame.\n",
            "Try using .loc[row_indexer,col_indexer] = value instead\n",
            "\n",
            "See the caveats in the documentation: https://pandas.pydata.org/pandas-docs/stable/user_guide/indexing.html#returning-a-view-versus-a-copy\n",
            "  valid_df[\"correct\"] = valid_labels[\"correct\"]\n"
          ]
        },
        {
          "output_type": "stream",
          "name": "stdout",
          "text": [
            "4713\n",
            "4713\n",
            "Epoch 1/3\n",
            "590/590 [==============================] - 50s 78ms/step - loss: 0.4078 - accuracy: 0.8609 - val_loss: 0.3876 - val_accuracy: 0.8701\n",
            "Epoch 2/3\n",
            "590/590 [==============================] - 47s 80ms/step - loss: 0.4037 - accuracy: 0.8612 - val_loss: 0.3863 - val_accuracy: 0.8701\n",
            "Epoch 3/3\n",
            "590/590 [==============================] - 45s 76ms/step - loss: 0.4035 - accuracy: 0.8612 - val_loss: 0.3876 - val_accuracy: 0.8701\n",
            "148/148 [==============================] - 3s 20ms/step - loss: 0.3876 - accuracy: 0.8701\n",
            "Validation accuracy: 0.8701463937759399\n",
            "148/148 [==============================] - 4s 19ms/step\n",
            "### q_no 13 grp 5-12\n",
            "4713\n"
          ]
        },
        {
          "output_type": "stream",
          "name": "stderr",
          "text": [
            "<ipython-input-37-e403af42e414>:24: SettingWithCopyWarning: \n",
            "A value is trying to be set on a copy of a slice from a DataFrame.\n",
            "Try using .loc[row_indexer,col_indexer] = value instead\n",
            "\n",
            "See the caveats in the documentation: https://pandas.pydata.org/pandas-docs/stable/user_guide/indexing.html#returning-a-view-versus-a-copy\n",
            "  train_df[\"correct\"] = train_labels[\"correct\"]\n",
            "<ipython-input-37-e403af42e414>:25: SettingWithCopyWarning: \n",
            "A value is trying to be set on a copy of a slice from a DataFrame.\n",
            "Try using .loc[row_indexer,col_indexer] = value instead\n",
            "\n",
            "See the caveats in the documentation: https://pandas.pydata.org/pandas-docs/stable/user_guide/indexing.html#returning-a-view-versus-a-copy\n",
            "  valid_df[\"correct\"] = valid_labels[\"correct\"]\n"
          ]
        },
        {
          "output_type": "stream",
          "name": "stdout",
          "text": [
            "4713\n",
            "4713\n",
            "Epoch 1/3\n",
            "590/590 [==============================] - 50s 80ms/step - loss: 0.5894 - accuracy: 0.7266 - val_loss: 0.5981 - val_accuracy: 0.7161\n",
            "Epoch 2/3\n",
            "590/590 [==============================] - 45s 76ms/step - loss: 0.5869 - accuracy: 0.7271 - val_loss: 0.5980 - val_accuracy: 0.7161\n",
            "Epoch 3/3\n",
            "590/590 [==============================] - 46s 77ms/step - loss: 0.5868 - accuracy: 0.7271 - val_loss: 0.5966 - val_accuracy: 0.7161\n",
            "148/148 [==============================] - 3s 18ms/step - loss: 0.5966 - accuracy: 0.7161\n",
            "Validation accuracy: 0.7161043882369995\n",
            "148/148 [==============================] - 3s 18ms/step\n",
            "### q_no 14 grp 13-22\n",
            "4713\n"
          ]
        },
        {
          "output_type": "stream",
          "name": "stderr",
          "text": [
            "<ipython-input-37-e403af42e414>:24: SettingWithCopyWarning: \n",
            "A value is trying to be set on a copy of a slice from a DataFrame.\n",
            "Try using .loc[row_indexer,col_indexer] = value instead\n",
            "\n",
            "See the caveats in the documentation: https://pandas.pydata.org/pandas-docs/stable/user_guide/indexing.html#returning-a-view-versus-a-copy\n",
            "  train_df[\"correct\"] = train_labels[\"correct\"]\n",
            "<ipython-input-37-e403af42e414>:25: SettingWithCopyWarning: \n",
            "A value is trying to be set on a copy of a slice from a DataFrame.\n",
            "Try using .loc[row_indexer,col_indexer] = value instead\n",
            "\n",
            "See the caveats in the documentation: https://pandas.pydata.org/pandas-docs/stable/user_guide/indexing.html#returning-a-view-versus-a-copy\n",
            "  valid_df[\"correct\"] = valid_labels[\"correct\"]\n"
          ]
        },
        {
          "output_type": "stream",
          "name": "stdout",
          "text": [
            "4713\n",
            "4713\n",
            "Epoch 1/3\n",
            "590/590 [==============================] - 51s 80ms/step - loss: 0.6119 - accuracy: 0.7022 - val_loss: 0.5839 - val_accuracy: 0.7297\n",
            "Epoch 2/3\n",
            "590/590 [==============================] - 45s 77ms/step - loss: 0.6097 - accuracy: 0.7022 - val_loss: 0.5846 - val_accuracy: 0.7297\n",
            "Epoch 3/3\n",
            "590/590 [==============================] - 46s 78ms/step - loss: 0.6096 - accuracy: 0.7022 - val_loss: 0.5843 - val_accuracy: 0.7297\n",
            "148/148 [==============================] - 3s 18ms/step - loss: 0.5843 - accuracy: 0.7297\n",
            "Validation accuracy: 0.7296838760375977\n",
            "148/148 [==============================] - 4s 22ms/step\n",
            "### q_no 15 grp 13-22\n",
            "4713\n"
          ]
        },
        {
          "output_type": "stream",
          "name": "stderr",
          "text": [
            "<ipython-input-37-e403af42e414>:24: SettingWithCopyWarning: \n",
            "A value is trying to be set on a copy of a slice from a DataFrame.\n",
            "Try using .loc[row_indexer,col_indexer] = value instead\n",
            "\n",
            "See the caveats in the documentation: https://pandas.pydata.org/pandas-docs/stable/user_guide/indexing.html#returning-a-view-versus-a-copy\n",
            "  train_df[\"correct\"] = train_labels[\"correct\"]\n",
            "<ipython-input-37-e403af42e414>:25: SettingWithCopyWarning: \n",
            "A value is trying to be set on a copy of a slice from a DataFrame.\n",
            "Try using .loc[row_indexer,col_indexer] = value instead\n",
            "\n",
            "See the caveats in the documentation: https://pandas.pydata.org/pandas-docs/stable/user_guide/indexing.html#returning-a-view-versus-a-copy\n",
            "  valid_df[\"correct\"] = valid_labels[\"correct\"]\n"
          ]
        },
        {
          "output_type": "stream",
          "name": "stdout",
          "text": [
            "4713\n",
            "4713\n",
            "Epoch 1/3\n",
            "590/590 [==============================] - 48s 77ms/step - loss: 0.6925 - accuracy: 0.5205 - val_loss: 0.6934 - val_accuracy: 0.5103\n",
            "Epoch 2/3\n",
            "590/590 [==============================] - 44s 75ms/step - loss: 0.6924 - accuracy: 0.5211 - val_loss: 0.6935 - val_accuracy: 0.5103\n",
            "Epoch 3/3\n",
            "590/590 [==============================] - 45s 76ms/step - loss: 0.6924 - accuracy: 0.5211 - val_loss: 0.6932 - val_accuracy: 0.5103\n",
            "148/148 [==============================] - 3s 19ms/step - loss: 0.6932 - accuracy: 0.5103\n",
            "Validation accuracy: 0.5102906823158264\n",
            "148/148 [==============================] - 3s 17ms/step\n",
            "### q_no 16 grp 13-22\n",
            "4713\n"
          ]
        },
        {
          "output_type": "stream",
          "name": "stderr",
          "text": [
            "<ipython-input-37-e403af42e414>:24: SettingWithCopyWarning: \n",
            "A value is trying to be set on a copy of a slice from a DataFrame.\n",
            "Try using .loc[row_indexer,col_indexer] = value instead\n",
            "\n",
            "See the caveats in the documentation: https://pandas.pydata.org/pandas-docs/stable/user_guide/indexing.html#returning-a-view-versus-a-copy\n",
            "  train_df[\"correct\"] = train_labels[\"correct\"]\n",
            "<ipython-input-37-e403af42e414>:25: SettingWithCopyWarning: \n",
            "A value is trying to be set on a copy of a slice from a DataFrame.\n",
            "Try using .loc[row_indexer,col_indexer] = value instead\n",
            "\n",
            "See the caveats in the documentation: https://pandas.pydata.org/pandas-docs/stable/user_guide/indexing.html#returning-a-view-versus-a-copy\n",
            "  valid_df[\"correct\"] = valid_labels[\"correct\"]\n"
          ]
        },
        {
          "output_type": "stream",
          "name": "stdout",
          "text": [
            "4713\n",
            "4713\n",
            "Epoch 1/3\n",
            "590/590 [==============================] - 48s 76ms/step - loss: 0.5857 - accuracy: 0.7305 - val_loss: 0.5637 - val_accuracy: 0.7494\n",
            "Epoch 2/3\n",
            "590/590 [==============================] - 44s 75ms/step - loss: 0.5823 - accuracy: 0.7312 - val_loss: 0.5654 - val_accuracy: 0.7494\n",
            "Epoch 3/3\n",
            "590/590 [==============================] - 44s 75ms/step - loss: 0.5825 - accuracy: 0.7312 - val_loss: 0.5640 - val_accuracy: 0.7494\n",
            "148/148 [==============================] - 3s 18ms/step - loss: 0.5640 - accuracy: 0.7494\n",
            "Validation accuracy: 0.7494165301322937\n",
            "148/148 [==============================] - 3s 19ms/step\n",
            "### q_no 17 grp 13-22\n",
            "4713\n"
          ]
        },
        {
          "output_type": "stream",
          "name": "stderr",
          "text": [
            "<ipython-input-37-e403af42e414>:24: SettingWithCopyWarning: \n",
            "A value is trying to be set on a copy of a slice from a DataFrame.\n",
            "Try using .loc[row_indexer,col_indexer] = value instead\n",
            "\n",
            "See the caveats in the documentation: https://pandas.pydata.org/pandas-docs/stable/user_guide/indexing.html#returning-a-view-versus-a-copy\n",
            "  train_df[\"correct\"] = train_labels[\"correct\"]\n",
            "<ipython-input-37-e403af42e414>:25: SettingWithCopyWarning: \n",
            "A value is trying to be set on a copy of a slice from a DataFrame.\n",
            "Try using .loc[row_indexer,col_indexer] = value instead\n",
            "\n",
            "See the caveats in the documentation: https://pandas.pydata.org/pandas-docs/stable/user_guide/indexing.html#returning-a-view-versus-a-copy\n",
            "  valid_df[\"correct\"] = valid_labels[\"correct\"]\n"
          ]
        },
        {
          "output_type": "stream",
          "name": "stdout",
          "text": [
            "4713\n",
            "4713\n",
            "Epoch 1/3\n",
            "590/590 [==============================] - 50s 80ms/step - loss: 0.6267 - accuracy: 0.6832 - val_loss: 0.6078 - val_accuracy: 0.7036\n",
            "Epoch 2/3\n",
            "590/590 [==============================] - 44s 75ms/step - loss: 0.6247 - accuracy: 0.6839 - val_loss: 0.6105 - val_accuracy: 0.7036\n",
            "Epoch 3/3\n",
            "590/590 [==============================] - 46s 77ms/step - loss: 0.6248 - accuracy: 0.6839 - val_loss: 0.6092 - val_accuracy: 0.7036\n",
            "148/148 [==============================] - 3s 18ms/step - loss: 0.6092 - accuracy: 0.7036\n",
            "Validation accuracy: 0.7035858035087585\n",
            "148/148 [==============================] - 3s 18ms/step\n",
            "### q_no 18 grp 13-22\n",
            "4713\n"
          ]
        },
        {
          "output_type": "stream",
          "name": "stderr",
          "text": [
            "<ipython-input-37-e403af42e414>:24: SettingWithCopyWarning: \n",
            "A value is trying to be set on a copy of a slice from a DataFrame.\n",
            "Try using .loc[row_indexer,col_indexer] = value instead\n",
            "\n",
            "See the caveats in the documentation: https://pandas.pydata.org/pandas-docs/stable/user_guide/indexing.html#returning-a-view-versus-a-copy\n",
            "  train_df[\"correct\"] = train_labels[\"correct\"]\n",
            "<ipython-input-37-e403af42e414>:25: SettingWithCopyWarning: \n",
            "A value is trying to be set on a copy of a slice from a DataFrame.\n",
            "Try using .loc[row_indexer,col_indexer] = value instead\n",
            "\n",
            "See the caveats in the documentation: https://pandas.pydata.org/pandas-docs/stable/user_guide/indexing.html#returning-a-view-versus-a-copy\n",
            "  valid_df[\"correct\"] = valid_labels[\"correct\"]\n"
          ]
        },
        {
          "output_type": "stream",
          "name": "stdout",
          "text": [
            "4713\n",
            "4713\n",
            "Epoch 1/3\n",
            "590/590 [==============================] - 49s 77ms/step - loss: 0.2068 - accuracy: 0.9488 - val_loss: 0.1959 - val_accuracy: 0.9516\n",
            "Epoch 2/3\n",
            "590/590 [==============================] - 44s 75ms/step - loss: 0.1982 - accuracy: 0.9504 - val_loss: 0.1939 - val_accuracy: 0.9516\n",
            "Epoch 3/3\n",
            "590/590 [==============================] - 44s 75ms/step - loss: 0.1980 - accuracy: 0.9504 - val_loss: 0.1946 - val_accuracy: 0.9516\n",
            "148/148 [==============================] - 3s 18ms/step - loss: 0.1946 - accuracy: 0.9516\n",
            "Validation accuracy: 0.9516231417655945\n",
            "148/148 [==============================] - 3s 19ms/step\n"
          ]
        }
      ]
    },
    {
      "cell_type": "code",
      "source": [
        "for name, value in evaluation_dict.items():\n",
        "  print(f\"question {name}: accuracy {value:.4f}\")\n",
        "\n",
        "print(\"\\nAverage accuracy\", sum(evaluation_dict.values())/18)"
      ],
      "metadata": {
        "colab": {
          "base_uri": "https://localhost:8080/"
        },
        "id": "Daw5PYF8GRKQ",
        "outputId": "72d7ffca-1df7-41ad-dffb-71199ba6cfd9"
      },
      "execution_count": 38,
      "outputs": [
        {
          "output_type": "stream",
          "name": "stdout",
          "text": [
            "question 1: accuracy 0.7322\n",
            "question 2: accuracy 0.9756\n",
            "question 3: accuracy 0.9351\n",
            "question 4: accuracy 0.7919\n",
            "question 5: accuracy 0.5557\n",
            "question 6: accuracy 0.7872\n",
            "question 7: accuracy 0.7460\n",
            "question 8: accuracy 0.6331\n",
            "question 9: accuracy 0.7583\n",
            "question 10: accuracy 0.4870\n",
            "question 11: accuracy 0.6505\n",
            "question 12: accuracy 0.8701\n",
            "question 13: accuracy 0.7161\n",
            "question 14: accuracy 0.7297\n",
            "question 15: accuracy 0.5103\n",
            "question 16: accuracy 0.7494\n",
            "question 17: accuracy 0.7036\n",
            "question 18: accuracy 0.9516\n",
            "\n",
            "Average accuracy 0.737970620393753\n"
          ]
        }
      ]
    },
    {
      "cell_type": "code",
      "source": [
        "# Print the F1 score for each question\n",
        "for i, score in enumerate(f1_scores, start=1):\n",
        "    print(f\"Question {i} : F1 {score:.4f}\")\n",
        "\n",
        "# Calculate and print the average F1 score\n",
        "average_f1 = sum(f1_scores) / len(f1_scores)\n",
        "print(f\"\\nAverage F1 score: {average_f1:.4f}\")"
      ],
      "metadata": {
        "colab": {
          "base_uri": "https://localhost:8080/"
        },
        "id": "VORPI9cWh7Mf",
        "outputId": "aaba435b-417f-478f-d559-e97b0ab2d6ad"
      },
      "execution_count": 42,
      "outputs": [
        {
          "output_type": "stream",
          "name": "stdout",
          "text": [
            "Question 1 : F1 0.8454\n",
            "Question 2 : F1 0.9876\n",
            "Question 3 : F1 0.9664\n",
            "Question 4 : F1 0.8838\n",
            "Question 5 : F1 0.7144\n",
            "Question 6 : F1 0.8809\n",
            "Question 7 : F1 0.8545\n",
            "Question 8 : F1 0.7754\n",
            "Question 9 : F1 0.8626\n",
            "Question 10 : F1 0.0000\n",
            "Question 11 : F1 0.7883\n",
            "Question 12 : F1 0.9306\n",
            "Question 13 : F1 0.0000\n",
            "Question 14 : F1 0.8437\n",
            "Question 15 : F1 0.0000\n",
            "Question 16 : F1 0.8568\n",
            "Question 17 : F1 0.8260\n",
            "Question 18 : F1 0.9752\n",
            "\n",
            "Average F1 score: 0.7218\n"
          ]
        }
      ]
    }
  ]
}