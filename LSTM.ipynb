{
  "cells": [
    {
      "cell_type": "markdown",
      "metadata": {
        "id": "view-in-github",
        "colab_type": "text"
      },
      "source": [
        "<a href=\"https://colab.research.google.com/github/LeechXDD/9417_Pro_Project/blob/main/LSTM.ipynb\" target=\"_parent\"><img src=\"https://colab.research.google.com/assets/colab-badge.svg\" alt=\"Open In Colab\"/></a>"
      ]
    },
    {
      "cell_type": "markdown",
      "source": [
        "Reference: https://www.kaggle.com/code/gusthema/student-performance-w-tensorflow-decision-forests"
      ],
      "metadata": {
        "id": "FkJHjorE8h_P"
      }
    },
    {
      "cell_type": "code",
      "execution_count": null,
      "metadata": {
        "colab": {
          "base_uri": "https://localhost:8080/"
        },
        "id": "ueh5uId-wMpu",
        "outputId": "fa45dbfd-f6d1-4e13-b6cb-e4f580ca7672"
      },
      "outputs": [
        {
          "output_type": "stream",
          "name": "stdout",
          "text": [
            "Requirement already satisfied: tensorflow_addons in /usr/local/lib/python3.10/dist-packages (0.21.0)\n",
            "Requirement already satisfied: packaging in /usr/local/lib/python3.10/dist-packages (from tensorflow_addons) (23.1)\n",
            "Requirement already satisfied: typeguard<3.0.0,>=2.7 in /usr/local/lib/python3.10/dist-packages (from tensorflow_addons) (2.13.3)\n"
          ]
        }
      ],
      "source": [
        "!pip install tensorflow_addons\n",
        "from tensorflow.keras.models import Sequential\n",
        "from tensorflow.keras.layers import LSTM, Dense\n",
        "import numpy as np\n",
        "import pandas as pd\n",
        "import tensorflow as tf\n",
        "from sklearn.metrics import f1_score\n",
        "import tensorflow_addons as tfa"
      ]
    },
    {
      "cell_type": "markdown",
      "metadata": {
        "id": "LbSLs7pXxMIq"
      },
      "source": [
        "##Data preprocessing"
      ]
    },
    {
      "cell_type": "code",
      "execution_count": null,
      "metadata": {
        "id": "-2j4bSkeVusQ"
      },
      "outputs": [],
      "source": [
        "def get_minimal_dtype(df):\n",
        "    start_mem = df.memory_usage().sum() / 1024**2\n",
        "    print('Memory usage of dataframe is {:.2f} MB'.format(start_mem))\n",
        "\n",
        "    for col in df.columns:\n",
        "        col_type = df[col].dtype.name\n",
        "        if ((col_type != 'datetime64[ns]') & (col_type != 'category')):\n",
        "            if (col_type != 'object'):\n",
        "                c_min = df[col].min()\n",
        "                c_max = df[col].max()\n",
        "\n",
        "                if str(col_type)[:3] == 'int':\n",
        "                    if c_min > np.iinfo(np.int8).min and c_max < np.iinfo(np.int8).max:\n",
        "                        df[col] = df[col].astype(np.int8)\n",
        "                    elif c_min > np.iinfo(np.int16).min and c_max < np.iinfo(np.int16).max:\n",
        "                        df[col] = df[col].astype(np.int16)\n",
        "                    elif c_min > np.iinfo(np.int32).min and c_max < np.iinfo(np.int32).max:\n",
        "                        df[col] = df[col].astype(np.int32)\n",
        "                    elif c_min > np.iinfo(np.int64).min and c_max < np.iinfo(np.int64).max:\n",
        "                        df[col] = df[col].astype(np.int64)\n",
        "\n",
        "                else:\n",
        "                    if c_min > np.finfo(np.float16).min and c_max < np.finfo(np.float16).max:\n",
        "                        df[col] = df[col].astype(np.float16)\n",
        "                    elif c_min > np.finfo(np.float32).min and c_max < np.finfo(np.float32).max:\n",
        "                        df[col] = df[col].astype(np.float32)\n",
        "                    else:\n",
        "                        pass\n",
        "            else:\n",
        "                df[col] = df[col].astype('category')\n",
        "    mem_usg = df.memory_usage().sum() / 1024**2\n",
        "    print(\"Memory usage became: \",mem_usg,\" MB\")\n",
        "\n",
        "    return df"
      ]
    },
    {
      "cell_type": "code",
      "execution_count": null,
      "metadata": {
        "id": "jLQoO_WCxMqt"
      },
      "outputs": [],
      "source": [
        "dtypes={\n",
        "    'elapsed_time':np.int32,\n",
        "    'event_name':'category',\n",
        "    'name':'category',\n",
        "    'level':np.uint8,\n",
        "    'room_coor_x':np.float32,\n",
        "    'room_coor_y':np.float32,\n",
        "    'screen_coor_x':np.float32,\n",
        "    'screen_coor_y':np.float32,\n",
        "    'hover_duration':np.float32,\n",
        "    'text':'category',\n",
        "    'fqid':'category',\n",
        "    'room_fqid':'category',\n",
        "    'text_fqid':'category',\n",
        "    'fullscreen':'category',\n",
        "    'hq':'category',\n",
        "    'music':'category',\n",
        "    'level_group':'category'}"
      ]
    },
    {
      "cell_type": "code",
      "execution_count": null,
      "metadata": {
        "colab": {
          "base_uri": "https://localhost:8080/"
        },
        "id": "xGcxMlQPxOzf",
        "outputId": "ff5dd1f8-41b1-4ec4-fcd9-cc89e88b2f0b"
      },
      "outputs": [
        {
          "output_type": "stream",
          "name": "stdout",
          "text": [
            "Drive already mounted at /content/drive; to attempt to forcibly remount, call drive.mount(\"/content/drive\", force_remount=True).\n",
            "Memory usage of dataframe is 1529.83 MB\n",
            "Memory usage became:  1053.3384094238281  MB\n"
          ]
        }
      ],
      "source": [
        "from google.colab import drive\n",
        "drive.mount('/content/drive')\n",
        "\n",
        "dataset_df = pd.read_csv('/content/drive/MyDrive/9417project/predict-student-performance-from-game-play.zip (Unzipped Files)/train.csv', dtype=dtypes)\n",
        "dataset_df = get_minimal_dtype(dataset_df)\n",
        "labels = pd.read_csv('/content/drive/MyDrive/9417project/predict-student-performance-from-game-play.zip (Unzipped Files)/train_labels.csv')"
      ]
    },
    {
      "cell_type": "code",
      "execution_count": null,
      "metadata": {
        "id": "9tPTBMuBxSuH"
      },
      "outputs": [],
      "source": [
        "# Find out columns with missing values\n",
        "missing_values = dataset_df.isnull().sum()\n",
        "\n",
        "# Fill missing values\n",
        "dataset_df['page'].fillna(-1, inplace=True)\n",
        "dataset_df['room_coor_x'].fillna(-1, inplace=True)\n",
        "dataset_df['room_coor_y'].fillna(-1, inplace=True)\n",
        "dataset_df['screen_coor_x'].fillna(-1, inplace=True)\n",
        "dataset_df['screen_coor_y'].fillna(-1, inplace=True)\n",
        "dataset_df['hover_duration'].fillna(-1, inplace=True)\n",
        "\n",
        "# Cap 'elapsed_time' at the 99th percentile\n",
        "dataset_df['elapsed_time'] = dataset_df['elapsed_time'].clip(upper=dataset_df['elapsed_time'].quantile(0.99))\n",
        "\n",
        "labels['session'] = labels.session_id.apply(lambda x: int(x.split('_')[0]) )\n",
        "labels['q'] = labels.session_id.apply(lambda x: int(x.split('_')[-1][1:]) )"
      ]
    },
    {
      "cell_type": "code",
      "execution_count": null,
      "metadata": {
        "id": "Xrz9SFEaxWBC"
      },
      "outputs": [],
      "source": [
        "CATEGORICAL = ['event_name', 'name','fqid', 'room_fqid', 'text_fqid']\n",
        "NUMERICAL = ['elapsed_time','level','page','room_coor_x', 'room_coor_y',\n",
        "        'screen_coor_x', 'screen_coor_y', 'hover_duration']\n",
        "BINNING = ['elapsed_time', 'room_coor_x', 'room_coor_y', 'screen_coor_x', 'screen_coor_y', 'hover_duration']\n",
        "\n",
        "from sklearn.preprocessing import PowerTransformer\n",
        "\n",
        "def feature_engineer(dataset_df):\n",
        "    dfs = []\n",
        "    pt = PowerTransformer(method='yeo-johnson')\n",
        "\n",
        "    for c in CATEGORICAL:\n",
        "        tmp = dataset_df.groupby(['session_id','level_group'])[c].agg('nunique')\n",
        "        tmp.name = c + '_nunique'\n",
        "        dfs.append(tmp)\n",
        "\n",
        "        # Create dummy variables for top N most common events and names\n",
        "        top_N = dataset_df[c].value_counts()[:10].index\n",
        "        for val in top_N:\n",
        "            dataset_df[c + '_' + val] = (dataset_df[c] == val).astype(int)\n",
        "        tmp = dataset_df.groupby(['session_id','level_group']).agg({c + '_' + val: 'sum' for val in top_N})\n",
        "        dfs.append(tmp)\n",
        "\n",
        "    for c in NUMERICAL:\n",
        "        # Fill missing values with the column median\n",
        "        dataset_df[c].fillna(dataset_df[c].median(), inplace=True)\n",
        "\n",
        "        tmp = dataset_df.groupby(['session_id','level_group'])[c].agg('mean')\n",
        "        tmp.name = c + '_mean'\n",
        "        dfs.append(tmp)\n",
        "\n",
        "        # Compute standard deviation only for certain features\n",
        "        if c in BINNING:\n",
        "            tmp = dataset_df.groupby(['session_id','level_group'])[c].agg('std')\n",
        "            tmp.name = c + '_std'\n",
        "            dfs.append(tmp)\n",
        "\n",
        "        # Normalize 'elapsed_time' column\n",
        "        if c == 'elapsed_time':\n",
        "            dataset_df[c] = pt.fit_transform(dataset_df[[c]])\n",
        "\n",
        "        # Binning\n",
        "        if c in BINNING:  # Check if column is in the list of columns to bin\n",
        "            dataset_df[c+'_bin'] = pd.qcut(dataset_df[c], q=4, duplicates='drop')\n",
        "            #dataset_df[c+'_bin'] = pd.qcut(dataset_df[c], q=4, duplicates='drop').astype('category')\n",
        "\n",
        "            tmp = dataset_df.groupby(['session_id','level_group'])[c+'_bin'].agg('count')\n",
        "            tmp.name = c + '_bin_count'\n",
        "            dfs.append(tmp)\n",
        "\n",
        "    # Interaction between screen coordinates\n",
        "    if 'screen_coor_x' in NUMERICAL and 'screen_coor_y' in NUMERICAL:\n",
        "        # Compute Euclidean distance instead of product\n",
        "        dataset_df['screen_coor'] = np.sqrt(dataset_df['screen_coor_x']**2 + dataset_df['screen_coor_y']**2)\n",
        "        tmp = dataset_df.groupby(['session_id','level_group'])['screen_coor'].agg(['mean', 'std'])\n",
        "        tmp.columns = ['screen_coor_mean', 'screen_coor_std']\n",
        "        dfs.append(tmp)\n",
        "\n",
        "    # Aggregated features\n",
        "    if 'hover_duration' in NUMERICAL:\n",
        "        dataset_df['total_hover_duration'] = dataset_df.groupby(['session_id'])['hover_duration'].transform('sum')\n",
        "        tmp = dataset_df.groupby(['session_id','level_group'])['total_hover_duration'].agg('mean')\n",
        "        tmp.name = 'total_hover_duration_mean'\n",
        "        dfs.append(tmp)\n",
        "\n",
        "    dataset_df = pd.concat(dfs, axis=1)\n",
        "    dataset_df = dataset_df.fillna(-1)\n",
        "    dataset_df = dataset_df.reset_index()\n",
        "    dataset_df = dataset_df.set_index('session_id')\n",
        "\n",
        "    return dataset_df"
      ]
    },
    {
      "cell_type": "code",
      "source": [
        "def partial_loader(df):\n",
        "  split = 5\n",
        "  epoch_length = df.shape[0]//split\n",
        "  start = 0\n",
        "  partial_df = df.iloc[start:start+epoch_length].copy(deep = True)\n",
        "  partial_df = feature_engineer(partial_df)\n",
        "  start += epoch_length\n",
        "  for i in range(split - 2):\n",
        "    partial_df = pd.concat([partial_df,feature_engineer(df.iloc[start:start+epoch_length].copy(deep = True))])\n",
        "    start += epoch_length\n",
        "  partial_df = pd.concat([partial_df,feature_engineer(df.iloc[start:])])\n",
        "  return partial_df"
      ],
      "metadata": {
        "id": "vNeQf0DIxX98"
      },
      "execution_count": null,
      "outputs": []
    },
    {
      "cell_type": "code",
      "execution_count": null,
      "metadata": {
        "id": "yCavLpTFxXqP",
        "colab": {
          "base_uri": "https://localhost:8080/"
        },
        "outputId": "7d99dcbb-b711-4021-b815-7b0fe0c7ac36"
      },
      "outputs": [
        {
          "output_type": "stream",
          "name": "stderr",
          "text": [
            "<ipython-input-38-351aa74f6fdf>:20: SettingWithCopyWarning: \n",
            "A value is trying to be set on a copy of a slice from a DataFrame.\n",
            "Try using .loc[row_indexer,col_indexer] = value instead\n",
            "\n",
            "See the caveats in the documentation: https://pandas.pydata.org/pandas-docs/stable/user_guide/indexing.html#returning-a-view-versus-a-copy\n",
            "  dataset_df[c + '_' + val] = (dataset_df[c] == val).astype(int)\n",
            "<ipython-input-38-351aa74f6fdf>:20: SettingWithCopyWarning: \n",
            "A value is trying to be set on a copy of a slice from a DataFrame.\n",
            "Try using .loc[row_indexer,col_indexer] = value instead\n",
            "\n",
            "See the caveats in the documentation: https://pandas.pydata.org/pandas-docs/stable/user_guide/indexing.html#returning-a-view-versus-a-copy\n",
            "  dataset_df[c + '_' + val] = (dataset_df[c] == val).astype(int)\n",
            "<ipython-input-38-351aa74f6fdf>:20: SettingWithCopyWarning: \n",
            "A value is trying to be set on a copy of a slice from a DataFrame.\n",
            "Try using .loc[row_indexer,col_indexer] = value instead\n",
            "\n",
            "See the caveats in the documentation: https://pandas.pydata.org/pandas-docs/stable/user_guide/indexing.html#returning-a-view-versus-a-copy\n",
            "  dataset_df[c + '_' + val] = (dataset_df[c] == val).astype(int)\n",
            "<ipython-input-38-351aa74f6fdf>:20: SettingWithCopyWarning: \n",
            "A value is trying to be set on a copy of a slice from a DataFrame.\n",
            "Try using .loc[row_indexer,col_indexer] = value instead\n",
            "\n",
            "See the caveats in the documentation: https://pandas.pydata.org/pandas-docs/stable/user_guide/indexing.html#returning-a-view-versus-a-copy\n",
            "  dataset_df[c + '_' + val] = (dataset_df[c] == val).astype(int)\n",
            "<ipython-input-38-351aa74f6fdf>:20: SettingWithCopyWarning: \n",
            "A value is trying to be set on a copy of a slice from a DataFrame.\n",
            "Try using .loc[row_indexer,col_indexer] = value instead\n",
            "\n",
            "See the caveats in the documentation: https://pandas.pydata.org/pandas-docs/stable/user_guide/indexing.html#returning-a-view-versus-a-copy\n",
            "  dataset_df[c + '_' + val] = (dataset_df[c] == val).astype(int)\n",
            "<ipython-input-38-351aa74f6fdf>:20: SettingWithCopyWarning: \n",
            "A value is trying to be set on a copy of a slice from a DataFrame.\n",
            "Try using .loc[row_indexer,col_indexer] = value instead\n",
            "\n",
            "See the caveats in the documentation: https://pandas.pydata.org/pandas-docs/stable/user_guide/indexing.html#returning-a-view-versus-a-copy\n",
            "  dataset_df[c + '_' + val] = (dataset_df[c] == val).astype(int)\n",
            "<ipython-input-38-351aa74f6fdf>:20: SettingWithCopyWarning: \n",
            "A value is trying to be set on a copy of a slice from a DataFrame.\n",
            "Try using .loc[row_indexer,col_indexer] = value instead\n",
            "\n",
            "See the caveats in the documentation: https://pandas.pydata.org/pandas-docs/stable/user_guide/indexing.html#returning-a-view-versus-a-copy\n",
            "  dataset_df[c + '_' + val] = (dataset_df[c] == val).astype(int)\n",
            "<ipython-input-38-351aa74f6fdf>:20: SettingWithCopyWarning: \n",
            "A value is trying to be set on a copy of a slice from a DataFrame.\n",
            "Try using .loc[row_indexer,col_indexer] = value instead\n",
            "\n",
            "See the caveats in the documentation: https://pandas.pydata.org/pandas-docs/stable/user_guide/indexing.html#returning-a-view-versus-a-copy\n",
            "  dataset_df[c + '_' + val] = (dataset_df[c] == val).astype(int)\n",
            "<ipython-input-38-351aa74f6fdf>:20: SettingWithCopyWarning: \n",
            "A value is trying to be set on a copy of a slice from a DataFrame.\n",
            "Try using .loc[row_indexer,col_indexer] = value instead\n",
            "\n",
            "See the caveats in the documentation: https://pandas.pydata.org/pandas-docs/stable/user_guide/indexing.html#returning-a-view-versus-a-copy\n",
            "  dataset_df[c + '_' + val] = (dataset_df[c] == val).astype(int)\n",
            "<ipython-input-38-351aa74f6fdf>:20: SettingWithCopyWarning: \n",
            "A value is trying to be set on a copy of a slice from a DataFrame.\n",
            "Try using .loc[row_indexer,col_indexer] = value instead\n",
            "\n",
            "See the caveats in the documentation: https://pandas.pydata.org/pandas-docs/stable/user_guide/indexing.html#returning-a-view-versus-a-copy\n",
            "  dataset_df[c + '_' + val] = (dataset_df[c] == val).astype(int)\n",
            "<ipython-input-38-351aa74f6fdf>:20: SettingWithCopyWarning: \n",
            "A value is trying to be set on a copy of a slice from a DataFrame.\n",
            "Try using .loc[row_indexer,col_indexer] = value instead\n",
            "\n",
            "See the caveats in the documentation: https://pandas.pydata.org/pandas-docs/stable/user_guide/indexing.html#returning-a-view-versus-a-copy\n",
            "  dataset_df[c + '_' + val] = (dataset_df[c] == val).astype(int)\n",
            "<ipython-input-38-351aa74f6fdf>:20: SettingWithCopyWarning: \n",
            "A value is trying to be set on a copy of a slice from a DataFrame.\n",
            "Try using .loc[row_indexer,col_indexer] = value instead\n",
            "\n",
            "See the caveats in the documentation: https://pandas.pydata.org/pandas-docs/stable/user_guide/indexing.html#returning-a-view-versus-a-copy\n",
            "  dataset_df[c + '_' + val] = (dataset_df[c] == val).astype(int)\n",
            "<ipython-input-38-351aa74f6fdf>:20: SettingWithCopyWarning: \n",
            "A value is trying to be set on a copy of a slice from a DataFrame.\n",
            "Try using .loc[row_indexer,col_indexer] = value instead\n",
            "\n",
            "See the caveats in the documentation: https://pandas.pydata.org/pandas-docs/stable/user_guide/indexing.html#returning-a-view-versus-a-copy\n",
            "  dataset_df[c + '_' + val] = (dataset_df[c] == val).astype(int)\n",
            "<ipython-input-38-351aa74f6fdf>:20: SettingWithCopyWarning: \n",
            "A value is trying to be set on a copy of a slice from a DataFrame.\n",
            "Try using .loc[row_indexer,col_indexer] = value instead\n",
            "\n",
            "See the caveats in the documentation: https://pandas.pydata.org/pandas-docs/stable/user_guide/indexing.html#returning-a-view-versus-a-copy\n",
            "  dataset_df[c + '_' + val] = (dataset_df[c] == val).astype(int)\n",
            "<ipython-input-38-351aa74f6fdf>:20: SettingWithCopyWarning: \n",
            "A value is trying to be set on a copy of a slice from a DataFrame.\n",
            "Try using .loc[row_indexer,col_indexer] = value instead\n",
            "\n",
            "See the caveats in the documentation: https://pandas.pydata.org/pandas-docs/stable/user_guide/indexing.html#returning-a-view-versus-a-copy\n",
            "  dataset_df[c + '_' + val] = (dataset_df[c] == val).astype(int)\n",
            "<ipython-input-38-351aa74f6fdf>:20: SettingWithCopyWarning: \n",
            "A value is trying to be set on a copy of a slice from a DataFrame.\n",
            "Try using .loc[row_indexer,col_indexer] = value instead\n",
            "\n",
            "See the caveats in the documentation: https://pandas.pydata.org/pandas-docs/stable/user_guide/indexing.html#returning-a-view-versus-a-copy\n",
            "  dataset_df[c + '_' + val] = (dataset_df[c] == val).astype(int)\n",
            "<ipython-input-38-351aa74f6fdf>:20: SettingWithCopyWarning: \n",
            "A value is trying to be set on a copy of a slice from a DataFrame.\n",
            "Try using .loc[row_indexer,col_indexer] = value instead\n",
            "\n",
            "See the caveats in the documentation: https://pandas.pydata.org/pandas-docs/stable/user_guide/indexing.html#returning-a-view-versus-a-copy\n",
            "  dataset_df[c + '_' + val] = (dataset_df[c] == val).astype(int)\n",
            "<ipython-input-38-351aa74f6fdf>:20: SettingWithCopyWarning: \n",
            "A value is trying to be set on a copy of a slice from a DataFrame.\n",
            "Try using .loc[row_indexer,col_indexer] = value instead\n",
            "\n",
            "See the caveats in the documentation: https://pandas.pydata.org/pandas-docs/stable/user_guide/indexing.html#returning-a-view-versus-a-copy\n",
            "  dataset_df[c + '_' + val] = (dataset_df[c] == val).astype(int)\n",
            "<ipython-input-38-351aa74f6fdf>:20: SettingWithCopyWarning: \n",
            "A value is trying to be set on a copy of a slice from a DataFrame.\n",
            "Try using .loc[row_indexer,col_indexer] = value instead\n",
            "\n",
            "See the caveats in the documentation: https://pandas.pydata.org/pandas-docs/stable/user_guide/indexing.html#returning-a-view-versus-a-copy\n",
            "  dataset_df[c + '_' + val] = (dataset_df[c] == val).astype(int)\n",
            "<ipython-input-38-351aa74f6fdf>:20: SettingWithCopyWarning: \n",
            "A value is trying to be set on a copy of a slice from a DataFrame.\n",
            "Try using .loc[row_indexer,col_indexer] = value instead\n",
            "\n",
            "See the caveats in the documentation: https://pandas.pydata.org/pandas-docs/stable/user_guide/indexing.html#returning-a-view-versus-a-copy\n",
            "  dataset_df[c + '_' + val] = (dataset_df[c] == val).astype(int)\n",
            "<ipython-input-38-351aa74f6fdf>:20: SettingWithCopyWarning: \n",
            "A value is trying to be set on a copy of a slice from a DataFrame.\n",
            "Try using .loc[row_indexer,col_indexer] = value instead\n",
            "\n",
            "See the caveats in the documentation: https://pandas.pydata.org/pandas-docs/stable/user_guide/indexing.html#returning-a-view-versus-a-copy\n",
            "  dataset_df[c + '_' + val] = (dataset_df[c] == val).astype(int)\n",
            "<ipython-input-38-351aa74f6fdf>:20: SettingWithCopyWarning: \n",
            "A value is trying to be set on a copy of a slice from a DataFrame.\n",
            "Try using .loc[row_indexer,col_indexer] = value instead\n",
            "\n",
            "See the caveats in the documentation: https://pandas.pydata.org/pandas-docs/stable/user_guide/indexing.html#returning-a-view-versus-a-copy\n",
            "  dataset_df[c + '_' + val] = (dataset_df[c] == val).astype(int)\n",
            "<ipython-input-38-351aa74f6fdf>:20: SettingWithCopyWarning: \n",
            "A value is trying to be set on a copy of a slice from a DataFrame.\n",
            "Try using .loc[row_indexer,col_indexer] = value instead\n",
            "\n",
            "See the caveats in the documentation: https://pandas.pydata.org/pandas-docs/stable/user_guide/indexing.html#returning-a-view-versus-a-copy\n",
            "  dataset_df[c + '_' + val] = (dataset_df[c] == val).astype(int)\n",
            "<ipython-input-38-351aa74f6fdf>:20: SettingWithCopyWarning: \n",
            "A value is trying to be set on a copy of a slice from a DataFrame.\n",
            "Try using .loc[row_indexer,col_indexer] = value instead\n",
            "\n",
            "See the caveats in the documentation: https://pandas.pydata.org/pandas-docs/stable/user_guide/indexing.html#returning-a-view-versus-a-copy\n",
            "  dataset_df[c + '_' + val] = (dataset_df[c] == val).astype(int)\n",
            "<ipython-input-38-351aa74f6fdf>:20: SettingWithCopyWarning: \n",
            "A value is trying to be set on a copy of a slice from a DataFrame.\n",
            "Try using .loc[row_indexer,col_indexer] = value instead\n",
            "\n",
            "See the caveats in the documentation: https://pandas.pydata.org/pandas-docs/stable/user_guide/indexing.html#returning-a-view-versus-a-copy\n",
            "  dataset_df[c + '_' + val] = (dataset_df[c] == val).astype(int)\n",
            "<ipython-input-38-351aa74f6fdf>:20: SettingWithCopyWarning: \n",
            "A value is trying to be set on a copy of a slice from a DataFrame.\n",
            "Try using .loc[row_indexer,col_indexer] = value instead\n",
            "\n",
            "See the caveats in the documentation: https://pandas.pydata.org/pandas-docs/stable/user_guide/indexing.html#returning-a-view-versus-a-copy\n",
            "  dataset_df[c + '_' + val] = (dataset_df[c] == val).astype(int)\n",
            "<ipython-input-38-351aa74f6fdf>:20: SettingWithCopyWarning: \n",
            "A value is trying to be set on a copy of a slice from a DataFrame.\n",
            "Try using .loc[row_indexer,col_indexer] = value instead\n",
            "\n",
            "See the caveats in the documentation: https://pandas.pydata.org/pandas-docs/stable/user_guide/indexing.html#returning-a-view-versus-a-copy\n",
            "  dataset_df[c + '_' + val] = (dataset_df[c] == val).astype(int)\n",
            "<ipython-input-38-351aa74f6fdf>:20: SettingWithCopyWarning: \n",
            "A value is trying to be set on a copy of a slice from a DataFrame.\n",
            "Try using .loc[row_indexer,col_indexer] = value instead\n",
            "\n",
            "See the caveats in the documentation: https://pandas.pydata.org/pandas-docs/stable/user_guide/indexing.html#returning-a-view-versus-a-copy\n",
            "  dataset_df[c + '_' + val] = (dataset_df[c] == val).astype(int)\n",
            "<ipython-input-38-351aa74f6fdf>:20: SettingWithCopyWarning: \n",
            "A value is trying to be set on a copy of a slice from a DataFrame.\n",
            "Try using .loc[row_indexer,col_indexer] = value instead\n",
            "\n",
            "See the caveats in the documentation: https://pandas.pydata.org/pandas-docs/stable/user_guide/indexing.html#returning-a-view-versus-a-copy\n",
            "  dataset_df[c + '_' + val] = (dataset_df[c] == val).astype(int)\n",
            "<ipython-input-38-351aa74f6fdf>:20: SettingWithCopyWarning: \n",
            "A value is trying to be set on a copy of a slice from a DataFrame.\n",
            "Try using .loc[row_indexer,col_indexer] = value instead\n",
            "\n",
            "See the caveats in the documentation: https://pandas.pydata.org/pandas-docs/stable/user_guide/indexing.html#returning-a-view-versus-a-copy\n",
            "  dataset_df[c + '_' + val] = (dataset_df[c] == val).astype(int)\n",
            "<ipython-input-38-351aa74f6fdf>:20: SettingWithCopyWarning: \n",
            "A value is trying to be set on a copy of a slice from a DataFrame.\n",
            "Try using .loc[row_indexer,col_indexer] = value instead\n",
            "\n",
            "See the caveats in the documentation: https://pandas.pydata.org/pandas-docs/stable/user_guide/indexing.html#returning-a-view-versus-a-copy\n",
            "  dataset_df[c + '_' + val] = (dataset_df[c] == val).astype(int)\n",
            "<ipython-input-38-351aa74f6fdf>:20: SettingWithCopyWarning: \n",
            "A value is trying to be set on a copy of a slice from a DataFrame.\n",
            "Try using .loc[row_indexer,col_indexer] = value instead\n",
            "\n",
            "See the caveats in the documentation: https://pandas.pydata.org/pandas-docs/stable/user_guide/indexing.html#returning-a-view-versus-a-copy\n",
            "  dataset_df[c + '_' + val] = (dataset_df[c] == val).astype(int)\n",
            "<ipython-input-38-351aa74f6fdf>:20: SettingWithCopyWarning: \n",
            "A value is trying to be set on a copy of a slice from a DataFrame.\n",
            "Try using .loc[row_indexer,col_indexer] = value instead\n",
            "\n",
            "See the caveats in the documentation: https://pandas.pydata.org/pandas-docs/stable/user_guide/indexing.html#returning-a-view-versus-a-copy\n",
            "  dataset_df[c + '_' + val] = (dataset_df[c] == val).astype(int)\n",
            "<ipython-input-38-351aa74f6fdf>:20: SettingWithCopyWarning: \n",
            "A value is trying to be set on a copy of a slice from a DataFrame.\n",
            "Try using .loc[row_indexer,col_indexer] = value instead\n",
            "\n",
            "See the caveats in the documentation: https://pandas.pydata.org/pandas-docs/stable/user_guide/indexing.html#returning-a-view-versus-a-copy\n",
            "  dataset_df[c + '_' + val] = (dataset_df[c] == val).astype(int)\n",
            "<ipython-input-38-351aa74f6fdf>:20: SettingWithCopyWarning: \n",
            "A value is trying to be set on a copy of a slice from a DataFrame.\n",
            "Try using .loc[row_indexer,col_indexer] = value instead\n",
            "\n",
            "See the caveats in the documentation: https://pandas.pydata.org/pandas-docs/stable/user_guide/indexing.html#returning-a-view-versus-a-copy\n",
            "  dataset_df[c + '_' + val] = (dataset_df[c] == val).astype(int)\n",
            "<ipython-input-38-351aa74f6fdf>:20: SettingWithCopyWarning: \n",
            "A value is trying to be set on a copy of a slice from a DataFrame.\n",
            "Try using .loc[row_indexer,col_indexer] = value instead\n",
            "\n",
            "See the caveats in the documentation: https://pandas.pydata.org/pandas-docs/stable/user_guide/indexing.html#returning-a-view-versus-a-copy\n",
            "  dataset_df[c + '_' + val] = (dataset_df[c] == val).astype(int)\n",
            "<ipython-input-38-351aa74f6fdf>:20: SettingWithCopyWarning: \n",
            "A value is trying to be set on a copy of a slice from a DataFrame.\n",
            "Try using .loc[row_indexer,col_indexer] = value instead\n",
            "\n",
            "See the caveats in the documentation: https://pandas.pydata.org/pandas-docs/stable/user_guide/indexing.html#returning-a-view-versus-a-copy\n",
            "  dataset_df[c + '_' + val] = (dataset_df[c] == val).astype(int)\n",
            "<ipython-input-38-351aa74f6fdf>:20: SettingWithCopyWarning: \n",
            "A value is trying to be set on a copy of a slice from a DataFrame.\n",
            "Try using .loc[row_indexer,col_indexer] = value instead\n",
            "\n",
            "See the caveats in the documentation: https://pandas.pydata.org/pandas-docs/stable/user_guide/indexing.html#returning-a-view-versus-a-copy\n",
            "  dataset_df[c + '_' + val] = (dataset_df[c] == val).astype(int)\n",
            "<ipython-input-38-351aa74f6fdf>:20: SettingWithCopyWarning: \n",
            "A value is trying to be set on a copy of a slice from a DataFrame.\n",
            "Try using .loc[row_indexer,col_indexer] = value instead\n",
            "\n",
            "See the caveats in the documentation: https://pandas.pydata.org/pandas-docs/stable/user_guide/indexing.html#returning-a-view-versus-a-copy\n",
            "  dataset_df[c + '_' + val] = (dataset_df[c] == val).astype(int)\n",
            "<ipython-input-38-351aa74f6fdf>:20: SettingWithCopyWarning: \n",
            "A value is trying to be set on a copy of a slice from a DataFrame.\n",
            "Try using .loc[row_indexer,col_indexer] = value instead\n",
            "\n",
            "See the caveats in the documentation: https://pandas.pydata.org/pandas-docs/stable/user_guide/indexing.html#returning-a-view-versus-a-copy\n",
            "  dataset_df[c + '_' + val] = (dataset_df[c] == val).astype(int)\n",
            "<ipython-input-38-351aa74f6fdf>:20: SettingWithCopyWarning: \n",
            "A value is trying to be set on a copy of a slice from a DataFrame.\n",
            "Try using .loc[row_indexer,col_indexer] = value instead\n",
            "\n",
            "See the caveats in the documentation: https://pandas.pydata.org/pandas-docs/stable/user_guide/indexing.html#returning-a-view-versus-a-copy\n",
            "  dataset_df[c + '_' + val] = (dataset_df[c] == val).astype(int)\n",
            "<ipython-input-38-351aa74f6fdf>:20: SettingWithCopyWarning: \n",
            "A value is trying to be set on a copy of a slice from a DataFrame.\n",
            "Try using .loc[row_indexer,col_indexer] = value instead\n",
            "\n",
            "See the caveats in the documentation: https://pandas.pydata.org/pandas-docs/stable/user_guide/indexing.html#returning-a-view-versus-a-copy\n",
            "  dataset_df[c + '_' + val] = (dataset_df[c] == val).astype(int)\n",
            "<ipython-input-38-351aa74f6fdf>:20: SettingWithCopyWarning: \n",
            "A value is trying to be set on a copy of a slice from a DataFrame.\n",
            "Try using .loc[row_indexer,col_indexer] = value instead\n",
            "\n",
            "See the caveats in the documentation: https://pandas.pydata.org/pandas-docs/stable/user_guide/indexing.html#returning-a-view-versus-a-copy\n",
            "  dataset_df[c + '_' + val] = (dataset_df[c] == val).astype(int)\n",
            "<ipython-input-38-351aa74f6fdf>:20: SettingWithCopyWarning: \n",
            "A value is trying to be set on a copy of a slice from a DataFrame.\n",
            "Try using .loc[row_indexer,col_indexer] = value instead\n",
            "\n",
            "See the caveats in the documentation: https://pandas.pydata.org/pandas-docs/stable/user_guide/indexing.html#returning-a-view-versus-a-copy\n",
            "  dataset_df[c + '_' + val] = (dataset_df[c] == val).astype(int)\n",
            "<ipython-input-38-351aa74f6fdf>:20: SettingWithCopyWarning: \n",
            "A value is trying to be set on a copy of a slice from a DataFrame.\n",
            "Try using .loc[row_indexer,col_indexer] = value instead\n",
            "\n",
            "See the caveats in the documentation: https://pandas.pydata.org/pandas-docs/stable/user_guide/indexing.html#returning-a-view-versus-a-copy\n",
            "  dataset_df[c + '_' + val] = (dataset_df[c] == val).astype(int)\n",
            "<ipython-input-38-351aa74f6fdf>:20: SettingWithCopyWarning: \n",
            "A value is trying to be set on a copy of a slice from a DataFrame.\n",
            "Try using .loc[row_indexer,col_indexer] = value instead\n",
            "\n",
            "See the caveats in the documentation: https://pandas.pydata.org/pandas-docs/stable/user_guide/indexing.html#returning-a-view-versus-a-copy\n",
            "  dataset_df[c + '_' + val] = (dataset_df[c] == val).astype(int)\n",
            "<ipython-input-38-351aa74f6fdf>:26: SettingWithCopyWarning: \n",
            "A value is trying to be set on a copy of a slice from a DataFrame\n",
            "\n",
            "See the caveats in the documentation: https://pandas.pydata.org/pandas-docs/stable/user_guide/indexing.html#returning-a-view-versus-a-copy\n",
            "  dataset_df[c].fillna(dataset_df[c].median(), inplace=True)\n",
            "<ipython-input-38-351aa74f6fdf>:40: SettingWithCopyWarning: \n",
            "A value is trying to be set on a copy of a slice from a DataFrame.\n",
            "Try using .loc[row_indexer,col_indexer] = value instead\n",
            "\n",
            "See the caveats in the documentation: https://pandas.pydata.org/pandas-docs/stable/user_guide/indexing.html#returning-a-view-versus-a-copy\n",
            "  dataset_df[c] = pt.fit_transform(dataset_df[[c]])\n",
            "<ipython-input-38-351aa74f6fdf>:44: SettingWithCopyWarning: \n",
            "A value is trying to be set on a copy of a slice from a DataFrame.\n",
            "Try using .loc[row_indexer,col_indexer] = value instead\n",
            "\n",
            "See the caveats in the documentation: https://pandas.pydata.org/pandas-docs/stable/user_guide/indexing.html#returning-a-view-versus-a-copy\n",
            "  dataset_df[c+'_bin'] = pd.qcut(dataset_df[c], q=4, duplicates='drop')\n",
            "<ipython-input-38-351aa74f6fdf>:26: SettingWithCopyWarning: \n",
            "A value is trying to be set on a copy of a slice from a DataFrame\n",
            "\n",
            "See the caveats in the documentation: https://pandas.pydata.org/pandas-docs/stable/user_guide/indexing.html#returning-a-view-versus-a-copy\n",
            "  dataset_df[c].fillna(dataset_df[c].median(), inplace=True)\n",
            "<ipython-input-38-351aa74f6fdf>:26: SettingWithCopyWarning: \n",
            "A value is trying to be set on a copy of a slice from a DataFrame\n",
            "\n",
            "See the caveats in the documentation: https://pandas.pydata.org/pandas-docs/stable/user_guide/indexing.html#returning-a-view-versus-a-copy\n",
            "  dataset_df[c].fillna(dataset_df[c].median(), inplace=True)\n",
            "<ipython-input-38-351aa74f6fdf>:26: SettingWithCopyWarning: \n",
            "A value is trying to be set on a copy of a slice from a DataFrame\n",
            "\n",
            "See the caveats in the documentation: https://pandas.pydata.org/pandas-docs/stable/user_guide/indexing.html#returning-a-view-versus-a-copy\n",
            "  dataset_df[c].fillna(dataset_df[c].median(), inplace=True)\n",
            "<ipython-input-38-351aa74f6fdf>:44: SettingWithCopyWarning: \n",
            "A value is trying to be set on a copy of a slice from a DataFrame.\n",
            "Try using .loc[row_indexer,col_indexer] = value instead\n",
            "\n",
            "See the caveats in the documentation: https://pandas.pydata.org/pandas-docs/stable/user_guide/indexing.html#returning-a-view-versus-a-copy\n",
            "  dataset_df[c+'_bin'] = pd.qcut(dataset_df[c], q=4, duplicates='drop')\n",
            "<ipython-input-38-351aa74f6fdf>:26: SettingWithCopyWarning: \n",
            "A value is trying to be set on a copy of a slice from a DataFrame\n",
            "\n",
            "See the caveats in the documentation: https://pandas.pydata.org/pandas-docs/stable/user_guide/indexing.html#returning-a-view-versus-a-copy\n",
            "  dataset_df[c].fillna(dataset_df[c].median(), inplace=True)\n",
            "<ipython-input-38-351aa74f6fdf>:44: SettingWithCopyWarning: \n",
            "A value is trying to be set on a copy of a slice from a DataFrame.\n",
            "Try using .loc[row_indexer,col_indexer] = value instead\n",
            "\n",
            "See the caveats in the documentation: https://pandas.pydata.org/pandas-docs/stable/user_guide/indexing.html#returning-a-view-versus-a-copy\n",
            "  dataset_df[c+'_bin'] = pd.qcut(dataset_df[c], q=4, duplicates='drop')\n",
            "<ipython-input-38-351aa74f6fdf>:26: SettingWithCopyWarning: \n",
            "A value is trying to be set on a copy of a slice from a DataFrame\n",
            "\n",
            "See the caveats in the documentation: https://pandas.pydata.org/pandas-docs/stable/user_guide/indexing.html#returning-a-view-versus-a-copy\n",
            "  dataset_df[c].fillna(dataset_df[c].median(), inplace=True)\n",
            "<ipython-input-38-351aa74f6fdf>:44: SettingWithCopyWarning: \n",
            "A value is trying to be set on a copy of a slice from a DataFrame.\n",
            "Try using .loc[row_indexer,col_indexer] = value instead\n",
            "\n",
            "See the caveats in the documentation: https://pandas.pydata.org/pandas-docs/stable/user_guide/indexing.html#returning-a-view-versus-a-copy\n",
            "  dataset_df[c+'_bin'] = pd.qcut(dataset_df[c], q=4, duplicates='drop')\n",
            "<ipython-input-38-351aa74f6fdf>:26: SettingWithCopyWarning: \n",
            "A value is trying to be set on a copy of a slice from a DataFrame\n",
            "\n",
            "See the caveats in the documentation: https://pandas.pydata.org/pandas-docs/stable/user_guide/indexing.html#returning-a-view-versus-a-copy\n",
            "  dataset_df[c].fillna(dataset_df[c].median(), inplace=True)\n",
            "<ipython-input-38-351aa74f6fdf>:44: SettingWithCopyWarning: \n",
            "A value is trying to be set on a copy of a slice from a DataFrame.\n",
            "Try using .loc[row_indexer,col_indexer] = value instead\n",
            "\n",
            "See the caveats in the documentation: https://pandas.pydata.org/pandas-docs/stable/user_guide/indexing.html#returning-a-view-versus-a-copy\n",
            "  dataset_df[c+'_bin'] = pd.qcut(dataset_df[c], q=4, duplicates='drop')\n",
            "<ipython-input-38-351aa74f6fdf>:26: SettingWithCopyWarning: \n",
            "A value is trying to be set on a copy of a slice from a DataFrame\n",
            "\n",
            "See the caveats in the documentation: https://pandas.pydata.org/pandas-docs/stable/user_guide/indexing.html#returning-a-view-versus-a-copy\n",
            "  dataset_df[c].fillna(dataset_df[c].median(), inplace=True)\n",
            "<ipython-input-38-351aa74f6fdf>:44: SettingWithCopyWarning: \n",
            "A value is trying to be set on a copy of a slice from a DataFrame.\n",
            "Try using .loc[row_indexer,col_indexer] = value instead\n",
            "\n",
            "See the caveats in the documentation: https://pandas.pydata.org/pandas-docs/stable/user_guide/indexing.html#returning-a-view-versus-a-copy\n",
            "  dataset_df[c+'_bin'] = pd.qcut(dataset_df[c], q=4, duplicates='drop')\n",
            "<ipython-input-38-351aa74f6fdf>:54: SettingWithCopyWarning: \n",
            "A value is trying to be set on a copy of a slice from a DataFrame.\n",
            "Try using .loc[row_indexer,col_indexer] = value instead\n",
            "\n",
            "See the caveats in the documentation: https://pandas.pydata.org/pandas-docs/stable/user_guide/indexing.html#returning-a-view-versus-a-copy\n",
            "  dataset_df['screen_coor'] = np.sqrt(dataset_df['screen_coor_x']**2 + dataset_df['screen_coor_y']**2)\n",
            "<ipython-input-38-351aa74f6fdf>:61: SettingWithCopyWarning: \n",
            "A value is trying to be set on a copy of a slice from a DataFrame.\n",
            "Try using .loc[row_indexer,col_indexer] = value instead\n",
            "\n",
            "See the caveats in the documentation: https://pandas.pydata.org/pandas-docs/stable/user_guide/indexing.html#returning-a-view-versus-a-copy\n",
            "  dataset_df['total_hover_duration'] = dataset_df.groupby(['session_id'])['hover_duration'].transform('sum')\n"
          ]
        }
      ],
      "source": [
        "dataset_df = partial_loader(dataset_df)"
      ]
    },
    {
      "cell_type": "code",
      "execution_count": null,
      "metadata": {
        "id": "avtUSlrWxZMX"
      },
      "outputs": [],
      "source": [
        "def split_dataset(dataset, test_ratio=0.20):\n",
        "    USER_LIST = dataset.index.unique()\n",
        "    split = int(len(USER_LIST) * (1 - 0.20))\n",
        "    return dataset.loc[USER_LIST[:split]], dataset.loc[USER_LIST[split:]]\n",
        "\n",
        "train_x, valid_x = split_dataset(dataset_df)"
      ]
    },
    {
      "cell_type": "code",
      "execution_count": null,
      "metadata": {
        "id": "myvynSmyxu4B"
      },
      "outputs": [],
      "source": [
        "# Fetch the unique list of user sessions in the validation dataset. We assigned\n",
        "# `session_id` as the index of our feature engineered dataset. Hence fetching\n",
        "# the unique values in the index column will give us a list of users in the\n",
        "# validation set.\n",
        "VALID_USER_LIST = valid_x.index.unique()\n",
        "\n",
        "# Create a dataframe for storing the predictions of each question for all users\n",
        "# in the validation set.\n",
        "# For this, the required size of the data frame is:\n",
        "# (no: of users in validation set  x no of questions).\n",
        "# We will initialize all the predicted values in the data frame to zero.\n",
        "# The dataframe's index column is the user `session_id`s.\n",
        "prediction_df = pd.DataFrame(data=np.zeros((len(VALID_USER_LIST),18)), index=VALID_USER_LIST)\n",
        "\n",
        "# Create an empty dictionary to store the models created for each question.\n",
        "models = {}\n",
        "\n",
        "f1_scores = {}\n",
        "\n",
        "# Create an empty dictionary to store the evaluation score for each question.\n",
        "evaluation_dict ={}"
      ]
    },
    {
      "cell_type": "code",
      "execution_count": null,
      "metadata": {
        "id": "XUoHegj2GDVg"
      },
      "outputs": [],
      "source": [
        "def prepare_data(df, sequence_length):\n",
        "\n",
        "    # Prepare data for LSTM, based on sequence length.\n",
        "\n",
        "    # Get the last value of correct column\n",
        "    labels = df.groupby(df.index)[\"correct\"].last().values\n",
        "\n",
        "    # Drop the 'correct' and 'level_group' columns from the features to provent target leak\n",
        "    features = df.drop(columns=[\"correct\", \"level_group\"])\n",
        "\n",
        "    data = []\n",
        "    label = []\n",
        "    users = []  # Add a list to store the users\n",
        "\n",
        "    # Create sequences\n",
        "    for user, group in features.groupby(features.index):\n",
        "        user_features = group.values\n",
        "        if len(user_features) < sequence_length:\n",
        "            padding = np.zeros((sequence_length - len(user_features), user_features.shape[1])) #append zero if features is less than sequence length\n",
        "            user_features = np.concatenate((user_features, padding)) # combine together\n",
        "        data.append(user_features)\n",
        "        label.append(labels[len(data)-1])\n",
        "        users.append(user)  # Add the current user to the list\n",
        "\n",
        "    # Convert lists to numpy arrays\n",
        "    data = np.array(data)\n",
        "    label = np.array(label)\n",
        "    users = np.array(users)  # Convert the list to a numpy array\n",
        "\n",
        "    return data, label, users  # Return the users together with the data and labels\n",
        "\n"
      ]
    },
    {
      "cell_type": "markdown",
      "source": [
        "##Model"
      ],
      "metadata": {
        "id": "PuT18QsSgzbg"
      }
    },
    {
      "cell_type": "code",
      "execution_count": null,
      "metadata": {
        "id": "x7zDRR7DyAph"
      },
      "outputs": [],
      "source": [
        "# model define"
      ]
    },
    {
      "cell_type": "code",
      "execution_count": null,
      "metadata": {
        "id": "iYMqGNoW0HHL",
        "colab": {
          "base_uri": "https://localhost:8080/"
        },
        "outputId": "1ca1c829-14e7-4c7c-eb2a-6fa3bb2192f5"
      },
      "outputs": [
        {
          "output_type": "stream",
          "name": "stdout",
          "text": [
            "### q_no 1 grp 0-4\n",
            "3856\n"
          ]
        },
        {
          "output_type": "stream",
          "name": "stderr",
          "text": [
            "<ipython-input-45-1ee836004601>:37: SettingWithCopyWarning: \n",
            "A value is trying to be set on a copy of a slice from a DataFrame.\n",
            "Try using .loc[row_indexer,col_indexer] = value instead\n",
            "\n",
            "See the caveats in the documentation: https://pandas.pydata.org/pandas-docs/stable/user_guide/indexing.html#returning-a-view-versus-a-copy\n",
            "  train_df.loc[:, \"correct\"] = train_labels[\"correct\"]\n",
            "<ipython-input-45-1ee836004601>:38: SettingWithCopyWarning: \n",
            "A value is trying to be set on a copy of a slice from a DataFrame.\n",
            "Try using .loc[row_indexer,col_indexer] = value instead\n",
            "\n",
            "See the caveats in the documentation: https://pandas.pydata.org/pandas-docs/stable/user_guide/indexing.html#returning-a-view-versus-a-copy\n",
            "  valid_df.loc[:, \"correct\"] = valid_labels[\"correct\"]\n"
          ]
        },
        {
          "output_type": "stream",
          "name": "stdout",
          "text": [
            "Epoch 1/5\n",
            "244/244 [==============================] - 7s 15ms/step - loss: 0.6019 - accuracy: 0.7149 - val_loss: 0.5921 - val_accuracy: 0.7210\n",
            "Epoch 2/5\n",
            "244/244 [==============================] - 3s 11ms/step - loss: 0.5977 - accuracy: 0.7162 - val_loss: 0.5921 - val_accuracy: 0.7210\n",
            "Epoch 3/5\n",
            "244/244 [==============================] - 3s 12ms/step - loss: 0.5974 - accuracy: 0.7162 - val_loss: 0.5921 - val_accuracy: 0.7210\n",
            "Epoch 4/5\n",
            "244/244 [==============================] - 3s 11ms/step - loss: 0.5970 - accuracy: 0.7162 - val_loss: 0.5923 - val_accuracy: 0.7210\n",
            "Epoch 5/5\n",
            "244/244 [==============================] - 3s 11ms/step - loss: 0.5970 - accuracy: 0.7162 - val_loss: 0.5923 - val_accuracy: 0.7210\n",
            "121/121 [==============================] - 1s 4ms/step\n",
            "### q_no 2 grp 0-4\n",
            "3856\n"
          ]
        },
        {
          "output_type": "stream",
          "name": "stderr",
          "text": [
            "<ipython-input-45-1ee836004601>:37: SettingWithCopyWarning: \n",
            "A value is trying to be set on a copy of a slice from a DataFrame.\n",
            "Try using .loc[row_indexer,col_indexer] = value instead\n",
            "\n",
            "See the caveats in the documentation: https://pandas.pydata.org/pandas-docs/stable/user_guide/indexing.html#returning-a-view-versus-a-copy\n",
            "  train_df.loc[:, \"correct\"] = train_labels[\"correct\"]\n",
            "<ipython-input-45-1ee836004601>:38: SettingWithCopyWarning: \n",
            "A value is trying to be set on a copy of a slice from a DataFrame.\n",
            "Try using .loc[row_indexer,col_indexer] = value instead\n",
            "\n",
            "See the caveats in the documentation: https://pandas.pydata.org/pandas-docs/stable/user_guide/indexing.html#returning-a-view-versus-a-copy\n",
            "  valid_df.loc[:, \"correct\"] = valid_labels[\"correct\"]\n"
          ]
        },
        {
          "output_type": "stream",
          "name": "stdout",
          "text": [
            "Epoch 1/3\n",
            "244/244 [==============================] - 7s 15ms/step - loss: 0.1257 - accuracy: 0.9765 - val_loss: 0.0956 - val_accuracy: 0.9811\n",
            "Epoch 2/3\n",
            "244/244 [==============================] - 3s 11ms/step - loss: 0.0970 - accuracy: 0.9805 - val_loss: 0.0946 - val_accuracy: 0.9811\n",
            "Epoch 3/3\n",
            "244/244 [==============================] - 3s 11ms/step - loss: 0.0964 - accuracy: 0.9805 - val_loss: 0.0940 - val_accuracy: 0.9811\n",
            "121/121 [==============================] - 1s 5ms/step\n",
            "### q_no 3 grp 0-4\n",
            "3856\n"
          ]
        },
        {
          "output_type": "stream",
          "name": "stderr",
          "text": [
            "<ipython-input-45-1ee836004601>:37: SettingWithCopyWarning: \n",
            "A value is trying to be set on a copy of a slice from a DataFrame.\n",
            "Try using .loc[row_indexer,col_indexer] = value instead\n",
            "\n",
            "See the caveats in the documentation: https://pandas.pydata.org/pandas-docs/stable/user_guide/indexing.html#returning-a-view-versus-a-copy\n",
            "  train_df.loc[:, \"correct\"] = train_labels[\"correct\"]\n",
            "<ipython-input-45-1ee836004601>:38: SettingWithCopyWarning: \n",
            "A value is trying to be set on a copy of a slice from a DataFrame.\n",
            "Try using .loc[row_indexer,col_indexer] = value instead\n",
            "\n",
            "See the caveats in the documentation: https://pandas.pydata.org/pandas-docs/stable/user_guide/indexing.html#returning-a-view-versus-a-copy\n",
            "  valid_df.loc[:, \"correct\"] = valid_labels[\"correct\"]\n"
          ]
        },
        {
          "output_type": "stream",
          "name": "stdout",
          "text": [
            "Epoch 1/3\n",
            "244/244 [==============================] - 7s 15ms/step - loss: 0.2703 - accuracy: 0.9286 - val_loss: 0.2519 - val_accuracy: 0.9310\n",
            "Epoch 2/3\n",
            "244/244 [==============================] - 3s 12ms/step - loss: 0.2477 - accuracy: 0.9325 - val_loss: 0.2511 - val_accuracy: 0.9310\n",
            "Epoch 3/3\n",
            "244/244 [==============================] - 3s 12ms/step - loss: 0.2477 - accuracy: 0.9325 - val_loss: 0.2510 - val_accuracy: 0.9310\n",
            "121/121 [==============================] - 1s 4ms/step\n",
            "### q_no 4 grp 0-4\n",
            "3856\n"
          ]
        },
        {
          "output_type": "stream",
          "name": "stderr",
          "text": [
            "<ipython-input-45-1ee836004601>:37: SettingWithCopyWarning: \n",
            "A value is trying to be set on a copy of a slice from a DataFrame.\n",
            "Try using .loc[row_indexer,col_indexer] = value instead\n",
            "\n",
            "See the caveats in the documentation: https://pandas.pydata.org/pandas-docs/stable/user_guide/indexing.html#returning-a-view-versus-a-copy\n",
            "  train_df.loc[:, \"correct\"] = train_labels[\"correct\"]\n",
            "<ipython-input-45-1ee836004601>:38: SettingWithCopyWarning: \n",
            "A value is trying to be set on a copy of a slice from a DataFrame.\n",
            "Try using .loc[row_indexer,col_indexer] = value instead\n",
            "\n",
            "See the caveats in the documentation: https://pandas.pydata.org/pandas-docs/stable/user_guide/indexing.html#returning-a-view-versus-a-copy\n",
            "  valid_df.loc[:, \"correct\"] = valid_labels[\"correct\"]\n"
          ]
        },
        {
          "output_type": "stream",
          "name": "stdout",
          "text": [
            "Epoch 1/3\n",
            "244/244 [==============================] - 7s 16ms/step - loss: 0.5205 - accuracy: 0.7890 - val_loss: 0.5106 - val_accuracy: 0.7936\n",
            "Epoch 2/3\n",
            "244/244 [==============================] - 3s 11ms/step - loss: 0.5137 - accuracy: 0.7910 - val_loss: 0.5103 - val_accuracy: 0.7936\n",
            "Epoch 3/3\n",
            "244/244 [==============================] - 3s 11ms/step - loss: 0.5129 - accuracy: 0.7910 - val_loss: 0.5094 - val_accuracy: 0.7936\n",
            "121/121 [==============================] - 1s 4ms/step\n",
            "### q_no 5 grp 5-12\n",
            "3856\n"
          ]
        },
        {
          "output_type": "stream",
          "name": "stderr",
          "text": [
            "<ipython-input-45-1ee836004601>:37: SettingWithCopyWarning: \n",
            "A value is trying to be set on a copy of a slice from a DataFrame.\n",
            "Try using .loc[row_indexer,col_indexer] = value instead\n",
            "\n",
            "See the caveats in the documentation: https://pandas.pydata.org/pandas-docs/stable/user_guide/indexing.html#returning-a-view-versus-a-copy\n",
            "  train_df.loc[:, \"correct\"] = train_labels[\"correct\"]\n",
            "<ipython-input-45-1ee836004601>:38: SettingWithCopyWarning: \n",
            "A value is trying to be set on a copy of a slice from a DataFrame.\n",
            "Try using .loc[row_indexer,col_indexer] = value instead\n",
            "\n",
            "See the caveats in the documentation: https://pandas.pydata.org/pandas-docs/stable/user_guide/indexing.html#returning-a-view-versus-a-copy\n",
            "  valid_df.loc[:, \"correct\"] = valid_labels[\"correct\"]\n"
          ]
        },
        {
          "output_type": "stream",
          "name": "stdout",
          "text": [
            "Epoch 1/5\n",
            "244/244 [==============================] - 12s 17ms/step - loss: 0.6915 - accuracy: 0.5343 - val_loss: 0.6911 - val_accuracy: 0.5316\n",
            "Epoch 2/5\n",
            "244/244 [==============================] - 3s 12ms/step - loss: 0.6909 - accuracy: 0.5343 - val_loss: 0.6914 - val_accuracy: 0.5316\n",
            "Epoch 3/5\n",
            "244/244 [==============================] - 3s 12ms/step - loss: 0.6908 - accuracy: 0.5343 - val_loss: 0.6912 - val_accuracy: 0.5316\n",
            "Epoch 4/5\n",
            "244/244 [==============================] - 3s 11ms/step - loss: 0.6910 - accuracy: 0.5343 - val_loss: 0.6911 - val_accuracy: 0.5316\n",
            "Epoch 5/5\n",
            "244/244 [==============================] - 3s 12ms/step - loss: 0.6909 - accuracy: 0.5343 - val_loss: 0.6912 - val_accuracy: 0.5316\n",
            "121/121 [==============================] - 1s 4ms/step\n",
            "### q_no 6 grp 5-12\n",
            "3856\n"
          ]
        },
        {
          "output_type": "stream",
          "name": "stderr",
          "text": [
            "<ipython-input-45-1ee836004601>:37: SettingWithCopyWarning: \n",
            "A value is trying to be set on a copy of a slice from a DataFrame.\n",
            "Try using .loc[row_indexer,col_indexer] = value instead\n",
            "\n",
            "See the caveats in the documentation: https://pandas.pydata.org/pandas-docs/stable/user_guide/indexing.html#returning-a-view-versus-a-copy\n",
            "  train_df.loc[:, \"correct\"] = train_labels[\"correct\"]\n",
            "<ipython-input-45-1ee836004601>:38: SettingWithCopyWarning: \n",
            "A value is trying to be set on a copy of a slice from a DataFrame.\n",
            "Try using .loc[row_indexer,col_indexer] = value instead\n",
            "\n",
            "See the caveats in the documentation: https://pandas.pydata.org/pandas-docs/stable/user_guide/indexing.html#returning-a-view-versus-a-copy\n",
            "  valid_df.loc[:, \"correct\"] = valid_labels[\"correct\"]\n"
          ]
        },
        {
          "output_type": "stream",
          "name": "stdout",
          "text": [
            "Epoch 1/3\n",
            "244/244 [==============================] - 7s 16ms/step - loss: 0.5551 - accuracy: 0.7625 - val_loss: 0.5495 - val_accuracy: 0.7614\n",
            "Epoch 2/3\n",
            "244/244 [==============================] - 3s 11ms/step - loss: 0.5469 - accuracy: 0.7641 - val_loss: 0.5508 - val_accuracy: 0.7614\n",
            "Epoch 3/3\n",
            "244/244 [==============================] - 3s 13ms/step - loss: 0.5467 - accuracy: 0.7641 - val_loss: 0.5496 - val_accuracy: 0.7614\n",
            "121/121 [==============================] - 1s 4ms/step\n",
            "### q_no 7 grp 5-12\n",
            "3856\n"
          ]
        },
        {
          "output_type": "stream",
          "name": "stderr",
          "text": [
            "<ipython-input-45-1ee836004601>:37: SettingWithCopyWarning: \n",
            "A value is trying to be set on a copy of a slice from a DataFrame.\n",
            "Try using .loc[row_indexer,col_indexer] = value instead\n",
            "\n",
            "See the caveats in the documentation: https://pandas.pydata.org/pandas-docs/stable/user_guide/indexing.html#returning-a-view-versus-a-copy\n",
            "  train_df.loc[:, \"correct\"] = train_labels[\"correct\"]\n",
            "<ipython-input-45-1ee836004601>:38: SettingWithCopyWarning: \n",
            "A value is trying to be set on a copy of a slice from a DataFrame.\n",
            "Try using .loc[row_indexer,col_indexer] = value instead\n",
            "\n",
            "See the caveats in the documentation: https://pandas.pydata.org/pandas-docs/stable/user_guide/indexing.html#returning-a-view-versus-a-copy\n",
            "  valid_df.loc[:, \"correct\"] = valid_labels[\"correct\"]\n"
          ]
        },
        {
          "output_type": "stream",
          "name": "stdout",
          "text": [
            "Epoch 1/3\n",
            "244/244 [==============================] - 7s 16ms/step - loss: 0.5962 - accuracy: 0.7233 - val_loss: 0.5833 - val_accuracy: 0.7300\n",
            "Epoch 2/3\n",
            "244/244 [==============================] - 3s 12ms/step - loss: 0.5913 - accuracy: 0.7231 - val_loss: 0.5849 - val_accuracy: 0.7300\n",
            "Epoch 3/3\n",
            "244/244 [==============================] - 3s 11ms/step - loss: 0.5907 - accuracy: 0.7231 - val_loss: 0.5833 - val_accuracy: 0.7300\n",
            "121/121 [==============================] - 1s 4ms/step\n",
            "### q_no 8 grp 5-12\n",
            "3856\n"
          ]
        },
        {
          "output_type": "stream",
          "name": "stderr",
          "text": [
            "<ipython-input-45-1ee836004601>:37: SettingWithCopyWarning: \n",
            "A value is trying to be set on a copy of a slice from a DataFrame.\n",
            "Try using .loc[row_indexer,col_indexer] = value instead\n",
            "\n",
            "See the caveats in the documentation: https://pandas.pydata.org/pandas-docs/stable/user_guide/indexing.html#returning-a-view-versus-a-copy\n",
            "  train_df.loc[:, \"correct\"] = train_labels[\"correct\"]\n",
            "<ipython-input-45-1ee836004601>:38: SettingWithCopyWarning: \n",
            "A value is trying to be set on a copy of a slice from a DataFrame.\n",
            "Try using .loc[row_indexer,col_indexer] = value instead\n",
            "\n",
            "See the caveats in the documentation: https://pandas.pydata.org/pandas-docs/stable/user_guide/indexing.html#returning-a-view-versus-a-copy\n",
            "  valid_df.loc[:, \"correct\"] = valid_labels[\"correct\"]\n"
          ]
        },
        {
          "output_type": "stream",
          "name": "stdout",
          "text": [
            "Epoch 1/3\n",
            "244/244 [==============================] - 7s 15ms/step - loss: 0.6738 - accuracy: 0.6007 - val_loss: 0.6719 - val_accuracy: 0.6027\n",
            "Epoch 2/3\n",
            "244/244 [==============================] - 3s 12ms/step - loss: 0.6728 - accuracy: 0.6022 - val_loss: 0.6720 - val_accuracy: 0.6027\n",
            "Epoch 3/3\n",
            "244/244 [==============================] - 3s 11ms/step - loss: 0.6724 - accuracy: 0.6022 - val_loss: 0.6724 - val_accuracy: 0.6027\n",
            "121/121 [==============================] - 1s 4ms/step\n",
            "### q_no 9 grp 5-12\n",
            "3856\n"
          ]
        },
        {
          "output_type": "stream",
          "name": "stderr",
          "text": [
            "<ipython-input-45-1ee836004601>:37: SettingWithCopyWarning: \n",
            "A value is trying to be set on a copy of a slice from a DataFrame.\n",
            "Try using .loc[row_indexer,col_indexer] = value instead\n",
            "\n",
            "See the caveats in the documentation: https://pandas.pydata.org/pandas-docs/stable/user_guide/indexing.html#returning-a-view-versus-a-copy\n",
            "  train_df.loc[:, \"correct\"] = train_labels[\"correct\"]\n",
            "<ipython-input-45-1ee836004601>:38: SettingWithCopyWarning: \n",
            "A value is trying to be set on a copy of a slice from a DataFrame.\n",
            "Try using .loc[row_indexer,col_indexer] = value instead\n",
            "\n",
            "See the caveats in the documentation: https://pandas.pydata.org/pandas-docs/stable/user_guide/indexing.html#returning-a-view-versus-a-copy\n",
            "  valid_df.loc[:, \"correct\"] = valid_labels[\"correct\"]\n"
          ]
        },
        {
          "output_type": "stream",
          "name": "stdout",
          "text": [
            "Epoch 1/3\n",
            "244/244 [==============================] - 7s 15ms/step - loss: 0.5960 - accuracy: 0.7194 - val_loss: 0.5845 - val_accuracy: 0.7290\n",
            "Epoch 2/3\n",
            "244/244 [==============================] - 3s 11ms/step - loss: 0.5919 - accuracy: 0.7221 - val_loss: 0.5843 - val_accuracy: 0.7290\n",
            "Epoch 3/3\n",
            "244/244 [==============================] - 3s 12ms/step - loss: 0.5915 - accuracy: 0.7221 - val_loss: 0.5843 - val_accuracy: 0.7290\n",
            "121/121 [==============================] - 1s 4ms/step\n",
            "### q_no 10 grp 5-12\n",
            "3856\n"
          ]
        },
        {
          "output_type": "stream",
          "name": "stderr",
          "text": [
            "<ipython-input-45-1ee836004601>:37: SettingWithCopyWarning: \n",
            "A value is trying to be set on a copy of a slice from a DataFrame.\n",
            "Try using .loc[row_indexer,col_indexer] = value instead\n",
            "\n",
            "See the caveats in the documentation: https://pandas.pydata.org/pandas-docs/stable/user_guide/indexing.html#returning-a-view-versus-a-copy\n",
            "  train_df.loc[:, \"correct\"] = train_labels[\"correct\"]\n",
            "<ipython-input-45-1ee836004601>:38: SettingWithCopyWarning: \n",
            "A value is trying to be set on a copy of a slice from a DataFrame.\n",
            "Try using .loc[row_indexer,col_indexer] = value instead\n",
            "\n",
            "See the caveats in the documentation: https://pandas.pydata.org/pandas-docs/stable/user_guide/indexing.html#returning-a-view-versus-a-copy\n",
            "  valid_df.loc[:, \"correct\"] = valid_labels[\"correct\"]\n"
          ]
        },
        {
          "output_type": "stream",
          "name": "stdout",
          "text": [
            "Epoch 1/5\n",
            "244/244 [==============================] - 7s 16ms/step - loss: 0.6934 - accuracy: 0.4996 - val_loss: 0.6933 - val_accuracy: 0.4984\n",
            "Epoch 2/5\n",
            "244/244 [==============================] - 3s 11ms/step - loss: 0.6933 - accuracy: 0.5012 - val_loss: 0.6931 - val_accuracy: 0.5016\n",
            "Epoch 3/5\n",
            "244/244 [==============================] - 3s 11ms/step - loss: 0.6932 - accuracy: 0.4951 - val_loss: 0.6931 - val_accuracy: 0.5016\n",
            "Epoch 4/5\n",
            "244/244 [==============================] - 3s 11ms/step - loss: 0.6932 - accuracy: 0.4961 - val_loss: 0.6931 - val_accuracy: 0.5016\n",
            "Epoch 5/5\n",
            "244/244 [==============================] - 3s 11ms/step - loss: 0.6932 - accuracy: 0.5012 - val_loss: 0.6931 - val_accuracy: 0.5016\n",
            "121/121 [==============================] - 1s 5ms/step\n",
            "### q_no 11 grp 5-12\n",
            "3856\n"
          ]
        },
        {
          "output_type": "stream",
          "name": "stderr",
          "text": [
            "<ipython-input-45-1ee836004601>:37: SettingWithCopyWarning: \n",
            "A value is trying to be set on a copy of a slice from a DataFrame.\n",
            "Try using .loc[row_indexer,col_indexer] = value instead\n",
            "\n",
            "See the caveats in the documentation: https://pandas.pydata.org/pandas-docs/stable/user_guide/indexing.html#returning-a-view-versus-a-copy\n",
            "  train_df.loc[:, \"correct\"] = train_labels[\"correct\"]\n",
            "<ipython-input-45-1ee836004601>:38: SettingWithCopyWarning: \n",
            "A value is trying to be set on a copy of a slice from a DataFrame.\n",
            "Try using .loc[row_indexer,col_indexer] = value instead\n",
            "\n",
            "See the caveats in the documentation: https://pandas.pydata.org/pandas-docs/stable/user_guide/indexing.html#returning-a-view-versus-a-copy\n",
            "  valid_df.loc[:, \"correct\"] = valid_labels[\"correct\"]\n"
          ]
        },
        {
          "output_type": "stream",
          "name": "stdout",
          "text": [
            "Epoch 1/5\n",
            "244/244 [==============================] - 10s 16ms/step - loss: 0.6565 - accuracy: 0.6388 - val_loss: 0.6576 - val_accuracy: 0.6325\n",
            "Epoch 2/5\n",
            "244/244 [==============================] - 3s 12ms/step - loss: 0.6545 - accuracy: 0.6391 - val_loss: 0.6586 - val_accuracy: 0.6325\n",
            "Epoch 3/5\n",
            "244/244 [==============================] - 3s 11ms/step - loss: 0.6548 - accuracy: 0.6391 - val_loss: 0.6602 - val_accuracy: 0.6325\n",
            "Epoch 4/5\n",
            "244/244 [==============================] - 3s 12ms/step - loss: 0.6549 - accuracy: 0.6391 - val_loss: 0.6576 - val_accuracy: 0.6325\n",
            "Epoch 5/5\n",
            "244/244 [==============================] - 3s 11ms/step - loss: 0.6545 - accuracy: 0.6391 - val_loss: 0.6576 - val_accuracy: 0.6325\n",
            "121/121 [==============================] - 1s 4ms/step\n",
            "### q_no 12 grp 5-12\n",
            "3856\n"
          ]
        },
        {
          "output_type": "stream",
          "name": "stderr",
          "text": [
            "<ipython-input-45-1ee836004601>:37: SettingWithCopyWarning: \n",
            "A value is trying to be set on a copy of a slice from a DataFrame.\n",
            "Try using .loc[row_indexer,col_indexer] = value instead\n",
            "\n",
            "See the caveats in the documentation: https://pandas.pydata.org/pandas-docs/stable/user_guide/indexing.html#returning-a-view-versus-a-copy\n",
            "  train_df.loc[:, \"correct\"] = train_labels[\"correct\"]\n",
            "<ipython-input-45-1ee836004601>:38: SettingWithCopyWarning: \n",
            "A value is trying to be set on a copy of a slice from a DataFrame.\n",
            "Try using .loc[row_indexer,col_indexer] = value instead\n",
            "\n",
            "See the caveats in the documentation: https://pandas.pydata.org/pandas-docs/stable/user_guide/indexing.html#returning-a-view-versus-a-copy\n",
            "  valid_df.loc[:, \"correct\"] = valid_labels[\"correct\"]\n"
          ]
        },
        {
          "output_type": "stream",
          "name": "stdout",
          "text": [
            "Epoch 1/3\n",
            "244/244 [==============================] - 7s 16ms/step - loss: 0.4223 - accuracy: 0.8577 - val_loss: 0.4056 - val_accuracy: 0.8597\n",
            "Epoch 2/3\n",
            "244/244 [==============================] - 3s 11ms/step - loss: 0.4099 - accuracy: 0.8579 - val_loss: 0.4059 - val_accuracy: 0.8597\n",
            "Epoch 3/3\n",
            "244/244 [==============================] - 3s 11ms/step - loss: 0.4093 - accuracy: 0.8579 - val_loss: 0.4059 - val_accuracy: 0.8597\n",
            "121/121 [==============================] - 1s 4ms/step\n",
            "### q_no 13 grp 13-22\n",
            "3856\n"
          ]
        },
        {
          "output_type": "stream",
          "name": "stderr",
          "text": [
            "<ipython-input-45-1ee836004601>:37: SettingWithCopyWarning: \n",
            "A value is trying to be set on a copy of a slice from a DataFrame.\n",
            "Try using .loc[row_indexer,col_indexer] = value instead\n",
            "\n",
            "See the caveats in the documentation: https://pandas.pydata.org/pandas-docs/stable/user_guide/indexing.html#returning-a-view-versus-a-copy\n",
            "  train_df.loc[:, \"correct\"] = train_labels[\"correct\"]\n",
            "<ipython-input-45-1ee836004601>:38: SettingWithCopyWarning: \n",
            "A value is trying to be set on a copy of a slice from a DataFrame.\n",
            "Try using .loc[row_indexer,col_indexer] = value instead\n",
            "\n",
            "See the caveats in the documentation: https://pandas.pydata.org/pandas-docs/stable/user_guide/indexing.html#returning-a-view-versus-a-copy\n",
            "  valid_df.loc[:, \"correct\"] = valid_labels[\"correct\"]\n"
          ]
        },
        {
          "output_type": "stream",
          "name": "stdout",
          "text": [
            "Epoch 1/5\n",
            "244/244 [==============================] - 7s 15ms/step - loss: 0.5871 - accuracy: 0.7294 - val_loss: 0.5908 - val_accuracy: 0.7360\n",
            "Epoch 2/5\n",
            "244/244 [==============================] - 3s 11ms/step - loss: 0.5833 - accuracy: 0.7325 - val_loss: 0.5781 - val_accuracy: 0.7360\n",
            "Epoch 3/5\n",
            "244/244 [==============================] - 3s 12ms/step - loss: 0.5815 - accuracy: 0.7325 - val_loss: 0.5778 - val_accuracy: 0.7360\n",
            "Epoch 4/5\n",
            "244/244 [==============================] - 3s 11ms/step - loss: 0.5813 - accuracy: 0.7325 - val_loss: 0.5772 - val_accuracy: 0.7360\n",
            "Epoch 5/5\n",
            "244/244 [==============================] - 3s 11ms/step - loss: 0.5811 - accuracy: 0.7325 - val_loss: 0.5775 - val_accuracy: 0.7360\n",
            "121/121 [==============================] - 1s 5ms/step\n",
            "### q_no 14 grp 13-22\n",
            "3856\n"
          ]
        },
        {
          "output_type": "stream",
          "name": "stderr",
          "text": [
            "<ipython-input-45-1ee836004601>:37: SettingWithCopyWarning: \n",
            "A value is trying to be set on a copy of a slice from a DataFrame.\n",
            "Try using .loc[row_indexer,col_indexer] = value instead\n",
            "\n",
            "See the caveats in the documentation: https://pandas.pydata.org/pandas-docs/stable/user_guide/indexing.html#returning-a-view-versus-a-copy\n",
            "  train_df.loc[:, \"correct\"] = train_labels[\"correct\"]\n",
            "<ipython-input-45-1ee836004601>:38: SettingWithCopyWarning: \n",
            "A value is trying to be set on a copy of a slice from a DataFrame.\n",
            "Try using .loc[row_indexer,col_indexer] = value instead\n",
            "\n",
            "See the caveats in the documentation: https://pandas.pydata.org/pandas-docs/stable/user_guide/indexing.html#returning-a-view-versus-a-copy\n",
            "  valid_df.loc[:, \"correct\"] = valid_labels[\"correct\"]\n"
          ]
        },
        {
          "output_type": "stream",
          "name": "stdout",
          "text": [
            "Epoch 1/3\n",
            "244/244 [==============================] - 7s 15ms/step - loss: 0.6242 - accuracy: 0.6890 - val_loss: 0.6158 - val_accuracy: 0.6968\n",
            "Epoch 2/3\n",
            "244/244 [==============================] - 3s 12ms/step - loss: 0.6206 - accuracy: 0.6898 - val_loss: 0.6135 - val_accuracy: 0.6968\n",
            "Epoch 3/3\n",
            "244/244 [==============================] - 3s 11ms/step - loss: 0.6203 - accuracy: 0.6898 - val_loss: 0.6141 - val_accuracy: 0.6968\n",
            "121/121 [==============================] - 1s 4ms/step\n",
            "### q_no 15 grp 13-22\n",
            "3856\n"
          ]
        },
        {
          "output_type": "stream",
          "name": "stderr",
          "text": [
            "<ipython-input-45-1ee836004601>:37: SettingWithCopyWarning: \n",
            "A value is trying to be set on a copy of a slice from a DataFrame.\n",
            "Try using .loc[row_indexer,col_indexer] = value instead\n",
            "\n",
            "See the caveats in the documentation: https://pandas.pydata.org/pandas-docs/stable/user_guide/indexing.html#returning-a-view-versus-a-copy\n",
            "  train_df.loc[:, \"correct\"] = train_labels[\"correct\"]\n",
            "<ipython-input-45-1ee836004601>:38: SettingWithCopyWarning: \n",
            "A value is trying to be set on a copy of a slice from a DataFrame.\n",
            "Try using .loc[row_indexer,col_indexer] = value instead\n",
            "\n",
            "See the caveats in the documentation: https://pandas.pydata.org/pandas-docs/stable/user_guide/indexing.html#returning-a-view-versus-a-copy\n",
            "  valid_df.loc[:, \"correct\"] = valid_labels[\"correct\"]\n"
          ]
        },
        {
          "output_type": "stream",
          "name": "stdout",
          "text": [
            "Epoch 1/5\n",
            "244/244 [==============================] - 7s 16ms/step - loss: 0.6922 - accuracy: 0.5277 - val_loss: 0.6916 - val_accuracy: 0.5280\n",
            "Epoch 2/5\n",
            "244/244 [==============================] - 3s 11ms/step - loss: 0.6917 - accuracy: 0.5279 - val_loss: 0.6916 - val_accuracy: 0.5280\n",
            "Epoch 3/5\n",
            "244/244 [==============================] - 3s 11ms/step - loss: 0.6918 - accuracy: 0.5279 - val_loss: 0.6916 - val_accuracy: 0.5280\n",
            "Epoch 4/5\n",
            "244/244 [==============================] - 3s 11ms/step - loss: 0.6916 - accuracy: 0.5279 - val_loss: 0.6916 - val_accuracy: 0.5280\n",
            "Epoch 5/5\n",
            "244/244 [==============================] - 3s 12ms/step - loss: 0.6917 - accuracy: 0.5279 - val_loss: 0.6916 - val_accuracy: 0.5280\n",
            "121/121 [==============================] - 1s 4ms/step\n",
            "### q_no 16 grp 13-22\n",
            "3856\n"
          ]
        },
        {
          "output_type": "stream",
          "name": "stderr",
          "text": [
            "<ipython-input-45-1ee836004601>:37: SettingWithCopyWarning: \n",
            "A value is trying to be set on a copy of a slice from a DataFrame.\n",
            "Try using .loc[row_indexer,col_indexer] = value instead\n",
            "\n",
            "See the caveats in the documentation: https://pandas.pydata.org/pandas-docs/stable/user_guide/indexing.html#returning-a-view-versus-a-copy\n",
            "  train_df.loc[:, \"correct\"] = train_labels[\"correct\"]\n",
            "<ipython-input-45-1ee836004601>:38: SettingWithCopyWarning: \n",
            "A value is trying to be set on a copy of a slice from a DataFrame.\n",
            "Try using .loc[row_indexer,col_indexer] = value instead\n",
            "\n",
            "See the caveats in the documentation: https://pandas.pydata.org/pandas-docs/stable/user_guide/indexing.html#returning-a-view-versus-a-copy\n",
            "  valid_df.loc[:, \"correct\"] = valid_labels[\"correct\"]\n"
          ]
        },
        {
          "output_type": "stream",
          "name": "stdout",
          "text": [
            "Epoch 1/3\n",
            "244/244 [==============================] - 7s 15ms/step - loss: 0.5913 - accuracy: 0.7278 - val_loss: 0.5857 - val_accuracy: 0.7295\n",
            "Epoch 2/3\n",
            "244/244 [==============================] - 3s 11ms/step - loss: 0.5861 - accuracy: 0.7285 - val_loss: 0.5841 - val_accuracy: 0.7295\n",
            "Epoch 3/3\n",
            "244/244 [==============================] - 3s 11ms/step - loss: 0.5853 - accuracy: 0.7285 - val_loss: 0.5852 - val_accuracy: 0.7295\n",
            "121/121 [==============================] - 1s 4ms/step\n",
            "### q_no 17 grp 13-22\n",
            "3856\n"
          ]
        },
        {
          "output_type": "stream",
          "name": "stderr",
          "text": [
            "<ipython-input-45-1ee836004601>:37: SettingWithCopyWarning: \n",
            "A value is trying to be set on a copy of a slice from a DataFrame.\n",
            "Try using .loc[row_indexer,col_indexer] = value instead\n",
            "\n",
            "See the caveats in the documentation: https://pandas.pydata.org/pandas-docs/stable/user_guide/indexing.html#returning-a-view-versus-a-copy\n",
            "  train_df.loc[:, \"correct\"] = train_labels[\"correct\"]\n",
            "<ipython-input-45-1ee836004601>:38: SettingWithCopyWarning: \n",
            "A value is trying to be set on a copy of a slice from a DataFrame.\n",
            "Try using .loc[row_indexer,col_indexer] = value instead\n",
            "\n",
            "See the caveats in the documentation: https://pandas.pydata.org/pandas-docs/stable/user_guide/indexing.html#returning-a-view-versus-a-copy\n",
            "  valid_df.loc[:, \"correct\"] = valid_labels[\"correct\"]\n"
          ]
        },
        {
          "output_type": "stream",
          "name": "stdout",
          "text": [
            "Epoch 1/3\n",
            "244/244 [==============================] - 7s 16ms/step - loss: 0.6326 - accuracy: 0.6760 - val_loss: 0.6313 - val_accuracy: 0.6740\n",
            "Epoch 2/3\n",
            "244/244 [==============================] - 3s 11ms/step - loss: 0.6299 - accuracy: 0.6769 - val_loss: 0.6328 - val_accuracy: 0.6740\n",
            "Epoch 3/3\n",
            "244/244 [==============================] - 3s 11ms/step - loss: 0.6303 - accuracy: 0.6769 - val_loss: 0.6316 - val_accuracy: 0.6740\n",
            "121/121 [==============================] - 1s 4ms/step\n",
            "### q_no 18 grp 13-22\n",
            "3856\n"
          ]
        },
        {
          "output_type": "stream",
          "name": "stderr",
          "text": [
            "<ipython-input-45-1ee836004601>:37: SettingWithCopyWarning: \n",
            "A value is trying to be set on a copy of a slice from a DataFrame.\n",
            "Try using .loc[row_indexer,col_indexer] = value instead\n",
            "\n",
            "See the caveats in the documentation: https://pandas.pydata.org/pandas-docs/stable/user_guide/indexing.html#returning-a-view-versus-a-copy\n",
            "  train_df.loc[:, \"correct\"] = train_labels[\"correct\"]\n",
            "<ipython-input-45-1ee836004601>:38: SettingWithCopyWarning: \n",
            "A value is trying to be set on a copy of a slice from a DataFrame.\n",
            "Try using .loc[row_indexer,col_indexer] = value instead\n",
            "\n",
            "See the caveats in the documentation: https://pandas.pydata.org/pandas-docs/stable/user_guide/indexing.html#returning-a-view-versus-a-copy\n",
            "  valid_df.loc[:, \"correct\"] = valid_labels[\"correct\"]\n"
          ]
        },
        {
          "output_type": "stream",
          "name": "stdout",
          "text": [
            "Epoch 1/3\n",
            "244/244 [==============================] - 7s 15ms/step - loss: 0.2237 - accuracy: 0.9460 - val_loss: 0.1988 - val_accuracy: 0.9499\n",
            "Epoch 2/3\n",
            "244/244 [==============================] - 3s 11ms/step - loss: 0.1996 - accuracy: 0.9497 - val_loss: 0.1992 - val_accuracy: 0.9499\n",
            "Epoch 3/3\n",
            "244/244 [==============================] - 3s 12ms/step - loss: 0.2002 - accuracy: 0.9497 - val_loss: 0.1987 - val_accuracy: 0.9499\n",
            "121/121 [==============================] - 1s 4ms/step\n",
            "Best threshold  0.6400000000000002 \tF1 score  0.6512437\n",
            "### q_no 1 grp 0-4\n",
            "3854\n"
          ]
        },
        {
          "output_type": "stream",
          "name": "stderr",
          "text": [
            "<ipython-input-45-1ee836004601>:37: SettingWithCopyWarning: \n",
            "A value is trying to be set on a copy of a slice from a DataFrame.\n",
            "Try using .loc[row_indexer,col_indexer] = value instead\n",
            "\n",
            "See the caveats in the documentation: https://pandas.pydata.org/pandas-docs/stable/user_guide/indexing.html#returning-a-view-versus-a-copy\n",
            "  train_df.loc[:, \"correct\"] = train_labels[\"correct\"]\n",
            "<ipython-input-45-1ee836004601>:38: SettingWithCopyWarning: \n",
            "A value is trying to be set on a copy of a slice from a DataFrame.\n",
            "Try using .loc[row_indexer,col_indexer] = value instead\n",
            "\n",
            "See the caveats in the documentation: https://pandas.pydata.org/pandas-docs/stable/user_guide/indexing.html#returning-a-view-versus-a-copy\n",
            "  valid_df.loc[:, \"correct\"] = valid_labels[\"correct\"]\n"
          ]
        },
        {
          "output_type": "stream",
          "name": "stdout",
          "text": [
            "Epoch 1/5\n",
            "244/244 [==============================] - 8s 16ms/step - loss: 0.6019 - accuracy: 0.7141 - val_loss: 0.6024 - val_accuracy: 0.7207\n",
            "Epoch 2/5\n",
            "244/244 [==============================] - 3s 11ms/step - loss: 0.5982 - accuracy: 0.7162 - val_loss: 0.5930 - val_accuracy: 0.7207\n",
            "Epoch 3/5\n",
            "244/244 [==============================] - 3s 11ms/step - loss: 0.5972 - accuracy: 0.7162 - val_loss: 0.5923 - val_accuracy: 0.7207\n",
            "Epoch 4/5\n",
            "244/244 [==============================] - 3s 11ms/step - loss: 0.5973 - accuracy: 0.7162 - val_loss: 0.5924 - val_accuracy: 0.7207\n",
            "Epoch 5/5\n",
            "244/244 [==============================] - 3s 12ms/step - loss: 0.5970 - accuracy: 0.7162 - val_loss: 0.5925 - val_accuracy: 0.7207\n",
            "121/121 [==============================] - 1s 4ms/step\n",
            "### q_no 2 grp 0-4\n",
            "3854\n"
          ]
        },
        {
          "output_type": "stream",
          "name": "stderr",
          "text": [
            "<ipython-input-45-1ee836004601>:37: SettingWithCopyWarning: \n",
            "A value is trying to be set on a copy of a slice from a DataFrame.\n",
            "Try using .loc[row_indexer,col_indexer] = value instead\n",
            "\n",
            "See the caveats in the documentation: https://pandas.pydata.org/pandas-docs/stable/user_guide/indexing.html#returning-a-view-versus-a-copy\n",
            "  train_df.loc[:, \"correct\"] = train_labels[\"correct\"]\n",
            "<ipython-input-45-1ee836004601>:38: SettingWithCopyWarning: \n",
            "A value is trying to be set on a copy of a slice from a DataFrame.\n",
            "Try using .loc[row_indexer,col_indexer] = value instead\n",
            "\n",
            "See the caveats in the documentation: https://pandas.pydata.org/pandas-docs/stable/user_guide/indexing.html#returning-a-view-versus-a-copy\n",
            "  valid_df.loc[:, \"correct\"] = valid_labels[\"correct\"]\n"
          ]
        },
        {
          "output_type": "stream",
          "name": "stdout",
          "text": [
            "Epoch 1/3\n",
            "244/244 [==============================] - 7s 15ms/step - loss: 0.1254 - accuracy: 0.9761 - val_loss: 0.1010 - val_accuracy: 0.9792\n",
            "Epoch 2/3\n",
            "244/244 [==============================] - 3s 13ms/step - loss: 0.0977 - accuracy: 0.9802 - val_loss: 0.1015 - val_accuracy: 0.9792\n",
            "Epoch 3/3\n",
            "244/244 [==============================] - 3s 11ms/step - loss: 0.0974 - accuracy: 0.9802 - val_loss: 0.1012 - val_accuracy: 0.9792\n",
            "121/121 [==============================] - 1s 4ms/step\n",
            "### q_no 3 grp 0-4\n",
            "3854\n"
          ]
        },
        {
          "output_type": "stream",
          "name": "stderr",
          "text": [
            "<ipython-input-45-1ee836004601>:37: SettingWithCopyWarning: \n",
            "A value is trying to be set on a copy of a slice from a DataFrame.\n",
            "Try using .loc[row_indexer,col_indexer] = value instead\n",
            "\n",
            "See the caveats in the documentation: https://pandas.pydata.org/pandas-docs/stable/user_guide/indexing.html#returning-a-view-versus-a-copy\n",
            "  train_df.loc[:, \"correct\"] = train_labels[\"correct\"]\n",
            "<ipython-input-45-1ee836004601>:38: SettingWithCopyWarning: \n",
            "A value is trying to be set on a copy of a slice from a DataFrame.\n",
            "Try using .loc[row_indexer,col_indexer] = value instead\n",
            "\n",
            "See the caveats in the documentation: https://pandas.pydata.org/pandas-docs/stable/user_guide/indexing.html#returning-a-view-versus-a-copy\n",
            "  valid_df.loc[:, \"correct\"] = valid_labels[\"correct\"]\n"
          ]
        },
        {
          "output_type": "stream",
          "name": "stdout",
          "text": [
            "Epoch 1/3\n",
            "244/244 [==============================] - 7s 16ms/step - loss: 0.2684 - accuracy: 0.9294 - val_loss: 0.2532 - val_accuracy: 0.9302\n",
            "Epoch 2/3\n",
            "244/244 [==============================] - 3s 11ms/step - loss: 0.2479 - accuracy: 0.9325 - val_loss: 0.2533 - val_accuracy: 0.9302\n",
            "Epoch 3/3\n",
            "244/244 [==============================] - 3s 11ms/step - loss: 0.2473 - accuracy: 0.9325 - val_loss: 0.2536 - val_accuracy: 0.9302\n",
            "121/121 [==============================] - 1s 4ms/step\n",
            "### q_no 4 grp 0-4\n",
            "3854\n"
          ]
        },
        {
          "output_type": "stream",
          "name": "stderr",
          "text": [
            "<ipython-input-45-1ee836004601>:37: SettingWithCopyWarning: \n",
            "A value is trying to be set on a copy of a slice from a DataFrame.\n",
            "Try using .loc[row_indexer,col_indexer] = value instead\n",
            "\n",
            "See the caveats in the documentation: https://pandas.pydata.org/pandas-docs/stable/user_guide/indexing.html#returning-a-view-versus-a-copy\n",
            "  train_df.loc[:, \"correct\"] = train_labels[\"correct\"]\n",
            "<ipython-input-45-1ee836004601>:38: SettingWithCopyWarning: \n",
            "A value is trying to be set on a copy of a slice from a DataFrame.\n",
            "Try using .loc[row_indexer,col_indexer] = value instead\n",
            "\n",
            "See the caveats in the documentation: https://pandas.pydata.org/pandas-docs/stable/user_guide/indexing.html#returning-a-view-versus-a-copy\n",
            "  valid_df.loc[:, \"correct\"] = valid_labels[\"correct\"]\n"
          ]
        },
        {
          "output_type": "stream",
          "name": "stdout",
          "text": [
            "Epoch 1/3\n",
            "244/244 [==============================] - 7s 15ms/step - loss: 0.5220 - accuracy: 0.7896 - val_loss: 0.5063 - val_accuracy: 0.7957\n",
            "Epoch 2/3\n",
            "244/244 [==============================] - 3s 11ms/step - loss: 0.5140 - accuracy: 0.7910 - val_loss: 0.5063 - val_accuracy: 0.7957\n",
            "Epoch 3/3\n",
            "244/244 [==============================] - 3s 12ms/step - loss: 0.5131 - accuracy: 0.7910 - val_loss: 0.5117 - val_accuracy: 0.7957\n",
            "121/121 [==============================] - 1s 4ms/step\n",
            "### q_no 5 grp 5-12\n",
            "3854\n"
          ]
        },
        {
          "output_type": "stream",
          "name": "stderr",
          "text": [
            "<ipython-input-45-1ee836004601>:37: SettingWithCopyWarning: \n",
            "A value is trying to be set on a copy of a slice from a DataFrame.\n",
            "Try using .loc[row_indexer,col_indexer] = value instead\n",
            "\n",
            "See the caveats in the documentation: https://pandas.pydata.org/pandas-docs/stable/user_guide/indexing.html#returning-a-view-versus-a-copy\n",
            "  train_df.loc[:, \"correct\"] = train_labels[\"correct\"]\n",
            "<ipython-input-45-1ee836004601>:38: SettingWithCopyWarning: \n",
            "A value is trying to be set on a copy of a slice from a DataFrame.\n",
            "Try using .loc[row_indexer,col_indexer] = value instead\n",
            "\n",
            "See the caveats in the documentation: https://pandas.pydata.org/pandas-docs/stable/user_guide/indexing.html#returning-a-view-versus-a-copy\n",
            "  valid_df.loc[:, \"correct\"] = valid_labels[\"correct\"]\n"
          ]
        },
        {
          "output_type": "stream",
          "name": "stdout",
          "text": [
            "Epoch 1/5\n",
            "244/244 [==============================] - 7s 15ms/step - loss: 0.6912 - accuracy: 0.5315 - val_loss: 0.6902 - val_accuracy: 0.5391\n",
            "Epoch 2/5\n",
            "244/244 [==============================] - 3s 12ms/step - loss: 0.6911 - accuracy: 0.5341 - val_loss: 0.6902 - val_accuracy: 0.5391\n",
            "Epoch 3/5\n",
            "244/244 [==============================] - 3s 11ms/step - loss: 0.6908 - accuracy: 0.5341 - val_loss: 0.6903 - val_accuracy: 0.5391\n",
            "Epoch 4/5\n",
            "244/244 [==============================] - 3s 11ms/step - loss: 0.6909 - accuracy: 0.5341 - val_loss: 0.6902 - val_accuracy: 0.5391\n",
            "Epoch 5/5\n",
            "244/244 [==============================] - 3s 11ms/step - loss: 0.6909 - accuracy: 0.5341 - val_loss: 0.6902 - val_accuracy: 0.5391\n",
            "121/121 [==============================] - 1s 4ms/step\n",
            "### q_no 6 grp 5-12\n",
            "3854\n"
          ]
        },
        {
          "output_type": "stream",
          "name": "stderr",
          "text": [
            "<ipython-input-45-1ee836004601>:37: SettingWithCopyWarning: \n",
            "A value is trying to be set on a copy of a slice from a DataFrame.\n",
            "Try using .loc[row_indexer,col_indexer] = value instead\n",
            "\n",
            "See the caveats in the documentation: https://pandas.pydata.org/pandas-docs/stable/user_guide/indexing.html#returning-a-view-versus-a-copy\n",
            "  train_df.loc[:, \"correct\"] = train_labels[\"correct\"]\n",
            "<ipython-input-45-1ee836004601>:38: SettingWithCopyWarning: \n",
            "A value is trying to be set on a copy of a slice from a DataFrame.\n",
            "Try using .loc[row_indexer,col_indexer] = value instead\n",
            "\n",
            "See the caveats in the documentation: https://pandas.pydata.org/pandas-docs/stable/user_guide/indexing.html#returning-a-view-versus-a-copy\n",
            "  valid_df.loc[:, \"correct\"] = valid_labels[\"correct\"]\n"
          ]
        },
        {
          "output_type": "stream",
          "name": "stdout",
          "text": [
            "Epoch 1/3\n",
            "244/244 [==============================] - 7s 15ms/step - loss: 0.5546 - accuracy: 0.7635 - val_loss: 0.5515 - val_accuracy: 0.7615\n",
            "Epoch 2/3\n",
            "244/244 [==============================] - 3s 11ms/step - loss: 0.5483 - accuracy: 0.7635 - val_loss: 0.5495 - val_accuracy: 0.7615\n",
            "Epoch 3/3\n",
            "244/244 [==============================] - 3s 12ms/step - loss: 0.5475 - accuracy: 0.7635 - val_loss: 0.5502 - val_accuracy: 0.7615\n",
            "121/121 [==============================] - 1s 4ms/step\n",
            "### q_no 7 grp 5-12\n",
            "3854\n"
          ]
        },
        {
          "output_type": "stream",
          "name": "stderr",
          "text": [
            "<ipython-input-45-1ee836004601>:37: SettingWithCopyWarning: \n",
            "A value is trying to be set on a copy of a slice from a DataFrame.\n",
            "Try using .loc[row_indexer,col_indexer] = value instead\n",
            "\n",
            "See the caveats in the documentation: https://pandas.pydata.org/pandas-docs/stable/user_guide/indexing.html#returning-a-view-versus-a-copy\n",
            "  train_df.loc[:, \"correct\"] = train_labels[\"correct\"]\n",
            "<ipython-input-45-1ee836004601>:38: SettingWithCopyWarning: \n",
            "A value is trying to be set on a copy of a slice from a DataFrame.\n",
            "Try using .loc[row_indexer,col_indexer] = value instead\n",
            "\n",
            "See the caveats in the documentation: https://pandas.pydata.org/pandas-docs/stable/user_guide/indexing.html#returning-a-view-versus-a-copy\n",
            "  valid_df.loc[:, \"correct\"] = valid_labels[\"correct\"]\n"
          ]
        },
        {
          "output_type": "stream",
          "name": "stdout",
          "text": [
            "Epoch 1/3\n",
            "244/244 [==============================] - 10s 17ms/step - loss: 0.5951 - accuracy: 0.7237 - val_loss: 0.5886 - val_accuracy: 0.7249\n",
            "Epoch 2/3\n",
            "244/244 [==============================] - 3s 12ms/step - loss: 0.5907 - accuracy: 0.7239 - val_loss: 0.5896 - val_accuracy: 0.7249\n",
            "Epoch 3/3\n",
            "244/244 [==============================] - 3s 12ms/step - loss: 0.5900 - accuracy: 0.7239 - val_loss: 0.5884 - val_accuracy: 0.7249\n",
            "121/121 [==============================] - 1s 5ms/step\n",
            "### q_no 8 grp 5-12\n",
            "3854\n"
          ]
        },
        {
          "output_type": "stream",
          "name": "stderr",
          "text": [
            "<ipython-input-45-1ee836004601>:37: SettingWithCopyWarning: \n",
            "A value is trying to be set on a copy of a slice from a DataFrame.\n",
            "Try using .loc[row_indexer,col_indexer] = value instead\n",
            "\n",
            "See the caveats in the documentation: https://pandas.pydata.org/pandas-docs/stable/user_guide/indexing.html#returning-a-view-versus-a-copy\n",
            "  train_df.loc[:, \"correct\"] = train_labels[\"correct\"]\n",
            "<ipython-input-45-1ee836004601>:38: SettingWithCopyWarning: \n",
            "A value is trying to be set on a copy of a slice from a DataFrame.\n",
            "Try using .loc[row_indexer,col_indexer] = value instead\n",
            "\n",
            "See the caveats in the documentation: https://pandas.pydata.org/pandas-docs/stable/user_guide/indexing.html#returning-a-view-versus-a-copy\n",
            "  valid_df.loc[:, \"correct\"] = valid_labels[\"correct\"]\n"
          ]
        },
        {
          "output_type": "stream",
          "name": "stdout",
          "text": [
            "Epoch 1/3\n",
            "244/244 [==============================] - 7s 15ms/step - loss: 0.6757 - accuracy: 0.5987 - val_loss: 0.6732 - val_accuracy: 0.6003\n",
            "Epoch 2/3\n",
            "244/244 [==============================] - 3s 11ms/step - loss: 0.6734 - accuracy: 0.6008 - val_loss: 0.6729 - val_accuracy: 0.6003\n",
            "Epoch 3/3\n",
            "244/244 [==============================] - 3s 11ms/step - loss: 0.6731 - accuracy: 0.6008 - val_loss: 0.6731 - val_accuracy: 0.6003\n",
            "121/121 [==============================] - 1s 5ms/step\n",
            "### q_no 9 grp 5-12\n",
            "3854\n"
          ]
        },
        {
          "output_type": "stream",
          "name": "stderr",
          "text": [
            "<ipython-input-45-1ee836004601>:37: SettingWithCopyWarning: \n",
            "A value is trying to be set on a copy of a slice from a DataFrame.\n",
            "Try using .loc[row_indexer,col_indexer] = value instead\n",
            "\n",
            "See the caveats in the documentation: https://pandas.pydata.org/pandas-docs/stable/user_guide/indexing.html#returning-a-view-versus-a-copy\n",
            "  train_df.loc[:, \"correct\"] = train_labels[\"correct\"]\n",
            "<ipython-input-45-1ee836004601>:38: SettingWithCopyWarning: \n",
            "A value is trying to be set on a copy of a slice from a DataFrame.\n",
            "Try using .loc[row_indexer,col_indexer] = value instead\n",
            "\n",
            "See the caveats in the documentation: https://pandas.pydata.org/pandas-docs/stable/user_guide/indexing.html#returning-a-view-versus-a-copy\n",
            "  valid_df.loc[:, \"correct\"] = valid_labels[\"correct\"]\n"
          ]
        },
        {
          "output_type": "stream",
          "name": "stdout",
          "text": [
            "Epoch 1/3\n",
            "244/244 [==============================] - 7s 15ms/step - loss: 0.5964 - accuracy: 0.7197 - val_loss: 0.5928 - val_accuracy: 0.7231\n",
            "Epoch 2/3\n",
            "244/244 [==============================] - 3s 12ms/step - loss: 0.5925 - accuracy: 0.7221 - val_loss: 0.5901 - val_accuracy: 0.7231\n",
            "Epoch 3/3\n",
            "244/244 [==============================] - 3s 12ms/step - loss: 0.5919 - accuracy: 0.7221 - val_loss: 0.5902 - val_accuracy: 0.7231\n",
            "121/121 [==============================] - 1s 4ms/step\n",
            "### q_no 10 grp 5-12\n",
            "3854\n"
          ]
        },
        {
          "output_type": "stream",
          "name": "stderr",
          "text": [
            "<ipython-input-45-1ee836004601>:37: SettingWithCopyWarning: \n",
            "A value is trying to be set on a copy of a slice from a DataFrame.\n",
            "Try using .loc[row_indexer,col_indexer] = value instead\n",
            "\n",
            "See the caveats in the documentation: https://pandas.pydata.org/pandas-docs/stable/user_guide/indexing.html#returning-a-view-versus-a-copy\n",
            "  train_df.loc[:, \"correct\"] = train_labels[\"correct\"]\n",
            "<ipython-input-45-1ee836004601>:38: SettingWithCopyWarning: \n",
            "A value is trying to be set on a copy of a slice from a DataFrame.\n",
            "Try using .loc[row_indexer,col_indexer] = value instead\n",
            "\n",
            "See the caveats in the documentation: https://pandas.pydata.org/pandas-docs/stable/user_guide/indexing.html#returning-a-view-versus-a-copy\n",
            "  valid_df.loc[:, \"correct\"] = valid_labels[\"correct\"]\n"
          ]
        },
        {
          "output_type": "stream",
          "name": "stdout",
          "text": [
            "Epoch 1/5\n",
            "244/244 [==============================] - 7s 16ms/step - loss: 0.6934 - accuracy: 0.4951 - val_loss: 0.6932 - val_accuracy: 0.5009\n",
            "Epoch 2/5\n",
            "244/244 [==============================] - 3s 11ms/step - loss: 0.6933 - accuracy: 0.4917 - val_loss: 0.6931 - val_accuracy: 0.5009\n",
            "Epoch 3/5\n",
            "244/244 [==============================] - 3s 11ms/step - loss: 0.6932 - accuracy: 0.4969 - val_loss: 0.6931 - val_accuracy: 0.5009\n",
            "Epoch 4/5\n",
            "244/244 [==============================] - 3s 11ms/step - loss: 0.6932 - accuracy: 0.5020 - val_loss: 0.6931 - val_accuracy: 0.5009\n",
            "Epoch 5/5\n",
            "244/244 [==============================] - 3s 11ms/step - loss: 0.6932 - accuracy: 0.5020 - val_loss: 0.6931 - val_accuracy: 0.5009\n",
            "121/121 [==============================] - 1s 5ms/step\n",
            "### q_no 11 grp 5-12\n",
            "3854\n"
          ]
        },
        {
          "output_type": "stream",
          "name": "stderr",
          "text": [
            "<ipython-input-45-1ee836004601>:37: SettingWithCopyWarning: \n",
            "A value is trying to be set on a copy of a slice from a DataFrame.\n",
            "Try using .loc[row_indexer,col_indexer] = value instead\n",
            "\n",
            "See the caveats in the documentation: https://pandas.pydata.org/pandas-docs/stable/user_guide/indexing.html#returning-a-view-versus-a-copy\n",
            "  train_df.loc[:, \"correct\"] = train_labels[\"correct\"]\n",
            "<ipython-input-45-1ee836004601>:38: SettingWithCopyWarning: \n",
            "A value is trying to be set on a copy of a slice from a DataFrame.\n",
            "Try using .loc[row_indexer,col_indexer] = value instead\n",
            "\n",
            "See the caveats in the documentation: https://pandas.pydata.org/pandas-docs/stable/user_guide/indexing.html#returning-a-view-versus-a-copy\n",
            "  valid_df.loc[:, \"correct\"] = valid_labels[\"correct\"]\n"
          ]
        },
        {
          "output_type": "stream",
          "name": "stdout",
          "text": [
            "Epoch 1/5\n",
            "244/244 [==============================] - 7s 15ms/step - loss: 0.6562 - accuracy: 0.6383 - val_loss: 0.6518 - val_accuracy: 0.6429\n",
            "Epoch 2/5\n",
            "244/244 [==============================] - 3s 12ms/step - loss: 0.6546 - accuracy: 0.6393 - val_loss: 0.6519 - val_accuracy: 0.6429\n",
            "Epoch 3/5\n",
            "244/244 [==============================] - 3s 11ms/step - loss: 0.6547 - accuracy: 0.6393 - val_loss: 0.6518 - val_accuracy: 0.6429\n",
            "Epoch 4/5\n",
            "244/244 [==============================] - 3s 11ms/step - loss: 0.6544 - accuracy: 0.6393 - val_loss: 0.6520 - val_accuracy: 0.6429\n",
            "Epoch 5/5\n",
            "244/244 [==============================] - 3s 11ms/step - loss: 0.6544 - accuracy: 0.6393 - val_loss: 0.6519 - val_accuracy: 0.6429\n",
            "121/121 [==============================] - 1s 4ms/step\n",
            "### q_no 12 grp 5-12\n",
            "3854\n"
          ]
        },
        {
          "output_type": "stream",
          "name": "stderr",
          "text": [
            "<ipython-input-45-1ee836004601>:37: SettingWithCopyWarning: \n",
            "A value is trying to be set on a copy of a slice from a DataFrame.\n",
            "Try using .loc[row_indexer,col_indexer] = value instead\n",
            "\n",
            "See the caveats in the documentation: https://pandas.pydata.org/pandas-docs/stable/user_guide/indexing.html#returning-a-view-versus-a-copy\n",
            "  train_df.loc[:, \"correct\"] = train_labels[\"correct\"]\n",
            "<ipython-input-45-1ee836004601>:38: SettingWithCopyWarning: \n",
            "A value is trying to be set on a copy of a slice from a DataFrame.\n",
            "Try using .loc[row_indexer,col_indexer] = value instead\n",
            "\n",
            "See the caveats in the documentation: https://pandas.pydata.org/pandas-docs/stable/user_guide/indexing.html#returning-a-view-versus-a-copy\n",
            "  valid_df.loc[:, \"correct\"] = valid_labels[\"correct\"]\n"
          ]
        },
        {
          "output_type": "stream",
          "name": "stdout",
          "text": [
            "Epoch 1/3\n",
            "244/244 [==============================] - 7s 15ms/step - loss: 0.4224 - accuracy: 0.8550 - val_loss: 0.4062 - val_accuracy: 0.8593\n",
            "Epoch 2/3\n",
            "244/244 [==============================] - 3s 11ms/step - loss: 0.4096 - accuracy: 0.8581 - val_loss: 0.4062 - val_accuracy: 0.8593\n",
            "Epoch 3/3\n",
            "244/244 [==============================] - 3s 12ms/step - loss: 0.4087 - accuracy: 0.8581 - val_loss: 0.4064 - val_accuracy: 0.8593\n",
            "121/121 [==============================] - 1s 4ms/step\n",
            "### q_no 13 grp 13-22\n",
            "3854\n"
          ]
        },
        {
          "output_type": "stream",
          "name": "stderr",
          "text": [
            "<ipython-input-45-1ee836004601>:37: SettingWithCopyWarning: \n",
            "A value is trying to be set on a copy of a slice from a DataFrame.\n",
            "Try using .loc[row_indexer,col_indexer] = value instead\n",
            "\n",
            "See the caveats in the documentation: https://pandas.pydata.org/pandas-docs/stable/user_guide/indexing.html#returning-a-view-versus-a-copy\n",
            "  train_df.loc[:, \"correct\"] = train_labels[\"correct\"]\n",
            "<ipython-input-45-1ee836004601>:38: SettingWithCopyWarning: \n",
            "A value is trying to be set on a copy of a slice from a DataFrame.\n",
            "Try using .loc[row_indexer,col_indexer] = value instead\n",
            "\n",
            "See the caveats in the documentation: https://pandas.pydata.org/pandas-docs/stable/user_guide/indexing.html#returning-a-view-versus-a-copy\n",
            "  valid_df.loc[:, \"correct\"] = valid_labels[\"correct\"]\n"
          ]
        },
        {
          "output_type": "stream",
          "name": "stdout",
          "text": [
            "Epoch 1/5\n",
            "244/244 [==============================] - 10s 17ms/step - loss: 0.5883 - accuracy: 0.7301 - val_loss: 0.5814 - val_accuracy: 0.7319\n",
            "Epoch 2/5\n",
            "244/244 [==============================] - 3s 12ms/step - loss: 0.5819 - accuracy: 0.7325 - val_loss: 0.5815 - val_accuracy: 0.7319\n",
            "Epoch 3/5\n",
            "244/244 [==============================] - 3s 11ms/step - loss: 0.5821 - accuracy: 0.7325 - val_loss: 0.5815 - val_accuracy: 0.7319\n",
            "Epoch 4/5\n",
            "244/244 [==============================] - 3s 11ms/step - loss: 0.5807 - accuracy: 0.7325 - val_loss: 0.5826 - val_accuracy: 0.7319\n",
            "Epoch 5/5\n",
            "244/244 [==============================] - 3s 13ms/step - loss: 0.5815 - accuracy: 0.7325 - val_loss: 0.5825 - val_accuracy: 0.7319\n",
            "121/121 [==============================] - 1s 5ms/step\n",
            "### q_no 14 grp 13-22\n",
            "3854\n"
          ]
        },
        {
          "output_type": "stream",
          "name": "stderr",
          "text": [
            "<ipython-input-45-1ee836004601>:37: SettingWithCopyWarning: \n",
            "A value is trying to be set on a copy of a slice from a DataFrame.\n",
            "Try using .loc[row_indexer,col_indexer] = value instead\n",
            "\n",
            "See the caveats in the documentation: https://pandas.pydata.org/pandas-docs/stable/user_guide/indexing.html#returning-a-view-versus-a-copy\n",
            "  train_df.loc[:, \"correct\"] = train_labels[\"correct\"]\n",
            "<ipython-input-45-1ee836004601>:38: SettingWithCopyWarning: \n",
            "A value is trying to be set on a copy of a slice from a DataFrame.\n",
            "Try using .loc[row_indexer,col_indexer] = value instead\n",
            "\n",
            "See the caveats in the documentation: https://pandas.pydata.org/pandas-docs/stable/user_guide/indexing.html#returning-a-view-versus-a-copy\n",
            "  valid_df.loc[:, \"correct\"] = valid_labels[\"correct\"]\n"
          ]
        },
        {
          "output_type": "stream",
          "name": "stdout",
          "text": [
            "Epoch 1/3\n",
            "244/244 [==============================] - 7s 16ms/step - loss: 0.6230 - accuracy: 0.6881 - val_loss: 0.6219 - val_accuracy: 0.6883\n",
            "Epoch 2/3\n",
            "244/244 [==============================] - 3s 11ms/step - loss: 0.6196 - accuracy: 0.6906 - val_loss: 0.6205 - val_accuracy: 0.6883\n",
            "Epoch 3/3\n",
            "244/244 [==============================] - 3s 11ms/step - loss: 0.6192 - accuracy: 0.6906 - val_loss: 0.6205 - val_accuracy: 0.6883\n",
            "121/121 [==============================] - 1s 4ms/step\n",
            "### q_no 15 grp 13-22\n",
            "3854\n"
          ]
        },
        {
          "output_type": "stream",
          "name": "stderr",
          "text": [
            "<ipython-input-45-1ee836004601>:37: SettingWithCopyWarning: \n",
            "A value is trying to be set on a copy of a slice from a DataFrame.\n",
            "Try using .loc[row_indexer,col_indexer] = value instead\n",
            "\n",
            "See the caveats in the documentation: https://pandas.pydata.org/pandas-docs/stable/user_guide/indexing.html#returning-a-view-versus-a-copy\n",
            "  train_df.loc[:, \"correct\"] = train_labels[\"correct\"]\n",
            "<ipython-input-45-1ee836004601>:38: SettingWithCopyWarning: \n",
            "A value is trying to be set on a copy of a slice from a DataFrame.\n",
            "Try using .loc[row_indexer,col_indexer] = value instead\n",
            "\n",
            "See the caveats in the documentation: https://pandas.pydata.org/pandas-docs/stable/user_guide/indexing.html#returning-a-view-versus-a-copy\n",
            "  valid_df.loc[:, \"correct\"] = valid_labels[\"correct\"]\n"
          ]
        },
        {
          "output_type": "stream",
          "name": "stdout",
          "text": [
            "Epoch 1/5\n",
            "244/244 [==============================] - 7s 15ms/step - loss: 0.6921 - accuracy: 0.5279 - val_loss: 0.6911 - val_accuracy: 0.5328\n",
            "Epoch 2/5\n",
            "244/244 [==============================] - 3s 11ms/step - loss: 0.6919 - accuracy: 0.5279 - val_loss: 0.6910 - val_accuracy: 0.5328\n",
            "Epoch 3/5\n",
            "244/244 [==============================] - 3s 12ms/step - loss: 0.6918 - accuracy: 0.5279 - val_loss: 0.6910 - val_accuracy: 0.5328\n",
            "Epoch 4/5\n",
            "244/244 [==============================] - 3s 12ms/step - loss: 0.6917 - accuracy: 0.5279 - val_loss: 0.6911 - val_accuracy: 0.5328\n",
            "Epoch 5/5\n",
            "244/244 [==============================] - 3s 11ms/step - loss: 0.6917 - accuracy: 0.5279 - val_loss: 0.6911 - val_accuracy: 0.5328\n",
            "121/121 [==============================] - 1s 4ms/step\n",
            "### q_no 16 grp 13-22\n",
            "3854\n"
          ]
        },
        {
          "output_type": "stream",
          "name": "stderr",
          "text": [
            "<ipython-input-45-1ee836004601>:37: SettingWithCopyWarning: \n",
            "A value is trying to be set on a copy of a slice from a DataFrame.\n",
            "Try using .loc[row_indexer,col_indexer] = value instead\n",
            "\n",
            "See the caveats in the documentation: https://pandas.pydata.org/pandas-docs/stable/user_guide/indexing.html#returning-a-view-versus-a-copy\n",
            "  train_df.loc[:, \"correct\"] = train_labels[\"correct\"]\n",
            "<ipython-input-45-1ee836004601>:38: SettingWithCopyWarning: \n",
            "A value is trying to be set on a copy of a slice from a DataFrame.\n",
            "Try using .loc[row_indexer,col_indexer] = value instead\n",
            "\n",
            "See the caveats in the documentation: https://pandas.pydata.org/pandas-docs/stable/user_guide/indexing.html#returning-a-view-versus-a-copy\n",
            "  valid_df.loc[:, \"correct\"] = valid_labels[\"correct\"]\n"
          ]
        },
        {
          "output_type": "stream",
          "name": "stdout",
          "text": [
            "Epoch 1/3\n",
            "244/244 [==============================] - 7s 15ms/step - loss: 0.5907 - accuracy: 0.7264 - val_loss: 0.5963 - val_accuracy: 0.7257\n",
            "Epoch 2/3\n",
            "244/244 [==============================] - 3s 11ms/step - loss: 0.5872 - accuracy: 0.7276 - val_loss: 0.5877 - val_accuracy: 0.7257\n",
            "Epoch 3/3\n",
            "244/244 [==============================] - 3s 11ms/step - loss: 0.5864 - accuracy: 0.7276 - val_loss: 0.5875 - val_accuracy: 0.7257\n",
            "121/121 [==============================] - 1s 4ms/step\n",
            "### q_no 17 grp 13-22\n",
            "3854\n"
          ]
        },
        {
          "output_type": "stream",
          "name": "stderr",
          "text": [
            "<ipython-input-45-1ee836004601>:37: SettingWithCopyWarning: \n",
            "A value is trying to be set on a copy of a slice from a DataFrame.\n",
            "Try using .loc[row_indexer,col_indexer] = value instead\n",
            "\n",
            "See the caveats in the documentation: https://pandas.pydata.org/pandas-docs/stable/user_guide/indexing.html#returning-a-view-versus-a-copy\n",
            "  train_df.loc[:, \"correct\"] = train_labels[\"correct\"]\n",
            "<ipython-input-45-1ee836004601>:38: SettingWithCopyWarning: \n",
            "A value is trying to be set on a copy of a slice from a DataFrame.\n",
            "Try using .loc[row_indexer,col_indexer] = value instead\n",
            "\n",
            "See the caveats in the documentation: https://pandas.pydata.org/pandas-docs/stable/user_guide/indexing.html#returning-a-view-versus-a-copy\n",
            "  valid_df.loc[:, \"correct\"] = valid_labels[\"correct\"]\n"
          ]
        },
        {
          "output_type": "stream",
          "name": "stdout",
          "text": [
            "Epoch 1/3\n",
            "244/244 [==============================] - 7s 15ms/step - loss: 0.6329 - accuracy: 0.6753 - val_loss: 0.6367 - val_accuracy: 0.6665\n",
            "Epoch 2/3\n",
            "244/244 [==============================] - 3s 11ms/step - loss: 0.6305 - accuracy: 0.6769 - val_loss: 0.6367 - val_accuracy: 0.6665\n",
            "Epoch 3/3\n",
            "244/244 [==============================] - 3s 12ms/step - loss: 0.6303 - accuracy: 0.6769 - val_loss: 0.6373 - val_accuracy: 0.6665\n",
            "121/121 [==============================] - 1s 4ms/step\n",
            "### q_no 18 grp 13-22\n",
            "3854\n"
          ]
        },
        {
          "output_type": "stream",
          "name": "stderr",
          "text": [
            "<ipython-input-45-1ee836004601>:37: SettingWithCopyWarning: \n",
            "A value is trying to be set on a copy of a slice from a DataFrame.\n",
            "Try using .loc[row_indexer,col_indexer] = value instead\n",
            "\n",
            "See the caveats in the documentation: https://pandas.pydata.org/pandas-docs/stable/user_guide/indexing.html#returning-a-view-versus-a-copy\n",
            "  train_df.loc[:, \"correct\"] = train_labels[\"correct\"]\n",
            "<ipython-input-45-1ee836004601>:38: SettingWithCopyWarning: \n",
            "A value is trying to be set on a copy of a slice from a DataFrame.\n",
            "Try using .loc[row_indexer,col_indexer] = value instead\n",
            "\n",
            "See the caveats in the documentation: https://pandas.pydata.org/pandas-docs/stable/user_guide/indexing.html#returning-a-view-versus-a-copy\n",
            "  valid_df.loc[:, \"correct\"] = valid_labels[\"correct\"]\n"
          ]
        },
        {
          "output_type": "stream",
          "name": "stdout",
          "text": [
            "Epoch 1/3\n",
            "244/244 [==============================] - 7s 15ms/step - loss: 0.2220 - accuracy: 0.9460 - val_loss: 0.1981 - val_accuracy: 0.9502\n",
            "Epoch 2/3\n",
            "244/244 [==============================] - 3s 12ms/step - loss: 0.2003 - accuracy: 0.9497 - val_loss: 0.1982 - val_accuracy: 0.9502\n",
            "Epoch 3/3\n",
            "244/244 [==============================] - 3s 11ms/step - loss: 0.1997 - accuracy: 0.9497 - val_loss: 0.1991 - val_accuracy: 0.9502\n",
            "121/121 [==============================] - 1s 4ms/step\n",
            "Best threshold  0.5900000000000002 \tF1 score  0.6492208\n",
            "### q_no 1 grp 0-4\n",
            "3827\n"
          ]
        },
        {
          "output_type": "stream",
          "name": "stderr",
          "text": [
            "<ipython-input-45-1ee836004601>:37: SettingWithCopyWarning: \n",
            "A value is trying to be set on a copy of a slice from a DataFrame.\n",
            "Try using .loc[row_indexer,col_indexer] = value instead\n",
            "\n",
            "See the caveats in the documentation: https://pandas.pydata.org/pandas-docs/stable/user_guide/indexing.html#returning-a-view-versus-a-copy\n",
            "  train_df.loc[:, \"correct\"] = train_labels[\"correct\"]\n",
            "<ipython-input-45-1ee836004601>:38: SettingWithCopyWarning: \n",
            "A value is trying to be set on a copy of a slice from a DataFrame.\n",
            "Try using .loc[row_indexer,col_indexer] = value instead\n",
            "\n",
            "See the caveats in the documentation: https://pandas.pydata.org/pandas-docs/stable/user_guide/indexing.html#returning-a-view-versus-a-copy\n",
            "  valid_df.loc[:, \"correct\"] = valid_labels[\"correct\"]\n"
          ]
        },
        {
          "output_type": "stream",
          "name": "stdout",
          "text": [
            "Epoch 1/5\n",
            "244/244 [==============================] - 10s 26ms/step - loss: 0.6013 - accuracy: 0.7134 - val_loss: 0.5997 - val_accuracy: 0.7148\n",
            "Epoch 2/5\n",
            "244/244 [==============================] - 3s 11ms/step - loss: 0.5983 - accuracy: 0.7163 - val_loss: 0.5978 - val_accuracy: 0.7148\n",
            "Epoch 3/5\n",
            "244/244 [==============================] - 3s 12ms/step - loss: 0.5971 - accuracy: 0.7163 - val_loss: 0.5991 - val_accuracy: 0.7148\n",
            "Epoch 4/5\n",
            "244/244 [==============================] - 3s 12ms/step - loss: 0.5976 - accuracy: 0.7163 - val_loss: 0.5979 - val_accuracy: 0.7148\n",
            "Epoch 5/5\n",
            "244/244 [==============================] - 3s 11ms/step - loss: 0.5968 - accuracy: 0.7163 - val_loss: 0.5978 - val_accuracy: 0.7148\n",
            "120/120 [==============================] - 1s 4ms/step\n",
            "### q_no 2 grp 0-4\n",
            "3827\n"
          ]
        },
        {
          "output_type": "stream",
          "name": "stderr",
          "text": [
            "<ipython-input-45-1ee836004601>:37: SettingWithCopyWarning: \n",
            "A value is trying to be set on a copy of a slice from a DataFrame.\n",
            "Try using .loc[row_indexer,col_indexer] = value instead\n",
            "\n",
            "See the caveats in the documentation: https://pandas.pydata.org/pandas-docs/stable/user_guide/indexing.html#returning-a-view-versus-a-copy\n",
            "  train_df.loc[:, \"correct\"] = train_labels[\"correct\"]\n",
            "<ipython-input-45-1ee836004601>:38: SettingWithCopyWarning: \n",
            "A value is trying to be set on a copy of a slice from a DataFrame.\n",
            "Try using .loc[row_indexer,col_indexer] = value instead\n",
            "\n",
            "See the caveats in the documentation: https://pandas.pydata.org/pandas-docs/stable/user_guide/indexing.html#returning-a-view-versus-a-copy\n",
            "  valid_df.loc[:, \"correct\"] = valid_labels[\"correct\"]\n"
          ]
        },
        {
          "output_type": "stream",
          "name": "stdout",
          "text": [
            "Epoch 1/3\n",
            "244/244 [==============================] - 7s 16ms/step - loss: 0.1243 - accuracy: 0.9763 - val_loss: 0.0895 - val_accuracy: 0.9822\n",
            "Epoch 2/3\n",
            "244/244 [==============================] - 3s 11ms/step - loss: 0.0964 - accuracy: 0.9805 - val_loss: 0.0893 - val_accuracy: 0.9822\n",
            "Epoch 3/3\n",
            "244/244 [==============================] - 3s 11ms/step - loss: 0.0964 - accuracy: 0.9805 - val_loss: 0.0893 - val_accuracy: 0.9822\n",
            "120/120 [==============================] - 1s 4ms/step\n",
            "### q_no 3 grp 0-4\n",
            "3827\n"
          ]
        },
        {
          "output_type": "stream",
          "name": "stderr",
          "text": [
            "<ipython-input-45-1ee836004601>:37: SettingWithCopyWarning: \n",
            "A value is trying to be set on a copy of a slice from a DataFrame.\n",
            "Try using .loc[row_indexer,col_indexer] = value instead\n",
            "\n",
            "See the caveats in the documentation: https://pandas.pydata.org/pandas-docs/stable/user_guide/indexing.html#returning-a-view-versus-a-copy\n",
            "  train_df.loc[:, \"correct\"] = train_labels[\"correct\"]\n",
            "<ipython-input-45-1ee836004601>:38: SettingWithCopyWarning: \n",
            "A value is trying to be set on a copy of a slice from a DataFrame.\n",
            "Try using .loc[row_indexer,col_indexer] = value instead\n",
            "\n",
            "See the caveats in the documentation: https://pandas.pydata.org/pandas-docs/stable/user_guide/indexing.html#returning-a-view-versus-a-copy\n",
            "  valid_df.loc[:, \"correct\"] = valid_labels[\"correct\"]\n"
          ]
        },
        {
          "output_type": "stream",
          "name": "stdout",
          "text": [
            "Epoch 1/3\n",
            "244/244 [==============================] - 7s 15ms/step - loss: 0.2687 - accuracy: 0.9292 - val_loss: 0.2547 - val_accuracy: 0.9300\n",
            "Epoch 2/3\n",
            "244/244 [==============================] - 3s 11ms/step - loss: 0.2491 - accuracy: 0.9320 - val_loss: 0.2539 - val_accuracy: 0.9300\n",
            "Epoch 3/3\n",
            "244/244 [==============================] - 3s 12ms/step - loss: 0.2490 - accuracy: 0.9320 - val_loss: 0.2543 - val_accuracy: 0.9300\n",
            "120/120 [==============================] - 1s 4ms/step\n",
            "### q_no 4 grp 0-4\n",
            "3827\n"
          ]
        },
        {
          "output_type": "stream",
          "name": "stderr",
          "text": [
            "<ipython-input-45-1ee836004601>:37: SettingWithCopyWarning: \n",
            "A value is trying to be set on a copy of a slice from a DataFrame.\n",
            "Try using .loc[row_indexer,col_indexer] = value instead\n",
            "\n",
            "See the caveats in the documentation: https://pandas.pydata.org/pandas-docs/stable/user_guide/indexing.html#returning-a-view-versus-a-copy\n",
            "  train_df.loc[:, \"correct\"] = train_labels[\"correct\"]\n",
            "<ipython-input-45-1ee836004601>:38: SettingWithCopyWarning: \n",
            "A value is trying to be set on a copy of a slice from a DataFrame.\n",
            "Try using .loc[row_indexer,col_indexer] = value instead\n",
            "\n",
            "See the caveats in the documentation: https://pandas.pydata.org/pandas-docs/stable/user_guide/indexing.html#returning-a-view-versus-a-copy\n",
            "  valid_df.loc[:, \"correct\"] = valid_labels[\"correct\"]\n"
          ]
        },
        {
          "output_type": "stream",
          "name": "stdout",
          "text": [
            "Epoch 1/3\n",
            "244/244 [==============================] - 7s 15ms/step - loss: 0.5237 - accuracy: 0.7895 - val_loss: 0.5154 - val_accuracy: 0.7893\n",
            "Epoch 2/3\n",
            "244/244 [==============================] - 3s 12ms/step - loss: 0.5143 - accuracy: 0.7907 - val_loss: 0.5163 - val_accuracy: 0.7893\n",
            "Epoch 3/3\n",
            "244/244 [==============================] - 3s 11ms/step - loss: 0.5140 - accuracy: 0.7907 - val_loss: 0.5161 - val_accuracy: 0.7893\n",
            "120/120 [==============================] - 1s 4ms/step\n",
            "### q_no 5 grp 5-12\n",
            "3827\n"
          ]
        },
        {
          "output_type": "stream",
          "name": "stderr",
          "text": [
            "<ipython-input-45-1ee836004601>:37: SettingWithCopyWarning: \n",
            "A value is trying to be set on a copy of a slice from a DataFrame.\n",
            "Try using .loc[row_indexer,col_indexer] = value instead\n",
            "\n",
            "See the caveats in the documentation: https://pandas.pydata.org/pandas-docs/stable/user_guide/indexing.html#returning-a-view-versus-a-copy\n",
            "  train_df.loc[:, \"correct\"] = train_labels[\"correct\"]\n",
            "<ipython-input-45-1ee836004601>:38: SettingWithCopyWarning: \n",
            "A value is trying to be set on a copy of a slice from a DataFrame.\n",
            "Try using .loc[row_indexer,col_indexer] = value instead\n",
            "\n",
            "See the caveats in the documentation: https://pandas.pydata.org/pandas-docs/stable/user_guide/indexing.html#returning-a-view-versus-a-copy\n",
            "  valid_df.loc[:, \"correct\"] = valid_labels[\"correct\"]\n"
          ]
        },
        {
          "output_type": "stream",
          "name": "stdout",
          "text": [
            "Epoch 1/5\n",
            "244/244 [==============================] - 7s 16ms/step - loss: 0.6913 - accuracy: 0.5328 - val_loss: 0.6905 - val_accuracy: 0.5376\n",
            "Epoch 2/5\n",
            "244/244 [==============================] - 3s 11ms/step - loss: 0.6912 - accuracy: 0.5335 - val_loss: 0.6907 - val_accuracy: 0.5376\n",
            "Epoch 3/5\n",
            "244/244 [==============================] - 3s 11ms/step - loss: 0.6912 - accuracy: 0.5335 - val_loss: 0.6907 - val_accuracy: 0.5376\n",
            "Epoch 4/5\n",
            "244/244 [==============================] - 3s 11ms/step - loss: 0.6911 - accuracy: 0.5335 - val_loss: 0.6905 - val_accuracy: 0.5376\n",
            "Epoch 5/5\n",
            "244/244 [==============================] - 3s 12ms/step - loss: 0.6911 - accuracy: 0.5335 - val_loss: 0.6904 - val_accuracy: 0.5376\n",
            "120/120 [==============================] - 1s 4ms/step\n",
            "### q_no 6 grp 5-12\n",
            "3827\n"
          ]
        },
        {
          "output_type": "stream",
          "name": "stderr",
          "text": [
            "<ipython-input-45-1ee836004601>:37: SettingWithCopyWarning: \n",
            "A value is trying to be set on a copy of a slice from a DataFrame.\n",
            "Try using .loc[row_indexer,col_indexer] = value instead\n",
            "\n",
            "See the caveats in the documentation: https://pandas.pydata.org/pandas-docs/stable/user_guide/indexing.html#returning-a-view-versus-a-copy\n",
            "  train_df.loc[:, \"correct\"] = train_labels[\"correct\"]\n",
            "<ipython-input-45-1ee836004601>:38: SettingWithCopyWarning: \n",
            "A value is trying to be set on a copy of a slice from a DataFrame.\n",
            "Try using .loc[row_indexer,col_indexer] = value instead\n",
            "\n",
            "See the caveats in the documentation: https://pandas.pydata.org/pandas-docs/stable/user_guide/indexing.html#returning-a-view-versus-a-copy\n",
            "  valid_df.loc[:, \"correct\"] = valid_labels[\"correct\"]\n"
          ]
        },
        {
          "output_type": "stream",
          "name": "stdout",
          "text": [
            "Epoch 1/3\n",
            "244/244 [==============================] - 7s 15ms/step - loss: 0.5538 - accuracy: 0.7617 - val_loss: 0.5384 - val_accuracy: 0.7723\n",
            "Epoch 2/3\n",
            "244/244 [==============================] - 3s 13ms/step - loss: 0.5481 - accuracy: 0.7640 - val_loss: 0.5372 - val_accuracy: 0.7723\n",
            "Epoch 3/3\n",
            "244/244 [==============================] - 3s 11ms/step - loss: 0.5469 - accuracy: 0.7640 - val_loss: 0.5364 - val_accuracy: 0.7723\n",
            "120/120 [==============================] - 1s 4ms/step\n",
            "### q_no 7 grp 5-12\n",
            "3827\n"
          ]
        },
        {
          "output_type": "stream",
          "name": "stderr",
          "text": [
            "<ipython-input-45-1ee836004601>:37: SettingWithCopyWarning: \n",
            "A value is trying to be set on a copy of a slice from a DataFrame.\n",
            "Try using .loc[row_indexer,col_indexer] = value instead\n",
            "\n",
            "See the caveats in the documentation: https://pandas.pydata.org/pandas-docs/stable/user_guide/indexing.html#returning-a-view-versus-a-copy\n",
            "  train_df.loc[:, \"correct\"] = train_labels[\"correct\"]\n",
            "<ipython-input-45-1ee836004601>:38: SettingWithCopyWarning: \n",
            "A value is trying to be set on a copy of a slice from a DataFrame.\n",
            "Try using .loc[row_indexer,col_indexer] = value instead\n",
            "\n",
            "See the caveats in the documentation: https://pandas.pydata.org/pandas-docs/stable/user_guide/indexing.html#returning-a-view-versus-a-copy\n",
            "  valid_df.loc[:, \"correct\"] = valid_labels[\"correct\"]\n"
          ]
        },
        {
          "output_type": "stream",
          "name": "stdout",
          "text": [
            "Epoch 1/3\n",
            "244/244 [==============================] - 7s 16ms/step - loss: 0.5956 - accuracy: 0.7226 - val_loss: 0.5885 - val_accuracy: 0.7300\n",
            "Epoch 2/3\n",
            "244/244 [==============================] - 3s 11ms/step - loss: 0.5916 - accuracy: 0.7236 - val_loss: 0.5835 - val_accuracy: 0.7300\n",
            "Epoch 3/3\n",
            "244/244 [==============================] - 3s 11ms/step - loss: 0.5900 - accuracy: 0.7236 - val_loss: 0.5852 - val_accuracy: 0.7300\n",
            "120/120 [==============================] - 1s 4ms/step\n",
            "### q_no 8 grp 5-12\n",
            "3827\n"
          ]
        },
        {
          "output_type": "stream",
          "name": "stderr",
          "text": [
            "<ipython-input-45-1ee836004601>:37: SettingWithCopyWarning: \n",
            "A value is trying to be set on a copy of a slice from a DataFrame.\n",
            "Try using .loc[row_indexer,col_indexer] = value instead\n",
            "\n",
            "See the caveats in the documentation: https://pandas.pydata.org/pandas-docs/stable/user_guide/indexing.html#returning-a-view-versus-a-copy\n",
            "  train_df.loc[:, \"correct\"] = train_labels[\"correct\"]\n",
            "<ipython-input-45-1ee836004601>:38: SettingWithCopyWarning: \n",
            "A value is trying to be set on a copy of a slice from a DataFrame.\n",
            "Try using .loc[row_indexer,col_indexer] = value instead\n",
            "\n",
            "See the caveats in the documentation: https://pandas.pydata.org/pandas-docs/stable/user_guide/indexing.html#returning-a-view-versus-a-copy\n",
            "  valid_df.loc[:, \"correct\"] = valid_labels[\"correct\"]\n"
          ]
        },
        {
          "output_type": "stream",
          "name": "stdout",
          "text": [
            "Epoch 1/3\n",
            "244/244 [==============================] - 10s 16ms/step - loss: 0.6745 - accuracy: 0.6012 - val_loss: 0.6698 - val_accuracy: 0.6079\n",
            "Epoch 2/3\n",
            "244/244 [==============================] - 3s 12ms/step - loss: 0.6727 - accuracy: 0.6017 - val_loss: 0.6700 - val_accuracy: 0.6079\n",
            "Epoch 3/3\n",
            "244/244 [==============================] - 3s 12ms/step - loss: 0.6724 - accuracy: 0.6017 - val_loss: 0.6698 - val_accuracy: 0.6079\n",
            "120/120 [==============================] - 1s 4ms/step\n",
            "### q_no 9 grp 5-12\n",
            "3827\n"
          ]
        },
        {
          "output_type": "stream",
          "name": "stderr",
          "text": [
            "<ipython-input-45-1ee836004601>:37: SettingWithCopyWarning: \n",
            "A value is trying to be set on a copy of a slice from a DataFrame.\n",
            "Try using .loc[row_indexer,col_indexer] = value instead\n",
            "\n",
            "See the caveats in the documentation: https://pandas.pydata.org/pandas-docs/stable/user_guide/indexing.html#returning-a-view-versus-a-copy\n",
            "  train_df.loc[:, \"correct\"] = train_labels[\"correct\"]\n",
            "<ipython-input-45-1ee836004601>:38: SettingWithCopyWarning: \n",
            "A value is trying to be set on a copy of a slice from a DataFrame.\n",
            "Try using .loc[row_indexer,col_indexer] = value instead\n",
            "\n",
            "See the caveats in the documentation: https://pandas.pydata.org/pandas-docs/stable/user_guide/indexing.html#returning-a-view-versus-a-copy\n",
            "  valid_df.loc[:, \"correct\"] = valid_labels[\"correct\"]\n"
          ]
        },
        {
          "output_type": "stream",
          "name": "stdout",
          "text": [
            "Epoch 1/3\n",
            "244/244 [==============================] - 7s 17ms/step - loss: 0.5980 - accuracy: 0.7204 - val_loss: 0.5941 - val_accuracy: 0.7196\n",
            "Epoch 2/3\n",
            "244/244 [==============================] - 3s 11ms/step - loss: 0.5917 - accuracy: 0.7222 - val_loss: 0.5941 - val_accuracy: 0.7196\n",
            "Epoch 3/3\n",
            "244/244 [==============================] - 3s 12ms/step - loss: 0.5916 - accuracy: 0.7222 - val_loss: 0.5935 - val_accuracy: 0.7196\n",
            "120/120 [==============================] - 1s 4ms/step\n",
            "### q_no 10 grp 5-12\n",
            "3827\n"
          ]
        },
        {
          "output_type": "stream",
          "name": "stderr",
          "text": [
            "<ipython-input-45-1ee836004601>:37: SettingWithCopyWarning: \n",
            "A value is trying to be set on a copy of a slice from a DataFrame.\n",
            "Try using .loc[row_indexer,col_indexer] = value instead\n",
            "\n",
            "See the caveats in the documentation: https://pandas.pydata.org/pandas-docs/stable/user_guide/indexing.html#returning-a-view-versus-a-copy\n",
            "  train_df.loc[:, \"correct\"] = train_labels[\"correct\"]\n",
            "<ipython-input-45-1ee836004601>:38: SettingWithCopyWarning: \n",
            "A value is trying to be set on a copy of a slice from a DataFrame.\n",
            "Try using .loc[row_indexer,col_indexer] = value instead\n",
            "\n",
            "See the caveats in the documentation: https://pandas.pydata.org/pandas-docs/stable/user_guide/indexing.html#returning-a-view-versus-a-copy\n",
            "  valid_df.loc[:, \"correct\"] = valid_labels[\"correct\"]\n"
          ]
        },
        {
          "output_type": "stream",
          "name": "stdout",
          "text": [
            "Epoch 1/5\n",
            "244/244 [==============================] - 7s 15ms/step - loss: 0.6934 - accuracy: 0.4994 - val_loss: 0.6932 - val_accuracy: 0.4982\n",
            "Epoch 2/5\n",
            "244/244 [==============================] - 3s 11ms/step - loss: 0.6932 - accuracy: 0.4947 - val_loss: 0.6931 - val_accuracy: 0.5018\n",
            "Epoch 3/5\n",
            "244/244 [==============================] - 3s 11ms/step - loss: 0.6932 - accuracy: 0.5012 - val_loss: 0.6931 - val_accuracy: 0.5018\n",
            "Epoch 4/5\n",
            "244/244 [==============================] - 3s 13ms/step - loss: 0.6932 - accuracy: 0.4978 - val_loss: 0.6931 - val_accuracy: 0.5018\n",
            "Epoch 5/5\n",
            "244/244 [==============================] - 3s 11ms/step - loss: 0.6932 - accuracy: 0.5017 - val_loss: 0.6931 - val_accuracy: 0.5018\n",
            "120/120 [==============================] - 1s 4ms/step\n",
            "### q_no 11 grp 5-12\n",
            "3827\n"
          ]
        },
        {
          "output_type": "stream",
          "name": "stderr",
          "text": [
            "<ipython-input-45-1ee836004601>:37: SettingWithCopyWarning: \n",
            "A value is trying to be set on a copy of a slice from a DataFrame.\n",
            "Try using .loc[row_indexer,col_indexer] = value instead\n",
            "\n",
            "See the caveats in the documentation: https://pandas.pydata.org/pandas-docs/stable/user_guide/indexing.html#returning-a-view-versus-a-copy\n",
            "  train_df.loc[:, \"correct\"] = train_labels[\"correct\"]\n",
            "<ipython-input-45-1ee836004601>:38: SettingWithCopyWarning: \n",
            "A value is trying to be set on a copy of a slice from a DataFrame.\n",
            "Try using .loc[row_indexer,col_indexer] = value instead\n",
            "\n",
            "See the caveats in the documentation: https://pandas.pydata.org/pandas-docs/stable/user_guide/indexing.html#returning-a-view-versus-a-copy\n",
            "  valid_df.loc[:, \"correct\"] = valid_labels[\"correct\"]\n"
          ]
        },
        {
          "output_type": "stream",
          "name": "stdout",
          "text": [
            "Epoch 1/5\n",
            "244/244 [==============================] - 7s 16ms/step - loss: 0.6567 - accuracy: 0.6388 - val_loss: 0.6541 - val_accuracy: 0.6430\n",
            "Epoch 2/5\n",
            "244/244 [==============================] - 3s 11ms/step - loss: 0.6550 - accuracy: 0.6387 - val_loss: 0.6521 - val_accuracy: 0.6430\n",
            "Epoch 3/5\n",
            "244/244 [==============================] - 3s 11ms/step - loss: 0.6549 - accuracy: 0.6387 - val_loss: 0.6522 - val_accuracy: 0.6430\n",
            "Epoch 4/5\n",
            "244/244 [==============================] - 3s 11ms/step - loss: 0.6547 - accuracy: 0.6387 - val_loss: 0.6524 - val_accuracy: 0.6430\n",
            "Epoch 5/5\n",
            "244/244 [==============================] - 3s 12ms/step - loss: 0.6546 - accuracy: 0.6387 - val_loss: 0.6523 - val_accuracy: 0.6430\n",
            "120/120 [==============================] - 1s 4ms/step\n",
            "### q_no 12 grp 5-12\n",
            "3827\n"
          ]
        },
        {
          "output_type": "stream",
          "name": "stderr",
          "text": [
            "<ipython-input-45-1ee836004601>:37: SettingWithCopyWarning: \n",
            "A value is trying to be set on a copy of a slice from a DataFrame.\n",
            "Try using .loc[row_indexer,col_indexer] = value instead\n",
            "\n",
            "See the caveats in the documentation: https://pandas.pydata.org/pandas-docs/stable/user_guide/indexing.html#returning-a-view-versus-a-copy\n",
            "  train_df.loc[:, \"correct\"] = train_labels[\"correct\"]\n",
            "<ipython-input-45-1ee836004601>:38: SettingWithCopyWarning: \n",
            "A value is trying to be set on a copy of a slice from a DataFrame.\n",
            "Try using .loc[row_indexer,col_indexer] = value instead\n",
            "\n",
            "See the caveats in the documentation: https://pandas.pydata.org/pandas-docs/stable/user_guide/indexing.html#returning-a-view-versus-a-copy\n",
            "  valid_df.loc[:, \"correct\"] = valid_labels[\"correct\"]\n"
          ]
        },
        {
          "output_type": "stream",
          "name": "stdout",
          "text": [
            "Epoch 1/3\n",
            "244/244 [==============================] - 7s 15ms/step - loss: 0.4216 - accuracy: 0.8548 - val_loss: 0.4085 - val_accuracy: 0.8594\n",
            "Epoch 2/3\n",
            "244/244 [==============================] - 3s 12ms/step - loss: 0.4103 - accuracy: 0.8579 - val_loss: 0.4061 - val_accuracy: 0.8594\n",
            "Epoch 3/3\n",
            "244/244 [==============================] - 3s 11ms/step - loss: 0.4094 - accuracy: 0.8579 - val_loss: 0.4061 - val_accuracy: 0.8594\n",
            "120/120 [==============================] - 1s 4ms/step\n",
            "### q_no 13 grp 13-22\n",
            "3827\n"
          ]
        },
        {
          "output_type": "stream",
          "name": "stderr",
          "text": [
            "<ipython-input-45-1ee836004601>:37: SettingWithCopyWarning: \n",
            "A value is trying to be set on a copy of a slice from a DataFrame.\n",
            "Try using .loc[row_indexer,col_indexer] = value instead\n",
            "\n",
            "See the caveats in the documentation: https://pandas.pydata.org/pandas-docs/stable/user_guide/indexing.html#returning-a-view-versus-a-copy\n",
            "  train_df.loc[:, \"correct\"] = train_labels[\"correct\"]\n",
            "<ipython-input-45-1ee836004601>:38: SettingWithCopyWarning: \n",
            "A value is trying to be set on a copy of a slice from a DataFrame.\n",
            "Try using .loc[row_indexer,col_indexer] = value instead\n",
            "\n",
            "See the caveats in the documentation: https://pandas.pydata.org/pandas-docs/stable/user_guide/indexing.html#returning-a-view-versus-a-copy\n",
            "  valid_df.loc[:, \"correct\"] = valid_labels[\"correct\"]\n"
          ]
        },
        {
          "output_type": "stream",
          "name": "stdout",
          "text": [
            "Epoch 1/5\n",
            "244/244 [==============================] - 7s 16ms/step - loss: 0.5843 - accuracy: 0.7331 - val_loss: 0.5821 - val_accuracy: 0.7347\n",
            "Epoch 2/5\n",
            "244/244 [==============================] - 3s 11ms/step - loss: 0.5813 - accuracy: 0.7331 - val_loss: 0.5786 - val_accuracy: 0.7347\n",
            "Epoch 3/5\n",
            "244/244 [==============================] - 3s 11ms/step - loss: 0.5808 - accuracy: 0.7331 - val_loss: 0.5787 - val_accuracy: 0.7347\n",
            "Epoch 4/5\n",
            "244/244 [==============================] - 3s 11ms/step - loss: 0.5806 - accuracy: 0.7331 - val_loss: 0.5785 - val_accuracy: 0.7347\n",
            "Epoch 5/5\n",
            "244/244 [==============================] - 3s 12ms/step - loss: 0.5807 - accuracy: 0.7331 - val_loss: 0.5785 - val_accuracy: 0.7347\n",
            "120/120 [==============================] - 1s 4ms/step\n",
            "### q_no 14 grp 13-22\n",
            "3827\n"
          ]
        },
        {
          "output_type": "stream",
          "name": "stderr",
          "text": [
            "<ipython-input-45-1ee836004601>:37: SettingWithCopyWarning: \n",
            "A value is trying to be set on a copy of a slice from a DataFrame.\n",
            "Try using .loc[row_indexer,col_indexer] = value instead\n",
            "\n",
            "See the caveats in the documentation: https://pandas.pydata.org/pandas-docs/stable/user_guide/indexing.html#returning-a-view-versus-a-copy\n",
            "  train_df.loc[:, \"correct\"] = train_labels[\"correct\"]\n",
            "<ipython-input-45-1ee836004601>:38: SettingWithCopyWarning: \n",
            "A value is trying to be set on a copy of a slice from a DataFrame.\n",
            "Try using .loc[row_indexer,col_indexer] = value instead\n",
            "\n",
            "See the caveats in the documentation: https://pandas.pydata.org/pandas-docs/stable/user_guide/indexing.html#returning-a-view-versus-a-copy\n",
            "  valid_df.loc[:, \"correct\"] = valid_labels[\"correct\"]\n"
          ]
        },
        {
          "output_type": "stream",
          "name": "stdout",
          "text": [
            "Epoch 1/3\n",
            "244/244 [==============================] - 10s 17ms/step - loss: 0.6228 - accuracy: 0.6906 - val_loss: 0.6147 - val_accuracy: 0.6965\n",
            "Epoch 2/3\n",
            "244/244 [==============================] - 3s 11ms/step - loss: 0.6192 - accuracy: 0.6907 - val_loss: 0.6169 - val_accuracy: 0.6965\n",
            "Epoch 3/3\n",
            "244/244 [==============================] - 3s 11ms/step - loss: 0.6191 - accuracy: 0.6907 - val_loss: 0.6143 - val_accuracy: 0.6965\n",
            "120/120 [==============================] - 1s 4ms/step\n",
            "### q_no 15 grp 13-22\n",
            "3827\n"
          ]
        },
        {
          "output_type": "stream",
          "name": "stderr",
          "text": [
            "<ipython-input-45-1ee836004601>:37: SettingWithCopyWarning: \n",
            "A value is trying to be set on a copy of a slice from a DataFrame.\n",
            "Try using .loc[row_indexer,col_indexer] = value instead\n",
            "\n",
            "See the caveats in the documentation: https://pandas.pydata.org/pandas-docs/stable/user_guide/indexing.html#returning-a-view-versus-a-copy\n",
            "  train_df.loc[:, \"correct\"] = train_labels[\"correct\"]\n",
            "<ipython-input-45-1ee836004601>:38: SettingWithCopyWarning: \n",
            "A value is trying to be set on a copy of a slice from a DataFrame.\n",
            "Try using .loc[row_indexer,col_indexer] = value instead\n",
            "\n",
            "See the caveats in the documentation: https://pandas.pydata.org/pandas-docs/stable/user_guide/indexing.html#returning-a-view-versus-a-copy\n",
            "  valid_df.loc[:, \"correct\"] = valid_labels[\"correct\"]\n"
          ]
        },
        {
          "output_type": "stream",
          "name": "stdout",
          "text": [
            "Epoch 1/5\n",
            "244/244 [==============================] - 7s 15ms/step - loss: 0.6921 - accuracy: 0.5276 - val_loss: 0.6926 - val_accuracy: 0.5254\n",
            "Epoch 2/5\n",
            "244/244 [==============================] - 3s 11ms/step - loss: 0.6919 - accuracy: 0.5282 - val_loss: 0.6919 - val_accuracy: 0.5254\n",
            "Epoch 3/5\n",
            "244/244 [==============================] - 3s 12ms/step - loss: 0.6916 - accuracy: 0.5282 - val_loss: 0.6919 - val_accuracy: 0.5254\n",
            "Epoch 4/5\n",
            "244/244 [==============================] - 3s 11ms/step - loss: 0.6916 - accuracy: 0.5282 - val_loss: 0.6920 - val_accuracy: 0.5254\n",
            "Epoch 5/5\n",
            "244/244 [==============================] - 3s 11ms/step - loss: 0.6916 - accuracy: 0.5282 - val_loss: 0.6919 - val_accuracy: 0.5254\n",
            "120/120 [==============================] - 1s 4ms/step\n",
            "### q_no 16 grp 13-22\n",
            "3827\n"
          ]
        },
        {
          "output_type": "stream",
          "name": "stderr",
          "text": [
            "<ipython-input-45-1ee836004601>:37: SettingWithCopyWarning: \n",
            "A value is trying to be set on a copy of a slice from a DataFrame.\n",
            "Try using .loc[row_indexer,col_indexer] = value instead\n",
            "\n",
            "See the caveats in the documentation: https://pandas.pydata.org/pandas-docs/stable/user_guide/indexing.html#returning-a-view-versus-a-copy\n",
            "  train_df.loc[:, \"correct\"] = train_labels[\"correct\"]\n",
            "<ipython-input-45-1ee836004601>:38: SettingWithCopyWarning: \n",
            "A value is trying to be set on a copy of a slice from a DataFrame.\n",
            "Try using .loc[row_indexer,col_indexer] = value instead\n",
            "\n",
            "See the caveats in the documentation: https://pandas.pydata.org/pandas-docs/stable/user_guide/indexing.html#returning-a-view-versus-a-copy\n",
            "  valid_df.loc[:, \"correct\"] = valid_labels[\"correct\"]\n"
          ]
        },
        {
          "output_type": "stream",
          "name": "stdout",
          "text": [
            "Epoch 1/3\n",
            "244/244 [==============================] - 7s 15ms/step - loss: 0.5930 - accuracy: 0.7261 - val_loss: 0.5848 - val_accuracy: 0.7297\n",
            "Epoch 2/3\n",
            "244/244 [==============================] - 3s 11ms/step - loss: 0.5866 - accuracy: 0.7282 - val_loss: 0.5850 - val_accuracy: 0.7297\n",
            "Epoch 3/3\n",
            "244/244 [==============================] - 3s 11ms/step - loss: 0.5860 - accuracy: 0.7282 - val_loss: 0.5835 - val_accuracy: 0.7297\n",
            "120/120 [==============================] - 1s 5ms/step\n",
            "### q_no 17 grp 13-22\n",
            "3827\n"
          ]
        },
        {
          "output_type": "stream",
          "name": "stderr",
          "text": [
            "<ipython-input-45-1ee836004601>:37: SettingWithCopyWarning: \n",
            "A value is trying to be set on a copy of a slice from a DataFrame.\n",
            "Try using .loc[row_indexer,col_indexer] = value instead\n",
            "\n",
            "See the caveats in the documentation: https://pandas.pydata.org/pandas-docs/stable/user_guide/indexing.html#returning-a-view-versus-a-copy\n",
            "  train_df.loc[:, \"correct\"] = train_labels[\"correct\"]\n",
            "<ipython-input-45-1ee836004601>:38: SettingWithCopyWarning: \n",
            "A value is trying to be set on a copy of a slice from a DataFrame.\n",
            "Try using .loc[row_indexer,col_indexer] = value instead\n",
            "\n",
            "See the caveats in the documentation: https://pandas.pydata.org/pandas-docs/stable/user_guide/indexing.html#returning-a-view-versus-a-copy\n",
            "  valid_df.loc[:, \"correct\"] = valid_labels[\"correct\"]\n"
          ]
        },
        {
          "output_type": "stream",
          "name": "stdout",
          "text": [
            "Epoch 1/3\n",
            "244/244 [==============================] - 7s 15ms/step - loss: 0.6334 - accuracy: 0.6759 - val_loss: 0.6263 - val_accuracy: 0.6819\n",
            "Epoch 2/3\n",
            "244/244 [==============================] - 3s 12ms/step - loss: 0.6302 - accuracy: 0.6766 - val_loss: 0.6256 - val_accuracy: 0.6819\n",
            "Epoch 3/3\n",
            "244/244 [==============================] - 3s 12ms/step - loss: 0.6299 - accuracy: 0.6766 - val_loss: 0.6261 - val_accuracy: 0.6819\n",
            "120/120 [==============================] - 1s 4ms/step\n",
            "### q_no 18 grp 13-22\n",
            "3827\n"
          ]
        },
        {
          "output_type": "stream",
          "name": "stderr",
          "text": [
            "<ipython-input-45-1ee836004601>:37: SettingWithCopyWarning: \n",
            "A value is trying to be set on a copy of a slice from a DataFrame.\n",
            "Try using .loc[row_indexer,col_indexer] = value instead\n",
            "\n",
            "See the caveats in the documentation: https://pandas.pydata.org/pandas-docs/stable/user_guide/indexing.html#returning-a-view-versus-a-copy\n",
            "  train_df.loc[:, \"correct\"] = train_labels[\"correct\"]\n",
            "<ipython-input-45-1ee836004601>:38: SettingWithCopyWarning: \n",
            "A value is trying to be set on a copy of a slice from a DataFrame.\n",
            "Try using .loc[row_indexer,col_indexer] = value instead\n",
            "\n",
            "See the caveats in the documentation: https://pandas.pydata.org/pandas-docs/stable/user_guide/indexing.html#returning-a-view-versus-a-copy\n",
            "  valid_df.loc[:, \"correct\"] = valid_labels[\"correct\"]\n"
          ]
        },
        {
          "output_type": "stream",
          "name": "stdout",
          "text": [
            "Epoch 1/3\n",
            "244/244 [==============================] - 7s 16ms/step - loss: 0.2207 - accuracy: 0.9465 - val_loss: 0.1968 - val_accuracy: 0.9506\n",
            "Epoch 2/3\n",
            "244/244 [==============================] - 3s 11ms/step - loss: 0.2005 - accuracy: 0.9496 - val_loss: 0.1976 - val_accuracy: 0.9506\n",
            "Epoch 3/3\n",
            "244/244 [==============================] - 3s 11ms/step - loss: 0.2004 - accuracy: 0.9496 - val_loss: 0.1969 - val_accuracy: 0.9506\n",
            "120/120 [==============================] - 1s 4ms/step\n",
            "Best threshold  0.6000000000000002 \tF1 score  0.64983845\n",
            "### q_no 1 grp 0-4\n",
            "3829\n"
          ]
        },
        {
          "output_type": "stream",
          "name": "stderr",
          "text": [
            "<ipython-input-45-1ee836004601>:37: SettingWithCopyWarning: \n",
            "A value is trying to be set on a copy of a slice from a DataFrame.\n",
            "Try using .loc[row_indexer,col_indexer] = value instead\n",
            "\n",
            "See the caveats in the documentation: https://pandas.pydata.org/pandas-docs/stable/user_guide/indexing.html#returning-a-view-versus-a-copy\n",
            "  train_df.loc[:, \"correct\"] = train_labels[\"correct\"]\n",
            "<ipython-input-45-1ee836004601>:38: SettingWithCopyWarning: \n",
            "A value is trying to be set on a copy of a slice from a DataFrame.\n",
            "Try using .loc[row_indexer,col_indexer] = value instead\n",
            "\n",
            "See the caveats in the documentation: https://pandas.pydata.org/pandas-docs/stable/user_guide/indexing.html#returning-a-view-versus-a-copy\n",
            "  valid_df.loc[:, \"correct\"] = valid_labels[\"correct\"]\n"
          ]
        },
        {
          "output_type": "stream",
          "name": "stdout",
          "text": [
            "Epoch 1/5\n",
            "244/244 [==============================] - 7s 15ms/step - loss: 0.6031 - accuracy: 0.7163 - val_loss: 0.6008 - val_accuracy: 0.7121\n",
            "Epoch 2/5\n",
            "244/244 [==============================] - 3s 11ms/step - loss: 0.5972 - accuracy: 0.7166 - val_loss: 0.6004 - val_accuracy: 0.7121\n",
            "Epoch 3/5\n",
            "244/244 [==============================] - 3s 11ms/step - loss: 0.5974 - accuracy: 0.7166 - val_loss: 0.6004 - val_accuracy: 0.7121\n",
            "Epoch 4/5\n",
            "244/244 [==============================] - 3s 13ms/step - loss: 0.5968 - accuracy: 0.7166 - val_loss: 0.6003 - val_accuracy: 0.7121\n",
            "Epoch 5/5\n",
            "244/244 [==============================] - 3s 11ms/step - loss: 0.5967 - accuracy: 0.7166 - val_loss: 0.6003 - val_accuracy: 0.7121\n",
            "120/120 [==============================] - 1s 4ms/step\n",
            "### q_no 2 grp 0-4\n",
            "3829\n"
          ]
        },
        {
          "output_type": "stream",
          "name": "stderr",
          "text": [
            "<ipython-input-45-1ee836004601>:37: SettingWithCopyWarning: \n",
            "A value is trying to be set on a copy of a slice from a DataFrame.\n",
            "Try using .loc[row_indexer,col_indexer] = value instead\n",
            "\n",
            "See the caveats in the documentation: https://pandas.pydata.org/pandas-docs/stable/user_guide/indexing.html#returning-a-view-versus-a-copy\n",
            "  train_df.loc[:, \"correct\"] = train_labels[\"correct\"]\n",
            "<ipython-input-45-1ee836004601>:38: SettingWithCopyWarning: \n",
            "A value is trying to be set on a copy of a slice from a DataFrame.\n",
            "Try using .loc[row_indexer,col_indexer] = value instead\n",
            "\n",
            "See the caveats in the documentation: https://pandas.pydata.org/pandas-docs/stable/user_guide/indexing.html#returning-a-view-versus-a-copy\n",
            "  valid_df.loc[:, \"correct\"] = valid_labels[\"correct\"]\n"
          ]
        },
        {
          "output_type": "stream",
          "name": "stdout",
          "text": [
            "Epoch 1/3\n",
            "244/244 [==============================] - 7s 16ms/step - loss: 0.1210 - accuracy: 0.9805 - val_loss: 0.1026 - val_accuracy: 0.9788\n",
            "Epoch 2/3\n",
            "244/244 [==============================] - 3s 11ms/step - loss: 0.0969 - accuracy: 0.9805 - val_loss: 0.1026 - val_accuracy: 0.9788\n",
            "Epoch 3/3\n",
            "244/244 [==============================] - 3s 11ms/step - loss: 0.0967 - accuracy: 0.9805 - val_loss: 0.1028 - val_accuracy: 0.9788\n",
            "120/120 [==============================] - 1s 4ms/step\n",
            "### q_no 3 grp 0-4\n",
            "3829\n"
          ]
        },
        {
          "output_type": "stream",
          "name": "stderr",
          "text": [
            "<ipython-input-45-1ee836004601>:37: SettingWithCopyWarning: \n",
            "A value is trying to be set on a copy of a slice from a DataFrame.\n",
            "Try using .loc[row_indexer,col_indexer] = value instead\n",
            "\n",
            "See the caveats in the documentation: https://pandas.pydata.org/pandas-docs/stable/user_guide/indexing.html#returning-a-view-versus-a-copy\n",
            "  train_df.loc[:, \"correct\"] = train_labels[\"correct\"]\n",
            "<ipython-input-45-1ee836004601>:38: SettingWithCopyWarning: \n",
            "A value is trying to be set on a copy of a slice from a DataFrame.\n",
            "Try using .loc[row_indexer,col_indexer] = value instead\n",
            "\n",
            "See the caveats in the documentation: https://pandas.pydata.org/pandas-docs/stable/user_guide/indexing.html#returning-a-view-versus-a-copy\n",
            "  valid_df.loc[:, \"correct\"] = valid_labels[\"correct\"]\n"
          ]
        },
        {
          "output_type": "stream",
          "name": "stdout",
          "text": [
            "Epoch 1/3\n",
            "244/244 [==============================] - 7s 16ms/step - loss: 0.2673 - accuracy: 0.9300 - val_loss: 0.2404 - val_accuracy: 0.9352\n",
            "Epoch 2/3\n",
            "244/244 [==============================] - 3s 12ms/step - loss: 0.2493 - accuracy: 0.9319 - val_loss: 0.2402 - val_accuracy: 0.9352\n",
            "Epoch 3/3\n",
            "244/244 [==============================] - 3s 12ms/step - loss: 0.2492 - accuracy: 0.9319 - val_loss: 0.2400 - val_accuracy: 0.9352\n",
            "120/120 [==============================] - 1s 4ms/step\n",
            "### q_no 4 grp 0-4\n",
            "3829\n"
          ]
        },
        {
          "output_type": "stream",
          "name": "stderr",
          "text": [
            "<ipython-input-45-1ee836004601>:37: SettingWithCopyWarning: \n",
            "A value is trying to be set on a copy of a slice from a DataFrame.\n",
            "Try using .loc[row_indexer,col_indexer] = value instead\n",
            "\n",
            "See the caveats in the documentation: https://pandas.pydata.org/pandas-docs/stable/user_guide/indexing.html#returning-a-view-versus-a-copy\n",
            "  train_df.loc[:, \"correct\"] = train_labels[\"correct\"]\n",
            "<ipython-input-45-1ee836004601>:38: SettingWithCopyWarning: \n",
            "A value is trying to be set on a copy of a slice from a DataFrame.\n",
            "Try using .loc[row_indexer,col_indexer] = value instead\n",
            "\n",
            "See the caveats in the documentation: https://pandas.pydata.org/pandas-docs/stable/user_guide/indexing.html#returning-a-view-versus-a-copy\n",
            "  valid_df.loc[:, \"correct\"] = valid_labels[\"correct\"]\n"
          ]
        },
        {
          "output_type": "stream",
          "name": "stdout",
          "text": [
            "Epoch 1/3\n",
            "244/244 [==============================] - 7s 16ms/step - loss: 0.5220 - accuracy: 0.7880 - val_loss: 0.5246 - val_accuracy: 0.7819\n",
            "Epoch 2/3\n",
            "244/244 [==============================] - 3s 11ms/step - loss: 0.5149 - accuracy: 0.7903 - val_loss: 0.5246 - val_accuracy: 0.7819\n",
            "Epoch 3/3\n",
            "244/244 [==============================] - 3s 11ms/step - loss: 0.5142 - accuracy: 0.7903 - val_loss: 0.5251 - val_accuracy: 0.7819\n",
            "120/120 [==============================] - 1s 4ms/step\n",
            "### q_no 5 grp 5-12\n",
            "3829\n"
          ]
        },
        {
          "output_type": "stream",
          "name": "stderr",
          "text": [
            "<ipython-input-45-1ee836004601>:37: SettingWithCopyWarning: \n",
            "A value is trying to be set on a copy of a slice from a DataFrame.\n",
            "Try using .loc[row_indexer,col_indexer] = value instead\n",
            "\n",
            "See the caveats in the documentation: https://pandas.pydata.org/pandas-docs/stable/user_guide/indexing.html#returning-a-view-versus-a-copy\n",
            "  train_df.loc[:, \"correct\"] = train_labels[\"correct\"]\n",
            "<ipython-input-45-1ee836004601>:38: SettingWithCopyWarning: \n",
            "A value is trying to be set on a copy of a slice from a DataFrame.\n",
            "Try using .loc[row_indexer,col_indexer] = value instead\n",
            "\n",
            "See the caveats in the documentation: https://pandas.pydata.org/pandas-docs/stable/user_guide/indexing.html#returning-a-view-versus-a-copy\n",
            "  valid_df.loc[:, \"correct\"] = valid_labels[\"correct\"]\n"
          ]
        },
        {
          "output_type": "stream",
          "name": "stdout",
          "text": [
            "Epoch 1/5\n",
            "244/244 [==============================] - 7s 16ms/step - loss: 0.6915 - accuracy: 0.5338 - val_loss: 0.6918 - val_accuracy: 0.5256\n",
            "Epoch 2/5\n",
            "244/244 [==============================] - 3s 11ms/step - loss: 0.6910 - accuracy: 0.5341 - val_loss: 0.6925 - val_accuracy: 0.5256\n",
            "Epoch 3/5\n",
            "244/244 [==============================] - 3s 11ms/step - loss: 0.6912 - accuracy: 0.5341 - val_loss: 0.6919 - val_accuracy: 0.5256\n",
            "Epoch 4/5\n",
            "244/244 [==============================] - 3s 13ms/step - loss: 0.6910 - accuracy: 0.5341 - val_loss: 0.6919 - val_accuracy: 0.5256\n",
            "Epoch 5/5\n",
            "244/244 [==============================] - 3s 11ms/step - loss: 0.6909 - accuracy: 0.5341 - val_loss: 0.6922 - val_accuracy: 0.5256\n",
            "120/120 [==============================] - 1s 4ms/step\n",
            "### q_no 6 grp 5-12\n",
            "3829\n"
          ]
        },
        {
          "output_type": "stream",
          "name": "stderr",
          "text": [
            "<ipython-input-45-1ee836004601>:37: SettingWithCopyWarning: \n",
            "A value is trying to be set on a copy of a slice from a DataFrame.\n",
            "Try using .loc[row_indexer,col_indexer] = value instead\n",
            "\n",
            "See the caveats in the documentation: https://pandas.pydata.org/pandas-docs/stable/user_guide/indexing.html#returning-a-view-versus-a-copy\n",
            "  train_df.loc[:, \"correct\"] = train_labels[\"correct\"]\n",
            "<ipython-input-45-1ee836004601>:38: SettingWithCopyWarning: \n",
            "A value is trying to be set on a copy of a slice from a DataFrame.\n",
            "Try using .loc[row_indexer,col_indexer] = value instead\n",
            "\n",
            "See the caveats in the documentation: https://pandas.pydata.org/pandas-docs/stable/user_guide/indexing.html#returning-a-view-versus-a-copy\n",
            "  valid_df.loc[:, \"correct\"] = valid_labels[\"correct\"]\n"
          ]
        },
        {
          "output_type": "stream",
          "name": "stdout",
          "text": [
            "Epoch 1/3\n",
            "244/244 [==============================] - 7s 17ms/step - loss: 0.5550 - accuracy: 0.7611 - val_loss: 0.5521 - val_accuracy: 0.7607\n",
            "Epoch 2/3\n",
            "244/244 [==============================] - 3s 11ms/step - loss: 0.5494 - accuracy: 0.7632 - val_loss: 0.5514 - val_accuracy: 0.7607\n",
            "Epoch 3/3\n",
            "244/244 [==============================] - 3s 11ms/step - loss: 0.5484 - accuracy: 0.7632 - val_loss: 0.5504 - val_accuracy: 0.7607\n",
            "120/120 [==============================] - 1s 4ms/step\n",
            "### q_no 7 grp 5-12\n",
            "3829\n"
          ]
        },
        {
          "output_type": "stream",
          "name": "stderr",
          "text": [
            "<ipython-input-45-1ee836004601>:37: SettingWithCopyWarning: \n",
            "A value is trying to be set on a copy of a slice from a DataFrame.\n",
            "Try using .loc[row_indexer,col_indexer] = value instead\n",
            "\n",
            "See the caveats in the documentation: https://pandas.pydata.org/pandas-docs/stable/user_guide/indexing.html#returning-a-view-versus-a-copy\n",
            "  train_df.loc[:, \"correct\"] = train_labels[\"correct\"]\n",
            "<ipython-input-45-1ee836004601>:38: SettingWithCopyWarning: \n",
            "A value is trying to be set on a copy of a slice from a DataFrame.\n",
            "Try using .loc[row_indexer,col_indexer] = value instead\n",
            "\n",
            "See the caveats in the documentation: https://pandas.pydata.org/pandas-docs/stable/user_guide/indexing.html#returning-a-view-versus-a-copy\n",
            "  valid_df.loc[:, \"correct\"] = valid_labels[\"correct\"]\n"
          ]
        },
        {
          "output_type": "stream",
          "name": "stdout",
          "text": [
            "Epoch 1/3\n",
            "244/244 [==============================] - 7s 16ms/step - loss: 0.5965 - accuracy: 0.7207 - val_loss: 0.5952 - val_accuracy: 0.7192\n",
            "Epoch 2/3\n",
            "244/244 [==============================] - 3s 11ms/step - loss: 0.5913 - accuracy: 0.7230 - val_loss: 0.5957 - val_accuracy: 0.7192\n",
            "Epoch 3/3\n",
            "244/244 [==============================] - 3s 11ms/step - loss: 0.5907 - accuracy: 0.7230 - val_loss: 0.5976 - val_accuracy: 0.7192\n",
            "120/120 [==============================] - 1s 5ms/step\n",
            "### q_no 8 grp 5-12\n",
            "3829\n"
          ]
        },
        {
          "output_type": "stream",
          "name": "stderr",
          "text": [
            "<ipython-input-45-1ee836004601>:37: SettingWithCopyWarning: \n",
            "A value is trying to be set on a copy of a slice from a DataFrame.\n",
            "Try using .loc[row_indexer,col_indexer] = value instead\n",
            "\n",
            "See the caveats in the documentation: https://pandas.pydata.org/pandas-docs/stable/user_guide/indexing.html#returning-a-view-versus-a-copy\n",
            "  train_df.loc[:, \"correct\"] = train_labels[\"correct\"]\n",
            "<ipython-input-45-1ee836004601>:38: SettingWithCopyWarning: \n",
            "A value is trying to be set on a copy of a slice from a DataFrame.\n",
            "Try using .loc[row_indexer,col_indexer] = value instead\n",
            "\n",
            "See the caveats in the documentation: https://pandas.pydata.org/pandas-docs/stable/user_guide/indexing.html#returning-a-view-versus-a-copy\n",
            "  valid_df.loc[:, \"correct\"] = valid_labels[\"correct\"]\n"
          ]
        },
        {
          "output_type": "stream",
          "name": "stdout",
          "text": [
            "Epoch 1/3\n",
            "244/244 [==============================] - 7s 15ms/step - loss: 0.6748 - accuracy: 0.6001 - val_loss: 0.6754 - val_accuracy: 0.5943\n",
            "Epoch 2/3\n",
            "244/244 [==============================] - 3s 13ms/step - loss: 0.6732 - accuracy: 0.6009 - val_loss: 0.6753 - val_accuracy: 0.5943\n",
            "Epoch 3/3\n",
            "244/244 [==============================] - 3s 12ms/step - loss: 0.6732 - accuracy: 0.6009 - val_loss: 0.6755 - val_accuracy: 0.5943\n",
            "120/120 [==============================] - 1s 4ms/step\n",
            "### q_no 9 grp 5-12\n",
            "3829\n"
          ]
        },
        {
          "output_type": "stream",
          "name": "stderr",
          "text": [
            "<ipython-input-45-1ee836004601>:37: SettingWithCopyWarning: \n",
            "A value is trying to be set on a copy of a slice from a DataFrame.\n",
            "Try using .loc[row_indexer,col_indexer] = value instead\n",
            "\n",
            "See the caveats in the documentation: https://pandas.pydata.org/pandas-docs/stable/user_guide/indexing.html#returning-a-view-versus-a-copy\n",
            "  train_df.loc[:, \"correct\"] = train_labels[\"correct\"]\n",
            "<ipython-input-45-1ee836004601>:38: SettingWithCopyWarning: \n",
            "A value is trying to be set on a copy of a slice from a DataFrame.\n",
            "Try using .loc[row_indexer,col_indexer] = value instead\n",
            "\n",
            "See the caveats in the documentation: https://pandas.pydata.org/pandas-docs/stable/user_guide/indexing.html#returning-a-view-versus-a-copy\n",
            "  valid_df.loc[:, \"correct\"] = valid_labels[\"correct\"]\n"
          ]
        },
        {
          "output_type": "stream",
          "name": "stdout",
          "text": [
            "Epoch 1/3\n",
            "244/244 [==============================] - 10s 16ms/step - loss: 0.5984 - accuracy: 0.7224 - val_loss: 0.5991 - val_accuracy: 0.7147\n",
            "Epoch 2/3\n",
            "244/244 [==============================] - 3s 11ms/step - loss: 0.5916 - accuracy: 0.7222 - val_loss: 0.5982 - val_accuracy: 0.7147\n",
            "Epoch 3/3\n",
            "244/244 [==============================] - 3s 12ms/step - loss: 0.5918 - accuracy: 0.7222 - val_loss: 0.5986 - val_accuracy: 0.7147\n",
            "120/120 [==============================] - 1s 5ms/step\n",
            "### q_no 10 grp 5-12\n",
            "3829\n"
          ]
        },
        {
          "output_type": "stream",
          "name": "stderr",
          "text": [
            "<ipython-input-45-1ee836004601>:37: SettingWithCopyWarning: \n",
            "A value is trying to be set on a copy of a slice from a DataFrame.\n",
            "Try using .loc[row_indexer,col_indexer] = value instead\n",
            "\n",
            "See the caveats in the documentation: https://pandas.pydata.org/pandas-docs/stable/user_guide/indexing.html#returning-a-view-versus-a-copy\n",
            "  train_df.loc[:, \"correct\"] = train_labels[\"correct\"]\n",
            "<ipython-input-45-1ee836004601>:38: SettingWithCopyWarning: \n",
            "A value is trying to be set on a copy of a slice from a DataFrame.\n",
            "Try using .loc[row_indexer,col_indexer] = value instead\n",
            "\n",
            "See the caveats in the documentation: https://pandas.pydata.org/pandas-docs/stable/user_guide/indexing.html#returning-a-view-versus-a-copy\n",
            "  valid_df.loc[:, \"correct\"] = valid_labels[\"correct\"]\n"
          ]
        },
        {
          "output_type": "stream",
          "name": "stdout",
          "text": [
            "Epoch 1/5\n",
            "244/244 [==============================] - 7s 16ms/step - loss: 0.6934 - accuracy: 0.4889 - val_loss: 0.6932 - val_accuracy: 0.4969\n",
            "Epoch 2/5\n",
            "244/244 [==============================] - 3s 12ms/step - loss: 0.6932 - accuracy: 0.4967 - val_loss: 0.6931 - val_accuracy: 0.5031\n",
            "Epoch 3/5\n",
            "244/244 [==============================] - 3s 12ms/step - loss: 0.6932 - accuracy: 0.5021 - val_loss: 0.6931 - val_accuracy: 0.5031\n",
            "Epoch 4/5\n",
            "244/244 [==============================] - 3s 11ms/step - loss: 0.6932 - accuracy: 0.4993 - val_loss: 0.6931 - val_accuracy: 0.5031\n",
            "Epoch 5/5\n",
            "244/244 [==============================] - 3s 11ms/step - loss: 0.6932 - accuracy: 0.4960 - val_loss: 0.6931 - val_accuracy: 0.5031\n",
            "120/120 [==============================] - 1s 4ms/step\n",
            "### q_no 11 grp 5-12\n",
            "3829\n"
          ]
        },
        {
          "output_type": "stream",
          "name": "stderr",
          "text": [
            "<ipython-input-45-1ee836004601>:37: SettingWithCopyWarning: \n",
            "A value is trying to be set on a copy of a slice from a DataFrame.\n",
            "Try using .loc[row_indexer,col_indexer] = value instead\n",
            "\n",
            "See the caveats in the documentation: https://pandas.pydata.org/pandas-docs/stable/user_guide/indexing.html#returning-a-view-versus-a-copy\n",
            "  train_df.loc[:, \"correct\"] = train_labels[\"correct\"]\n",
            "<ipython-input-45-1ee836004601>:38: SettingWithCopyWarning: \n",
            "A value is trying to be set on a copy of a slice from a DataFrame.\n",
            "Try using .loc[row_indexer,col_indexer] = value instead\n",
            "\n",
            "See the caveats in the documentation: https://pandas.pydata.org/pandas-docs/stable/user_guide/indexing.html#returning-a-view-versus-a-copy\n",
            "  valid_df.loc[:, \"correct\"] = valid_labels[\"correct\"]\n"
          ]
        },
        {
          "output_type": "stream",
          "name": "stdout",
          "text": [
            "Epoch 1/5\n",
            "244/244 [==============================] - 7s 16ms/step - loss: 0.6563 - accuracy: 0.6394 - val_loss: 0.6588 - val_accuracy: 0.6304\n",
            "Epoch 2/5\n",
            "244/244 [==============================] - 3s 11ms/step - loss: 0.6545 - accuracy: 0.6391 - val_loss: 0.6589 - val_accuracy: 0.6304\n",
            "Epoch 3/5\n",
            "244/244 [==============================] - 3s 12ms/step - loss: 0.6544 - accuracy: 0.6391 - val_loss: 0.6588 - val_accuracy: 0.6304\n",
            "Epoch 4/5\n",
            "244/244 [==============================] - 3s 12ms/step - loss: 0.6544 - accuracy: 0.6391 - val_loss: 0.6591 - val_accuracy: 0.6304\n",
            "Epoch 5/5\n",
            "244/244 [==============================] - 3s 11ms/step - loss: 0.6544 - accuracy: 0.6391 - val_loss: 0.6590 - val_accuracy: 0.6304\n",
            "120/120 [==============================] - 1s 4ms/step\n",
            "### q_no 12 grp 5-12\n",
            "3829\n"
          ]
        },
        {
          "output_type": "stream",
          "name": "stderr",
          "text": [
            "<ipython-input-45-1ee836004601>:37: SettingWithCopyWarning: \n",
            "A value is trying to be set on a copy of a slice from a DataFrame.\n",
            "Try using .loc[row_indexer,col_indexer] = value instead\n",
            "\n",
            "See the caveats in the documentation: https://pandas.pydata.org/pandas-docs/stable/user_guide/indexing.html#returning-a-view-versus-a-copy\n",
            "  train_df.loc[:, \"correct\"] = train_labels[\"correct\"]\n",
            "<ipython-input-45-1ee836004601>:38: SettingWithCopyWarning: \n",
            "A value is trying to be set on a copy of a slice from a DataFrame.\n",
            "Try using .loc[row_indexer,col_indexer] = value instead\n",
            "\n",
            "See the caveats in the documentation: https://pandas.pydata.org/pandas-docs/stable/user_guide/indexing.html#returning-a-view-versus-a-copy\n",
            "  valid_df.loc[:, \"correct\"] = valid_labels[\"correct\"]\n"
          ]
        },
        {
          "output_type": "stream",
          "name": "stdout",
          "text": [
            "Epoch 1/3\n",
            "244/244 [==============================] - 7s 16ms/step - loss: 0.4239 - accuracy: 0.8545 - val_loss: 0.4131 - val_accuracy: 0.8568\n",
            "Epoch 2/3\n",
            "244/244 [==============================] - 3s 11ms/step - loss: 0.4114 - accuracy: 0.8571 - val_loss: 0.4107 - val_accuracy: 0.8568\n",
            "Epoch 3/3\n",
            "244/244 [==============================] - 3s 12ms/step - loss: 0.4108 - accuracy: 0.8571 - val_loss: 0.4112 - val_accuracy: 0.8568\n",
            "120/120 [==============================] - 1s 4ms/step\n",
            "### q_no 13 grp 13-22\n",
            "3829\n"
          ]
        },
        {
          "output_type": "stream",
          "name": "stderr",
          "text": [
            "<ipython-input-45-1ee836004601>:37: SettingWithCopyWarning: \n",
            "A value is trying to be set on a copy of a slice from a DataFrame.\n",
            "Try using .loc[row_indexer,col_indexer] = value instead\n",
            "\n",
            "See the caveats in the documentation: https://pandas.pydata.org/pandas-docs/stable/user_guide/indexing.html#returning-a-view-versus-a-copy\n",
            "  train_df.loc[:, \"correct\"] = train_labels[\"correct\"]\n",
            "<ipython-input-45-1ee836004601>:38: SettingWithCopyWarning: \n",
            "A value is trying to be set on a copy of a slice from a DataFrame.\n",
            "Try using .loc[row_indexer,col_indexer] = value instead\n",
            "\n",
            "See the caveats in the documentation: https://pandas.pydata.org/pandas-docs/stable/user_guide/indexing.html#returning-a-view-versus-a-copy\n",
            "  valid_df.loc[:, \"correct\"] = valid_labels[\"correct\"]\n"
          ]
        },
        {
          "output_type": "stream",
          "name": "stdout",
          "text": [
            "Epoch 1/5\n",
            "244/244 [==============================] - 7s 15ms/step - loss: 0.5856 - accuracy: 0.7315 - val_loss: 0.5790 - val_accuracy: 0.7411\n",
            "Epoch 2/5\n",
            "244/244 [==============================] - 3s 11ms/step - loss: 0.5816 - accuracy: 0.7329 - val_loss: 0.5719 - val_accuracy: 0.7411\n",
            "Epoch 3/5\n",
            "244/244 [==============================] - 3s 13ms/step - loss: 0.5808 - accuracy: 0.7329 - val_loss: 0.5719 - val_accuracy: 0.7411\n",
            "Epoch 4/5\n",
            "244/244 [==============================] - 3s 12ms/step - loss: 0.5809 - accuracy: 0.7329 - val_loss: 0.5749 - val_accuracy: 0.7411\n",
            "Epoch 5/5\n",
            "244/244 [==============================] - 3s 11ms/step - loss: 0.5810 - accuracy: 0.7329 - val_loss: 0.5739 - val_accuracy: 0.7411\n",
            "120/120 [==============================] - 1s 5ms/step\n",
            "### q_no 14 grp 13-22\n",
            "3829\n"
          ]
        },
        {
          "output_type": "stream",
          "name": "stderr",
          "text": [
            "<ipython-input-45-1ee836004601>:37: SettingWithCopyWarning: \n",
            "A value is trying to be set on a copy of a slice from a DataFrame.\n",
            "Try using .loc[row_indexer,col_indexer] = value instead\n",
            "\n",
            "See the caveats in the documentation: https://pandas.pydata.org/pandas-docs/stable/user_guide/indexing.html#returning-a-view-versus-a-copy\n",
            "  train_df.loc[:, \"correct\"] = train_labels[\"correct\"]\n",
            "<ipython-input-45-1ee836004601>:38: SettingWithCopyWarning: \n",
            "A value is trying to be set on a copy of a slice from a DataFrame.\n",
            "Try using .loc[row_indexer,col_indexer] = value instead\n",
            "\n",
            "See the caveats in the documentation: https://pandas.pydata.org/pandas-docs/stable/user_guide/indexing.html#returning-a-view-versus-a-copy\n",
            "  valid_df.loc[:, \"correct\"] = valid_labels[\"correct\"]\n"
          ]
        },
        {
          "output_type": "stream",
          "name": "stdout",
          "text": [
            "Epoch 1/3\n",
            "244/244 [==============================] - 7s 16ms/step - loss: 0.6235 - accuracy: 0.6896 - val_loss: 0.6275 - val_accuracy: 0.6797\n",
            "Epoch 2/3\n",
            "244/244 [==============================] - 3s 13ms/step - loss: 0.6195 - accuracy: 0.6904 - val_loss: 0.6272 - val_accuracy: 0.6797\n",
            "Epoch 3/3\n",
            "244/244 [==============================] - 3s 11ms/step - loss: 0.6195 - accuracy: 0.6904 - val_loss: 0.6273 - val_accuracy: 0.6797\n",
            "120/120 [==============================] - 1s 4ms/step\n",
            "### q_no 15 grp 13-22\n",
            "3829\n"
          ]
        },
        {
          "output_type": "stream",
          "name": "stderr",
          "text": [
            "<ipython-input-45-1ee836004601>:37: SettingWithCopyWarning: \n",
            "A value is trying to be set on a copy of a slice from a DataFrame.\n",
            "Try using .loc[row_indexer,col_indexer] = value instead\n",
            "\n",
            "See the caveats in the documentation: https://pandas.pydata.org/pandas-docs/stable/user_guide/indexing.html#returning-a-view-versus-a-copy\n",
            "  train_df.loc[:, \"correct\"] = train_labels[\"correct\"]\n",
            "<ipython-input-45-1ee836004601>:38: SettingWithCopyWarning: \n",
            "A value is trying to be set on a copy of a slice from a DataFrame.\n",
            "Try using .loc[row_indexer,col_indexer] = value instead\n",
            "\n",
            "See the caveats in the documentation: https://pandas.pydata.org/pandas-docs/stable/user_guide/indexing.html#returning-a-view-versus-a-copy\n",
            "  valid_df.loc[:, \"correct\"] = valid_labels[\"correct\"]\n"
          ]
        },
        {
          "output_type": "stream",
          "name": "stdout",
          "text": [
            "Epoch 1/5\n",
            "244/244 [==============================] - 10s 27ms/step - loss: 0.6920 - accuracy: 0.5265 - val_loss: 0.6912 - val_accuracy: 0.5316\n",
            "Epoch 2/5\n",
            "244/244 [==============================] - 3s 12ms/step - loss: 0.6919 - accuracy: 0.5283 - val_loss: 0.6914 - val_accuracy: 0.5316\n",
            "Epoch 3/5\n",
            "244/244 [==============================] - 3s 12ms/step - loss: 0.6916 - accuracy: 0.5283 - val_loss: 0.6912 - val_accuracy: 0.5316\n",
            "Epoch 4/5\n",
            "244/244 [==============================] - 3s 13ms/step - loss: 0.6916 - accuracy: 0.5283 - val_loss: 0.6912 - val_accuracy: 0.5316\n",
            "Epoch 5/5\n",
            "244/244 [==============================] - 3s 11ms/step - loss: 0.6917 - accuracy: 0.5283 - val_loss: 0.6912 - val_accuracy: 0.5316\n",
            "120/120 [==============================] - 1s 4ms/step\n",
            "### q_no 16 grp 13-22\n",
            "3829\n"
          ]
        },
        {
          "output_type": "stream",
          "name": "stderr",
          "text": [
            "<ipython-input-45-1ee836004601>:37: SettingWithCopyWarning: \n",
            "A value is trying to be set on a copy of a slice from a DataFrame.\n",
            "Try using .loc[row_indexer,col_indexer] = value instead\n",
            "\n",
            "See the caveats in the documentation: https://pandas.pydata.org/pandas-docs/stable/user_guide/indexing.html#returning-a-view-versus-a-copy\n",
            "  train_df.loc[:, \"correct\"] = train_labels[\"correct\"]\n",
            "<ipython-input-45-1ee836004601>:38: SettingWithCopyWarning: \n",
            "A value is trying to be set on a copy of a slice from a DataFrame.\n",
            "Try using .loc[row_indexer,col_indexer] = value instead\n",
            "\n",
            "See the caveats in the documentation: https://pandas.pydata.org/pandas-docs/stable/user_guide/indexing.html#returning-a-view-versus-a-copy\n",
            "  valid_df.loc[:, \"correct\"] = valid_labels[\"correct\"]\n"
          ]
        },
        {
          "output_type": "stream",
          "name": "stdout",
          "text": [
            "Epoch 1/3\n",
            "244/244 [==============================] - 8s 17ms/step - loss: 0.5933 - accuracy: 0.7254 - val_loss: 0.5946 - val_accuracy: 0.7241\n",
            "Epoch 2/3\n",
            "244/244 [==============================] - 3s 11ms/step - loss: 0.5860 - accuracy: 0.7281 - val_loss: 0.5917 - val_accuracy: 0.7241\n",
            "Epoch 3/3\n",
            "244/244 [==============================] - 3s 11ms/step - loss: 0.5865 - accuracy: 0.7281 - val_loss: 0.5890 - val_accuracy: 0.7241\n",
            "120/120 [==============================] - 1s 4ms/step\n",
            "### q_no 17 grp 13-22\n",
            "3829\n"
          ]
        },
        {
          "output_type": "stream",
          "name": "stderr",
          "text": [
            "<ipython-input-45-1ee836004601>:37: SettingWithCopyWarning: \n",
            "A value is trying to be set on a copy of a slice from a DataFrame.\n",
            "Try using .loc[row_indexer,col_indexer] = value instead\n",
            "\n",
            "See the caveats in the documentation: https://pandas.pydata.org/pandas-docs/stable/user_guide/indexing.html#returning-a-view-versus-a-copy\n",
            "  train_df.loc[:, \"correct\"] = train_labels[\"correct\"]\n",
            "<ipython-input-45-1ee836004601>:38: SettingWithCopyWarning: \n",
            "A value is trying to be set on a copy of a slice from a DataFrame.\n",
            "Try using .loc[row_indexer,col_indexer] = value instead\n",
            "\n",
            "See the caveats in the documentation: https://pandas.pydata.org/pandas-docs/stable/user_guide/indexing.html#returning-a-view-versus-a-copy\n",
            "  valid_df.loc[:, \"correct\"] = valid_labels[\"correct\"]\n"
          ]
        },
        {
          "output_type": "stream",
          "name": "stdout",
          "text": [
            "Epoch 1/3\n",
            "244/244 [==============================] - 7s 15ms/step - loss: 0.6357 - accuracy: 0.6746 - val_loss: 0.6239 - val_accuracy: 0.6870\n",
            "Epoch 2/3\n",
            "244/244 [==============================] - 3s 11ms/step - loss: 0.6303 - accuracy: 0.6761 - val_loss: 0.6214 - val_accuracy: 0.6870\n",
            "Epoch 3/3\n",
            "244/244 [==============================] - 3s 12ms/step - loss: 0.6302 - accuracy: 0.6761 - val_loss: 0.6219 - val_accuracy: 0.6870\n",
            "120/120 [==============================] - 1s 4ms/step\n",
            "### q_no 18 grp 13-22\n",
            "3829\n"
          ]
        },
        {
          "output_type": "stream",
          "name": "stderr",
          "text": [
            "<ipython-input-45-1ee836004601>:37: SettingWithCopyWarning: \n",
            "A value is trying to be set on a copy of a slice from a DataFrame.\n",
            "Try using .loc[row_indexer,col_indexer] = value instead\n",
            "\n",
            "See the caveats in the documentation: https://pandas.pydata.org/pandas-docs/stable/user_guide/indexing.html#returning-a-view-versus-a-copy\n",
            "  train_df.loc[:, \"correct\"] = train_labels[\"correct\"]\n",
            "<ipython-input-45-1ee836004601>:38: SettingWithCopyWarning: \n",
            "A value is trying to be set on a copy of a slice from a DataFrame.\n",
            "Try using .loc[row_indexer,col_indexer] = value instead\n",
            "\n",
            "See the caveats in the documentation: https://pandas.pydata.org/pandas-docs/stable/user_guide/indexing.html#returning-a-view-versus-a-copy\n",
            "  valid_df.loc[:, \"correct\"] = valid_labels[\"correct\"]\n"
          ]
        },
        {
          "output_type": "stream",
          "name": "stdout",
          "text": [
            "Epoch 1/3\n",
            "244/244 [==============================] - 7s 15ms/step - loss: 0.2234 - accuracy: 0.9454 - val_loss: 0.2013 - val_accuracy: 0.9491\n",
            "Epoch 2/3\n",
            "244/244 [==============================] - 3s 13ms/step - loss: 0.2003 - accuracy: 0.9495 - val_loss: 0.2013 - val_accuracy: 0.9491\n",
            "Epoch 3/3\n",
            "244/244 [==============================] - 3s 11ms/step - loss: 0.2002 - accuracy: 0.9495 - val_loss: 0.2020 - val_accuracy: 0.9491\n",
            "120/120 [==============================] - 1s 4ms/step\n",
            "Best threshold  0.6500000000000002 \tF1 score  0.65064704\n",
            "### q_no 1 grp 0-4\n",
            "3849\n"
          ]
        },
        {
          "output_type": "stream",
          "name": "stderr",
          "text": [
            "<ipython-input-45-1ee836004601>:37: SettingWithCopyWarning: \n",
            "A value is trying to be set on a copy of a slice from a DataFrame.\n",
            "Try using .loc[row_indexer,col_indexer] = value instead\n",
            "\n",
            "See the caveats in the documentation: https://pandas.pydata.org/pandas-docs/stable/user_guide/indexing.html#returning-a-view-versus-a-copy\n",
            "  train_df.loc[:, \"correct\"] = train_labels[\"correct\"]\n",
            "<ipython-input-45-1ee836004601>:38: SettingWithCopyWarning: \n",
            "A value is trying to be set on a copy of a slice from a DataFrame.\n",
            "Try using .loc[row_indexer,col_indexer] = value instead\n",
            "\n",
            "See the caveats in the documentation: https://pandas.pydata.org/pandas-docs/stable/user_guide/indexing.html#returning-a-view-versus-a-copy\n",
            "  valid_df.loc[:, \"correct\"] = valid_labels[\"correct\"]\n"
          ]
        },
        {
          "output_type": "stream",
          "name": "stdout",
          "text": [
            "Epoch 1/5\n",
            "244/244 [==============================] - 7s 16ms/step - loss: 0.6007 - accuracy: 0.7138 - val_loss: 0.6051 - val_accuracy: 0.7113\n",
            "Epoch 2/5\n",
            "244/244 [==============================] - 3s 11ms/step - loss: 0.5981 - accuracy: 0.7160 - val_loss: 0.6013 - val_accuracy: 0.7113\n",
            "Epoch 3/5\n",
            "244/244 [==============================] - 3s 11ms/step - loss: 0.5979 - accuracy: 0.7160 - val_loss: 0.6010 - val_accuracy: 0.7113\n",
            "Epoch 4/5\n",
            "244/244 [==============================] - 3s 11ms/step - loss: 0.5976 - accuracy: 0.7160 - val_loss: 0.6011 - val_accuracy: 0.7113\n",
            "Epoch 5/5\n",
            "244/244 [==============================] - 3s 13ms/step - loss: 0.5971 - accuracy: 0.7160 - val_loss: 0.6010 - val_accuracy: 0.7113\n",
            "121/121 [==============================] - 1s 4ms/step\n",
            "### q_no 2 grp 0-4\n",
            "3849\n"
          ]
        },
        {
          "output_type": "stream",
          "name": "stderr",
          "text": [
            "<ipython-input-45-1ee836004601>:37: SettingWithCopyWarning: \n",
            "A value is trying to be set on a copy of a slice from a DataFrame.\n",
            "Try using .loc[row_indexer,col_indexer] = value instead\n",
            "\n",
            "See the caveats in the documentation: https://pandas.pydata.org/pandas-docs/stable/user_guide/indexing.html#returning-a-view-versus-a-copy\n",
            "  train_df.loc[:, \"correct\"] = train_labels[\"correct\"]\n",
            "<ipython-input-45-1ee836004601>:38: SettingWithCopyWarning: \n",
            "A value is trying to be set on a copy of a slice from a DataFrame.\n",
            "Try using .loc[row_indexer,col_indexer] = value instead\n",
            "\n",
            "See the caveats in the documentation: https://pandas.pydata.org/pandas-docs/stable/user_guide/indexing.html#returning-a-view-versus-a-copy\n",
            "  valid_df.loc[:, \"correct\"] = valid_labels[\"correct\"]\n"
          ]
        },
        {
          "output_type": "stream",
          "name": "stdout",
          "text": [
            "Epoch 1/3\n",
            "244/244 [==============================] - 7s 16ms/step - loss: 0.1213 - accuracy: 0.9771 - val_loss: 0.0977 - val_accuracy: 0.9800\n",
            "Epoch 2/3\n",
            "244/244 [==============================] - 3s 12ms/step - loss: 0.1002 - accuracy: 0.9771 - val_loss: 0.1773 - val_accuracy: 0.9802\n",
            "Epoch 3/3\n",
            "244/244 [==============================] - 3s 11ms/step - loss: 0.1023 - accuracy: 0.9807 - val_loss: 0.0970 - val_accuracy: 0.9802\n",
            "121/121 [==============================] - 1s 4ms/step\n",
            "### q_no 3 grp 0-4\n",
            "3849\n"
          ]
        },
        {
          "output_type": "stream",
          "name": "stderr",
          "text": [
            "<ipython-input-45-1ee836004601>:37: SettingWithCopyWarning: \n",
            "A value is trying to be set on a copy of a slice from a DataFrame.\n",
            "Try using .loc[row_indexer,col_indexer] = value instead\n",
            "\n",
            "See the caveats in the documentation: https://pandas.pydata.org/pandas-docs/stable/user_guide/indexing.html#returning-a-view-versus-a-copy\n",
            "  train_df.loc[:, \"correct\"] = train_labels[\"correct\"]\n",
            "<ipython-input-45-1ee836004601>:38: SettingWithCopyWarning: \n",
            "A value is trying to be set on a copy of a slice from a DataFrame.\n",
            "Try using .loc[row_indexer,col_indexer] = value instead\n",
            "\n",
            "See the caveats in the documentation: https://pandas.pydata.org/pandas-docs/stable/user_guide/indexing.html#returning-a-view-versus-a-copy\n",
            "  valid_df.loc[:, \"correct\"] = valid_labels[\"correct\"]\n"
          ]
        },
        {
          "output_type": "stream",
          "name": "stdout",
          "text": [
            "Epoch 1/3\n",
            "244/244 [==============================] - 7s 16ms/step - loss: 0.2681 - accuracy: 0.9311 - val_loss: 0.2437 - val_accuracy: 0.9358\n",
            "Epoch 2/3\n",
            "244/244 [==============================] - 3s 11ms/step - loss: 0.2489 - accuracy: 0.9322 - val_loss: 0.2384 - val_accuracy: 0.9358\n",
            "Epoch 3/3\n",
            "244/244 [==============================] - 3s 11ms/step - loss: 0.2487 - accuracy: 0.9322 - val_loss: 0.2384 - val_accuracy: 0.9358\n",
            "121/121 [==============================] - 1s 4ms/step\n",
            "### q_no 4 grp 0-4\n",
            "3849\n"
          ]
        },
        {
          "output_type": "stream",
          "name": "stderr",
          "text": [
            "<ipython-input-45-1ee836004601>:37: SettingWithCopyWarning: \n",
            "A value is trying to be set on a copy of a slice from a DataFrame.\n",
            "Try using .loc[row_indexer,col_indexer] = value instead\n",
            "\n",
            "See the caveats in the documentation: https://pandas.pydata.org/pandas-docs/stable/user_guide/indexing.html#returning-a-view-versus-a-copy\n",
            "  train_df.loc[:, \"correct\"] = train_labels[\"correct\"]\n",
            "<ipython-input-45-1ee836004601>:38: SettingWithCopyWarning: \n",
            "A value is trying to be set on a copy of a slice from a DataFrame.\n",
            "Try using .loc[row_indexer,col_indexer] = value instead\n",
            "\n",
            "See the caveats in the documentation: https://pandas.pydata.org/pandas-docs/stable/user_guide/indexing.html#returning-a-view-versus-a-copy\n",
            "  valid_df.loc[:, \"correct\"] = valid_labels[\"correct\"]\n"
          ]
        },
        {
          "output_type": "stream",
          "name": "stdout",
          "text": [
            "Epoch 1/3\n",
            "244/244 [==============================] - 10s 16ms/step - loss: 0.5240 - accuracy: 0.7881 - val_loss: 0.5244 - val_accuracy: 0.7916\n",
            "Epoch 2/3\n",
            "244/244 [==============================] - 3s 13ms/step - loss: 0.5146 - accuracy: 0.7909 - val_loss: 0.5132 - val_accuracy: 0.7916\n",
            "Epoch 3/3\n",
            "244/244 [==============================] - 3s 12ms/step - loss: 0.5142 - accuracy: 0.7909 - val_loss: 0.5123 - val_accuracy: 0.7916\n",
            "121/121 [==============================] - 1s 4ms/step\n",
            "### q_no 5 grp 5-12\n",
            "3849\n"
          ]
        },
        {
          "output_type": "stream",
          "name": "stderr",
          "text": [
            "<ipython-input-45-1ee836004601>:37: SettingWithCopyWarning: \n",
            "A value is trying to be set on a copy of a slice from a DataFrame.\n",
            "Try using .loc[row_indexer,col_indexer] = value instead\n",
            "\n",
            "See the caveats in the documentation: https://pandas.pydata.org/pandas-docs/stable/user_guide/indexing.html#returning-a-view-versus-a-copy\n",
            "  train_df.loc[:, \"correct\"] = train_labels[\"correct\"]\n",
            "<ipython-input-45-1ee836004601>:38: SettingWithCopyWarning: \n",
            "A value is trying to be set on a copy of a slice from a DataFrame.\n",
            "Try using .loc[row_indexer,col_indexer] = value instead\n",
            "\n",
            "See the caveats in the documentation: https://pandas.pydata.org/pandas-docs/stable/user_guide/indexing.html#returning-a-view-versus-a-copy\n",
            "  valid_df.loc[:, \"correct\"] = valid_labels[\"correct\"]\n"
          ]
        },
        {
          "output_type": "stream",
          "name": "stdout",
          "text": [
            "Epoch 1/5\n",
            "244/244 [==============================] - 8s 17ms/step - loss: 0.6912 - accuracy: 0.5335 - val_loss: 0.6916 - val_accuracy: 0.5356\n",
            "Epoch 2/5\n",
            "244/244 [==============================] - 3s 11ms/step - loss: 0.6910 - accuracy: 0.5341 - val_loss: 0.6913 - val_accuracy: 0.5356\n",
            "Epoch 3/5\n",
            "244/244 [==============================] - 3s 12ms/step - loss: 0.6912 - accuracy: 0.5341 - val_loss: 0.6908 - val_accuracy: 0.5356\n",
            "Epoch 4/5\n",
            "244/244 [==============================] - 3s 12ms/step - loss: 0.6910 - accuracy: 0.5341 - val_loss: 0.6906 - val_accuracy: 0.5356\n",
            "Epoch 5/5\n",
            "244/244 [==============================] - 3s 13ms/step - loss: 0.6909 - accuracy: 0.5341 - val_loss: 0.6907 - val_accuracy: 0.5356\n",
            "121/121 [==============================] - 1s 4ms/step\n",
            "### q_no 6 grp 5-12\n",
            "3849\n"
          ]
        },
        {
          "output_type": "stream",
          "name": "stderr",
          "text": [
            "<ipython-input-45-1ee836004601>:37: SettingWithCopyWarning: \n",
            "A value is trying to be set on a copy of a slice from a DataFrame.\n",
            "Try using .loc[row_indexer,col_indexer] = value instead\n",
            "\n",
            "See the caveats in the documentation: https://pandas.pydata.org/pandas-docs/stable/user_guide/indexing.html#returning-a-view-versus-a-copy\n",
            "  train_df.loc[:, \"correct\"] = train_labels[\"correct\"]\n",
            "<ipython-input-45-1ee836004601>:38: SettingWithCopyWarning: \n",
            "A value is trying to be set on a copy of a slice from a DataFrame.\n",
            "Try using .loc[row_indexer,col_indexer] = value instead\n",
            "\n",
            "See the caveats in the documentation: https://pandas.pydata.org/pandas-docs/stable/user_guide/indexing.html#returning-a-view-versus-a-copy\n",
            "  valid_df.loc[:, \"correct\"] = valid_labels[\"correct\"]\n"
          ]
        },
        {
          "output_type": "stream",
          "name": "stdout",
          "text": [
            "Epoch 1/3\n",
            "244/244 [==============================] - 7s 16ms/step - loss: 0.5527 - accuracy: 0.7623 - val_loss: 0.5554 - val_accuracy: 0.7562\n",
            "Epoch 2/3\n",
            "244/244 [==============================] - 3s 12ms/step - loss: 0.5478 - accuracy: 0.7638 - val_loss: 0.5561 - val_accuracy: 0.7562\n",
            "Epoch 3/3\n",
            "244/244 [==============================] - 3s 11ms/step - loss: 0.5472 - accuracy: 0.7638 - val_loss: 0.5577 - val_accuracy: 0.7562\n",
            "121/121 [==============================] - 1s 4ms/step\n",
            "### q_no 7 grp 5-12\n",
            "3849\n"
          ]
        },
        {
          "output_type": "stream",
          "name": "stderr",
          "text": [
            "<ipython-input-45-1ee836004601>:37: SettingWithCopyWarning: \n",
            "A value is trying to be set on a copy of a slice from a DataFrame.\n",
            "Try using .loc[row_indexer,col_indexer] = value instead\n",
            "\n",
            "See the caveats in the documentation: https://pandas.pydata.org/pandas-docs/stable/user_guide/indexing.html#returning-a-view-versus-a-copy\n",
            "  train_df.loc[:, \"correct\"] = train_labels[\"correct\"]\n",
            "<ipython-input-45-1ee836004601>:38: SettingWithCopyWarning: \n",
            "A value is trying to be set on a copy of a slice from a DataFrame.\n",
            "Try using .loc[row_indexer,col_indexer] = value instead\n",
            "\n",
            "See the caveats in the documentation: https://pandas.pydata.org/pandas-docs/stable/user_guide/indexing.html#returning-a-view-versus-a-copy\n",
            "  valid_df.loc[:, \"correct\"] = valid_labels[\"correct\"]\n"
          ]
        },
        {
          "output_type": "stream",
          "name": "stdout",
          "text": [
            "Epoch 1/3\n",
            "244/244 [==============================] - 7s 16ms/step - loss: 0.5949 - accuracy: 0.7233 - val_loss: 0.5954 - val_accuracy: 0.7175\n",
            "Epoch 2/3\n",
            "244/244 [==============================] - 3s 11ms/step - loss: 0.5906 - accuracy: 0.7236 - val_loss: 0.5961 - val_accuracy: 0.7175\n",
            "Epoch 3/3\n",
            "244/244 [==============================] - 3s 11ms/step - loss: 0.5905 - accuracy: 0.7236 - val_loss: 0.5971 - val_accuracy: 0.7175\n",
            "121/121 [==============================] - 1s 4ms/step\n",
            "### q_no 8 grp 5-12\n",
            "3849\n"
          ]
        },
        {
          "output_type": "stream",
          "name": "stderr",
          "text": [
            "<ipython-input-45-1ee836004601>:37: SettingWithCopyWarning: \n",
            "A value is trying to be set on a copy of a slice from a DataFrame.\n",
            "Try using .loc[row_indexer,col_indexer] = value instead\n",
            "\n",
            "See the caveats in the documentation: https://pandas.pydata.org/pandas-docs/stable/user_guide/indexing.html#returning-a-view-versus-a-copy\n",
            "  train_df.loc[:, \"correct\"] = train_labels[\"correct\"]\n",
            "<ipython-input-45-1ee836004601>:38: SettingWithCopyWarning: \n",
            "A value is trying to be set on a copy of a slice from a DataFrame.\n",
            "Try using .loc[row_indexer,col_indexer] = value instead\n",
            "\n",
            "See the caveats in the documentation: https://pandas.pydata.org/pandas-docs/stable/user_guide/indexing.html#returning-a-view-versus-a-copy\n",
            "  valid_df.loc[:, \"correct\"] = valid_labels[\"correct\"]\n"
          ]
        },
        {
          "output_type": "stream",
          "name": "stdout",
          "text": [
            "Epoch 1/3\n",
            "244/244 [==============================] - 7s 15ms/step - loss: 0.6741 - accuracy: 0.6015 - val_loss: 0.6710 - val_accuracy: 0.6050\n",
            "Epoch 2/3\n",
            "244/244 [==============================] - 3s 12ms/step - loss: 0.6730 - accuracy: 0.6018 - val_loss: 0.6709 - val_accuracy: 0.6050\n",
            "Epoch 3/3\n",
            "244/244 [==============================] - 3s 13ms/step - loss: 0.6728 - accuracy: 0.6018 - val_loss: 0.6711 - val_accuracy: 0.6050\n",
            "121/121 [==============================] - 1s 4ms/step\n",
            "### q_no 9 grp 5-12\n",
            "3849\n"
          ]
        },
        {
          "output_type": "stream",
          "name": "stderr",
          "text": [
            "<ipython-input-45-1ee836004601>:37: SettingWithCopyWarning: \n",
            "A value is trying to be set on a copy of a slice from a DataFrame.\n",
            "Try using .loc[row_indexer,col_indexer] = value instead\n",
            "\n",
            "See the caveats in the documentation: https://pandas.pydata.org/pandas-docs/stable/user_guide/indexing.html#returning-a-view-versus-a-copy\n",
            "  train_df.loc[:, \"correct\"] = train_labels[\"correct\"]\n",
            "<ipython-input-45-1ee836004601>:38: SettingWithCopyWarning: \n",
            "A value is trying to be set on a copy of a slice from a DataFrame.\n",
            "Try using .loc[row_indexer,col_indexer] = value instead\n",
            "\n",
            "See the caveats in the documentation: https://pandas.pydata.org/pandas-docs/stable/user_guide/indexing.html#returning-a-view-versus-a-copy\n",
            "  valid_df.loc[:, \"correct\"] = valid_labels[\"correct\"]\n"
          ]
        },
        {
          "output_type": "stream",
          "name": "stdout",
          "text": [
            "Epoch 1/3\n",
            "244/244 [==============================] - 7s 16ms/step - loss: 0.5967 - accuracy: 0.7197 - val_loss: 0.5920 - val_accuracy: 0.7219\n",
            "Epoch 2/3\n",
            "244/244 [==============================] - 3s 12ms/step - loss: 0.5931 - accuracy: 0.7218 - val_loss: 0.5936 - val_accuracy: 0.7219\n",
            "Epoch 3/3\n",
            "244/244 [==============================] - 3s 11ms/step - loss: 0.5922 - accuracy: 0.7218 - val_loss: 0.5922 - val_accuracy: 0.7219\n",
            "121/121 [==============================] - 1s 4ms/step\n",
            "### q_no 10 grp 5-12\n",
            "3849\n"
          ]
        },
        {
          "output_type": "stream",
          "name": "stderr",
          "text": [
            "<ipython-input-45-1ee836004601>:37: SettingWithCopyWarning: \n",
            "A value is trying to be set on a copy of a slice from a DataFrame.\n",
            "Try using .loc[row_indexer,col_indexer] = value instead\n",
            "\n",
            "See the caveats in the documentation: https://pandas.pydata.org/pandas-docs/stable/user_guide/indexing.html#returning-a-view-versus-a-copy\n",
            "  train_df.loc[:, \"correct\"] = train_labels[\"correct\"]\n",
            "<ipython-input-45-1ee836004601>:38: SettingWithCopyWarning: \n",
            "A value is trying to be set on a copy of a slice from a DataFrame.\n",
            "Try using .loc[row_indexer,col_indexer] = value instead\n",
            "\n",
            "See the caveats in the documentation: https://pandas.pydata.org/pandas-docs/stable/user_guide/indexing.html#returning-a-view-versus-a-copy\n",
            "  valid_df.loc[:, \"correct\"] = valid_labels[\"correct\"]\n"
          ]
        },
        {
          "output_type": "stream",
          "name": "stdout",
          "text": [
            "Epoch 1/5\n",
            "244/244 [==============================] - 10s 27ms/step - loss: 0.6933 - accuracy: 0.4997 - val_loss: 0.6932 - val_accuracy: 0.5021\n",
            "Epoch 2/5\n",
            "244/244 [==============================] - 3s 12ms/step - loss: 0.6932 - accuracy: 0.4977 - val_loss: 0.6931 - val_accuracy: 0.5021\n",
            "Epoch 3/5\n",
            "244/244 [==============================] - 3s 13ms/step - loss: 0.6932 - accuracy: 0.5015 - val_loss: 0.6931 - val_accuracy: 0.5021\n",
            "Epoch 4/5\n",
            "244/244 [==============================] - 3s 12ms/step - loss: 0.6932 - accuracy: 0.4990 - val_loss: 0.6931 - val_accuracy: 0.5021\n",
            "Epoch 5/5\n",
            "244/244 [==============================] - 3s 11ms/step - loss: 0.6932 - accuracy: 0.4946 - val_loss: 0.6931 - val_accuracy: 0.5021\n",
            "121/121 [==============================] - 1s 4ms/step\n",
            "### q_no 11 grp 5-12\n",
            "3849\n"
          ]
        },
        {
          "output_type": "stream",
          "name": "stderr",
          "text": [
            "<ipython-input-45-1ee836004601>:37: SettingWithCopyWarning: \n",
            "A value is trying to be set on a copy of a slice from a DataFrame.\n",
            "Try using .loc[row_indexer,col_indexer] = value instead\n",
            "\n",
            "See the caveats in the documentation: https://pandas.pydata.org/pandas-docs/stable/user_guide/indexing.html#returning-a-view-versus-a-copy\n",
            "  train_df.loc[:, \"correct\"] = train_labels[\"correct\"]\n",
            "<ipython-input-45-1ee836004601>:38: SettingWithCopyWarning: \n",
            "A value is trying to be set on a copy of a slice from a DataFrame.\n",
            "Try using .loc[row_indexer,col_indexer] = value instead\n",
            "\n",
            "See the caveats in the documentation: https://pandas.pydata.org/pandas-docs/stable/user_guide/indexing.html#returning-a-view-versus-a-copy\n",
            "  valid_df.loc[:, \"correct\"] = valid_labels[\"correct\"]\n"
          ]
        },
        {
          "output_type": "stream",
          "name": "stdout",
          "text": [
            "Epoch 1/5\n",
            "244/244 [==============================] - 8s 16ms/step - loss: 0.6580 - accuracy: 0.6372 - val_loss: 0.6530 - val_accuracy: 0.6409\n",
            "Epoch 2/5\n",
            "244/244 [==============================] - 3s 11ms/step - loss: 0.6552 - accuracy: 0.6383 - val_loss: 0.6545 - val_accuracy: 0.6409\n",
            "Epoch 3/5\n",
            "244/244 [==============================] - 3s 11ms/step - loss: 0.6548 - accuracy: 0.6383 - val_loss: 0.6540 - val_accuracy: 0.6409\n",
            "Epoch 4/5\n",
            "244/244 [==============================] - 3s 13ms/step - loss: 0.6547 - accuracy: 0.6383 - val_loss: 0.6542 - val_accuracy: 0.6409\n",
            "Epoch 5/5\n",
            "244/244 [==============================] - 3s 11ms/step - loss: 0.6550 - accuracy: 0.6383 - val_loss: 0.6533 - val_accuracy: 0.6409\n",
            "121/121 [==============================] - 1s 4ms/step\n",
            "### q_no 12 grp 5-12\n",
            "3849\n"
          ]
        },
        {
          "output_type": "stream",
          "name": "stderr",
          "text": [
            "<ipython-input-45-1ee836004601>:37: SettingWithCopyWarning: \n",
            "A value is trying to be set on a copy of a slice from a DataFrame.\n",
            "Try using .loc[row_indexer,col_indexer] = value instead\n",
            "\n",
            "See the caveats in the documentation: https://pandas.pydata.org/pandas-docs/stable/user_guide/indexing.html#returning-a-view-versus-a-copy\n",
            "  train_df.loc[:, \"correct\"] = train_labels[\"correct\"]\n",
            "<ipython-input-45-1ee836004601>:38: SettingWithCopyWarning: \n",
            "A value is trying to be set on a copy of a slice from a DataFrame.\n",
            "Try using .loc[row_indexer,col_indexer] = value instead\n",
            "\n",
            "See the caveats in the documentation: https://pandas.pydata.org/pandas-docs/stable/user_guide/indexing.html#returning-a-view-versus-a-copy\n",
            "  valid_df.loc[:, \"correct\"] = valid_labels[\"correct\"]\n"
          ]
        },
        {
          "output_type": "stream",
          "name": "stdout",
          "text": [
            "Epoch 1/3\n",
            "244/244 [==============================] - 8s 17ms/step - loss: 0.4229 - accuracy: 0.8540 - val_loss: 0.4180 - val_accuracy: 0.8529\n",
            "Epoch 2/3\n",
            "244/244 [==============================] - 3s 11ms/step - loss: 0.4109 - accuracy: 0.8571 - val_loss: 0.4178 - val_accuracy: 0.8529\n",
            "Epoch 3/3\n",
            "244/244 [==============================] - 3s 11ms/step - loss: 0.4110 - accuracy: 0.8571 - val_loss: 0.4180 - val_accuracy: 0.8529\n",
            "121/121 [==============================] - 1s 5ms/step\n",
            "### q_no 13 grp 13-22\n",
            "3849\n"
          ]
        },
        {
          "output_type": "stream",
          "name": "stderr",
          "text": [
            "<ipython-input-45-1ee836004601>:37: SettingWithCopyWarning: \n",
            "A value is trying to be set on a copy of a slice from a DataFrame.\n",
            "Try using .loc[row_indexer,col_indexer] = value instead\n",
            "\n",
            "See the caveats in the documentation: https://pandas.pydata.org/pandas-docs/stable/user_guide/indexing.html#returning-a-view-versus-a-copy\n",
            "  train_df.loc[:, \"correct\"] = train_labels[\"correct\"]\n",
            "<ipython-input-45-1ee836004601>:38: SettingWithCopyWarning: \n",
            "A value is trying to be set on a copy of a slice from a DataFrame.\n",
            "Try using .loc[row_indexer,col_indexer] = value instead\n",
            "\n",
            "See the caveats in the documentation: https://pandas.pydata.org/pandas-docs/stable/user_guide/indexing.html#returning-a-view-versus-a-copy\n",
            "  valid_df.loc[:, \"correct\"] = valid_labels[\"correct\"]\n"
          ]
        },
        {
          "output_type": "stream",
          "name": "stdout",
          "text": [
            "Epoch 1/5\n",
            "244/244 [==============================] - 7s 15ms/step - loss: 0.5878 - accuracy: 0.7327 - val_loss: 0.5858 - val_accuracy: 0.7282\n",
            "Epoch 2/5\n",
            "244/244 [==============================] - 3s 11ms/step - loss: 0.5815 - accuracy: 0.7327 - val_loss: 0.5861 - val_accuracy: 0.7282\n",
            "Epoch 3/5\n",
            "244/244 [==============================] - 3s 11ms/step - loss: 0.5811 - accuracy: 0.7327 - val_loss: 0.5863 - val_accuracy: 0.7282\n",
            "Epoch 4/5\n",
            "244/244 [==============================] - 3s 13ms/step - loss: 0.5810 - accuracy: 0.7327 - val_loss: 0.5866 - val_accuracy: 0.7282\n",
            "Epoch 5/5\n",
            "244/244 [==============================] - 3s 11ms/step - loss: 0.5808 - accuracy: 0.7327 - val_loss: 0.5872 - val_accuracy: 0.7282\n",
            "121/121 [==============================] - 1s 4ms/step\n",
            "### q_no 14 grp 13-22\n",
            "3849\n"
          ]
        },
        {
          "output_type": "stream",
          "name": "stderr",
          "text": [
            "<ipython-input-45-1ee836004601>:37: SettingWithCopyWarning: \n",
            "A value is trying to be set on a copy of a slice from a DataFrame.\n",
            "Try using .loc[row_indexer,col_indexer] = value instead\n",
            "\n",
            "See the caveats in the documentation: https://pandas.pydata.org/pandas-docs/stable/user_guide/indexing.html#returning-a-view-versus-a-copy\n",
            "  train_df.loc[:, \"correct\"] = train_labels[\"correct\"]\n",
            "<ipython-input-45-1ee836004601>:38: SettingWithCopyWarning: \n",
            "A value is trying to be set on a copy of a slice from a DataFrame.\n",
            "Try using .loc[row_indexer,col_indexer] = value instead\n",
            "\n",
            "See the caveats in the documentation: https://pandas.pydata.org/pandas-docs/stable/user_guide/indexing.html#returning-a-view-versus-a-copy\n",
            "  valid_df.loc[:, \"correct\"] = valid_labels[\"correct\"]\n"
          ]
        },
        {
          "output_type": "stream",
          "name": "stdout",
          "text": [
            "Epoch 1/3\n",
            "244/244 [==============================] - 7s 17ms/step - loss: 0.6231 - accuracy: 0.6876 - val_loss: 0.6201 - val_accuracy: 0.6894\n",
            "Epoch 2/3\n",
            "244/244 [==============================] - 3s 11ms/step - loss: 0.6196 - accuracy: 0.6904 - val_loss: 0.6223 - val_accuracy: 0.6894\n",
            "Epoch 3/3\n",
            "244/244 [==============================] - 3s 11ms/step - loss: 0.6195 - accuracy: 0.6904 - val_loss: 0.6201 - val_accuracy: 0.6894\n",
            "121/121 [==============================] - 1s 5ms/step\n",
            "### q_no 15 grp 13-22\n",
            "3849\n"
          ]
        },
        {
          "output_type": "stream",
          "name": "stderr",
          "text": [
            "<ipython-input-45-1ee836004601>:37: SettingWithCopyWarning: \n",
            "A value is trying to be set on a copy of a slice from a DataFrame.\n",
            "Try using .loc[row_indexer,col_indexer] = value instead\n",
            "\n",
            "See the caveats in the documentation: https://pandas.pydata.org/pandas-docs/stable/user_guide/indexing.html#returning-a-view-versus-a-copy\n",
            "  train_df.loc[:, \"correct\"] = train_labels[\"correct\"]\n",
            "<ipython-input-45-1ee836004601>:38: SettingWithCopyWarning: \n",
            "A value is trying to be set on a copy of a slice from a DataFrame.\n",
            "Try using .loc[row_indexer,col_indexer] = value instead\n",
            "\n",
            "See the caveats in the documentation: https://pandas.pydata.org/pandas-docs/stable/user_guide/indexing.html#returning-a-view-versus-a-copy\n",
            "  valid_df.loc[:, \"correct\"] = valid_labels[\"correct\"]\n"
          ]
        },
        {
          "output_type": "stream",
          "name": "stdout",
          "text": [
            "Epoch 1/5\n",
            "244/244 [==============================] - 7s 15ms/step - loss: 0.6920 - accuracy: 0.5285 - val_loss: 0.6922 - val_accuracy: 0.5223\n",
            "Epoch 2/5\n",
            "244/244 [==============================] - 3s 11ms/step - loss: 0.6917 - accuracy: 0.5285 - val_loss: 0.6923 - val_accuracy: 0.5223\n",
            "Epoch 3/5\n",
            "244/244 [==============================] - 3s 12ms/step - loss: 0.6917 - accuracy: 0.5285 - val_loss: 0.6922 - val_accuracy: 0.5223\n",
            "Epoch 4/5\n",
            "244/244 [==============================] - 3s 12ms/step - loss: 0.6916 - accuracy: 0.5285 - val_loss: 0.6922 - val_accuracy: 0.5223\n",
            "Epoch 5/5\n",
            "244/244 [==============================] - 3s 12ms/step - loss: 0.6916 - accuracy: 0.5285 - val_loss: 0.6922 - val_accuracy: 0.5223\n",
            "121/121 [==============================] - 1s 4ms/step\n",
            "### q_no 16 grp 13-22\n",
            "3849\n"
          ]
        },
        {
          "output_type": "stream",
          "name": "stderr",
          "text": [
            "<ipython-input-45-1ee836004601>:37: SettingWithCopyWarning: \n",
            "A value is trying to be set on a copy of a slice from a DataFrame.\n",
            "Try using .loc[row_indexer,col_indexer] = value instead\n",
            "\n",
            "See the caveats in the documentation: https://pandas.pydata.org/pandas-docs/stable/user_guide/indexing.html#returning-a-view-versus-a-copy\n",
            "  train_df.loc[:, \"correct\"] = train_labels[\"correct\"]\n",
            "<ipython-input-45-1ee836004601>:38: SettingWithCopyWarning: \n",
            "A value is trying to be set on a copy of a slice from a DataFrame.\n",
            "Try using .loc[row_indexer,col_indexer] = value instead\n",
            "\n",
            "See the caveats in the documentation: https://pandas.pydata.org/pandas-docs/stable/user_guide/indexing.html#returning-a-view-versus-a-copy\n",
            "  valid_df.loc[:, \"correct\"] = valid_labels[\"correct\"]\n"
          ]
        },
        {
          "output_type": "stream",
          "name": "stdout",
          "text": [
            "Epoch 1/3\n",
            "244/244 [==============================] - 7s 17ms/step - loss: 0.5907 - accuracy: 0.7268 - val_loss: 0.5824 - val_accuracy: 0.7310\n",
            "Epoch 2/3\n",
            "244/244 [==============================] - 3s 11ms/step - loss: 0.5866 - accuracy: 0.7278 - val_loss: 0.5827 - val_accuracy: 0.7310\n",
            "Epoch 3/3\n",
            "244/244 [==============================] - 3s 11ms/step - loss: 0.5863 - accuracy: 0.7278 - val_loss: 0.5822 - val_accuracy: 0.7310\n",
            "121/121 [==============================] - 1s 4ms/step\n",
            "### q_no 17 grp 13-22\n",
            "3849\n"
          ]
        },
        {
          "output_type": "stream",
          "name": "stderr",
          "text": [
            "<ipython-input-45-1ee836004601>:37: SettingWithCopyWarning: \n",
            "A value is trying to be set on a copy of a slice from a DataFrame.\n",
            "Try using .loc[row_indexer,col_indexer] = value instead\n",
            "\n",
            "See the caveats in the documentation: https://pandas.pydata.org/pandas-docs/stable/user_guide/indexing.html#returning-a-view-versus-a-copy\n",
            "  train_df.loc[:, \"correct\"] = train_labels[\"correct\"]\n",
            "<ipython-input-45-1ee836004601>:38: SettingWithCopyWarning: \n",
            "A value is trying to be set on a copy of a slice from a DataFrame.\n",
            "Try using .loc[row_indexer,col_indexer] = value instead\n",
            "\n",
            "See the caveats in the documentation: https://pandas.pydata.org/pandas-docs/stable/user_guide/indexing.html#returning-a-view-versus-a-copy\n",
            "  valid_df.loc[:, \"correct\"] = valid_labels[\"correct\"]\n"
          ]
        },
        {
          "output_type": "stream",
          "name": "stdout",
          "text": [
            "Epoch 1/3\n",
            "244/244 [==============================] - 10s 16ms/step - loss: 0.6335 - accuracy: 0.6759 - val_loss: 0.6256 - val_accuracy: 0.6819\n",
            "Epoch 2/3\n",
            "244/244 [==============================] - 3s 12ms/step - loss: 0.6306 - accuracy: 0.6771 - val_loss: 0.6268 - val_accuracy: 0.6819\n",
            "Epoch 3/3\n",
            "244/244 [==============================] - 3s 12ms/step - loss: 0.6298 - accuracy: 0.6771 - val_loss: 0.6254 - val_accuracy: 0.6819\n",
            "121/121 [==============================] - 1s 4ms/step\n",
            "### q_no 18 grp 13-22\n",
            "3849\n"
          ]
        },
        {
          "output_type": "stream",
          "name": "stderr",
          "text": [
            "<ipython-input-45-1ee836004601>:37: SettingWithCopyWarning: \n",
            "A value is trying to be set on a copy of a slice from a DataFrame.\n",
            "Try using .loc[row_indexer,col_indexer] = value instead\n",
            "\n",
            "See the caveats in the documentation: https://pandas.pydata.org/pandas-docs/stable/user_guide/indexing.html#returning-a-view-versus-a-copy\n",
            "  train_df.loc[:, \"correct\"] = train_labels[\"correct\"]\n",
            "<ipython-input-45-1ee836004601>:38: SettingWithCopyWarning: \n",
            "A value is trying to be set on a copy of a slice from a DataFrame.\n",
            "Try using .loc[row_indexer,col_indexer] = value instead\n",
            "\n",
            "See the caveats in the documentation: https://pandas.pydata.org/pandas-docs/stable/user_guide/indexing.html#returning-a-view-versus-a-copy\n",
            "  valid_df.loc[:, \"correct\"] = valid_labels[\"correct\"]\n"
          ]
        },
        {
          "output_type": "stream",
          "name": "stdout",
          "text": [
            "Epoch 1/3\n",
            "244/244 [==============================] - 7s 17ms/step - loss: 0.2211 - accuracy: 0.9459 - val_loss: 0.2047 - val_accuracy: 0.9480\n",
            "Epoch 2/3\n",
            "244/244 [==============================] - 3s 11ms/step - loss: 0.2001 - accuracy: 0.9498 - val_loss: 0.2063 - val_accuracy: 0.9480\n",
            "Epoch 3/3\n",
            "244/244 [==============================] - 3s 11ms/step - loss: 0.1998 - accuracy: 0.9498 - val_loss: 0.2046 - val_accuracy: 0.9480\n",
            "121/121 [==============================] - 1s 4ms/step\n",
            "Best threshold  0.6000000000000002 \tF1 score  0.64752996\n"
          ]
        }
      ],
      "source": [
        "sequence_length = 100\n",
        "\n",
        "from sklearn.model_selection import KFold\n",
        "k_fold = KFold(n_splits=5, shuffle=True, random_state=42)\n",
        "\n",
        "for train_indices, test_indices in k_fold.split(dataset_df.index.unique()):\n",
        "  train_users, valid_users = dataset_df.index[train_indices], dataset_df.index[test_indices]\n",
        "  train_x = dataset_df[dataset_df.index.isin(train_users)]\n",
        "  valid_x = dataset_df[dataset_df.index.isin(valid_users)]\n",
        "  model_per_question = []\n",
        "  VALID_USER_LIST = valid_x.index.unique()\n",
        "\n",
        "  prediction_df = pd.DataFrame(data=np.zeros((len(VALID_USER_LIST),18)), index=VALID_USER_LIST)\n",
        "\n",
        "\n",
        "  # Iterate through questions 1 to 18 to train models for each question, evaluate\n",
        "  # the trained model and store the predicted values.\n",
        "  for q_no in range(1,19):\n",
        "      # Select level group for the question based on the q_no.\n",
        "      if q_no<=4: grp = '0-4'\n",
        "      elif q_no<=12: grp = '5-12'\n",
        "      elif q_no<=18: grp = '13-22'\n",
        "      print(\"### q_no\", q_no, \"grp\", grp)\n",
        "\n",
        "      # Filter the rows in the datasets based on the selected level group.\n",
        "      train_df = train_x.loc[train_x.level_group == grp]\n",
        "      train_users = train_df.index.values\n",
        "      valid_df = valid_x.loc[valid_x.level_group == grp]\n",
        "      valid_users = valid_df.index.values\n",
        "\n",
        "      print(len(valid_users))\n",
        "\n",
        "      # Select the labels for the related q_no.\n",
        "      train_labels = labels.loc[labels.q==q_no].set_index('session').loc[train_users]\n",
        "      valid_labels = labels.loc[labels.q==q_no].set_index('session').loc[valid_users]\n",
        "\n",
        "      # Add the label to the filtered datasets.\n",
        "      train_df.loc[:, \"correct\"] = train_labels[\"correct\"]\n",
        "      valid_df.loc[:, \"correct\"] = valid_labels[\"correct\"]\n",
        "\n",
        "\n",
        "\n",
        "      # Prepare data for LSTM\n",
        "      train_data, train_labels, train_users = prepare_data(train_df, sequence_length)\n",
        "      valid_data, valid_labels, valid_users = prepare_data(valid_df, sequence_length)\n",
        "\n",
        "\n",
        "\n",
        "\n",
        "\n",
        "      #print(len(valid_data))\n",
        "      #print(len(valid_labels))\n",
        "\n",
        "      # Define the model\n",
        "      model = Sequential()\n",
        "      model.add(LSTM(64, input_shape=(sequence_length, train_data.shape[-1]), return_sequences=True))\n",
        "      model.add(LSTM(32, return_sequences=False))\n",
        "      model.add(Dense(1, activation='sigmoid'))\n",
        "\n",
        "      # Compile the model\n",
        "      lr_schedule = tf.keras.optimizers.schedules.ExponentialDecay(\n",
        "      initial_learning_rate=0.001,\n",
        "      decay_steps=100,\n",
        "      decay_rate=0.9\n",
        "      )\n",
        "      optimizer = tf.keras.optimizers.Adam(learning_rate=lr_schedule)\n",
        "\n",
        "      model.compile(loss='binary_crossentropy', optimizer=optimizer, metrics=['accuracy'])\n",
        "\n",
        "      # Train the model\n",
        "      if q_no in [1,5,10,11,13,15]:\n",
        "        model.fit(train_data, train_labels, epochs=5, validation_data=(valid_data, valid_labels))\n",
        "      else:\n",
        "        model.fit(train_data, train_labels, epochs=3, validation_data=(valid_data, valid_labels))\n",
        "\n",
        "      # Store the model\n",
        "      models[f'{grp}_{q_no}'] = model\n",
        "\n",
        "      # Evaluate the model\n",
        "      # evaluation = model.evaluate(valid_data, valid_labels)\n",
        "      # evaluation_dict[q_no] = evaluation[1]\n",
        "      # print(f\"Validation accuracy: {evaluation[1]}\")\n",
        "\n",
        "      # Make predictions\n",
        "      predictions = model.predict(valid_data)\n",
        "      prediction_df.loc[valid_users, q_no-1] = predictions.flatten()\n",
        "\n",
        "      binary_predictions = [1 if p > 0.6200000000000002 else 0 for p in predictions]\n",
        "      # Get the true labels\n",
        "      true_labels = valid_labels[:len(valid_data)]\n",
        "\n",
        "      # Calculate the F1 score and add it to the dictionary\n",
        "      # f1 = f1_score(true_labels, binary_predictions)\n",
        "      # f1_scores[q_no] = f1\n",
        "\n",
        "  max_score = 0; best_threshold = 0\n",
        "\n",
        "  # Create a dataframe of required size:\n",
        "  # (no: of users in validation set x no: of questions) initialized to zero values\n",
        "  # to store true values of the label `correct`.\n",
        "  true_df = pd.DataFrame(data=np.zeros((len(VALID_USER_LIST),18)), index=VALID_USER_LIST)\n",
        "  for i in range(18):\n",
        "      # Get the true labels.\n",
        "      tmp = labels.loc[labels.q == i+1].set_index('session').loc[VALID_USER_LIST]\n",
        "      true_df[i] = tmp.correct.values\n",
        "\n",
        "  # Loop through threshold values from 0.4 to 0.8 and select the threshold with\n",
        "  # the highest `F1 score`.\n",
        "  for threshold in np.arange(0.4,0.8,0.01):\n",
        "      metric = tfa.metrics.F1Score(num_classes=2,average=\"macro\",threshold=threshold)\n",
        "      y_true = tf.one_hot(true_df.values.reshape((-1)), depth=2)\n",
        "      y_pred = tf.one_hot((prediction_df.values.reshape((-1))>threshold).astype('int'), depth=2)\n",
        "      metric.update_state(y_true, y_pred)\n",
        "      f1_score = metric.result().numpy()\n",
        "      if f1_score > max_score:\n",
        "          max_score = f1_score\n",
        "          best_threshold = threshold\n",
        "\n",
        "\n",
        "  print(\"Best threshold \", best_threshold, \"\\tF1 score \", max_score)\n",
        "\n"
      ]
    },
    {
      "cell_type": "code",
      "execution_count": null,
      "metadata": {
        "id": "Plz1_IGAb0ev"
      },
      "outputs": [],
      "source": [
        "# Ensemble model result\n",
        "LSTM_file_path ='/content/drive/MyDrive/9417project/predictions/LSTM_pred.npy'\n",
        "SVM_file_path ='/content/drive/MyDrive/9417project/predictions/SVM_pred.npy'\n",
        "np.save(LSTM_file_path,prediction_df)\n",
        "LSTM_pred = np.load(LSTM_file_path,allow_pickle=True)\n"
      ]
    }
  ],
  "metadata": {
    "accelerator": "GPU",
    "colab": {
      "machine_shape": "hm",
      "provenance": [],
      "gpuType": "T4",
      "authorship_tag": "ABX9TyO02r1Kmy4+4zOuAyd3GV/l",
      "include_colab_link": true
    },
    "kernelspec": {
      "display_name": "Python 3",
      "name": "python3"
    },
    "language_info": {
      "name": "python"
    }
  },
  "nbformat": 4,
  "nbformat_minor": 0
}