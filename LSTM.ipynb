{
  "cells": [
    {
      "cell_type": "markdown",
      "metadata": {
        "id": "view-in-github",
        "colab_type": "text"
      },
      "source": [
        "<a href=\"https://colab.research.google.com/github/LeechXDD/9417_Pro_Project/blob/main/LSTM.ipynb\" target=\"_parent\"><img src=\"https://colab.research.google.com/assets/colab-badge.svg\" alt=\"Open In Colab\"/></a>"
      ]
    },
    {
      "cell_type": "code",
      "execution_count": 18,
      "metadata": {
        "colab": {
          "base_uri": "https://localhost:8080/"
        },
        "id": "ueh5uId-wMpu",
        "outputId": "f6e386b8-f0a3-4360-c6df-55f2d1a690c3"
      },
      "outputs": [
        {
          "output_type": "stream",
          "name": "stdout",
          "text": [
            "Requirement already satisfied: tensorflow_addons in /usr/local/lib/python3.10/dist-packages (0.21.0)\n",
            "Requirement already satisfied: packaging in /usr/local/lib/python3.10/dist-packages (from tensorflow_addons) (23.1)\n",
            "Requirement already satisfied: typeguard<3.0.0,>=2.7 in /usr/local/lib/python3.10/dist-packages (from tensorflow_addons) (2.13.3)\n"
          ]
        }
      ],
      "source": [
        "!pip install tensorflow_addons\n",
        "from tensorflow.keras.models import Sequential\n",
        "from tensorflow.keras.layers import LSTM, Dense\n",
        "import numpy as np\n",
        "import pandas as pd\n",
        "import tensorflow as tf\n",
        "from sklearn.metrics import f1_score\n",
        "import tensorflow_addons as tfa"
      ]
    },
    {
      "cell_type": "markdown",
      "metadata": {
        "id": "LbSLs7pXxMIq"
      },
      "source": [
        "##Data preprocessing"
      ]
    },
    {
      "cell_type": "code",
      "execution_count": 19,
      "metadata": {
        "id": "-2j4bSkeVusQ"
      },
      "outputs": [],
      "source": [
        "def get_minimal_dtype(df):\n",
        "    start_mem = df.memory_usage().sum() / 1024**2\n",
        "    print('Memory usage of dataframe is {:.2f} MB'.format(start_mem))\n",
        "\n",
        "    for col in df.columns:\n",
        "        col_type = df[col].dtype.name\n",
        "        if ((col_type != 'datetime64[ns]') & (col_type != 'category')):\n",
        "            if (col_type != 'object'):\n",
        "                c_min = df[col].min()\n",
        "                c_max = df[col].max()\n",
        "\n",
        "                if str(col_type)[:3] == 'int':\n",
        "                    if c_min > np.iinfo(np.int8).min and c_max < np.iinfo(np.int8).max:\n",
        "                        df[col] = df[col].astype(np.int8)\n",
        "                    elif c_min > np.iinfo(np.int16).min and c_max < np.iinfo(np.int16).max:\n",
        "                        df[col] = df[col].astype(np.int16)\n",
        "                    elif c_min > np.iinfo(np.int32).min and c_max < np.iinfo(np.int32).max:\n",
        "                        df[col] = df[col].astype(np.int32)\n",
        "                    elif c_min > np.iinfo(np.int64).min and c_max < np.iinfo(np.int64).max:\n",
        "                        df[col] = df[col].astype(np.int64)\n",
        "\n",
        "                else:\n",
        "                    if c_min > np.finfo(np.float16).min and c_max < np.finfo(np.float16).max:\n",
        "                        df[col] = df[col].astype(np.float16)\n",
        "                    elif c_min > np.finfo(np.float32).min and c_max < np.finfo(np.float32).max:\n",
        "                        df[col] = df[col].astype(np.float32)\n",
        "                    else:\n",
        "                        pass\n",
        "            else:\n",
        "                df[col] = df[col].astype('category')\n",
        "    mem_usg = df.memory_usage().sum() / 1024**2\n",
        "    print(\"Memory usage became: \",mem_usg,\" MB\")\n",
        "\n",
        "    return df"
      ]
    },
    {
      "cell_type": "code",
      "execution_count": 20,
      "metadata": {
        "id": "jLQoO_WCxMqt"
      },
      "outputs": [],
      "source": [
        "dtypes={\n",
        "    'elapsed_time':np.int32,\n",
        "    'event_name':'category',\n",
        "    'name':'category',\n",
        "    'level':np.uint8,\n",
        "    'room_coor_x':np.float32,\n",
        "    'room_coor_y':np.float32,\n",
        "    'screen_coor_x':np.float32,\n",
        "    'screen_coor_y':np.float32,\n",
        "    'hover_duration':np.float32,\n",
        "    'text':'category',\n",
        "    'fqid':'category',\n",
        "    'room_fqid':'category',\n",
        "    'text_fqid':'category',\n",
        "    'fullscreen':'category',\n",
        "    'hq':'category',\n",
        "    'music':'category',\n",
        "    'level_group':'category'}"
      ]
    },
    {
      "cell_type": "code",
      "execution_count": 21,
      "metadata": {
        "colab": {
          "base_uri": "https://localhost:8080/"
        },
        "id": "xGcxMlQPxOzf",
        "outputId": "47f0d262-d13c-4b51-c617-e68664de9783"
      },
      "outputs": [
        {
          "output_type": "stream",
          "name": "stdout",
          "text": [
            "Drive already mounted at /content/drive; to attempt to forcibly remount, call drive.mount(\"/content/drive\", force_remount=True).\n",
            "Memory usage of dataframe is 1529.83 MB\n",
            "Memory usage became:  1053.3384094238281  MB\n"
          ]
        }
      ],
      "source": [
        "from google.colab import drive\n",
        "drive.mount('/content/drive')\n",
        "\n",
        "dataset_df = pd.read_csv('/content/drive/MyDrive/9417project/predict-student-performance-from-game-play.zip (Unzipped Files)/train.csv', dtype=dtypes)\n",
        "dataset_df = get_minimal_dtype(dataset_df)\n",
        "labels = pd.read_csv('/content/drive/MyDrive/9417project/predict-student-performance-from-game-play.zip (Unzipped Files)/train_labels.csv')"
      ]
    },
    {
      "cell_type": "code",
      "execution_count": 22,
      "metadata": {
        "id": "9tPTBMuBxSuH"
      },
      "outputs": [],
      "source": [
        "# Find out columns with missing values\n",
        "missing_values = dataset_df.isnull().sum()\n",
        "\n",
        "# Fill missing values\n",
        "dataset_df['page'].fillna(-1, inplace=True)\n",
        "dataset_df['room_coor_x'].fillna(-1, inplace=True)\n",
        "dataset_df['room_coor_y'].fillna(-1, inplace=True)\n",
        "dataset_df['screen_coor_x'].fillna(-1, inplace=True)\n",
        "dataset_df['screen_coor_y'].fillna(-1, inplace=True)\n",
        "dataset_df['hover_duration'].fillna(-1, inplace=True)\n",
        "\n",
        "# Cap 'elapsed_time' at the 99th percentile\n",
        "dataset_df['elapsed_time'] = dataset_df['elapsed_time'].clip(upper=dataset_df['elapsed_time'].quantile(0.99))\n",
        "\n",
        "labels['session'] = labels.session_id.apply(lambda x: int(x.split('_')[0]) )\n",
        "labels['q'] = labels.session_id.apply(lambda x: int(x.split('_')[-1][1:]) )"
      ]
    },
    {
      "cell_type": "code",
      "execution_count": 23,
      "metadata": {
        "id": "Xrz9SFEaxWBC"
      },
      "outputs": [],
      "source": [
        "\n",
        "CATEGORICAL = ['event_name', 'name','fqid', 'room_fqid', 'text_fqid']\n",
        "NUMERICAL = ['elapsed_time','level','page','room_coor_x', 'room_coor_y',\n",
        "        'screen_coor_x', 'screen_coor_y', 'hover_duration']\n",
        "BINNING = ['elapsed_time', 'room_coor_x', 'room_coor_y', 'screen_coor_x', 'screen_coor_y', 'hover_duration']\n",
        "\n",
        "# Define feature engineering function\n",
        "def feature_engineer(dataset_df):\n",
        "    dfs = []\n",
        "    for c in CATEGORICAL:\n",
        "        tmp = dataset_df.groupby(['session_id','level_group'])[c].agg('nunique')\n",
        "        tmp.name = c + '_nunique'\n",
        "        dfs.append(tmp)\n",
        "\n",
        "    for c in NUMERICAL:\n",
        "        tmp = dataset_df.groupby(['session_id','level_group'])[c].agg('mean')\n",
        "        tmp.name = c + '_mean'\n",
        "        dfs.append(tmp)\n",
        "\n",
        "        # Compute standard deviation only for certain features\n",
        "        if c in BINNING:\n",
        "            tmp = dataset_df.groupby(['session_id','level_group'])[c].agg('std')\n",
        "            tmp.name = c + '_std'\n",
        "            dfs.append(tmp)\n",
        "\n",
        "        # Binning\n",
        "        if c in BINNING:  # Check if column is in the list of columns to bin\n",
        "            dataset_df[c+'_bin'] = pd.qcut(dataset_df[c], q=4, duplicates='drop')\n",
        "            tmp = dataset_df.groupby(['session_id','level_group'])[c+'_bin'].agg('count')\n",
        "            tmp.name = c + '_bin_count'\n",
        "            dfs.append(tmp)\n",
        "\n",
        "    # Interaction between screen coordinates\n",
        "    if 'screen_coor_x' in NUMERICAL and 'screen_coor_y' in NUMERICAL:\n",
        "        # Compute Euclidean distance instead of product\n",
        "        dataset_df['screen_coor'] = np.sqrt(dataset_df['screen_coor_x']**2 + dataset_df['screen_coor_y']**2)\n",
        "        tmp = dataset_df.groupby(['session_id','level_group'])['screen_coor'].agg(['mean', 'std'])\n",
        "        tmp.columns = ['screen_coor_mean', 'screen_coor_std']\n",
        "        dfs.append(tmp)\n",
        "\n",
        "    # Aggregated features\n",
        "    if 'hover_duration' in NUMERICAL:\n",
        "        dataset_df['total_hover_duration'] = dataset_df.groupby(['session_id'])['hover_duration'].transform('sum')\n",
        "        tmp = dataset_df.groupby(['session_id','level_group'])['total_hover_duration'].agg('mean')\n",
        "        tmp.name = 'total_hover_duration_mean'\n",
        "        dfs.append(tmp)\n",
        "\n",
        "    dataset_df = pd.concat(dfs,axis=1)\n",
        "    dataset_df = dataset_df.fillna(-1)\n",
        "    dataset_df = dataset_df.reset_index()\n",
        "    dataset_df = dataset_df.set_index('session_id')\n",
        "\n",
        "    dataset_df['screen_coor_mean'] = dataset_df['screen_coor_mean'].astype('int32')\n",
        "    for col in dataset_df.select_dtypes(include='float16').columns:\n",
        "        dataset_df[col] = dataset_df[col].astype('float32')\n",
        "\n",
        "    return dataset_df"
      ]
    },
    {
      "cell_type": "code",
      "source": [
        "def partial_loader(df):\n",
        "  split = 5\n",
        "  epoch_length = df.shape[0]//split\n",
        "  start = 0\n",
        "  partial_df = df.iloc[start:start+epoch_length].copy(deep = True)\n",
        "  partial_df = feature_engineer(partial_df)\n",
        "  start += epoch_length\n",
        "  for i in range(split - 2):\n",
        "    partial_df = pd.concat([partial_df,feature_engineer(df.iloc[start:start+epoch_length].copy(deep = True))])\n",
        "    start += epoch_length\n",
        "  partial_df = pd.concat([partial_df,feature_engineer(df.iloc[start:])])\n",
        "  return partial_df"
      ],
      "metadata": {
        "id": "vNeQf0DIxX98"
      },
      "execution_count": 24,
      "outputs": []
    },
    {
      "cell_type": "code",
      "execution_count": 25,
      "metadata": {
        "id": "yCavLpTFxXqP",
        "colab": {
          "base_uri": "https://localhost:8080/"
        },
        "outputId": "c96d0c90-c4b5-43fb-844c-ee4c1069bf7f"
      },
      "outputs": [
        {
          "output_type": "stream",
          "name": "stderr",
          "text": [
            "<ipython-input-23-94e2abffbb5a>:27: SettingWithCopyWarning: \n",
            "A value is trying to be set on a copy of a slice from a DataFrame.\n",
            "Try using .loc[row_indexer,col_indexer] = value instead\n",
            "\n",
            "See the caveats in the documentation: https://pandas.pydata.org/pandas-docs/stable/user_guide/indexing.html#returning-a-view-versus-a-copy\n",
            "  dataset_df[c+'_bin'] = pd.qcut(dataset_df[c], q=4, duplicates='drop')\n",
            "<ipython-input-23-94e2abffbb5a>:27: SettingWithCopyWarning: \n",
            "A value is trying to be set on a copy of a slice from a DataFrame.\n",
            "Try using .loc[row_indexer,col_indexer] = value instead\n",
            "\n",
            "See the caveats in the documentation: https://pandas.pydata.org/pandas-docs/stable/user_guide/indexing.html#returning-a-view-versus-a-copy\n",
            "  dataset_df[c+'_bin'] = pd.qcut(dataset_df[c], q=4, duplicates='drop')\n",
            "<ipython-input-23-94e2abffbb5a>:27: SettingWithCopyWarning: \n",
            "A value is trying to be set on a copy of a slice from a DataFrame.\n",
            "Try using .loc[row_indexer,col_indexer] = value instead\n",
            "\n",
            "See the caveats in the documentation: https://pandas.pydata.org/pandas-docs/stable/user_guide/indexing.html#returning-a-view-versus-a-copy\n",
            "  dataset_df[c+'_bin'] = pd.qcut(dataset_df[c], q=4, duplicates='drop')\n",
            "<ipython-input-23-94e2abffbb5a>:27: SettingWithCopyWarning: \n",
            "A value is trying to be set on a copy of a slice from a DataFrame.\n",
            "Try using .loc[row_indexer,col_indexer] = value instead\n",
            "\n",
            "See the caveats in the documentation: https://pandas.pydata.org/pandas-docs/stable/user_guide/indexing.html#returning-a-view-versus-a-copy\n",
            "  dataset_df[c+'_bin'] = pd.qcut(dataset_df[c], q=4, duplicates='drop')\n",
            "<ipython-input-23-94e2abffbb5a>:27: SettingWithCopyWarning: \n",
            "A value is trying to be set on a copy of a slice from a DataFrame.\n",
            "Try using .loc[row_indexer,col_indexer] = value instead\n",
            "\n",
            "See the caveats in the documentation: https://pandas.pydata.org/pandas-docs/stable/user_guide/indexing.html#returning-a-view-versus-a-copy\n",
            "  dataset_df[c+'_bin'] = pd.qcut(dataset_df[c], q=4, duplicates='drop')\n",
            "<ipython-input-23-94e2abffbb5a>:27: SettingWithCopyWarning: \n",
            "A value is trying to be set on a copy of a slice from a DataFrame.\n",
            "Try using .loc[row_indexer,col_indexer] = value instead\n",
            "\n",
            "See the caveats in the documentation: https://pandas.pydata.org/pandas-docs/stable/user_guide/indexing.html#returning-a-view-versus-a-copy\n",
            "  dataset_df[c+'_bin'] = pd.qcut(dataset_df[c], q=4, duplicates='drop')\n",
            "<ipython-input-23-94e2abffbb5a>:35: SettingWithCopyWarning: \n",
            "A value is trying to be set on a copy of a slice from a DataFrame.\n",
            "Try using .loc[row_indexer,col_indexer] = value instead\n",
            "\n",
            "See the caveats in the documentation: https://pandas.pydata.org/pandas-docs/stable/user_guide/indexing.html#returning-a-view-versus-a-copy\n",
            "  dataset_df['screen_coor'] = np.sqrt(dataset_df['screen_coor_x']**2 + dataset_df['screen_coor_y']**2)\n",
            "<ipython-input-23-94e2abffbb5a>:42: SettingWithCopyWarning: \n",
            "A value is trying to be set on a copy of a slice from a DataFrame.\n",
            "Try using .loc[row_indexer,col_indexer] = value instead\n",
            "\n",
            "See the caveats in the documentation: https://pandas.pydata.org/pandas-docs/stable/user_guide/indexing.html#returning-a-view-versus-a-copy\n",
            "  dataset_df['total_hover_duration'] = dataset_df.groupby(['session_id'])['hover_duration'].transform('sum')\n"
          ]
        }
      ],
      "source": [
        "dataset_df = partial_loader(dataset_df)"
      ]
    },
    {
      "cell_type": "code",
      "execution_count": 26,
      "metadata": {
        "id": "avtUSlrWxZMX"
      },
      "outputs": [],
      "source": [
        "def split_dataset(dataset, test_ratio=0.20):\n",
        "    USER_LIST = dataset.index.unique()\n",
        "    split = int(len(USER_LIST) * (1 - 0.20))\n",
        "    return dataset.loc[USER_LIST[:split]], dataset.loc[USER_LIST[split:]]\n",
        "\n",
        "train_x, valid_x = split_dataset(dataset_df)"
      ]
    },
    {
      "cell_type": "code",
      "execution_count": 27,
      "metadata": {
        "id": "myvynSmyxu4B"
      },
      "outputs": [],
      "source": [
        "# Fetch the unique list of user sessions in the validation dataset. We assigned\n",
        "# `session_id` as the index of our feature engineered dataset. Hence fetching\n",
        "# the unique values in the index column will give us a list of users in the\n",
        "# validation set.\n",
        "VALID_USER_LIST = valid_x.index.unique()\n",
        "\n",
        "# Create a dataframe for storing the predictions of each question for all users\n",
        "# in the validation set.\n",
        "# For this, the required size of the data frame is:\n",
        "# (no: of users in validation set  x no of questions).\n",
        "# We will initialize all the predicted values in the data frame to zero.\n",
        "# The dataframe's index column is the user `session_id`s.\n",
        "prediction_df = pd.DataFrame(data=np.zeros((len(VALID_USER_LIST),18)), index=VALID_USER_LIST)\n",
        "\n",
        "# Create an empty dictionary to store the models created for each question.\n",
        "models = {}\n",
        "\n",
        "f1_scores = {}\n",
        "\n",
        "# Create an empty dictionary to store the evaluation score for each question.\n",
        "evaluation_dict ={}"
      ]
    },
    {
      "cell_type": "code",
      "execution_count": 28,
      "metadata": {
        "id": "XUoHegj2GDVg"
      },
      "outputs": [],
      "source": [
        "def prepare_data(df, sequence_length):\n",
        "\n",
        "    #prepare data for LSTM, based on sequence length.\n",
        "\n",
        "    # Get the last value of correct column\n",
        "    labels = df.groupby(df.index)[\"correct\"].last().values\n",
        "\n",
        "    # Drop the 'correct' and 'level_group' columns from the features to provent target leak\n",
        "    features = df.drop(columns=[\"correct\", \"level_group\"])\n",
        "\n",
        "    data = []\n",
        "    label = []\n",
        "\n",
        "    # Create sequences\n",
        "    for user, group in features.groupby(features.index):\n",
        "        user_features = group.values\n",
        "        if len(user_features) < sequence_length:\n",
        "            padding = np.zeros((sequence_length - len(user_features), user_features.shape[1])) #append zero if features is less than sequence length\n",
        "            user_features = np.concatenate((user_features, padding)) # combine together\n",
        "        data.append(user_features)\n",
        "        label.append(labels[len(data)-1])\n",
        "\n",
        "    # Convert lists to numpy arrays\n",
        "    data = np.array(data)\n",
        "    label = np.array(label)\n",
        "\n",
        "    return data, label\n"
      ]
    },
    {
      "cell_type": "code",
      "execution_count": 29,
      "metadata": {
        "id": "x7zDRR7DyAph"
      },
      "outputs": [],
      "source": [
        "# model define\n",
        "input_shape = (100, 32)"
      ]
    },
    {
      "cell_type": "code",
      "execution_count": 30,
      "metadata": {
        "id": "iYMqGNoW0HHL",
        "colab": {
          "base_uri": "https://localhost:8080/"
        },
        "outputId": "af752f3b-eb5d-403b-e320-56a1272b8998"
      },
      "outputs": [
        {
          "output_type": "stream",
          "name": "stdout",
          "text": [
            "### q_no 1 grp 0-4\n",
            "4713\n"
          ]
        },
        {
          "output_type": "stream",
          "name": "stderr",
          "text": [
            "<ipython-input-30-0703165eee8a>:24: SettingWithCopyWarning: \n",
            "A value is trying to be set on a copy of a slice from a DataFrame.\n",
            "Try using .loc[row_indexer,col_indexer] = value instead\n",
            "\n",
            "See the caveats in the documentation: https://pandas.pydata.org/pandas-docs/stable/user_guide/indexing.html#returning-a-view-versus-a-copy\n",
            "  train_df.loc[:, \"correct\"] = train_labels[\"correct\"]\n",
            "<ipython-input-30-0703165eee8a>:25: SettingWithCopyWarning: \n",
            "A value is trying to be set on a copy of a slice from a DataFrame.\n",
            "Try using .loc[row_indexer,col_indexer] = value instead\n",
            "\n",
            "See the caveats in the documentation: https://pandas.pydata.org/pandas-docs/stable/user_guide/indexing.html#returning-a-view-versus-a-copy\n",
            "  valid_df.loc[:, \"correct\"] = valid_labels[\"correct\"]\n"
          ]
        },
        {
          "output_type": "stream",
          "name": "stdout",
          "text": [
            "4713\n",
            "4713\n",
            "Epoch 1/5\n",
            "590/590 [==============================] - 16s 14ms/step - loss: 0.5886 - accuracy: 0.7256 - val_loss: 0.5830 - val_accuracy: 0.7322\n",
            "Epoch 2/5\n",
            "590/590 [==============================] - 7s 12ms/step - loss: 0.5874 - accuracy: 0.7263 - val_loss: 0.5814 - val_accuracy: 0.7322\n",
            "Epoch 3/5\n",
            "590/590 [==============================] - 7s 13ms/step - loss: 0.5872 - accuracy: 0.7263 - val_loss: 0.5812 - val_accuracy: 0.7322\n",
            "Epoch 4/5\n",
            "590/590 [==============================] - 7s 12ms/step - loss: 0.5871 - accuracy: 0.7263 - val_loss: 0.5811 - val_accuracy: 0.7322\n",
            "Epoch 5/5\n",
            "590/590 [==============================] - 7s 13ms/step - loss: 0.5870 - accuracy: 0.7263 - val_loss: 0.5812 - val_accuracy: 0.7322\n",
            "148/148 [==============================] - 1s 4ms/step\n",
            "### q_no 2 grp 0-4\n",
            "4713\n"
          ]
        },
        {
          "output_type": "stream",
          "name": "stderr",
          "text": [
            "<ipython-input-30-0703165eee8a>:24: SettingWithCopyWarning: \n",
            "A value is trying to be set on a copy of a slice from a DataFrame.\n",
            "Try using .loc[row_indexer,col_indexer] = value instead\n",
            "\n",
            "See the caveats in the documentation: https://pandas.pydata.org/pandas-docs/stable/user_guide/indexing.html#returning-a-view-versus-a-copy\n",
            "  train_df.loc[:, \"correct\"] = train_labels[\"correct\"]\n",
            "<ipython-input-30-0703165eee8a>:25: SettingWithCopyWarning: \n",
            "A value is trying to be set on a copy of a slice from a DataFrame.\n",
            "Try using .loc[row_indexer,col_indexer] = value instead\n",
            "\n",
            "See the caveats in the documentation: https://pandas.pydata.org/pandas-docs/stable/user_guide/indexing.html#returning-a-view-versus-a-copy\n",
            "  valid_df.loc[:, \"correct\"] = valid_labels[\"correct\"]\n"
          ]
        },
        {
          "output_type": "stream",
          "name": "stdout",
          "text": [
            "4713\n",
            "4713\n",
            "Epoch 1/3\n",
            "590/590 [==============================] - 12s 14ms/step - loss: 0.1120 - accuracy: 0.9780 - val_loss: 0.1162 - val_accuracy: 0.9756\n",
            "Epoch 2/3\n",
            "590/590 [==============================] - 7s 13ms/step - loss: 0.0998 - accuracy: 0.9796 - val_loss: 0.1153 - val_accuracy: 0.9756\n",
            "Epoch 3/3\n",
            "590/590 [==============================] - 7s 12ms/step - loss: 0.0996 - accuracy: 0.9796 - val_loss: 0.1160 - val_accuracy: 0.9756\n",
            "148/148 [==============================] - 1s 4ms/step\n",
            "### q_no 3 grp 0-4\n",
            "4713\n"
          ]
        },
        {
          "output_type": "stream",
          "name": "stderr",
          "text": [
            "<ipython-input-30-0703165eee8a>:24: SettingWithCopyWarning: \n",
            "A value is trying to be set on a copy of a slice from a DataFrame.\n",
            "Try using .loc[row_indexer,col_indexer] = value instead\n",
            "\n",
            "See the caveats in the documentation: https://pandas.pydata.org/pandas-docs/stable/user_guide/indexing.html#returning-a-view-versus-a-copy\n",
            "  train_df.loc[:, \"correct\"] = train_labels[\"correct\"]\n",
            "<ipython-input-30-0703165eee8a>:25: SettingWithCopyWarning: \n",
            "A value is trying to be set on a copy of a slice from a DataFrame.\n",
            "Try using .loc[row_indexer,col_indexer] = value instead\n",
            "\n",
            "See the caveats in the documentation: https://pandas.pydata.org/pandas-docs/stable/user_guide/indexing.html#returning-a-view-versus-a-copy\n",
            "  valid_df.loc[:, \"correct\"] = valid_labels[\"correct\"]\n"
          ]
        },
        {
          "output_type": "stream",
          "name": "stdout",
          "text": [
            "4713\n",
            "4713\n",
            "Epoch 1/3\n",
            "590/590 [==============================] - 12s 14ms/step - loss: 0.2529 - accuracy: 0.9326 - val_loss: 0.2416 - val_accuracy: 0.9351\n",
            "Epoch 2/3\n",
            "590/590 [==============================] - 7s 12ms/step - loss: 0.2445 - accuracy: 0.9337 - val_loss: 0.2407 - val_accuracy: 0.9351\n",
            "Epoch 3/3\n",
            "590/590 [==============================] - 7s 12ms/step - loss: 0.2442 - accuracy: 0.9337 - val_loss: 0.2404 - val_accuracy: 0.9351\n",
            "148/148 [==============================] - 1s 4ms/step\n",
            "### q_no 4 grp 0-4\n",
            "4713\n"
          ]
        },
        {
          "output_type": "stream",
          "name": "stderr",
          "text": [
            "<ipython-input-30-0703165eee8a>:24: SettingWithCopyWarning: \n",
            "A value is trying to be set on a copy of a slice from a DataFrame.\n",
            "Try using .loc[row_indexer,col_indexer] = value instead\n",
            "\n",
            "See the caveats in the documentation: https://pandas.pydata.org/pandas-docs/stable/user_guide/indexing.html#returning-a-view-versus-a-copy\n",
            "  train_df.loc[:, \"correct\"] = train_labels[\"correct\"]\n",
            "<ipython-input-30-0703165eee8a>:25: SettingWithCopyWarning: \n",
            "A value is trying to be set on a copy of a slice from a DataFrame.\n",
            "Try using .loc[row_indexer,col_indexer] = value instead\n",
            "\n",
            "See the caveats in the documentation: https://pandas.pydata.org/pandas-docs/stable/user_guide/indexing.html#returning-a-view-versus-a-copy\n",
            "  valid_df.loc[:, \"correct\"] = valid_labels[\"correct\"]\n"
          ]
        },
        {
          "output_type": "stream",
          "name": "stdout",
          "text": [
            "4713\n",
            "4713\n",
            "Epoch 1/3\n",
            "590/590 [==============================] - 12s 14ms/step - loss: 0.5051 - accuracy: 0.7998 - val_loss: 0.5119 - val_accuracy: 0.7919\n",
            "Epoch 2/3\n",
            "590/590 [==============================] - 8s 13ms/step - loss: 0.5010 - accuracy: 0.7998 - val_loss: 0.5116 - val_accuracy: 0.7919\n",
            "Epoch 3/3\n",
            "590/590 [==============================] - 7s 11ms/step - loss: 0.5010 - accuracy: 0.7998 - val_loss: 0.5118 - val_accuracy: 0.7919\n",
            "148/148 [==============================] - 1s 4ms/step\n",
            "### q_no 5 grp 5-12\n",
            "4713\n"
          ]
        },
        {
          "output_type": "stream",
          "name": "stderr",
          "text": [
            "<ipython-input-30-0703165eee8a>:24: SettingWithCopyWarning: \n",
            "A value is trying to be set on a copy of a slice from a DataFrame.\n",
            "Try using .loc[row_indexer,col_indexer] = value instead\n",
            "\n",
            "See the caveats in the documentation: https://pandas.pydata.org/pandas-docs/stable/user_guide/indexing.html#returning-a-view-versus-a-copy\n",
            "  train_df.loc[:, \"correct\"] = train_labels[\"correct\"]\n",
            "<ipython-input-30-0703165eee8a>:25: SettingWithCopyWarning: \n",
            "A value is trying to be set on a copy of a slice from a DataFrame.\n",
            "Try using .loc[row_indexer,col_indexer] = value instead\n",
            "\n",
            "See the caveats in the documentation: https://pandas.pydata.org/pandas-docs/stable/user_guide/indexing.html#returning-a-view-versus-a-copy\n",
            "  valid_df.loc[:, \"correct\"] = valid_labels[\"correct\"]\n"
          ]
        },
        {
          "output_type": "stream",
          "name": "stdout",
          "text": [
            "4713\n",
            "4713\n",
            "Epoch 1/5\n",
            "590/590 [==============================] - 12s 13ms/step - loss: 0.6893 - accuracy: 0.5463 - val_loss: 0.6872 - val_accuracy: 0.5557\n",
            "Epoch 2/5\n",
            "590/590 [==============================] - 7s 12ms/step - loss: 0.6890 - accuracy: 0.5464 - val_loss: 0.6869 - val_accuracy: 0.5557\n",
            "Epoch 3/5\n",
            "590/590 [==============================] - 7s 12ms/step - loss: 0.6889 - accuracy: 0.5464 - val_loss: 0.6872 - val_accuracy: 0.5557\n",
            "Epoch 4/5\n",
            "590/590 [==============================] - 7s 12ms/step - loss: 0.6889 - accuracy: 0.5464 - val_loss: 0.6870 - val_accuracy: 0.5557\n",
            "Epoch 5/5\n",
            "590/590 [==============================] - 7s 12ms/step - loss: 0.6889 - accuracy: 0.5464 - val_loss: 0.6871 - val_accuracy: 0.5557\n",
            "148/148 [==============================] - 1s 4ms/step\n",
            "### q_no 6 grp 5-12\n",
            "4713\n"
          ]
        },
        {
          "output_type": "stream",
          "name": "stderr",
          "text": [
            "<ipython-input-30-0703165eee8a>:24: SettingWithCopyWarning: \n",
            "A value is trying to be set on a copy of a slice from a DataFrame.\n",
            "Try using .loc[row_indexer,col_indexer] = value instead\n",
            "\n",
            "See the caveats in the documentation: https://pandas.pydata.org/pandas-docs/stable/user_guide/indexing.html#returning-a-view-versus-a-copy\n",
            "  train_df.loc[:, \"correct\"] = train_labels[\"correct\"]\n",
            "<ipython-input-30-0703165eee8a>:25: SettingWithCopyWarning: \n",
            "A value is trying to be set on a copy of a slice from a DataFrame.\n",
            "Try using .loc[row_indexer,col_indexer] = value instead\n",
            "\n",
            "See the caveats in the documentation: https://pandas.pydata.org/pandas-docs/stable/user_guide/indexing.html#returning-a-view-versus-a-copy\n",
            "  valid_df.loc[:, \"correct\"] = valid_labels[\"correct\"]\n"
          ]
        },
        {
          "output_type": "stream",
          "name": "stdout",
          "text": [
            "4713\n",
            "4713\n",
            "Epoch 1/3\n",
            "590/590 [==============================] - 14s 13ms/step - loss: 0.5403 - accuracy: 0.7726 - val_loss: 0.5182 - val_accuracy: 0.7872\n",
            "Epoch 2/3\n",
            "590/590 [==============================] - 7s 12ms/step - loss: 0.5360 - accuracy: 0.7731 - val_loss: 0.5189 - val_accuracy: 0.7872\n",
            "Epoch 3/3\n",
            "590/590 [==============================] - 7s 11ms/step - loss: 0.5358 - accuracy: 0.7731 - val_loss: 0.5179 - val_accuracy: 0.7872\n",
            "148/148 [==============================] - 1s 4ms/step\n",
            "### q_no 7 grp 5-12\n",
            "4713\n"
          ]
        },
        {
          "output_type": "stream",
          "name": "stderr",
          "text": [
            "<ipython-input-30-0703165eee8a>:24: SettingWithCopyWarning: \n",
            "A value is trying to be set on a copy of a slice from a DataFrame.\n",
            "Try using .loc[row_indexer,col_indexer] = value instead\n",
            "\n",
            "See the caveats in the documentation: https://pandas.pydata.org/pandas-docs/stable/user_guide/indexing.html#returning-a-view-versus-a-copy\n",
            "  train_df.loc[:, \"correct\"] = train_labels[\"correct\"]\n",
            "<ipython-input-30-0703165eee8a>:25: SettingWithCopyWarning: \n",
            "A value is trying to be set on a copy of a slice from a DataFrame.\n",
            "Try using .loc[row_indexer,col_indexer] = value instead\n",
            "\n",
            "See the caveats in the documentation: https://pandas.pydata.org/pandas-docs/stable/user_guide/indexing.html#returning-a-view-versus-a-copy\n",
            "  valid_df.loc[:, \"correct\"] = valid_labels[\"correct\"]\n"
          ]
        },
        {
          "output_type": "stream",
          "name": "stdout",
          "text": [
            "4713\n",
            "4713\n",
            "Epoch 1/3\n",
            "590/590 [==============================] - 12s 13ms/step - loss: 0.5830 - accuracy: 0.7332 - val_loss: 0.5687 - val_accuracy: 0.7460\n",
            "Epoch 2/3\n",
            "590/590 [==============================] - 7s 12ms/step - loss: 0.5803 - accuracy: 0.7336 - val_loss: 0.5671 - val_accuracy: 0.7460\n",
            "Epoch 3/3\n",
            "590/590 [==============================] - 7s 12ms/step - loss: 0.5799 - accuracy: 0.7336 - val_loss: 0.5669 - val_accuracy: 0.7460\n",
            "148/148 [==============================] - 1s 4ms/step\n",
            "### q_no 8 grp 5-12\n",
            "4713\n"
          ]
        },
        {
          "output_type": "stream",
          "name": "stderr",
          "text": [
            "<ipython-input-30-0703165eee8a>:24: SettingWithCopyWarning: \n",
            "A value is trying to be set on a copy of a slice from a DataFrame.\n",
            "Try using .loc[row_indexer,col_indexer] = value instead\n",
            "\n",
            "See the caveats in the documentation: https://pandas.pydata.org/pandas-docs/stable/user_guide/indexing.html#returning-a-view-versus-a-copy\n",
            "  train_df.loc[:, \"correct\"] = train_labels[\"correct\"]\n",
            "<ipython-input-30-0703165eee8a>:25: SettingWithCopyWarning: \n",
            "A value is trying to be set on a copy of a slice from a DataFrame.\n",
            "Try using .loc[row_indexer,col_indexer] = value instead\n",
            "\n",
            "See the caveats in the documentation: https://pandas.pydata.org/pandas-docs/stable/user_guide/indexing.html#returning-a-view-versus-a-copy\n",
            "  valid_df.loc[:, \"correct\"] = valid_labels[\"correct\"]\n"
          ]
        },
        {
          "output_type": "stream",
          "name": "stdout",
          "text": [
            "4713\n",
            "4713\n",
            "Epoch 1/3\n",
            "590/590 [==============================] - 12s 14ms/step - loss: 0.6686 - accuracy: 0.6127 - val_loss: 0.6608 - val_accuracy: 0.6331\n",
            "Epoch 2/3\n",
            "590/590 [==============================] - 7s 12ms/step - loss: 0.6678 - accuracy: 0.6132 - val_loss: 0.6573 - val_accuracy: 0.6331\n",
            "Epoch 3/3\n",
            "590/590 [==============================] - 7s 12ms/step - loss: 0.6675 - accuracy: 0.6132 - val_loss: 0.6579 - val_accuracy: 0.6331\n",
            "148/148 [==============================] - 1s 4ms/step\n",
            "### q_no 9 grp 5-12\n",
            "4713\n"
          ]
        },
        {
          "output_type": "stream",
          "name": "stderr",
          "text": [
            "<ipython-input-30-0703165eee8a>:24: SettingWithCopyWarning: \n",
            "A value is trying to be set on a copy of a slice from a DataFrame.\n",
            "Try using .loc[row_indexer,col_indexer] = value instead\n",
            "\n",
            "See the caveats in the documentation: https://pandas.pydata.org/pandas-docs/stable/user_guide/indexing.html#returning-a-view-versus-a-copy\n",
            "  train_df.loc[:, \"correct\"] = train_labels[\"correct\"]\n",
            "<ipython-input-30-0703165eee8a>:25: SettingWithCopyWarning: \n",
            "A value is trying to be set on a copy of a slice from a DataFrame.\n",
            "Try using .loc[row_indexer,col_indexer] = value instead\n",
            "\n",
            "See the caveats in the documentation: https://pandas.pydata.org/pandas-docs/stable/user_guide/indexing.html#returning-a-view-versus-a-copy\n",
            "  valid_df.loc[:, \"correct\"] = valid_labels[\"correct\"]\n"
          ]
        },
        {
          "output_type": "stream",
          "name": "stdout",
          "text": [
            "4713\n",
            "4713\n",
            "Epoch 1/3\n",
            "590/590 [==============================] - 11s 13ms/step - loss: 0.5864 - accuracy: 0.7294 - val_loss: 0.5546 - val_accuracy: 0.7583\n",
            "Epoch 2/3\n",
            "590/590 [==============================] - 7s 12ms/step - loss: 0.5835 - accuracy: 0.7308 - val_loss: 0.5546 - val_accuracy: 0.7583\n",
            "Epoch 3/3\n",
            "590/590 [==============================] - 7s 11ms/step - loss: 0.5829 - accuracy: 0.7308 - val_loss: 0.5542 - val_accuracy: 0.7583\n",
            "148/148 [==============================] - 1s 5ms/step\n",
            "### q_no 10 grp 5-12\n",
            "4713\n"
          ]
        },
        {
          "output_type": "stream",
          "name": "stderr",
          "text": [
            "<ipython-input-30-0703165eee8a>:24: SettingWithCopyWarning: \n",
            "A value is trying to be set on a copy of a slice from a DataFrame.\n",
            "Try using .loc[row_indexer,col_indexer] = value instead\n",
            "\n",
            "See the caveats in the documentation: https://pandas.pydata.org/pandas-docs/stable/user_guide/indexing.html#returning-a-view-versus-a-copy\n",
            "  train_df.loc[:, \"correct\"] = train_labels[\"correct\"]\n",
            "<ipython-input-30-0703165eee8a>:25: SettingWithCopyWarning: \n",
            "A value is trying to be set on a copy of a slice from a DataFrame.\n",
            "Try using .loc[row_indexer,col_indexer] = value instead\n",
            "\n",
            "See the caveats in the documentation: https://pandas.pydata.org/pandas-docs/stable/user_guide/indexing.html#returning-a-view-versus-a-copy\n",
            "  valid_df.loc[:, \"correct\"] = valid_labels[\"correct\"]\n"
          ]
        },
        {
          "output_type": "stream",
          "name": "stdout",
          "text": [
            "4713\n",
            "4713\n",
            "Epoch 1/5\n",
            "590/590 [==============================] - 12s 14ms/step - loss: 0.6932 - accuracy: 0.5001 - val_loss: 0.6929 - val_accuracy: 0.5130\n",
            "Epoch 2/5\n",
            "590/590 [==============================] - 7s 12ms/step - loss: 0.6932 - accuracy: 0.4972 - val_loss: 0.6929 - val_accuracy: 0.5130\n",
            "Epoch 3/5\n",
            "590/590 [==============================] - 7s 12ms/step - loss: 0.6932 - accuracy: 0.5035 - val_loss: 0.6929 - val_accuracy: 0.5130\n",
            "Epoch 4/5\n",
            "590/590 [==============================] - 7s 11ms/step - loss: 0.6931 - accuracy: 0.5035 - val_loss: 0.6930 - val_accuracy: 0.5130\n",
            "Epoch 5/5\n",
            "590/590 [==============================] - 8s 13ms/step - loss: 0.6931 - accuracy: 0.5035 - val_loss: 0.6930 - val_accuracy: 0.5130\n",
            "148/148 [==============================] - 1s 4ms/step\n",
            "### q_no 11 grp 5-12\n",
            "4713\n"
          ]
        },
        {
          "output_type": "stream",
          "name": "stderr",
          "text": [
            "<ipython-input-30-0703165eee8a>:24: SettingWithCopyWarning: \n",
            "A value is trying to be set on a copy of a slice from a DataFrame.\n",
            "Try using .loc[row_indexer,col_indexer] = value instead\n",
            "\n",
            "See the caveats in the documentation: https://pandas.pydata.org/pandas-docs/stable/user_guide/indexing.html#returning-a-view-versus-a-copy\n",
            "  train_df.loc[:, \"correct\"] = train_labels[\"correct\"]\n",
            "<ipython-input-30-0703165eee8a>:25: SettingWithCopyWarning: \n",
            "A value is trying to be set on a copy of a slice from a DataFrame.\n",
            "Try using .loc[row_indexer,col_indexer] = value instead\n",
            "\n",
            "See the caveats in the documentation: https://pandas.pydata.org/pandas-docs/stable/user_guide/indexing.html#returning-a-view-versus-a-copy\n",
            "  valid_df.loc[:, \"correct\"] = valid_labels[\"correct\"]\n"
          ]
        },
        {
          "output_type": "stream",
          "name": "stdout",
          "text": [
            "4713\n",
            "4713\n",
            "Epoch 1/5\n",
            "590/590 [==============================] - 12s 13ms/step - loss: 0.6536 - accuracy: 0.6417 - val_loss: 0.6492 - val_accuracy: 0.6505\n",
            "Epoch 2/5\n",
            "590/590 [==============================] - 7s 12ms/step - loss: 0.6529 - accuracy: 0.6419 - val_loss: 0.6476 - val_accuracy: 0.6505\n",
            "Epoch 3/5\n",
            "590/590 [==============================] - 7s 12ms/step - loss: 0.6525 - accuracy: 0.6419 - val_loss: 0.6472 - val_accuracy: 0.6505\n",
            "Epoch 4/5\n",
            "590/590 [==============================] - 7s 12ms/step - loss: 0.6525 - accuracy: 0.6419 - val_loss: 0.6471 - val_accuracy: 0.6505\n",
            "Epoch 5/5\n",
            "590/590 [==============================] - 7s 12ms/step - loss: 0.6524 - accuracy: 0.6419 - val_loss: 0.6474 - val_accuracy: 0.6505\n",
            "148/148 [==============================] - 1s 5ms/step\n",
            "### q_no 12 grp 5-12\n",
            "4713\n"
          ]
        },
        {
          "output_type": "stream",
          "name": "stderr",
          "text": [
            "<ipython-input-30-0703165eee8a>:24: SettingWithCopyWarning: \n",
            "A value is trying to be set on a copy of a slice from a DataFrame.\n",
            "Try using .loc[row_indexer,col_indexer] = value instead\n",
            "\n",
            "See the caveats in the documentation: https://pandas.pydata.org/pandas-docs/stable/user_guide/indexing.html#returning-a-view-versus-a-copy\n",
            "  train_df.loc[:, \"correct\"] = train_labels[\"correct\"]\n",
            "<ipython-input-30-0703165eee8a>:25: SettingWithCopyWarning: \n",
            "A value is trying to be set on a copy of a slice from a DataFrame.\n",
            "Try using .loc[row_indexer,col_indexer] = value instead\n",
            "\n",
            "See the caveats in the documentation: https://pandas.pydata.org/pandas-docs/stable/user_guide/indexing.html#returning-a-view-versus-a-copy\n",
            "  valid_df.loc[:, \"correct\"] = valid_labels[\"correct\"]\n"
          ]
        },
        {
          "output_type": "stream",
          "name": "stdout",
          "text": [
            "4713\n",
            "4713\n",
            "Epoch 1/3\n",
            "590/590 [==============================] - 12s 14ms/step - loss: 0.4094 - accuracy: 0.8600 - val_loss: 0.3892 - val_accuracy: 0.8701\n",
            "Epoch 2/3\n",
            "590/590 [==============================] - 7s 11ms/step - loss: 0.4036 - accuracy: 0.8612 - val_loss: 0.3864 - val_accuracy: 0.8701\n",
            "Epoch 3/3\n",
            "590/590 [==============================] - 7s 12ms/step - loss: 0.4031 - accuracy: 0.8612 - val_loss: 0.3874 - val_accuracy: 0.8701\n",
            "148/148 [==============================] - 1s 5ms/step\n",
            "### q_no 13 grp 13-22\n",
            "4713\n"
          ]
        },
        {
          "output_type": "stream",
          "name": "stderr",
          "text": [
            "<ipython-input-30-0703165eee8a>:24: SettingWithCopyWarning: \n",
            "A value is trying to be set on a copy of a slice from a DataFrame.\n",
            "Try using .loc[row_indexer,col_indexer] = value instead\n",
            "\n",
            "See the caveats in the documentation: https://pandas.pydata.org/pandas-docs/stable/user_guide/indexing.html#returning-a-view-versus-a-copy\n",
            "  train_df.loc[:, \"correct\"] = train_labels[\"correct\"]\n",
            "<ipython-input-30-0703165eee8a>:25: SettingWithCopyWarning: \n",
            "A value is trying to be set on a copy of a slice from a DataFrame.\n",
            "Try using .loc[row_indexer,col_indexer] = value instead\n",
            "\n",
            "See the caveats in the documentation: https://pandas.pydata.org/pandas-docs/stable/user_guide/indexing.html#returning-a-view-versus-a-copy\n",
            "  valid_df.loc[:, \"correct\"] = valid_labels[\"correct\"]\n"
          ]
        },
        {
          "output_type": "stream",
          "name": "stdout",
          "text": [
            "4713\n",
            "4713\n",
            "Epoch 1/5\n",
            "590/590 [==============================] - 12s 14ms/step - loss: 0.5889 - accuracy: 0.7271 - val_loss: 0.5968 - val_accuracy: 0.7161\n",
            "Epoch 2/5\n",
            "590/590 [==============================] - 7s 12ms/step - loss: 0.5868 - accuracy: 0.7271 - val_loss: 0.5966 - val_accuracy: 0.7161\n",
            "Epoch 3/5\n",
            "590/590 [==============================] - 7s 12ms/step - loss: 0.5865 - accuracy: 0.7271 - val_loss: 0.5967 - val_accuracy: 0.7161\n",
            "Epoch 4/5\n",
            "590/590 [==============================] - 7s 11ms/step - loss: 0.5862 - accuracy: 0.7271 - val_loss: 0.5979 - val_accuracy: 0.7161\n",
            "Epoch 5/5\n",
            "590/590 [==============================] - 7s 12ms/step - loss: 0.5863 - accuracy: 0.7271 - val_loss: 0.5972 - val_accuracy: 0.7161\n",
            "148/148 [==============================] - 1s 4ms/step\n",
            "### q_no 14 grp 13-22\n",
            "4713\n"
          ]
        },
        {
          "output_type": "stream",
          "name": "stderr",
          "text": [
            "<ipython-input-30-0703165eee8a>:24: SettingWithCopyWarning: \n",
            "A value is trying to be set on a copy of a slice from a DataFrame.\n",
            "Try using .loc[row_indexer,col_indexer] = value instead\n",
            "\n",
            "See the caveats in the documentation: https://pandas.pydata.org/pandas-docs/stable/user_guide/indexing.html#returning-a-view-versus-a-copy\n",
            "  train_df.loc[:, \"correct\"] = train_labels[\"correct\"]\n",
            "<ipython-input-30-0703165eee8a>:25: SettingWithCopyWarning: \n",
            "A value is trying to be set on a copy of a slice from a DataFrame.\n",
            "Try using .loc[row_indexer,col_indexer] = value instead\n",
            "\n",
            "See the caveats in the documentation: https://pandas.pydata.org/pandas-docs/stable/user_guide/indexing.html#returning-a-view-versus-a-copy\n",
            "  valid_df.loc[:, \"correct\"] = valid_labels[\"correct\"]\n"
          ]
        },
        {
          "output_type": "stream",
          "name": "stdout",
          "text": [
            "4713\n",
            "4713\n",
            "Epoch 1/3\n",
            "590/590 [==============================] - 12s 13ms/step - loss: 0.6127 - accuracy: 0.7008 - val_loss: 0.5873 - val_accuracy: 0.7297\n",
            "Epoch 2/3\n",
            "590/590 [==============================] - 7s 12ms/step - loss: 0.6096 - accuracy: 0.7022 - val_loss: 0.5901 - val_accuracy: 0.7297\n",
            "Epoch 3/3\n",
            "590/590 [==============================] - 7s 11ms/step - loss: 0.6097 - accuracy: 0.7022 - val_loss: 0.5876 - val_accuracy: 0.7297\n",
            "148/148 [==============================] - 1s 4ms/step\n",
            "### q_no 15 grp 13-22\n",
            "4713\n"
          ]
        },
        {
          "output_type": "stream",
          "name": "stderr",
          "text": [
            "<ipython-input-30-0703165eee8a>:24: SettingWithCopyWarning: \n",
            "A value is trying to be set on a copy of a slice from a DataFrame.\n",
            "Try using .loc[row_indexer,col_indexer] = value instead\n",
            "\n",
            "See the caveats in the documentation: https://pandas.pydata.org/pandas-docs/stable/user_guide/indexing.html#returning-a-view-versus-a-copy\n",
            "  train_df.loc[:, \"correct\"] = train_labels[\"correct\"]\n",
            "<ipython-input-30-0703165eee8a>:25: SettingWithCopyWarning: \n",
            "A value is trying to be set on a copy of a slice from a DataFrame.\n",
            "Try using .loc[row_indexer,col_indexer] = value instead\n",
            "\n",
            "See the caveats in the documentation: https://pandas.pydata.org/pandas-docs/stable/user_guide/indexing.html#returning-a-view-versus-a-copy\n",
            "  valid_df.loc[:, \"correct\"] = valid_labels[\"correct\"]\n"
          ]
        },
        {
          "output_type": "stream",
          "name": "stdout",
          "text": [
            "4713\n",
            "4713\n",
            "Epoch 1/5\n",
            "590/590 [==============================] - 11s 13ms/step - loss: 0.6924 - accuracy: 0.5205 - val_loss: 0.6929 - val_accuracy: 0.5103\n",
            "Epoch 2/5\n",
            "590/590 [==============================] - 7s 12ms/step - loss: 0.6924 - accuracy: 0.5211 - val_loss: 0.6930 - val_accuracy: 0.5103\n",
            "Epoch 3/5\n",
            "590/590 [==============================] - 7s 12ms/step - loss: 0.6924 - accuracy: 0.5211 - val_loss: 0.6931 - val_accuracy: 0.5103\n",
            "Epoch 4/5\n",
            "590/590 [==============================] - 7s 12ms/step - loss: 0.6923 - accuracy: 0.5211 - val_loss: 0.6931 - val_accuracy: 0.5103\n",
            "Epoch 5/5\n",
            "590/590 [==============================] - 7s 12ms/step - loss: 0.6923 - accuracy: 0.5211 - val_loss: 0.6932 - val_accuracy: 0.5103\n",
            "148/148 [==============================] - 1s 4ms/step\n",
            "### q_no 16 grp 13-22\n",
            "4713\n"
          ]
        },
        {
          "output_type": "stream",
          "name": "stderr",
          "text": [
            "<ipython-input-30-0703165eee8a>:24: SettingWithCopyWarning: \n",
            "A value is trying to be set on a copy of a slice from a DataFrame.\n",
            "Try using .loc[row_indexer,col_indexer] = value instead\n",
            "\n",
            "See the caveats in the documentation: https://pandas.pydata.org/pandas-docs/stable/user_guide/indexing.html#returning-a-view-versus-a-copy\n",
            "  train_df.loc[:, \"correct\"] = train_labels[\"correct\"]\n",
            "<ipython-input-30-0703165eee8a>:25: SettingWithCopyWarning: \n",
            "A value is trying to be set on a copy of a slice from a DataFrame.\n",
            "Try using .loc[row_indexer,col_indexer] = value instead\n",
            "\n",
            "See the caveats in the documentation: https://pandas.pydata.org/pandas-docs/stable/user_guide/indexing.html#returning-a-view-versus-a-copy\n",
            "  valid_df.loc[:, \"correct\"] = valid_labels[\"correct\"]\n"
          ]
        },
        {
          "output_type": "stream",
          "name": "stdout",
          "text": [
            "4713\n",
            "4713\n",
            "Epoch 1/3\n",
            "590/590 [==============================] - 13s 14ms/step - loss: 0.5853 - accuracy: 0.7305 - val_loss: 0.5641 - val_accuracy: 0.7494\n",
            "Epoch 2/3\n",
            "590/590 [==============================] - 7s 12ms/step - loss: 0.5827 - accuracy: 0.7312 - val_loss: 0.5632 - val_accuracy: 0.7494\n",
            "Epoch 3/3\n",
            "590/590 [==============================] - 7s 12ms/step - loss: 0.5823 - accuracy: 0.7312 - val_loss: 0.5648 - val_accuracy: 0.7494\n",
            "148/148 [==============================] - 1s 4ms/step\n",
            "### q_no 17 grp 13-22\n",
            "4713\n"
          ]
        },
        {
          "output_type": "stream",
          "name": "stderr",
          "text": [
            "<ipython-input-30-0703165eee8a>:24: SettingWithCopyWarning: \n",
            "A value is trying to be set on a copy of a slice from a DataFrame.\n",
            "Try using .loc[row_indexer,col_indexer] = value instead\n",
            "\n",
            "See the caveats in the documentation: https://pandas.pydata.org/pandas-docs/stable/user_guide/indexing.html#returning-a-view-versus-a-copy\n",
            "  train_df.loc[:, \"correct\"] = train_labels[\"correct\"]\n",
            "<ipython-input-30-0703165eee8a>:25: SettingWithCopyWarning: \n",
            "A value is trying to be set on a copy of a slice from a DataFrame.\n",
            "Try using .loc[row_indexer,col_indexer] = value instead\n",
            "\n",
            "See the caveats in the documentation: https://pandas.pydata.org/pandas-docs/stable/user_guide/indexing.html#returning-a-view-versus-a-copy\n",
            "  valid_df.loc[:, \"correct\"] = valid_labels[\"correct\"]\n"
          ]
        },
        {
          "output_type": "stream",
          "name": "stdout",
          "text": [
            "4713\n",
            "4713\n",
            "Epoch 1/3\n",
            "590/590 [==============================] - 11s 13ms/step - loss: 0.6258 - accuracy: 0.6839 - val_loss: 0.6079 - val_accuracy: 0.7036\n",
            "Epoch 2/3\n",
            "590/590 [==============================] - 7s 12ms/step - loss: 0.6245 - accuracy: 0.6839 - val_loss: 0.6078 - val_accuracy: 0.7036\n",
            "Epoch 3/3\n",
            "590/590 [==============================] - 7s 12ms/step - loss: 0.6242 - accuracy: 0.6839 - val_loss: 0.6090 - val_accuracy: 0.7036\n",
            "148/148 [==============================] - 1s 5ms/step\n",
            "### q_no 18 grp 13-22\n",
            "4713\n"
          ]
        },
        {
          "output_type": "stream",
          "name": "stderr",
          "text": [
            "<ipython-input-30-0703165eee8a>:24: SettingWithCopyWarning: \n",
            "A value is trying to be set on a copy of a slice from a DataFrame.\n",
            "Try using .loc[row_indexer,col_indexer] = value instead\n",
            "\n",
            "See the caveats in the documentation: https://pandas.pydata.org/pandas-docs/stable/user_guide/indexing.html#returning-a-view-versus-a-copy\n",
            "  train_df.loc[:, \"correct\"] = train_labels[\"correct\"]\n",
            "<ipython-input-30-0703165eee8a>:25: SettingWithCopyWarning: \n",
            "A value is trying to be set on a copy of a slice from a DataFrame.\n",
            "Try using .loc[row_indexer,col_indexer] = value instead\n",
            "\n",
            "See the caveats in the documentation: https://pandas.pydata.org/pandas-docs/stable/user_guide/indexing.html#returning-a-view-versus-a-copy\n",
            "  valid_df.loc[:, \"correct\"] = valid_labels[\"correct\"]\n"
          ]
        },
        {
          "output_type": "stream",
          "name": "stdout",
          "text": [
            "4713\n",
            "4713\n",
            "Epoch 1/3\n",
            "590/590 [==============================] - 11s 13ms/step - loss: 0.2069 - accuracy: 0.9502 - val_loss: 0.1939 - val_accuracy: 0.9516\n",
            "Epoch 2/3\n",
            "590/590 [==============================] - 7s 12ms/step - loss: 0.1975 - accuracy: 0.9504 - val_loss: 0.1937 - val_accuracy: 0.9516\n",
            "Epoch 3/3\n",
            "590/590 [==============================] - 7s 12ms/step - loss: 0.1975 - accuracy: 0.9504 - val_loss: 0.1937 - val_accuracy: 0.9516\n",
            "148/148 [==============================] - 1s 5ms/step\n"
          ]
        }
      ],
      "source": [
        "sequence_length = 100\n",
        "# Iterate through questions 1 to 18 to train models for each question, evaluate\n",
        "# the trained model and store the predicted values.\n",
        "for q_no in range(1,19):\n",
        "    # Select level group for the question based on the q_no.\n",
        "    if q_no<=4: grp = '0-4'\n",
        "    elif q_no<=12: grp = '5-12'\n",
        "    elif q_no<=18: grp = '13-22'\n",
        "    print(\"### q_no\", q_no, \"grp\", grp)\n",
        "\n",
        "    # Filter the rows in the datasets based on the selected level group.\n",
        "    train_df = train_x.loc[train_x.level_group == grp]\n",
        "    train_users = train_df.index.values\n",
        "    valid_df = valid_x.loc[valid_x.level_group == grp]\n",
        "    valid_users = valid_df.index.values\n",
        "\n",
        "    print(len(valid_users))\n",
        "\n",
        "    # Select the labels for the related q_no.\n",
        "    train_labels = labels.loc[labels.q==q_no].set_index('session').loc[train_users]\n",
        "    valid_labels = labels.loc[labels.q==q_no].set_index('session').loc[valid_users]\n",
        "\n",
        "    # Add the label to the filtered datasets.\n",
        "    train_df.loc[:, \"correct\"] = train_labels[\"correct\"]\n",
        "    valid_df.loc[:, \"correct\"] = valid_labels[\"correct\"]\n",
        "\n",
        "\n",
        "    # Prepare data for LSTM\n",
        "    train_data, train_labels = prepare_data(train_df, sequence_length)\n",
        "    valid_data, valid_labels = prepare_data(valid_df, sequence_length)\n",
        "\n",
        "\n",
        "\n",
        "\n",
        "    print(len(valid_data))\n",
        "    print(len(valid_labels))\n",
        "\n",
        "    # Define the model\n",
        "    model = Sequential()\n",
        "    model.add(LSTM(64, input_shape=(sequence_length, train_data.shape[-1]), return_sequences=True))\n",
        "    model.add(LSTM(32, return_sequences=False))\n",
        "    model.add(Dense(1, activation='sigmoid'))\n",
        "\n",
        "    # Compile the model\n",
        "    lr_schedule = tf.keras.optimizers.schedules.ExponentialDecay(\n",
        "    initial_learning_rate=0.001,\n",
        "    decay_steps=100,\n",
        "    decay_rate=0.9\n",
        "    )\n",
        "    optimizer = tf.keras.optimizers.Adam(learning_rate=lr_schedule)\n",
        "\n",
        "    model.compile(loss='binary_crossentropy', optimizer=optimizer, metrics=['accuracy'])\n",
        "\n",
        "    # Train the model\n",
        "    if q_no in [1,5,10,11,13,15]:\n",
        "      model.fit(train_data, train_labels, epochs=5, validation_data=(valid_data, valid_labels))\n",
        "    else:\n",
        "      model.fit(train_data, train_labels, epochs=3, validation_data=(valid_data, valid_labels))\n",
        "\n",
        "    # Store the model\n",
        "    models[f'{grp}_{q_no}'] = model\n",
        "\n",
        "    # Evaluate the model\n",
        "    # evaluation = model.evaluate(valid_data, valid_labels)\n",
        "    # evaluation_dict[q_no] = evaluation[1]\n",
        "    # print(f\"Validation accuracy: {evaluation[1]}\")\n",
        "\n",
        "    # Make predictions\n",
        "    predictions = model.predict(valid_data)\n",
        "    prediction_df.loc[valid_users, q_no-1] = predictions.flatten()\n",
        "\n",
        "    binary_predictions = [1 if p > 0.6200000000000002 else 0 for p in predictions]\n",
        "    # Get the true labels\n",
        "    true_labels = valid_labels[:len(valid_data)]\n",
        "\n",
        "    # Calculate the F1 score and add it to the dictionary\n",
        "    f1 = f1_score(true_labels, binary_predictions)\n",
        "    f1_scores[q_no] = f1\n",
        "\n"
      ]
    },
    {
      "cell_type": "code",
      "execution_count": 31,
      "metadata": {
        "id": "Daw5PYF8GRKQ",
        "colab": {
          "base_uri": "https://localhost:8080/"
        },
        "outputId": "0e42369d-9de6-4900-d7fa-ae83db046b7a"
      },
      "outputs": [
        {
          "output_type": "stream",
          "name": "stdout",
          "text": [
            "question 1: f1 0.8454\n",
            "question 2: f1 0.9876\n",
            "question 3: f1 0.9664\n",
            "question 4: f1 0.8838\n",
            "question 5: f1 0.0000\n",
            "question 6: f1 0.8809\n",
            "question 7: f1 0.8545\n",
            "question 8: f1 0.0000\n",
            "question 9: f1 0.8626\n",
            "question 10: f1 0.0000\n",
            "question 11: f1 0.7883\n",
            "question 12: f1 0.9306\n",
            "question 13: f1 0.0000\n",
            "question 14: f1 0.8437\n",
            "question 15: f1 0.0000\n",
            "question 16: f1 0.8568\n",
            "question 17: f1 0.8260\n",
            "question 18: f1 0.9752\n",
            "\n",
            "Average f1 0.6389948715321374\n"
          ]
        }
      ],
      "source": [
        "for name, value in f1_scores.items():\n",
        "  print(f\"question {name}: f1 {value:.4f}\")\n",
        "\n",
        "print(\"\\nAverage f1\", sum(f1_scores.values())/18)"
      ]
    },
    {
      "cell_type": "code",
      "execution_count": 32,
      "metadata": {
        "id": "PI3MWtfIN4BK",
        "colab": {
          "base_uri": "https://localhost:8080/"
        },
        "outputId": "54f0a947-6a5b-458e-e7c2-9b90d6a8b05a"
      },
      "outputs": [
        {
          "output_type": "stream",
          "name": "stdout",
          "text": [
            "Best threshold  0.6200000000000002 \tF1 score  0.650378\n"
          ]
        }
      ],
      "source": [
        "\n",
        "max_score = 0; best_threshold = 0\n",
        "\n",
        "# Create a dataframe of required size:\n",
        "# (no: of users in validation set x no: of questions) initialized to zero values\n",
        "# to store true values of the label `correct`.\n",
        "true_df = pd.DataFrame(data=np.zeros((len(VALID_USER_LIST),18)), index=VALID_USER_LIST)\n",
        "for i in range(18):\n",
        "    # Get the true labels.\n",
        "    tmp = labels.loc[labels.q == i+1].set_index('session').loc[VALID_USER_LIST]\n",
        "    true_df[i] = tmp.correct.values\n",
        "\n",
        "# Loop through threshold values from 0.4 to 0.8 and select the threshold with\n",
        "# the highest `F1 score`.\n",
        "for threshold in np.arange(0.4,0.8,0.01):\n",
        "    metric = tfa.metrics.F1Score(num_classes=2,average=\"macro\",threshold=threshold)\n",
        "    y_true = tf.one_hot(true_df.values.reshape((-1)), depth=2)\n",
        "    y_pred = tf.one_hot((prediction_df.values.reshape((-1))>threshold).astype('int'), depth=2)\n",
        "    metric.update_state(y_true, y_pred)\n",
        "    f1_score = metric.result().numpy()\n",
        "    if f1_score > max_score:\n",
        "        max_score = f1_score\n",
        "        best_threshold = threshold\n",
        "\n",
        "\n",
        "print(\"Best threshold \", best_threshold, \"\\tF1 score \", max_score)"
      ]
    },
    {
      "cell_type": "code",
      "execution_count": 33,
      "metadata": {
        "id": "Plz1_IGAb0ev",
        "colab": {
          "base_uri": "https://localhost:8080/",
          "height": 393
        },
        "outputId": "29f380f9-aa35-4230-eb86-e6f7511de620"
      },
      "outputs": [
        {
          "output_type": "error",
          "ename": "FileNotFoundError",
          "evalue": "ignored",
          "traceback": [
            "\u001b[0;31m---------------------------------------------------------------------------\u001b[0m",
            "\u001b[0;31mFileNotFoundError\u001b[0m                         Traceback (most recent call last)",
            "\u001b[0;32m<ipython-input-33-49d0d962270f>\u001b[0m in \u001b[0;36m<cell line: 4>\u001b[0;34m()\u001b[0m\n\u001b[1;32m      2\u001b[0m \u001b[0mLSTM_file_path\u001b[0m \u001b[0;34m=\u001b[0m\u001b[0;34m'/content/drive/MyDrive/9417project/predictions/LSTM_pred.npy'\u001b[0m\u001b[0;34m\u001b[0m\u001b[0;34m\u001b[0m\u001b[0m\n\u001b[1;32m      3\u001b[0m \u001b[0mSVM_file_path\u001b[0m \u001b[0;34m=\u001b[0m\u001b[0;34m'/content/drive/MyDrive/9417project/predictions/SVM_pred.npy'\u001b[0m\u001b[0;34m\u001b[0m\u001b[0;34m\u001b[0m\u001b[0m\n\u001b[0;32m----> 4\u001b[0;31m \u001b[0mnp\u001b[0m\u001b[0;34m.\u001b[0m\u001b[0msave\u001b[0m\u001b[0;34m(\u001b[0m\u001b[0mLSTM_file_path\u001b[0m\u001b[0;34m,\u001b[0m\u001b[0mprediction_df\u001b[0m\u001b[0;34m)\u001b[0m\u001b[0;34m\u001b[0m\u001b[0;34m\u001b[0m\u001b[0m\n\u001b[0m\u001b[1;32m      5\u001b[0m \u001b[0mLSTM_pred\u001b[0m \u001b[0;34m=\u001b[0m \u001b[0mnp\u001b[0m\u001b[0;34m.\u001b[0m\u001b[0mload\u001b[0m\u001b[0;34m(\u001b[0m\u001b[0mLSTM_file_path\u001b[0m\u001b[0;34m,\u001b[0m\u001b[0mallow_pickle\u001b[0m\u001b[0;34m=\u001b[0m\u001b[0;32mTrue\u001b[0m\u001b[0;34m)\u001b[0m\u001b[0;34m\u001b[0m\u001b[0;34m\u001b[0m\u001b[0m\n\u001b[1;32m      6\u001b[0m \u001b[0mSVM_pred\u001b[0m \u001b[0;34m=\u001b[0m \u001b[0mnp\u001b[0m\u001b[0;34m.\u001b[0m\u001b[0mload\u001b[0m\u001b[0;34m(\u001b[0m\u001b[0mSVM_file_path\u001b[0m\u001b[0;34m,\u001b[0m\u001b[0mallow_pickle\u001b[0m\u001b[0;34m=\u001b[0m\u001b[0;32mTrue\u001b[0m\u001b[0;34m)\u001b[0m\u001b[0;34m\u001b[0m\u001b[0;34m\u001b[0m\u001b[0m\n",
            "\u001b[0;32m/usr/local/lib/python3.10/dist-packages/numpy/core/overrides.py\u001b[0m in \u001b[0;36msave\u001b[0;34m(*args, **kwargs)\u001b[0m\n",
            "\u001b[0;32m/usr/local/lib/python3.10/dist-packages/numpy/lib/npyio.py\u001b[0m in \u001b[0;36msave\u001b[0;34m(file, arr, allow_pickle, fix_imports)\u001b[0m\n\u001b[1;32m    513\u001b[0m         \u001b[0;32mif\u001b[0m \u001b[0;32mnot\u001b[0m \u001b[0mfile\u001b[0m\u001b[0;34m.\u001b[0m\u001b[0mendswith\u001b[0m\u001b[0;34m(\u001b[0m\u001b[0;34m'.npy'\u001b[0m\u001b[0;34m)\u001b[0m\u001b[0;34m:\u001b[0m\u001b[0;34m\u001b[0m\u001b[0;34m\u001b[0m\u001b[0m\n\u001b[1;32m    514\u001b[0m             \u001b[0mfile\u001b[0m \u001b[0;34m=\u001b[0m \u001b[0mfile\u001b[0m \u001b[0;34m+\u001b[0m \u001b[0;34m'.npy'\u001b[0m\u001b[0;34m\u001b[0m\u001b[0;34m\u001b[0m\u001b[0m\n\u001b[0;32m--> 515\u001b[0;31m         \u001b[0mfile_ctx\u001b[0m \u001b[0;34m=\u001b[0m \u001b[0mopen\u001b[0m\u001b[0;34m(\u001b[0m\u001b[0mfile\u001b[0m\u001b[0;34m,\u001b[0m \u001b[0;34m\"wb\"\u001b[0m\u001b[0;34m)\u001b[0m\u001b[0;34m\u001b[0m\u001b[0;34m\u001b[0m\u001b[0m\n\u001b[0m\u001b[1;32m    516\u001b[0m \u001b[0;34m\u001b[0m\u001b[0m\n\u001b[1;32m    517\u001b[0m     \u001b[0;32mwith\u001b[0m \u001b[0mfile_ctx\u001b[0m \u001b[0;32mas\u001b[0m \u001b[0mfid\u001b[0m\u001b[0;34m:\u001b[0m\u001b[0;34m\u001b[0m\u001b[0;34m\u001b[0m\u001b[0m\n",
            "\u001b[0;31mFileNotFoundError\u001b[0m: [Errno 2] No such file or directory: '/content/drive/MyDrive/9417project/predictions/LSTM_pred.npy'"
          ]
        }
      ],
      "source": [
        "# Ensemble model result\n",
        "LSTM_file_path ='/content/drive/MyDrive/9417project/predictions/LSTM_pred.npy'\n",
        "SVM_file_path ='/content/drive/MyDrive/9417project/predictions/SVM_pred.npy'\n",
        "np.save(LSTM_file_path,prediction_df)\n",
        "LSTM_pred = np.load(LSTM_file_path,allow_pickle=True)\n",
        "SVM_pred = np.load(SVM_file_path,allow_pickle=True)\n",
        "\n",
        "\n",
        "ensemble = 0.7 * SVM_pred + 0.3 * LSTM_pred"
      ]
    }
  ],
  "metadata": {
    "accelerator": "GPU",
    "colab": {
      "machine_shape": "hm",
      "provenance": [],
      "gpuType": "T4",
      "authorship_tag": "ABX9TyNC/cRNNIftjBRfXEmXV/hR",
      "include_colab_link": true
    },
    "kernelspec": {
      "display_name": "Python 3",
      "name": "python3"
    },
    "language_info": {
      "name": "python"
    }
  },
  "nbformat": 4,
  "nbformat_minor": 0
}