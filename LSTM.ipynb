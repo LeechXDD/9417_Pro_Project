{
  "nbformat": 4,
  "nbformat_minor": 0,
  "metadata": {
    "colab": {
      "provenance": [],
      "authorship_tag": "ABX9TyNdqCiipT8y+FYNrlki1GT8",
      "include_colab_link": true
    },
    "kernelspec": {
      "name": "python3",
      "display_name": "Python 3"
    },
    "language_info": {
      "name": "python"
    }
  },
  "cells": [
    {
      "cell_type": "markdown",
      "metadata": {
        "id": "view-in-github",
        "colab_type": "text"
      },
      "source": [
        "<a href=\"https://colab.research.google.com/github/LeechXDD/9417_Pro_Project/blob/main/LSTM.ipynb\" target=\"_parent\"><img src=\"https://colab.research.google.com/assets/colab-badge.svg\" alt=\"Open In Colab\"/></a>"
      ]
    },
    {
      "cell_type": "code",
      "execution_count": 2,
      "metadata": {
        "id": "ueh5uId-wMpu",
        "colab": {
          "base_uri": "https://localhost:8080/"
        },
        "outputId": "749c3279-ba93-4f69-bd17-9eafed085bc1"
      },
      "outputs": [
        {
          "output_type": "stream",
          "name": "stdout",
          "text": [
            "Collecting tensorflow_addons\n",
            "  Downloading tensorflow_addons-0.21.0-cp310-cp310-manylinux_2_17_x86_64.manylinux2014_x86_64.whl (612 kB)\n",
            "\u001b[?25l     \u001b[90m━━━━━━━━━━━━━━━━━━━━━━━━━━━━━━━━━━━━━━━━\u001b[0m \u001b[32m0.0/612.1 kB\u001b[0m \u001b[31m?\u001b[0m eta \u001b[36m-:--:--\u001b[0m\r\u001b[2K     \u001b[90m━━━━━━━━━━━━━━━━━━━━━━━━━━━━━━━━━━━━━━\u001b[0m \u001b[32m612.1/612.1 kB\u001b[0m \u001b[31m27.7 MB/s\u001b[0m eta \u001b[36m0:00:00\u001b[0m\n",
            "\u001b[?25hRequirement already satisfied: packaging in /usr/local/lib/python3.10/dist-packages (from tensorflow_addons) (23.1)\n",
            "Collecting typeguard<3.0.0,>=2.7 (from tensorflow_addons)\n",
            "  Downloading typeguard-2.13.3-py3-none-any.whl (17 kB)\n",
            "Installing collected packages: typeguard, tensorflow_addons\n",
            "Successfully installed tensorflow_addons-0.21.0 typeguard-2.13.3\n"
          ]
        },
        {
          "output_type": "stream",
          "name": "stderr",
          "text": [
            "/usr/local/lib/python3.10/dist-packages/tensorflow_addons/utils/tfa_eol_msg.py:23: UserWarning: \n",
            "\n",
            "TensorFlow Addons (TFA) has ended development and introduction of new features.\n",
            "TFA has entered a minimal maintenance and release mode until a planned end of life in May 2024.\n",
            "Please modify downstream libraries to take dependencies from other repositories in our TensorFlow community (e.g. Keras, Keras-CV, and Keras-NLP). \n",
            "\n",
            "For more information see: https://github.com/tensorflow/addons/issues/2807 \n",
            "\n",
            "  warnings.warn(\n"
          ]
        }
      ],
      "source": [
        "!pip install tensorflow_addons\n",
        "from tensorflow.keras.models import Sequential\n",
        "from tensorflow.keras.layers import LSTM, Dense\n",
        "import numpy as np\n",
        "import pandas as pd\n",
        "from sklearn.metrics import f1_score\n",
        "import tensorflow_addons as tfa"
      ]
    },
    {
      "cell_type": "markdown",
      "source": [
        "##Data preprocessing"
      ],
      "metadata": {
        "id": "LbSLs7pXxMIq"
      }
    },
    {
      "cell_type": "code",
      "source": [
        "dtypes={\n",
        "    'elapsed_time':np.int32,\n",
        "    'event_name':'category',\n",
        "    'name':'category',\n",
        "    'level':np.uint8,\n",
        "    'room_coor_x':np.float32,\n",
        "    'room_coor_y':np.float32,\n",
        "    'screen_coor_x':np.float32,\n",
        "    'screen_coor_y':np.float32,\n",
        "    'hover_duration':np.float32,\n",
        "    'text':'category',\n",
        "    'fqid':'category',\n",
        "    'room_fqid':'category',\n",
        "    'text_fqid':'category',\n",
        "    'fullscreen':'category',\n",
        "    'hq':'category',\n",
        "    'music':'category',\n",
        "    'level_group':'category'}"
      ],
      "metadata": {
        "id": "jLQoO_WCxMqt"
      },
      "execution_count": 3,
      "outputs": []
    },
    {
      "cell_type": "code",
      "source": [
        "from google.colab import drive\n",
        "drive.mount('/content/drive')\n",
        "\n",
        "dataset_df = pd.read_csv('/content/drive/MyDrive/9417project/predict-student-performance-from-game-play.zip (Unzipped Files)/train.csv', dtype=dtypes)\n",
        "labels = pd.read_csv('/content/drive/MyDrive/9417project/predict-student-performance-from-game-play.zip (Unzipped Files)/train_labels.csv')"
      ],
      "metadata": {
        "colab": {
          "base_uri": "https://localhost:8080/"
        },
        "id": "xGcxMlQPxOzf",
        "outputId": "ee05944f-0fdb-4512-f279-b3053d89a6b0"
      },
      "execution_count": 4,
      "outputs": [
        {
          "output_type": "stream",
          "name": "stdout",
          "text": [
            "Mounted at /content/drive\n"
          ]
        }
      ]
    },
    {
      "cell_type": "code",
      "source": [
        "labels['session'] = labels.session_id.apply(lambda x: int(x.split('_')[0]) )\n",
        "labels['q'] = labels.session_id.apply(lambda x: int(x.split('_')[-1][1:]) )"
      ],
      "metadata": {
        "id": "9tPTBMuBxSuH"
      },
      "execution_count": 5,
      "outputs": []
    },
    {
      "cell_type": "code",
      "source": [
        "CATEGORICAL = ['event_name', 'name','fqid', 'room_fqid', 'text_fqid']\n",
        "NUMERICAL = ['elapsed_time','level','page','room_coor_x', 'room_coor_y',\n",
        "        'screen_coor_x', 'screen_coor_y', 'hover_duration']"
      ],
      "metadata": {
        "id": "ciIHg6HixUNA"
      },
      "execution_count": 6,
      "outputs": []
    },
    {
      "cell_type": "code",
      "source": [
        "# Reference: https://www.kaggle.com/code/cdeotte/random-forest-baseline-0-664/notebook\n",
        "\n",
        "def feature_engineer(dataset_df):\n",
        "    dfs = []\n",
        "    for c in CATEGORICAL:\n",
        "        tmp = dataset_df.groupby(['session_id','level_group'])[c].agg('nunique')\n",
        "        tmp.name = tmp.name + '_nunique'\n",
        "        dfs.append(tmp)\n",
        "    for c in NUMERICAL:\n",
        "        tmp = dataset_df.groupby(['session_id','level_group'])[c].agg('mean')\n",
        "        dfs.append(tmp)\n",
        "    for c in NUMERICAL:\n",
        "        tmp = dataset_df.groupby(['session_id','level_group'])[c].agg('std')\n",
        "        tmp.name = tmp.name + '_std'\n",
        "        dfs.append(tmp)\n",
        "    dataset_df = pd.concat(dfs,axis=1)\n",
        "    dataset_df = dataset_df.fillna(-1)\n",
        "    dataset_df = dataset_df.reset_index()\n",
        "    dataset_df = dataset_df.set_index('session_id')\n",
        "    return dataset_df"
      ],
      "metadata": {
        "id": "Xrz9SFEaxWBC"
      },
      "execution_count": 7,
      "outputs": []
    },
    {
      "cell_type": "code",
      "source": [
        "dataset_df = feature_engineer(dataset_df)"
      ],
      "metadata": {
        "id": "yCavLpTFxXqP"
      },
      "execution_count": 8,
      "outputs": []
    },
    {
      "cell_type": "code",
      "source": [
        "def split_dataset(dataset, test_ratio=0.20):\n",
        "    USER_LIST = dataset.index.unique()\n",
        "    split = int(len(USER_LIST) * (1 - 0.20))\n",
        "    return dataset.loc[USER_LIST[:split]], dataset.loc[USER_LIST[split:]]\n",
        "\n",
        "train_x, valid_x = split_dataset(dataset_df)"
      ],
      "metadata": {
        "id": "avtUSlrWxZMX"
      },
      "execution_count": 9,
      "outputs": []
    },
    {
      "cell_type": "code",
      "source": [
        "# Fetch the unique list of user sessions in the validation dataset. We assigned\n",
        "# `session_id` as the index of our feature engineered dataset. Hence fetching\n",
        "# the unique values in the index column will give us a list of users in the\n",
        "# validation set.\n",
        "VALID_USER_LIST = valid_x.index.unique()\n",
        "\n",
        "# Create a dataframe for storing the predictions of each question for all users\n",
        "# in the validation set.\n",
        "# For this, the required size of the data frame is:\n",
        "# (no: of users in validation set  x no of questions).\n",
        "# We will initialize all the predicted values in the data frame to zero.\n",
        "# The dataframe's index column is the user `session_id`s.\n",
        "prediction_df = pd.DataFrame(data=np.zeros((len(VALID_USER_LIST),18)), index=VALID_USER_LIST)\n",
        "\n",
        "# Create an empty dictionary to store the models created for each question.\n",
        "models = {}\n",
        "\n",
        "f1_scores = []\n",
        "\n",
        "# Create an empty dictionary to store the evaluation score for each question.\n",
        "evaluation_dict ={}"
      ],
      "metadata": {
        "id": "myvynSmyxu4B"
      },
      "execution_count": 10,
      "outputs": []
    },
    {
      "cell_type": "code",
      "source": [
        "def df_to_dataset(dataframe, shuffle=True, batch_size=32):\n",
        "    dataframe = dataframe.copy()\n",
        "    labels = dataframe.pop('label')  # Assume 'label' is your target column\n",
        "    ds = tf.data.Dataset.from_tensor_slices((dict(dataframe), labels))\n",
        "    if shuffle:\n",
        "        ds = ds.shuffle(buffer_size=len(dataframe))\n",
        "    ds = ds.batch(batch_size)\n",
        "    return ds"
      ],
      "metadata": {
        "id": "_CsY1YQVxwb2"
      },
      "execution_count": 11,
      "outputs": []
    },
    {
      "cell_type": "code",
      "source": [
        "def prepare_data(df, sequence_length):\n",
        "    \"\"\"\n",
        "    Prepare data for LSTM, based on sequence length.\n",
        "    \"\"\"\n",
        "    # Get labels\n",
        "    labels = df.groupby(df.index)[\"correct\"].last().values\n",
        "    # Drop the 'correct' and 'level_group' columns from the features\n",
        "    features = df.drop(columns=[\"correct\", \"level_group\"])\n",
        "\n",
        "    data = []\n",
        "    label = []\n",
        "\n",
        "    # Create sequences\n",
        "    for user, group in features.groupby(features.index):\n",
        "        user_features = group.values\n",
        "        if len(user_features) < sequence_length:\n",
        "            padding = np.zeros((sequence_length - len(user_features), user_features.shape[1]))\n",
        "            user_features = np.concatenate((user_features, padding))\n",
        "        data.append(user_features)\n",
        "        label.append(labels[len(data)-1])\n",
        "\n",
        "    # Convert lists to numpy arrays\n",
        "    data = np.array(data)\n",
        "    label = np.array(label)\n",
        "\n",
        "    return data, label\n"
      ],
      "metadata": {
        "id": "XUoHegj2GDVg"
      },
      "execution_count": 12,
      "outputs": []
    },
    {
      "cell_type": "code",
      "source": [
        "# model define\n",
        "input_shape = (100, 32)"
      ],
      "metadata": {
        "id": "x7zDRR7DyAph"
      },
      "execution_count": 13,
      "outputs": []
    },
    {
      "cell_type": "code",
      "source": [
        "sequence_length = 100\n",
        "# Iterate through questions 1 to 18 to train models for each question, evaluate\n",
        "# the trained model and store the predicted values.\n",
        "for q_no in range(1,19):\n",
        "    # Select level group for the question based on the q_no.\n",
        "    if q_no<=4: grp = '0-4'\n",
        "    elif q_no<=12: grp = '5-12'\n",
        "    elif q_no<=18: grp = '13-22'\n",
        "    print(\"### q_no\", q_no, \"grp\", grp)\n",
        "\n",
        "    # Filter the rows in the datasets based on the selected level group.\n",
        "    train_df = train_x.loc[train_x.level_group == grp]\n",
        "    train_users = train_df.index.values\n",
        "    valid_df = valid_x.loc[valid_x.level_group == grp]\n",
        "    valid_users = valid_df.index.values\n",
        "\n",
        "    print(len(valid_users))\n",
        "\n",
        "    # Select the labels for the related q_no.\n",
        "    train_labels = labels.loc[labels.q==q_no].set_index('session').loc[train_users]\n",
        "    valid_labels = labels.loc[labels.q==q_no].set_index('session').loc[valid_users]\n",
        "\n",
        "    # Add the label to the filtered datasets.\n",
        "    train_df[\"correct\"] = train_labels[\"correct\"]\n",
        "    valid_df[\"correct\"] = valid_labels[\"correct\"]\n",
        "\n",
        "    # Prepare data for LSTM\n",
        "    train_data, train_labels = prepare_data(train_df, sequence_length)\n",
        "    valid_data, valid_labels = prepare_data(valid_df, sequence_length)\n",
        "\n",
        "\n",
        "\n",
        "\n",
        "    print(len(valid_data))\n",
        "    print(len(valid_labels))\n",
        "\n",
        "    # Define the model\n",
        "    model = Sequential()\n",
        "    model.add(LSTM(64, input_shape=(sequence_length, train_data.shape[-1]), return_sequences=True))\n",
        "    model.add(LSTM(32, return_sequences=False))\n",
        "    model.add(Dense(1, activation='sigmoid'))\n",
        "\n",
        "    # Compile the model\n",
        "    model.compile(loss='binary_crossentropy', optimizer='adam', metrics=['accuracy'])\n",
        "\n",
        "    # Train the model\n",
        "    model.fit(train_data, train_labels, epochs=3, validation_data=(valid_data, valid_labels))\n",
        "\n",
        "    # Store the model\n",
        "    models[f'{grp}_{q_no}'] = model\n",
        "\n",
        "    # Evaluate the model\n",
        "    evaluation = model.evaluate(valid_data, valid_labels)\n",
        "    evaluation_dict[q_no] = evaluation[1]\n",
        "    print(f\"Validation accuracy: {evaluation[1]}\")\n",
        "\n",
        "    # Make predictions\n",
        "    predictions = model.predict(valid_data)\n",
        "    prediction_df.loc[valid_users, q_no-1] = predictions.flatten()\n",
        "\n",
        "\n",
        "    binary_predictions = [1 if p > 0.62 else 0 for p in predictions]\n",
        "    # Get the true labels\n",
        "    true_labels = valid_labels[:len(valid_data)]\n",
        "\n",
        "    # Calculate the F1 score and add it to the list\n",
        "    f1 = f1_score(true_labels, binary_predictions)\n",
        "    f1_scores.append(f1)\n",
        "\n"
      ],
      "metadata": {
        "colab": {
          "base_uri": "https://localhost:8080/"
        },
        "id": "iYMqGNoW0HHL",
        "outputId": "c38bff8f-211c-4249-e83e-13a59f64901d"
      },
      "execution_count": 14,
      "outputs": [
        {
          "output_type": "stream",
          "name": "stdout",
          "text": [
            "### q_no 1 grp 0-4\n",
            "4713\n"
          ]
        },
        {
          "output_type": "stream",
          "name": "stderr",
          "text": [
            "<ipython-input-14-24e18ada4ba5>:24: SettingWithCopyWarning: \n",
            "A value is trying to be set on a copy of a slice from a DataFrame.\n",
            "Try using .loc[row_indexer,col_indexer] = value instead\n",
            "\n",
            "See the caveats in the documentation: https://pandas.pydata.org/pandas-docs/stable/user_guide/indexing.html#returning-a-view-versus-a-copy\n",
            "  train_df[\"correct\"] = train_labels[\"correct\"]\n",
            "<ipython-input-14-24e18ada4ba5>:25: SettingWithCopyWarning: \n",
            "A value is trying to be set on a copy of a slice from a DataFrame.\n",
            "Try using .loc[row_indexer,col_indexer] = value instead\n",
            "\n",
            "See the caveats in the documentation: https://pandas.pydata.org/pandas-docs/stable/user_guide/indexing.html#returning-a-view-versus-a-copy\n",
            "  valid_df[\"correct\"] = valid_labels[\"correct\"]\n"
          ]
        },
        {
          "output_type": "stream",
          "name": "stdout",
          "text": [
            "4713\n",
            "4713\n",
            "Epoch 1/3\n",
            "590/590 [==============================] - 72s 113ms/step - loss: 0.5905 - accuracy: 0.7261 - val_loss: 0.5814 - val_accuracy: 0.7322\n",
            "Epoch 2/3\n",
            "590/590 [==============================] - 67s 114ms/step - loss: 0.5883 - accuracy: 0.7263 - val_loss: 0.5825 - val_accuracy: 0.7322\n",
            "Epoch 3/3\n",
            "590/590 [==============================] - 63s 106ms/step - loss: 0.5877 - accuracy: 0.7263 - val_loss: 0.5811 - val_accuracy: 0.7322\n",
            "148/148 [==============================] - 5s 31ms/step - loss: 0.5811 - accuracy: 0.7322\n",
            "Validation accuracy: 0.732230007648468\n",
            "148/148 [==============================] - 5s 26ms/step\n",
            "### q_no 2 grp 0-4\n",
            "4713\n"
          ]
        },
        {
          "output_type": "stream",
          "name": "stderr",
          "text": [
            "<ipython-input-14-24e18ada4ba5>:24: SettingWithCopyWarning: \n",
            "A value is trying to be set on a copy of a slice from a DataFrame.\n",
            "Try using .loc[row_indexer,col_indexer] = value instead\n",
            "\n",
            "See the caveats in the documentation: https://pandas.pydata.org/pandas-docs/stable/user_guide/indexing.html#returning-a-view-versus-a-copy\n",
            "  train_df[\"correct\"] = train_labels[\"correct\"]\n",
            "<ipython-input-14-24e18ada4ba5>:25: SettingWithCopyWarning: \n",
            "A value is trying to be set on a copy of a slice from a DataFrame.\n",
            "Try using .loc[row_indexer,col_indexer] = value instead\n",
            "\n",
            "See the caveats in the documentation: https://pandas.pydata.org/pandas-docs/stable/user_guide/indexing.html#returning-a-view-versus-a-copy\n",
            "  valid_df[\"correct\"] = valid_labels[\"correct\"]\n"
          ]
        },
        {
          "output_type": "stream",
          "name": "stdout",
          "text": [
            "4713\n",
            "4713\n",
            "Epoch 1/3\n",
            "590/590 [==============================] - 70s 112ms/step - loss: 0.1103 - accuracy: 0.9780 - val_loss: 0.1150 - val_accuracy: 0.9756\n",
            "Epoch 2/3\n",
            "590/590 [==============================] - 65s 110ms/step - loss: 0.1000 - accuracy: 0.9796 - val_loss: 0.1148 - val_accuracy: 0.9756\n",
            "Epoch 3/3\n",
            "590/590 [==============================] - 64s 108ms/step - loss: 0.0997 - accuracy: 0.9796 - val_loss: 0.1191 - val_accuracy: 0.9756\n",
            "148/148 [==============================] - 4s 27ms/step - loss: 0.1191 - accuracy: 0.9756\n",
            "Validation accuracy: 0.9755994081497192\n",
            "148/148 [==============================] - 6s 35ms/step\n",
            "### q_no 3 grp 0-4\n",
            "4713\n"
          ]
        },
        {
          "output_type": "stream",
          "name": "stderr",
          "text": [
            "<ipython-input-14-24e18ada4ba5>:24: SettingWithCopyWarning: \n",
            "A value is trying to be set on a copy of a slice from a DataFrame.\n",
            "Try using .loc[row_indexer,col_indexer] = value instead\n",
            "\n",
            "See the caveats in the documentation: https://pandas.pydata.org/pandas-docs/stable/user_guide/indexing.html#returning-a-view-versus-a-copy\n",
            "  train_df[\"correct\"] = train_labels[\"correct\"]\n",
            "<ipython-input-14-24e18ada4ba5>:25: SettingWithCopyWarning: \n",
            "A value is trying to be set on a copy of a slice from a DataFrame.\n",
            "Try using .loc[row_indexer,col_indexer] = value instead\n",
            "\n",
            "See the caveats in the documentation: https://pandas.pydata.org/pandas-docs/stable/user_guide/indexing.html#returning-a-view-versus-a-copy\n",
            "  valid_df[\"correct\"] = valid_labels[\"correct\"]\n"
          ]
        },
        {
          "output_type": "stream",
          "name": "stdout",
          "text": [
            "4713\n",
            "4713\n",
            "Epoch 1/3\n",
            "590/590 [==============================] - 69s 110ms/step - loss: 0.2552 - accuracy: 0.9337 - val_loss: 0.2408 - val_accuracy: 0.9351\n",
            "Epoch 2/3\n",
            "590/590 [==============================] - 63s 106ms/step - loss: 0.2444 - accuracy: 0.9337 - val_loss: 0.2410 - val_accuracy: 0.9351\n",
            "Epoch 3/3\n",
            "590/590 [==============================] - 63s 107ms/step - loss: 0.2444 - accuracy: 0.9337 - val_loss: 0.2405 - val_accuracy: 0.9351\n",
            "148/148 [==============================] - 5s 35ms/step - loss: 0.2405 - accuracy: 0.9351\n",
            "Validation accuracy: 0.93507319688797\n",
            "148/148 [==============================] - 5s 26ms/step\n",
            "### q_no 4 grp 5-12\n",
            "4713\n"
          ]
        },
        {
          "output_type": "stream",
          "name": "stderr",
          "text": [
            "<ipython-input-14-24e18ada4ba5>:24: SettingWithCopyWarning: \n",
            "A value is trying to be set on a copy of a slice from a DataFrame.\n",
            "Try using .loc[row_indexer,col_indexer] = value instead\n",
            "\n",
            "See the caveats in the documentation: https://pandas.pydata.org/pandas-docs/stable/user_guide/indexing.html#returning-a-view-versus-a-copy\n",
            "  train_df[\"correct\"] = train_labels[\"correct\"]\n",
            "<ipython-input-14-24e18ada4ba5>:25: SettingWithCopyWarning: \n",
            "A value is trying to be set on a copy of a slice from a DataFrame.\n",
            "Try using .loc[row_indexer,col_indexer] = value instead\n",
            "\n",
            "See the caveats in the documentation: https://pandas.pydata.org/pandas-docs/stable/user_guide/indexing.html#returning-a-view-versus-a-copy\n",
            "  valid_df[\"correct\"] = valid_labels[\"correct\"]\n"
          ]
        },
        {
          "output_type": "stream",
          "name": "stdout",
          "text": [
            "4713\n",
            "4713\n",
            "Epoch 1/3\n",
            "590/590 [==============================] - 74s 116ms/step - loss: 0.5052 - accuracy: 0.7998 - val_loss: 0.5121 - val_accuracy: 0.7919\n",
            "Epoch 2/3\n",
            "590/590 [==============================] - 67s 113ms/step - loss: 0.5012 - accuracy: 0.7998 - val_loss: 0.5123 - val_accuracy: 0.7919\n",
            "Epoch 3/3\n",
            "590/590 [==============================] - 64s 108ms/step - loss: 0.5016 - accuracy: 0.7998 - val_loss: 0.5115 - val_accuracy: 0.7919\n",
            "148/148 [==============================] - 4s 28ms/step - loss: 0.5115 - accuracy: 0.7919\n",
            "Validation accuracy: 0.7918522953987122\n",
            "148/148 [==============================] - 5s 27ms/step\n",
            "### q_no 5 grp 5-12\n",
            "4713\n"
          ]
        },
        {
          "output_type": "stream",
          "name": "stderr",
          "text": [
            "<ipython-input-14-24e18ada4ba5>:24: SettingWithCopyWarning: \n",
            "A value is trying to be set on a copy of a slice from a DataFrame.\n",
            "Try using .loc[row_indexer,col_indexer] = value instead\n",
            "\n",
            "See the caveats in the documentation: https://pandas.pydata.org/pandas-docs/stable/user_guide/indexing.html#returning-a-view-versus-a-copy\n",
            "  train_df[\"correct\"] = train_labels[\"correct\"]\n",
            "<ipython-input-14-24e18ada4ba5>:25: SettingWithCopyWarning: \n",
            "A value is trying to be set on a copy of a slice from a DataFrame.\n",
            "Try using .loc[row_indexer,col_indexer] = value instead\n",
            "\n",
            "See the caveats in the documentation: https://pandas.pydata.org/pandas-docs/stable/user_guide/indexing.html#returning-a-view-versus-a-copy\n",
            "  valid_df[\"correct\"] = valid_labels[\"correct\"]\n"
          ]
        },
        {
          "output_type": "stream",
          "name": "stdout",
          "text": [
            "4713\n",
            "4713\n",
            "Epoch 1/3\n",
            "590/590 [==============================] - 70s 112ms/step - loss: 0.6894 - accuracy: 0.5463 - val_loss: 0.6872 - val_accuracy: 0.5557\n",
            "Epoch 2/3\n",
            "590/590 [==============================] - 65s 111ms/step - loss: 0.6892 - accuracy: 0.5464 - val_loss: 0.6873 - val_accuracy: 0.5557\n",
            "Epoch 3/3\n",
            "590/590 [==============================] - 65s 110ms/step - loss: 0.6890 - accuracy: 0.5464 - val_loss: 0.6873 - val_accuracy: 0.5557\n",
            "148/148 [==============================] - 4s 27ms/step - loss: 0.6873 - accuracy: 0.5557\n",
            "Validation accuracy: 0.5556970238685608\n",
            "148/148 [==============================] - 6s 34ms/step\n",
            "### q_no 6 grp 5-12\n",
            "4713\n"
          ]
        },
        {
          "output_type": "stream",
          "name": "stderr",
          "text": [
            "<ipython-input-14-24e18ada4ba5>:24: SettingWithCopyWarning: \n",
            "A value is trying to be set on a copy of a slice from a DataFrame.\n",
            "Try using .loc[row_indexer,col_indexer] = value instead\n",
            "\n",
            "See the caveats in the documentation: https://pandas.pydata.org/pandas-docs/stable/user_guide/indexing.html#returning-a-view-versus-a-copy\n",
            "  train_df[\"correct\"] = train_labels[\"correct\"]\n",
            "<ipython-input-14-24e18ada4ba5>:25: SettingWithCopyWarning: \n",
            "A value is trying to be set on a copy of a slice from a DataFrame.\n",
            "Try using .loc[row_indexer,col_indexer] = value instead\n",
            "\n",
            "See the caveats in the documentation: https://pandas.pydata.org/pandas-docs/stable/user_guide/indexing.html#returning-a-view-versus-a-copy\n",
            "  valid_df[\"correct\"] = valid_labels[\"correct\"]\n"
          ]
        },
        {
          "output_type": "stream",
          "name": "stdout",
          "text": [
            "4713\n",
            "4713\n",
            "Epoch 1/3\n",
            "590/590 [==============================] - 71s 111ms/step - loss: 0.5397 - accuracy: 0.7721 - val_loss: 0.5177 - val_accuracy: 0.7872\n",
            "Epoch 2/3\n",
            "590/590 [==============================] - 66s 112ms/step - loss: 0.5360 - accuracy: 0.7731 - val_loss: 0.5214 - val_accuracy: 0.7872\n",
            "Epoch 3/3\n",
            "590/590 [==============================] - 64s 108ms/step - loss: 0.5361 - accuracy: 0.7731 - val_loss: 0.5190 - val_accuracy: 0.7872\n",
            "148/148 [==============================] - 4s 27ms/step - loss: 0.5190 - accuracy: 0.7872\n",
            "Validation accuracy: 0.7871843576431274\n",
            "148/148 [==============================] - 6s 34ms/step\n",
            "### q_no 7 grp 5-12\n",
            "4713\n"
          ]
        },
        {
          "output_type": "stream",
          "name": "stderr",
          "text": [
            "<ipython-input-14-24e18ada4ba5>:24: SettingWithCopyWarning: \n",
            "A value is trying to be set on a copy of a slice from a DataFrame.\n",
            "Try using .loc[row_indexer,col_indexer] = value instead\n",
            "\n",
            "See the caveats in the documentation: https://pandas.pydata.org/pandas-docs/stable/user_guide/indexing.html#returning-a-view-versus-a-copy\n",
            "  train_df[\"correct\"] = train_labels[\"correct\"]\n",
            "<ipython-input-14-24e18ada4ba5>:25: SettingWithCopyWarning: \n",
            "A value is trying to be set on a copy of a slice from a DataFrame.\n",
            "Try using .loc[row_indexer,col_indexer] = value instead\n",
            "\n",
            "See the caveats in the documentation: https://pandas.pydata.org/pandas-docs/stable/user_guide/indexing.html#returning-a-view-versus-a-copy\n",
            "  valid_df[\"correct\"] = valid_labels[\"correct\"]\n"
          ]
        },
        {
          "output_type": "stream",
          "name": "stdout",
          "text": [
            "4713\n",
            "4713\n",
            "Epoch 1/3\n",
            "590/590 [==============================] - 71s 112ms/step - loss: 0.5830 - accuracy: 0.7327 - val_loss: 0.5668 - val_accuracy: 0.7460\n",
            "Epoch 2/3\n",
            "590/590 [==============================] - 65s 111ms/step - loss: 0.5803 - accuracy: 0.7336 - val_loss: 0.5672 - val_accuracy: 0.7460\n",
            "Epoch 3/3\n",
            "590/590 [==============================] - 64s 109ms/step - loss: 0.5802 - accuracy: 0.7336 - val_loss: 0.5683 - val_accuracy: 0.7460\n",
            "148/148 [==============================] - 4s 30ms/step - loss: 0.5683 - accuracy: 0.7460\n",
            "Validation accuracy: 0.7460216283798218\n",
            "148/148 [==============================] - 5s 28ms/step\n",
            "### q_no 8 grp 5-12\n",
            "4713\n"
          ]
        },
        {
          "output_type": "stream",
          "name": "stderr",
          "text": [
            "<ipython-input-14-24e18ada4ba5>:24: SettingWithCopyWarning: \n",
            "A value is trying to be set on a copy of a slice from a DataFrame.\n",
            "Try using .loc[row_indexer,col_indexer] = value instead\n",
            "\n",
            "See the caveats in the documentation: https://pandas.pydata.org/pandas-docs/stable/user_guide/indexing.html#returning-a-view-versus-a-copy\n",
            "  train_df[\"correct\"] = train_labels[\"correct\"]\n",
            "<ipython-input-14-24e18ada4ba5>:25: SettingWithCopyWarning: \n",
            "A value is trying to be set on a copy of a slice from a DataFrame.\n",
            "Try using .loc[row_indexer,col_indexer] = value instead\n",
            "\n",
            "See the caveats in the documentation: https://pandas.pydata.org/pandas-docs/stable/user_guide/indexing.html#returning-a-view-versus-a-copy\n",
            "  valid_df[\"correct\"] = valid_labels[\"correct\"]\n"
          ]
        },
        {
          "output_type": "stream",
          "name": "stdout",
          "text": [
            "4713\n",
            "4713\n",
            "Epoch 1/3\n",
            "590/590 [==============================] - 72s 114ms/step - loss: 0.6687 - accuracy: 0.6129 - val_loss: 0.6573 - val_accuracy: 0.6331\n",
            "Epoch 2/3\n",
            "590/590 [==============================] - 66s 111ms/step - loss: 0.6678 - accuracy: 0.6132 - val_loss: 0.6575 - val_accuracy: 0.6331\n",
            "Epoch 3/3\n",
            "590/590 [==============================] - 66s 111ms/step - loss: 0.6678 - accuracy: 0.6132 - val_loss: 0.6579 - val_accuracy: 0.6331\n",
            "148/148 [==============================] - 5s 33ms/step - loss: 0.6579 - accuracy: 0.6331\n",
            "Validation accuracy: 0.633142352104187\n",
            "148/148 [==============================] - 5s 26ms/step\n",
            "### q_no 9 grp 5-12\n",
            "4713\n"
          ]
        },
        {
          "output_type": "stream",
          "name": "stderr",
          "text": [
            "<ipython-input-14-24e18ada4ba5>:24: SettingWithCopyWarning: \n",
            "A value is trying to be set on a copy of a slice from a DataFrame.\n",
            "Try using .loc[row_indexer,col_indexer] = value instead\n",
            "\n",
            "See the caveats in the documentation: https://pandas.pydata.org/pandas-docs/stable/user_guide/indexing.html#returning-a-view-versus-a-copy\n",
            "  train_df[\"correct\"] = train_labels[\"correct\"]\n",
            "<ipython-input-14-24e18ada4ba5>:25: SettingWithCopyWarning: \n",
            "A value is trying to be set on a copy of a slice from a DataFrame.\n",
            "Try using .loc[row_indexer,col_indexer] = value instead\n",
            "\n",
            "See the caveats in the documentation: https://pandas.pydata.org/pandas-docs/stable/user_guide/indexing.html#returning-a-view-versus-a-copy\n",
            "  valid_df[\"correct\"] = valid_labels[\"correct\"]\n"
          ]
        },
        {
          "output_type": "stream",
          "name": "stdout",
          "text": [
            "4713\n",
            "4713\n",
            "Epoch 1/3\n",
            "590/590 [==============================] - 72s 112ms/step - loss: 0.5862 - accuracy: 0.7301 - val_loss: 0.5530 - val_accuracy: 0.7583\n",
            "Epoch 2/3\n",
            "590/590 [==============================] - 65s 111ms/step - loss: 0.5835 - accuracy: 0.7308 - val_loss: 0.5560 - val_accuracy: 0.7583\n",
            "Epoch 3/3\n",
            "590/590 [==============================] - 64s 108ms/step - loss: 0.5832 - accuracy: 0.7308 - val_loss: 0.5536 - val_accuracy: 0.7583\n",
            "148/148 [==============================] - 5s 32ms/step - loss: 0.5536 - accuracy: 0.7583\n",
            "Validation accuracy: 0.7583280205726624\n",
            "148/148 [==============================] - 5s 27ms/step\n",
            "### q_no 10 grp 5-12\n",
            "4713\n"
          ]
        },
        {
          "output_type": "stream",
          "name": "stderr",
          "text": [
            "<ipython-input-14-24e18ada4ba5>:24: SettingWithCopyWarning: \n",
            "A value is trying to be set on a copy of a slice from a DataFrame.\n",
            "Try using .loc[row_indexer,col_indexer] = value instead\n",
            "\n",
            "See the caveats in the documentation: https://pandas.pydata.org/pandas-docs/stable/user_guide/indexing.html#returning-a-view-versus-a-copy\n",
            "  train_df[\"correct\"] = train_labels[\"correct\"]\n",
            "<ipython-input-14-24e18ada4ba5>:25: SettingWithCopyWarning: \n",
            "A value is trying to be set on a copy of a slice from a DataFrame.\n",
            "Try using .loc[row_indexer,col_indexer] = value instead\n",
            "\n",
            "See the caveats in the documentation: https://pandas.pydata.org/pandas-docs/stable/user_guide/indexing.html#returning-a-view-versus-a-copy\n",
            "  valid_df[\"correct\"] = valid_labels[\"correct\"]\n"
          ]
        },
        {
          "output_type": "stream",
          "name": "stdout",
          "text": [
            "4713\n",
            "4713\n",
            "Epoch 1/3\n",
            "590/590 [==============================] - 71s 112ms/step - loss: 0.6933 - accuracy: 0.4971 - val_loss: 0.6929 - val_accuracy: 0.5130\n",
            "Epoch 2/3\n",
            "590/590 [==============================] - 66s 112ms/step - loss: 0.6932 - accuracy: 0.4965 - val_loss: 0.6929 - val_accuracy: 0.5130\n",
            "Epoch 3/3\n",
            "590/590 [==============================] - 70s 118ms/step - loss: 0.6932 - accuracy: 0.5001 - val_loss: 0.6929 - val_accuracy: 0.5130\n",
            "148/148 [==============================] - 5s 36ms/step - loss: 0.6929 - accuracy: 0.5130\n",
            "Validation accuracy: 0.5130490064620972\n",
            "148/148 [==============================] - 5s 29ms/step\n",
            "### q_no 11 grp 5-12\n",
            "4713\n"
          ]
        },
        {
          "output_type": "stream",
          "name": "stderr",
          "text": [
            "<ipython-input-14-24e18ada4ba5>:24: SettingWithCopyWarning: \n",
            "A value is trying to be set on a copy of a slice from a DataFrame.\n",
            "Try using .loc[row_indexer,col_indexer] = value instead\n",
            "\n",
            "See the caveats in the documentation: https://pandas.pydata.org/pandas-docs/stable/user_guide/indexing.html#returning-a-view-versus-a-copy\n",
            "  train_df[\"correct\"] = train_labels[\"correct\"]\n",
            "<ipython-input-14-24e18ada4ba5>:25: SettingWithCopyWarning: \n",
            "A value is trying to be set on a copy of a slice from a DataFrame.\n",
            "Try using .loc[row_indexer,col_indexer] = value instead\n",
            "\n",
            "See the caveats in the documentation: https://pandas.pydata.org/pandas-docs/stable/user_guide/indexing.html#returning-a-view-versus-a-copy\n",
            "  valid_df[\"correct\"] = valid_labels[\"correct\"]\n"
          ]
        },
        {
          "output_type": "stream",
          "name": "stdout",
          "text": [
            "4713\n",
            "4713\n",
            "Epoch 1/3\n",
            "590/590 [==============================] - 75s 120ms/step - loss: 0.6542 - accuracy: 0.6409 - val_loss: 0.6471 - val_accuracy: 0.6505\n",
            "Epoch 2/3\n",
            "590/590 [==============================] - 75s 127ms/step - loss: 0.6531 - accuracy: 0.6419 - val_loss: 0.6475 - val_accuracy: 0.6505\n",
            "Epoch 3/3\n",
            "590/590 [==============================] - 71s 120ms/step - loss: 0.6529 - accuracy: 0.6419 - val_loss: 0.6492 - val_accuracy: 0.6505\n",
            "148/148 [==============================] - 4s 30ms/step - loss: 0.6492 - accuracy: 0.6505\n",
            "Validation accuracy: 0.6505410671234131\n",
            "148/148 [==============================] - 6s 36ms/step\n",
            "### q_no 12 grp 5-12\n",
            "4713\n"
          ]
        },
        {
          "output_type": "stream",
          "name": "stderr",
          "text": [
            "<ipython-input-14-24e18ada4ba5>:24: SettingWithCopyWarning: \n",
            "A value is trying to be set on a copy of a slice from a DataFrame.\n",
            "Try using .loc[row_indexer,col_indexer] = value instead\n",
            "\n",
            "See the caveats in the documentation: https://pandas.pydata.org/pandas-docs/stable/user_guide/indexing.html#returning-a-view-versus-a-copy\n",
            "  train_df[\"correct\"] = train_labels[\"correct\"]\n",
            "<ipython-input-14-24e18ada4ba5>:25: SettingWithCopyWarning: \n",
            "A value is trying to be set on a copy of a slice from a DataFrame.\n",
            "Try using .loc[row_indexer,col_indexer] = value instead\n",
            "\n",
            "See the caveats in the documentation: https://pandas.pydata.org/pandas-docs/stable/user_guide/indexing.html#returning-a-view-versus-a-copy\n",
            "  valid_df[\"correct\"] = valid_labels[\"correct\"]\n"
          ]
        },
        {
          "output_type": "stream",
          "name": "stdout",
          "text": [
            "4713\n",
            "4713\n",
            "Epoch 1/3\n",
            "590/590 [==============================] - 76s 119ms/step - loss: 0.4113 - accuracy: 0.8607 - val_loss: 0.3872 - val_accuracy: 0.8701\n",
            "Epoch 2/3\n",
            "590/590 [==============================] - 72s 122ms/step - loss: 0.4036 - accuracy: 0.8612 - val_loss: 0.3864 - val_accuracy: 0.8701\n",
            "Epoch 3/3\n",
            "590/590 [==============================] - 70s 119ms/step - loss: 0.4033 - accuracy: 0.8612 - val_loss: 0.3863 - val_accuracy: 0.8701\n",
            "148/148 [==============================] - 4s 30ms/step - loss: 0.3863 - accuracy: 0.8701\n",
            "Validation accuracy: 0.8701463937759399\n",
            "148/148 [==============================] - 6s 35ms/step\n",
            "### q_no 13 grp 5-12\n",
            "4713\n"
          ]
        },
        {
          "output_type": "stream",
          "name": "stderr",
          "text": [
            "<ipython-input-14-24e18ada4ba5>:24: SettingWithCopyWarning: \n",
            "A value is trying to be set on a copy of a slice from a DataFrame.\n",
            "Try using .loc[row_indexer,col_indexer] = value instead\n",
            "\n",
            "See the caveats in the documentation: https://pandas.pydata.org/pandas-docs/stable/user_guide/indexing.html#returning-a-view-versus-a-copy\n",
            "  train_df[\"correct\"] = train_labels[\"correct\"]\n",
            "<ipython-input-14-24e18ada4ba5>:25: SettingWithCopyWarning: \n",
            "A value is trying to be set on a copy of a slice from a DataFrame.\n",
            "Try using .loc[row_indexer,col_indexer] = value instead\n",
            "\n",
            "See the caveats in the documentation: https://pandas.pydata.org/pandas-docs/stable/user_guide/indexing.html#returning-a-view-versus-a-copy\n",
            "  valid_df[\"correct\"] = valid_labels[\"correct\"]\n"
          ]
        },
        {
          "output_type": "stream",
          "name": "stdout",
          "text": [
            "4713\n",
            "4713\n",
            "Epoch 1/3\n",
            "590/590 [==============================] - 86s 138ms/step - loss: 0.5891 - accuracy: 0.7271 - val_loss: 0.5967 - val_accuracy: 0.7161\n",
            "Epoch 2/3\n",
            "590/590 [==============================] - 74s 126ms/step - loss: 0.5868 - accuracy: 0.7271 - val_loss: 0.5966 - val_accuracy: 0.7161\n",
            "Epoch 3/3\n",
            "590/590 [==============================] - 75s 128ms/step - loss: 0.5867 - accuracy: 0.7271 - val_loss: 0.5970 - val_accuracy: 0.7161\n",
            "148/148 [==============================] - 5s 32ms/step - loss: 0.5970 - accuracy: 0.7161\n",
            "Validation accuracy: 0.7161043882369995\n",
            "148/148 [==============================] - 7s 40ms/step\n",
            "### q_no 14 grp 13-22\n",
            "4713\n"
          ]
        },
        {
          "output_type": "stream",
          "name": "stderr",
          "text": [
            "<ipython-input-14-24e18ada4ba5>:24: SettingWithCopyWarning: \n",
            "A value is trying to be set on a copy of a slice from a DataFrame.\n",
            "Try using .loc[row_indexer,col_indexer] = value instead\n",
            "\n",
            "See the caveats in the documentation: https://pandas.pydata.org/pandas-docs/stable/user_guide/indexing.html#returning-a-view-versus-a-copy\n",
            "  train_df[\"correct\"] = train_labels[\"correct\"]\n",
            "<ipython-input-14-24e18ada4ba5>:25: SettingWithCopyWarning: \n",
            "A value is trying to be set on a copy of a slice from a DataFrame.\n",
            "Try using .loc[row_indexer,col_indexer] = value instead\n",
            "\n",
            "See the caveats in the documentation: https://pandas.pydata.org/pandas-docs/stable/user_guide/indexing.html#returning-a-view-versus-a-copy\n",
            "  valid_df[\"correct\"] = valid_labels[\"correct\"]\n"
          ]
        },
        {
          "output_type": "stream",
          "name": "stdout",
          "text": [
            "4713\n",
            "4713\n",
            "Epoch 1/3\n",
            "590/590 [==============================] - 83s 131ms/step - loss: 0.6123 - accuracy: 0.7008 - val_loss: 0.5913 - val_accuracy: 0.7297\n",
            "Epoch 2/3\n",
            "590/590 [==============================] - 72s 121ms/step - loss: 0.6101 - accuracy: 0.7022 - val_loss: 0.5851 - val_accuracy: 0.7297\n",
            "Epoch 3/3\n",
            "590/590 [==============================] - 73s 124ms/step - loss: 0.6097 - accuracy: 0.7022 - val_loss: 0.5871 - val_accuracy: 0.7297\n",
            "148/148 [==============================] - 5s 31ms/step - loss: 0.5871 - accuracy: 0.7297\n",
            "Validation accuracy: 0.7296838760375977\n",
            "148/148 [==============================] - 7s 40ms/step\n",
            "### q_no 15 grp 13-22\n",
            "4713\n"
          ]
        },
        {
          "output_type": "stream",
          "name": "stderr",
          "text": [
            "<ipython-input-14-24e18ada4ba5>:24: SettingWithCopyWarning: \n",
            "A value is trying to be set on a copy of a slice from a DataFrame.\n",
            "Try using .loc[row_indexer,col_indexer] = value instead\n",
            "\n",
            "See the caveats in the documentation: https://pandas.pydata.org/pandas-docs/stable/user_guide/indexing.html#returning-a-view-versus-a-copy\n",
            "  train_df[\"correct\"] = train_labels[\"correct\"]\n",
            "<ipython-input-14-24e18ada4ba5>:25: SettingWithCopyWarning: \n",
            "A value is trying to be set on a copy of a slice from a DataFrame.\n",
            "Try using .loc[row_indexer,col_indexer] = value instead\n",
            "\n",
            "See the caveats in the documentation: https://pandas.pydata.org/pandas-docs/stable/user_guide/indexing.html#returning-a-view-versus-a-copy\n",
            "  valid_df[\"correct\"] = valid_labels[\"correct\"]\n"
          ]
        },
        {
          "output_type": "stream",
          "name": "stdout",
          "text": [
            "4713\n",
            "4713\n",
            "Epoch 1/3\n",
            "590/590 [==============================] - 80s 126ms/step - loss: 0.6925 - accuracy: 0.5190 - val_loss: 0.6948 - val_accuracy: 0.5103\n",
            "Epoch 2/3\n",
            "590/590 [==============================] - 73s 123ms/step - loss: 0.6924 - accuracy: 0.5211 - val_loss: 0.6931 - val_accuracy: 0.5103\n",
            "Epoch 3/3\n",
            "590/590 [==============================] - 74s 126ms/step - loss: 0.6924 - accuracy: 0.5211 - val_loss: 0.6932 - val_accuracy: 0.5103\n",
            "148/148 [==============================] - 5s 31ms/step - loss: 0.6932 - accuracy: 0.5103\n",
            "Validation accuracy: 0.5102906823158264\n",
            "148/148 [==============================] - 7s 36ms/step\n",
            "### q_no 16 grp 13-22\n",
            "4713\n"
          ]
        },
        {
          "output_type": "stream",
          "name": "stderr",
          "text": [
            "<ipython-input-14-24e18ada4ba5>:24: SettingWithCopyWarning: \n",
            "A value is trying to be set on a copy of a slice from a DataFrame.\n",
            "Try using .loc[row_indexer,col_indexer] = value instead\n",
            "\n",
            "See the caveats in the documentation: https://pandas.pydata.org/pandas-docs/stable/user_guide/indexing.html#returning-a-view-versus-a-copy\n",
            "  train_df[\"correct\"] = train_labels[\"correct\"]\n",
            "<ipython-input-14-24e18ada4ba5>:25: SettingWithCopyWarning: \n",
            "A value is trying to be set on a copy of a slice from a DataFrame.\n",
            "Try using .loc[row_indexer,col_indexer] = value instead\n",
            "\n",
            "See the caveats in the documentation: https://pandas.pydata.org/pandas-docs/stable/user_guide/indexing.html#returning-a-view-versus-a-copy\n",
            "  valid_df[\"correct\"] = valid_labels[\"correct\"]\n"
          ]
        },
        {
          "output_type": "stream",
          "name": "stdout",
          "text": [
            "4713\n",
            "4713\n",
            "Epoch 1/3\n",
            "590/590 [==============================] - 80s 125ms/step - loss: 0.5851 - accuracy: 0.7308 - val_loss: 0.5711 - val_accuracy: 0.7494\n",
            "Epoch 2/3\n",
            "590/590 [==============================] - 72s 123ms/step - loss: 0.5827 - accuracy: 0.7312 - val_loss: 0.5631 - val_accuracy: 0.7494\n",
            "Epoch 3/3\n",
            "590/590 [==============================] - 72s 122ms/step - loss: 0.5828 - accuracy: 0.7312 - val_loss: 0.5662 - val_accuracy: 0.7494\n",
            "148/148 [==============================] - 5s 31ms/step - loss: 0.5662 - accuracy: 0.7494\n",
            "Validation accuracy: 0.7494165301322937\n",
            "148/148 [==============================] - 7s 40ms/step\n",
            "### q_no 17 grp 13-22\n",
            "4713\n"
          ]
        },
        {
          "output_type": "stream",
          "name": "stderr",
          "text": [
            "<ipython-input-14-24e18ada4ba5>:24: SettingWithCopyWarning: \n",
            "A value is trying to be set on a copy of a slice from a DataFrame.\n",
            "Try using .loc[row_indexer,col_indexer] = value instead\n",
            "\n",
            "See the caveats in the documentation: https://pandas.pydata.org/pandas-docs/stable/user_guide/indexing.html#returning-a-view-versus-a-copy\n",
            "  train_df[\"correct\"] = train_labels[\"correct\"]\n",
            "<ipython-input-14-24e18ada4ba5>:25: SettingWithCopyWarning: \n",
            "A value is trying to be set on a copy of a slice from a DataFrame.\n",
            "Try using .loc[row_indexer,col_indexer] = value instead\n",
            "\n",
            "See the caveats in the documentation: https://pandas.pydata.org/pandas-docs/stable/user_guide/indexing.html#returning-a-view-versus-a-copy\n",
            "  valid_df[\"correct\"] = valid_labels[\"correct\"]\n"
          ]
        },
        {
          "output_type": "stream",
          "name": "stdout",
          "text": [
            "4713\n",
            "4713\n",
            "Epoch 1/3\n",
            "590/590 [==============================] - 79s 126ms/step - loss: 0.6269 - accuracy: 0.6831 - val_loss: 0.6082 - val_accuracy: 0.7036\n",
            "Epoch 2/3\n",
            "590/590 [==============================] - 81s 136ms/step - loss: 0.6246 - accuracy: 0.6839 - val_loss: 0.6078 - val_accuracy: 0.7036\n",
            "Epoch 3/3\n",
            "590/590 [==============================] - 73s 124ms/step - loss: 0.6244 - accuracy: 0.6839 - val_loss: 0.6080 - val_accuracy: 0.7036\n",
            "148/148 [==============================] - 5s 32ms/step - loss: 0.6080 - accuracy: 0.7036\n",
            "Validation accuracy: 0.7035858035087585\n",
            "148/148 [==============================] - 6s 37ms/step\n",
            "### q_no 18 grp 13-22\n",
            "4713\n"
          ]
        },
        {
          "output_type": "stream",
          "name": "stderr",
          "text": [
            "<ipython-input-14-24e18ada4ba5>:24: SettingWithCopyWarning: \n",
            "A value is trying to be set on a copy of a slice from a DataFrame.\n",
            "Try using .loc[row_indexer,col_indexer] = value instead\n",
            "\n",
            "See the caveats in the documentation: https://pandas.pydata.org/pandas-docs/stable/user_guide/indexing.html#returning-a-view-versus-a-copy\n",
            "  train_df[\"correct\"] = train_labels[\"correct\"]\n",
            "<ipython-input-14-24e18ada4ba5>:25: SettingWithCopyWarning: \n",
            "A value is trying to be set on a copy of a slice from a DataFrame.\n",
            "Try using .loc[row_indexer,col_indexer] = value instead\n",
            "\n",
            "See the caveats in the documentation: https://pandas.pydata.org/pandas-docs/stable/user_guide/indexing.html#returning-a-view-versus-a-copy\n",
            "  valid_df[\"correct\"] = valid_labels[\"correct\"]\n"
          ]
        },
        {
          "output_type": "stream",
          "name": "stdout",
          "text": [
            "4713\n",
            "4713\n",
            "Epoch 1/3\n",
            "590/590 [==============================] - 83s 133ms/step - loss: 0.2067 - accuracy: 0.9488 - val_loss: 0.1951 - val_accuracy: 0.9516\n",
            "Epoch 2/3\n",
            "590/590 [==============================] - 73s 124ms/step - loss: 0.1980 - accuracy: 0.9504 - val_loss: 0.1941 - val_accuracy: 0.9516\n",
            "Epoch 3/3\n",
            "590/590 [==============================] - 71s 121ms/step - loss: 0.1979 - accuracy: 0.9504 - val_loss: 0.1945 - val_accuracy: 0.9516\n",
            "148/148 [==============================] - 5s 35ms/step - loss: 0.1945 - accuracy: 0.9516\n",
            "Validation accuracy: 0.9516231417655945\n",
            "148/148 [==============================] - 7s 39ms/step\n"
          ]
        }
      ]
    },
    {
      "cell_type": "code",
      "source": [
        "for name, value in evaluation_dict.items():\n",
        "  print(f\"question {name}: accuracy {value:.4f}\")\n",
        "\n",
        "print(\"\\nAverage accuracy\", sum(evaluation_dict.values())/18)"
      ],
      "metadata": {
        "colab": {
          "base_uri": "https://localhost:8080/"
        },
        "id": "Daw5PYF8GRKQ",
        "outputId": "1c28abff-089f-44a0-c0f1-f4e79a333edf"
      },
      "execution_count": 15,
      "outputs": [
        {
          "output_type": "stream",
          "name": "stdout",
          "text": [
            "question 1: accuracy 0.7322\n",
            "question 2: accuracy 0.9756\n",
            "question 3: accuracy 0.9351\n",
            "question 4: accuracy 0.7919\n",
            "question 5: accuracy 0.5557\n",
            "question 6: accuracy 0.7872\n",
            "question 7: accuracy 0.7460\n",
            "question 8: accuracy 0.6331\n",
            "question 9: accuracy 0.7583\n",
            "question 10: accuracy 0.5130\n",
            "question 11: accuracy 0.6505\n",
            "question 12: accuracy 0.8701\n",
            "question 13: accuracy 0.7161\n",
            "question 14: accuracy 0.7297\n",
            "question 15: accuracy 0.5103\n",
            "question 16: accuracy 0.7494\n",
            "question 17: accuracy 0.7036\n",
            "question 18: accuracy 0.9516\n",
            "\n",
            "Average accuracy 0.7394205100006528\n"
          ]
        }
      ]
    },
    {
      "cell_type": "code",
      "source": [],
      "metadata": {
        "id": "ZdxiS0DiNuJ8"
      },
      "execution_count": 15,
      "outputs": []
    },
    {
      "cell_type": "code",
      "source": [
        "# Print the F1 score for each question\n",
        "for i, score in enumerate(f1_scores, start=1):\n",
        "    print(f\"Question {i} : F1 {score:.4f}\")\n",
        "\n",
        "# Calculate and print the average F1 score\n",
        "average_f1 = sum(f1_scores) / len(f1_scores)\n",
        "print(f\"\\nAverage F1 score: {average_f1:.4f}\")"
      ],
      "metadata": {
        "colab": {
          "base_uri": "https://localhost:8080/"
        },
        "id": "VORPI9cWh7Mf",
        "outputId": "551262eb-7f76-4a2a-a125-ab3bb83b001c"
      },
      "execution_count": 16,
      "outputs": [
        {
          "output_type": "stream",
          "name": "stdout",
          "text": [
            "Question 1 : F1 0.8454\n",
            "Question 2 : F1 0.9876\n",
            "Question 3 : F1 0.9664\n",
            "Question 4 : F1 0.8838\n",
            "Question 5 : F1 0.7144\n",
            "Question 6 : F1 0.8809\n",
            "Question 7 : F1 0.8545\n",
            "Question 8 : F1 0.7754\n",
            "Question 9 : F1 0.8626\n",
            "Question 10 : F1 0.6782\n",
            "Question 11 : F1 0.7883\n",
            "Question 12 : F1 0.9306\n",
            "Question 13 : F1 0.0000\n",
            "Question 14 : F1 0.8437\n",
            "Question 15 : F1 0.0000\n",
            "Question 16 : F1 0.8568\n",
            "Question 17 : F1 0.8260\n",
            "Question 18 : F1 0.9752\n",
            "\n",
            "Average F1 score: 0.7594\n"
          ]
        }
      ]
    },
    {
      "cell_type": "code",
      "source": [
        "import tensorflow as tf\n",
        "\n",
        "max_score = 0; best_threshold = 0\n",
        "\n",
        "# Create a dataframe of required size:\n",
        "# (no: of users in validation set x no: of questions) initialized to zero values\n",
        "# to store true values of the label `correct`.\n",
        "true_df = pd.DataFrame(data=np.zeros((len(VALID_USER_LIST),18)), index=VALID_USER_LIST)\n",
        "for i in range(18):\n",
        "    # Get the true labels.\n",
        "    tmp = labels.loc[labels.q == i+1].set_index('session').loc[VALID_USER_LIST]\n",
        "    true_df[i] = tmp.correct.values\n",
        "\n",
        "# Loop through threshold values from 0.4 to 0.8 and select the threshold with\n",
        "# the highest `F1 score`.\n",
        "for threshold in np.arange(0.4,0.8,0.01):\n",
        "    metric = tfa.metrics.F1Score(num_classes=2,average=\"macro\",threshold=threshold)\n",
        "    y_true = tf.one_hot(true_df.values.reshape((-1)), depth=2)\n",
        "    y_pred = tf.one_hot((prediction_df.values.reshape((-1))>threshold).astype('int'), depth=2)\n",
        "    metric.update_state(y_true, y_pred)\n",
        "    f1_score = metric.result().numpy()\n",
        "    if f1_score > max_score:\n",
        "        max_score = f1_score\n",
        "        best_threshold = threshold\n",
        "\n",
        "\n",
        "print(\"Best threshold \", best_threshold, \"\\tF1 score \", max_score)"
      ],
      "metadata": {
        "colab": {
          "base_uri": "https://localhost:8080/"
        },
        "id": "PI3MWtfIN4BK",
        "outputId": "e9d37894-675f-4557-92d5-a2ef89274715"
      },
      "execution_count": 21,
      "outputs": [
        {
          "output_type": "stream",
          "name": "stdout",
          "text": [
            "F1 score  0.5904157\n",
            "Best threshold  0 \tF1 score  0\n"
          ]
        }
      ]
    }
  ]
}