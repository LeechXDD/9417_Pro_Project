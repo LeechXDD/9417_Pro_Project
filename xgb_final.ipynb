{
  "cells": [
    {
      "cell_type": "markdown",
      "metadata": {
        "id": "ZtIoc4SJZSZs"
      },
      "source": [
        "This file is used to download Kaggle datasets into a personal Google Drive.\n",
        "In order to use this, we need a kaggle.json file, which contains the API credentials.\n",
        "To obtain a kaggle.json file, sign into your Kaggle account and go to your profile, then 'My Account'. Under the API section, click 'Create New API Token' to generate the kaggle.json file. Afterwards, save it in the same directory as this .ipynb file."
      ]
    },
    {
      "cell_type": "code",
      "execution_count": null,
      "metadata": {
        "colab": {
          "base_uri": "https://localhost:8080/"
        },
        "id": "BxcFP3Y8WiCn",
        "outputId": "3b3e3b1d-e422-41ff-b317-142c118b2c12"
      },
      "outputs": [
        {
          "ename": "ModuleNotFoundError",
          "evalue": "No module named 'google.colab'",
          "output_type": "error",
          "traceback": [
            "\u001b[1;31m---------------------------------------------------------------------------\u001b[0m",
            "\u001b[1;31mModuleNotFoundError\u001b[0m                       Traceback (most recent call last)",
            "\u001b[1;32m~\\AppData\\Local\\Temp\\ipykernel_10276\\228299859.py\u001b[0m in \u001b[0;36m<module>\u001b[1;34m\u001b[0m\n\u001b[0;32m      1\u001b[0m \u001b[0mget_ipython\u001b[0m\u001b[1;33m(\u001b[0m\u001b[1;33m)\u001b[0m\u001b[1;33m.\u001b[0m\u001b[0msystem\u001b[0m\u001b[1;33m(\u001b[0m\u001b[1;34m'pip install -q kaggle'\u001b[0m\u001b[1;33m)\u001b[0m\u001b[1;33m\u001b[0m\u001b[1;33m\u001b[0m\u001b[0m\n\u001b[1;32m----> 2\u001b[1;33m \u001b[1;32mfrom\u001b[0m \u001b[0mgoogle\u001b[0m\u001b[1;33m.\u001b[0m\u001b[0mcolab\u001b[0m \u001b[1;32mimport\u001b[0m \u001b[0mdrive\u001b[0m\u001b[1;33m\u001b[0m\u001b[1;33m\u001b[0m\u001b[0m\n\u001b[0m\u001b[0;32m      3\u001b[0m \u001b[0mdrive\u001b[0m\u001b[1;33m.\u001b[0m\u001b[0mmount\u001b[0m\u001b[1;33m(\u001b[0m\u001b[1;34m'/content/drive'\u001b[0m\u001b[1;33m)\u001b[0m\u001b[1;33m\u001b[0m\u001b[1;33m\u001b[0m\u001b[0m\n",
            "\u001b[1;31mModuleNotFoundError\u001b[0m: No module named 'google.colab'"
          ]
        }
      ],
      "source": [
        "!pip install -q kaggle\n",
        "from google.colab import drive\n",
        "drive.mount('/content/drive')\n"
      ]
    },
    {
      "cell_type": "code",
      "execution_count": null,
      "metadata": {
        "id": "jb9VASiMYKY7"
      },
      "outputs": [],
      "source": [
        "##change to your current directory\n",
        "!mkdir -p ~/.kaggle\n",
        "!cp /content/drive/My\\ Drive/Colab\\ Notebooks/k aggle.json ~/.kaggle/\n",
        "!chmod 600 ~/.kaggle/kaggle.json\n"
      ]
    },
    {
      "cell_type": "code",
      "execution_count": null,
      "metadata": {
        "colab": {
          "base_uri": "https://localhost:8080/"
        },
        "id": "_teqBQe2xd5A",
        "outputId": "466b0e2d-9b30-469c-9b73-a23fc742409b"
      },
      "outputs": [
        {
          "name": "stdout",
          "output_type": "stream",
          "text": [
            "Mounted at /content/drive\n"
          ]
        }
      ],
      "source": [
        "from google.colab import drive\n",
        "drive.mount('/content/drive')"
      ]
    },
    {
      "cell_type": "code",
      "execution_count": null,
      "metadata": {
        "id": "lHzAUznEYTVB"
      },
      "outputs": [],
      "source": [
        "##change to your current directory. Afterall, unzip your dataset\n",
        "!kaggle competitions download -c predict-student-performance-from-game-play -p /content/drive/My\\ Drive/Colab\\ Notebooks/\n"
      ]
    },
    {
      "cell_type": "code",
      "execution_count": null,
      "metadata": {
        "colab": {
          "base_uri": "https://localhost:8080/"
        },
        "id": "WHgJM7QNSSmr",
        "outputId": "ea954a00-650c-434b-bf79-59290b6ca61a"
      },
      "outputs": [
        {
          "name": "stdout",
          "output_type": "stream",
          "text": [
            "Archive:  /content/drive/My Drive/Colab Notebooks/predict-student-performance-from-game-play.zip\n",
            "  inflating: jo_wilder/__init__.py   \n",
            "  inflating: jo_wilder/competition.cpython-37m-x86_64-linux-gnu.so  \n",
            "  inflating: jo_wilder_310/__init__.py  \n",
            "  inflating: jo_wilder_310/competition.cpython-310-x86_64-linux-gnu.so  \n",
            "  inflating: sample_submission.csv   \n",
            "  inflating: test.csv                \n",
            "  inflating: train.csv               \n",
            "  inflating: train_labels.csv        \n"
          ]
        }
      ],
      "source": [
        "!unzip /content/drive/My\\ Drive/Colab\\ Notebooks/predict-student-performance-from-game-play.zip"
      ]
    },
    {
      "cell_type": "code",
      "execution_count": null,
      "metadata": {
        "id": "_BVdjHOMXLAV"
      },
      "outputs": [],
      "source": [
        "!pip install tensorflow_addons\n",
        "!pip install tensorflow_decision_forests\n",
        "!pip install tensorflow\n",
        "!pip install tensorflow --upgrade\n",
        "!pip install keras --upgrade\n"
      ]
    },
    {
      "cell_type": "code",
      "execution_count": null,
      "metadata": {
        "id": "kSzVnxZXV575"
      },
      "outputs": [],
      "source": [
        "import tensorflow as tf\n",
        "import pandas as pd\n",
        "import numpy as np\n",
        "import matplotlib.pyplot as plt\n",
        "from xgboost import XGBClassifier\n",
        "from sklearn.model_selection import KFold,GroupKFold\n",
        "from sklearn.metrics import f1_score"
      ]
    },
    {
      "cell_type": "code",
      "execution_count": null,
      "metadata": {
        "id": "qesyWMx5V95g"
      },
      "outputs": [],
      "source": [
        "dtypes={\n",
        "    'elapsed_time':np.int32,\n",
        "    'event_name':'category',\n",
        "    'name':'category',\n",
        "    'level':np.uint8,\n",
        "    'room_coor_x':np.float32,\n",
        "    'room_coor_y':np.float32,\n",
        "    'screen_coor_x':np.float32,\n",
        "    'screen_coor_y':np.float32,\n",
        "    'hover_duration':np.float32,\n",
        "    'text':'category',\n",
        "    'fqid':'category',\n",
        "    'room_fqid':'category',\n",
        "    'text_fqid':'category',\n",
        "    'fullscreen':'category',\n",
        "    'hq':'category',\n",
        "    'music':'category',\n",
        "    'level_group':'category'}\n",
        "dataset_df = pd.read_csv('train.csv', dtype=dtypes)\n"
      ]
    },
    {
      "cell_type": "code",
      "execution_count": null,
      "metadata": {
        "id": "uHoq3VIcY1LE"
      },
      "outputs": [],
      "source": [
        "labels=pd.read_csv('train_labels.csv')"
      ]
    },
    {
      "cell_type": "code",
      "execution_count": null,
      "metadata": {
        "colab": {
          "base_uri": "https://localhost:8080/",
          "height": 143
        },
        "id": "6SvQzUZ3F298",
        "outputId": "7efa351b-b48e-4ac2-a066-4f258d1452ef"
      },
      "outputs": [
        {
          "data": {
            "text/html": [
              "\n",
              "\n",
              "  <div id=\"df-c86e4d4e-dfff-4c1c-aff2-9f0c3f71f464\">\n",
              "    <div class=\"colab-df-container\">\n",
              "      <div>\n",
              "<style scoped>\n",
              "    .dataframe tbody tr th:only-of-type {\n",
              "        vertical-align: middle;\n",
              "    }\n",
              "\n",
              "    .dataframe tbody tr th {\n",
              "        vertical-align: top;\n",
              "    }\n",
              "\n",
              "    .dataframe thead th {\n",
              "        text-align: right;\n",
              "    }\n",
              "</style>\n",
              "<table border=\"1\" class=\"dataframe\">\n",
              "  <thead>\n",
              "    <tr style=\"text-align: right;\">\n",
              "      <th></th>\n",
              "      <th>session_id</th>\n",
              "      <th>correct</th>\n",
              "      <th>session</th>\n",
              "      <th>q</th>\n",
              "    </tr>\n",
              "  </thead>\n",
              "  <tbody>\n",
              "    <tr>\n",
              "      <th>0</th>\n",
              "      <td>20090312431273200_q1</td>\n",
              "      <td>1</td>\n",
              "      <td>20090312431273200</td>\n",
              "      <td>1</td>\n",
              "    </tr>\n",
              "    <tr>\n",
              "      <th>1</th>\n",
              "      <td>20090312433251036_q1</td>\n",
              "      <td>0</td>\n",
              "      <td>20090312433251036</td>\n",
              "      <td>1</td>\n",
              "    </tr>\n",
              "    <tr>\n",
              "      <th>2</th>\n",
              "      <td>20090312455206810_q1</td>\n",
              "      <td>1</td>\n",
              "      <td>20090312455206810</td>\n",
              "      <td>1</td>\n",
              "    </tr>\n",
              "  </tbody>\n",
              "</table>\n",
              "</div>\n",
              "      <button class=\"colab-df-convert\" onclick=\"convertToInteractive('df-c86e4d4e-dfff-4c1c-aff2-9f0c3f71f464')\"\n",
              "              title=\"Convert this dataframe to an interactive table.\"\n",
              "              style=\"display:none;\">\n",
              "\n",
              "  <svg xmlns=\"http://www.w3.org/2000/svg\" height=\"24px\"viewBox=\"0 0 24 24\"\n",
              "       width=\"24px\">\n",
              "    <path d=\"M0 0h24v24H0V0z\" fill=\"none\"/>\n",
              "    <path d=\"M18.56 5.44l.94 2.06.94-2.06 2.06-.94-2.06-.94-.94-2.06-.94 2.06-2.06.94zm-11 1L8.5 8.5l.94-2.06 2.06-.94-2.06-.94L8.5 2.5l-.94 2.06-2.06.94zm10 10l.94 2.06.94-2.06 2.06-.94-2.06-.94-.94-2.06-.94 2.06-2.06.94z\"/><path d=\"M17.41 7.96l-1.37-1.37c-.4-.4-.92-.59-1.43-.59-.52 0-1.04.2-1.43.59L10.3 9.45l-7.72 7.72c-.78.78-.78 2.05 0 2.83L4 21.41c.39.39.9.59 1.41.59.51 0 1.02-.2 1.41-.59l7.78-7.78 2.81-2.81c.8-.78.8-2.07 0-2.86zM5.41 20L4 18.59l7.72-7.72 1.47 1.35L5.41 20z\"/>\n",
              "  </svg>\n",
              "      </button>\n",
              "\n",
              "\n",
              "\n",
              "    <div id=\"df-e6abef2f-474d-4438-8c70-f3ed0b334883\">\n",
              "      <button class=\"colab-df-quickchart\" onclick=\"quickchart('df-e6abef2f-474d-4438-8c70-f3ed0b334883')\"\n",
              "              title=\"Suggest charts.\"\n",
              "              style=\"display:none;\">\n",
              "\n",
              "<svg xmlns=\"http://www.w3.org/2000/svg\" height=\"24px\"viewBox=\"0 0 24 24\"\n",
              "     width=\"24px\">\n",
              "    <g>\n",
              "        <path d=\"M19 3H5c-1.1 0-2 .9-2 2v14c0 1.1.9 2 2 2h14c1.1 0 2-.9 2-2V5c0-1.1-.9-2-2-2zM9 17H7v-7h2v7zm4 0h-2V7h2v10zm4 0h-2v-4h2v4z\"/>\n",
              "    </g>\n",
              "</svg>\n",
              "      </button>\n",
              "    </div>\n",
              "\n",
              "<style>\n",
              "  .colab-df-quickchart {\n",
              "    background-color: #E8F0FE;\n",
              "    border: none;\n",
              "    border-radius: 50%;\n",
              "    cursor: pointer;\n",
              "    display: none;\n",
              "    fill: #1967D2;\n",
              "    height: 32px;\n",
              "    padding: 0 0 0 0;\n",
              "    width: 32px;\n",
              "  }\n",
              "\n",
              "  .colab-df-quickchart:hover {\n",
              "    background-color: #E2EBFA;\n",
              "    box-shadow: 0px 1px 2px rgba(60, 64, 67, 0.3), 0px 1px 3px 1px rgba(60, 64, 67, 0.15);\n",
              "    fill: #174EA6;\n",
              "  }\n",
              "\n",
              "  [theme=dark] .colab-df-quickchart {\n",
              "    background-color: #3B4455;\n",
              "    fill: #D2E3FC;\n",
              "  }\n",
              "\n",
              "  [theme=dark] .colab-df-quickchart:hover {\n",
              "    background-color: #434B5C;\n",
              "    box-shadow: 0px 1px 3px 1px rgba(0, 0, 0, 0.15);\n",
              "    filter: drop-shadow(0px 1px 2px rgba(0, 0, 0, 0.3));\n",
              "    fill: #FFFFFF;\n",
              "  }\n",
              "</style>\n",
              "\n",
              "    <script>\n",
              "      async function quickchart(key) {\n",
              "        const containerElement = document.querySelector('#' + key);\n",
              "        const charts = await google.colab.kernel.invokeFunction(\n",
              "            'suggestCharts', [key], {});\n",
              "      }\n",
              "    </script>\n",
              "\n",
              "      <script>\n",
              "\n",
              "function displayQuickchartButton(domScope) {\n",
              "  let quickchartButtonEl =\n",
              "    domScope.querySelector('#df-e6abef2f-474d-4438-8c70-f3ed0b334883 button.colab-df-quickchart');\n",
              "  quickchartButtonEl.style.display =\n",
              "    google.colab.kernel.accessAllowed ? 'block' : 'none';\n",
              "}\n",
              "\n",
              "        displayQuickchartButton(document);\n",
              "      </script>\n",
              "      <style>\n",
              "    .colab-df-container {\n",
              "      display:flex;\n",
              "      flex-wrap:wrap;\n",
              "      gap: 12px;\n",
              "    }\n",
              "\n",
              "    .colab-df-convert {\n",
              "      background-color: #E8F0FE;\n",
              "      border: none;\n",
              "      border-radius: 50%;\n",
              "      cursor: pointer;\n",
              "      display: none;\n",
              "      fill: #1967D2;\n",
              "      height: 32px;\n",
              "      padding: 0 0 0 0;\n",
              "      width: 32px;\n",
              "    }\n",
              "\n",
              "    .colab-df-convert:hover {\n",
              "      background-color: #E2EBFA;\n",
              "      box-shadow: 0px 1px 2px rgba(60, 64, 67, 0.3), 0px 1px 3px 1px rgba(60, 64, 67, 0.15);\n",
              "      fill: #174EA6;\n",
              "    }\n",
              "\n",
              "    [theme=dark] .colab-df-convert {\n",
              "      background-color: #3B4455;\n",
              "      fill: #D2E3FC;\n",
              "    }\n",
              "\n",
              "    [theme=dark] .colab-df-convert:hover {\n",
              "      background-color: #434B5C;\n",
              "      box-shadow: 0px 1px 3px 1px rgba(0, 0, 0, 0.15);\n",
              "      filter: drop-shadow(0px 1px 2px rgba(0, 0, 0, 0.3));\n",
              "      fill: #FFFFFF;\n",
              "    }\n",
              "  </style>\n",
              "\n",
              "      <script>\n",
              "        const buttonEl =\n",
              "          document.querySelector('#df-c86e4d4e-dfff-4c1c-aff2-9f0c3f71f464 button.colab-df-convert');\n",
              "        buttonEl.style.display =\n",
              "          google.colab.kernel.accessAllowed ? 'block' : 'none';\n",
              "\n",
              "        async function convertToInteractive(key) {\n",
              "          const element = document.querySelector('#df-c86e4d4e-dfff-4c1c-aff2-9f0c3f71f464');\n",
              "          const dataTable =\n",
              "            await google.colab.kernel.invokeFunction('convertToInteractive',\n",
              "                                                     [key], {});\n",
              "          if (!dataTable) return;\n",
              "\n",
              "          const docLinkHtml = 'Like what you see? Visit the ' +\n",
              "            '<a target=\"_blank\" href=https://colab.research.google.com/notebooks/data_table.ipynb>data table notebook</a>'\n",
              "            + ' to learn more about interactive tables.';\n",
              "          element.innerHTML = '';\n",
              "          dataTable['output_type'] = 'display_data';\n",
              "          await google.colab.output.renderOutput(dataTable, element);\n",
              "          const docLink = document.createElement('div');\n",
              "          docLink.innerHTML = docLinkHtml;\n",
              "          element.appendChild(docLink);\n",
              "        }\n",
              "      </script>\n",
              "    </div>\n",
              "  </div>\n"
            ],
            "text/plain": [
              "             session_id  correct            session  q\n",
              "0  20090312431273200_q1        1  20090312431273200  1\n",
              "1  20090312433251036_q1        0  20090312433251036  1\n",
              "2  20090312455206810_q1        1  20090312455206810  1"
            ]
          },
          "execution_count": 7,
          "metadata": {},
          "output_type": "execute_result"
        }
      ],
      "source": [
        "labels['session'] = labels.session_id.apply(lambda x: int(x.split('_')[0]) )\n",
        "labels['q'] = labels.session_id.apply(lambda x: int(x.split('_')[-1][1:]) )\n",
        "labels.head(3)"
      ]
    },
    {
      "cell_type": "code",
      "execution_count": null,
      "metadata": {
        "id": "3Hq2oAIrGO8h"
      },
      "outputs": [],
      "source": [
        "# Reference: https://www.kaggle.com/code/mannubhardwaj1022/we-r-xgb-boost-model?scriptVersionId=128450896&cellId=18\n",
        "\n",
        "CATEGORICAL = ['event_name', 'name','fqid', 'room_fqid', 'text_fqid']\n",
        "NUMERICAL = ['elapsed_time','level','page','room_coor_x', 'room_coor_y',\n",
        "        'screen_coor_x', 'screen_coor_y', 'hover_duration']\n",
        "\n",
        "def feature_engineer(dataset_df):\n",
        "    dfs = []\n",
        "    for c in CATEGORICAL:\n",
        "        tmp = dataset_df.groupby(['session_id','level_group'])[c].agg('nunique')\n",
        "        tmp.name = tmp.name + '_nunique'\n",
        "        dfs.append(tmp)\n",
        "    for c in NUMERICAL:\n",
        "        tmp = dataset_df.groupby(['session_id','level_group'])[c].agg('mean')\n",
        "        dfs.append(tmp)\n",
        "    for c in NUMERICAL:\n",
        "        tmp = dataset_df.groupby(['session_id','level_group'])[c].agg('std')\n",
        "        tmp.name = tmp.name + '_std'\n",
        "        dfs.append(tmp)\n",
        "    dataset_df = pd.concat(dfs, axis=1)\n",
        "    dataset_df = dataset_df.fillna(-1)\n",
        "    dataset_df = dataset_df.reset_index()\n",
        "    dataset_df = dataset_df.set_index('session_id')\n",
        "    return dataset_df\n"
      ]
    },
    {
      "cell_type": "code",
      "execution_count": null,
      "metadata": {
        "id": "CVllmcr6GUEK"
      },
      "outputs": [],
      "source": [
        "dataset_df = feature_engineer(dataset_df)"
      ]
    },
    {
      "cell_type": "code",
      "execution_count": 23,
      "metadata": {
        "colab": {
          "base_uri": "https://localhost:8080/"
        },
        "id": "20q9Wwp-vYa2",
        "outputId": "2b5b8c4f-6c27-42f3-e292-313d8d899f31"
      },
      "outputs": [
        {
          "output_type": "stream",
          "name": "stdout",
          "text": [
            "\n",
            "\n",
            "########################################\n",
            "#####            Fold 1            #####\n",
            "########################################\n",
            "Q:1 (year group: 0-4)(best_num_trees: 333)\n",
            "Q:2 (year group: 0-4)(best_num_trees: 431)\n",
            "Q:3 (year group: 0-4)(best_num_trees: 505)\n",
            "Q:4 (year group: 5-12)(best_num_trees: 363)\n",
            "Q:5 (year group: 5-12)(best_num_trees: 374)\n",
            "Q:6 (year group: 5-12)(best_num_trees: 449)\n",
            "Q:7 (year group: 5-12)(best_num_trees: 308)\n",
            "Q:8 (year group: 5-12)(best_num_trees: 296)\n",
            "Q:9 (year group: 5-12)(best_num_trees: 538)\n",
            "Q:10 (year group: 5-12)(best_num_trees: 399)\n",
            "Q:11 (year group: 5-12)(best_num_trees: 332)\n",
            "Q:12 (year group: 5-12)(best_num_trees: 472)\n",
            "Q:13 (year group: 5-12)(best_num_trees: 413)\n",
            "Q:14 (year group: 13-22)(best_num_trees: 445)\n",
            "Q:15 (year group: 13-22)(best_num_trees: 540)\n",
            "Q:16 (year group: 13-22)(best_num_trees: 319)\n",
            "Q:17 (year group: 13-22)(best_num_trees: 275)\n",
            "Q:18 (year group: 13-22)(best_num_trees: 445)\n",
            "\n",
            "\n",
            "########################################\n",
            "#####            Fold 2            #####\n",
            "########################################\n",
            "Q:1 (year group: 0-4)(best_num_trees: 497)\n",
            "Q:2 (year group: 0-4)(best_num_trees: 657)\n",
            "Q:3 (year group: 0-4)(best_num_trees: 455)\n",
            "Q:4 (year group: 5-12)(best_num_trees: 452)\n",
            "Q:5 (year group: 5-12)(best_num_trees: 577)\n",
            "Q:6 (year group: 5-12)(best_num_trees: 433)\n",
            "Q:7 (year group: 5-12)(best_num_trees: 324)\n",
            "Q:8 (year group: 5-12)(best_num_trees: 339)\n",
            "Q:9 (year group: 5-12)(best_num_trees: 426)\n",
            "Q:10 (year group: 5-12)(best_num_trees: 332)\n",
            "Q:11 (year group: 5-12)(best_num_trees: 375)\n",
            "Q:12 (year group: 5-12)(best_num_trees: 536)\n",
            "Q:13 (year group: 5-12)(best_num_trees: 237)\n",
            "Q:14 (year group: 13-22)(best_num_trees: 494)\n",
            "Q:15 (year group: 13-22)(best_num_trees: 445)\n",
            "Q:16 (year group: 13-22)(best_num_trees: 413)\n",
            "Q:17 (year group: 13-22)(best_num_trees: 265)\n",
            "Q:18 (year group: 13-22)(best_num_trees: 661)\n",
            "\n",
            "\n",
            "########################################\n",
            "#####            Fold 3            #####\n",
            "########################################\n",
            "Q:1 (year group: 0-4)(best_num_trees: 339)\n",
            "Q:2 (year group: 0-4)(best_num_trees: 540)\n",
            "Q:3 (year group: 0-4)(best_num_trees: 522)\n",
            "Q:4 (year group: 5-12)(best_num_trees: 546)\n",
            "Q:5 (year group: 5-12)(best_num_trees: 316)\n",
            "Q:6 (year group: 5-12)(best_num_trees: 366)\n",
            "Q:7 (year group: 5-12)(best_num_trees: 417)\n",
            "Q:8 (year group: 5-12)(best_num_trees: 270)\n",
            "Q:9 (year group: 5-12)(best_num_trees: 452)\n",
            "Q:10 (year group: 5-12)(best_num_trees: 484)\n",
            "Q:11 (year group: 5-12)(best_num_trees: 253)\n",
            "Q:12 (year group: 5-12)(best_num_trees: 306)\n",
            "Q:13 (year group: 5-12)(best_num_trees: 334)\n",
            "Q:14 (year group: 13-22)(best_num_trees: 503)\n",
            "Q:15 (year group: 13-22)(best_num_trees: 596)\n",
            "Q:16 (year group: 13-22)(best_num_trees: 355)\n",
            "Q:17 (year group: 13-22)(best_num_trees: 441)\n",
            "Q:18 (year group: 13-22)(best_num_trees: 485)\n",
            "\n",
            "\n",
            "########################################\n",
            "#####            Fold 4            #####\n",
            "########################################\n",
            "Q:1 (year group: 0-4)(best_num_trees: 509)\n",
            "Q:2 (year group: 0-4)(best_num_trees: 468)\n",
            "Q:3 (year group: 0-4)(best_num_trees: 363)\n",
            "Q:4 (year group: 5-12)(best_num_trees: 599)\n",
            "Q:5 (year group: 5-12)(best_num_trees: 297)\n",
            "Q:6 (year group: 5-12)(best_num_trees: 497)\n",
            "Q:7 (year group: 5-12)(best_num_trees: 299)\n",
            "Q:8 (year group: 5-12)(best_num_trees: 266)\n",
            "Q:9 (year group: 5-12)(best_num_trees: 449)\n",
            "Q:10 (year group: 5-12)(best_num_trees: 169)\n",
            "Q:11 (year group: 5-12)(best_num_trees: 423)\n",
            "Q:12 (year group: 5-12)(best_num_trees: 338)\n",
            "Q:13 (year group: 5-12)(best_num_trees: 415)\n",
            "Q:14 (year group: 13-22)(best_num_trees: 497)\n",
            "Q:15 (year group: 13-22)(best_num_trees: 417)\n",
            "Q:16 (year group: 13-22)(best_num_trees: 283)\n",
            "Q:17 (year group: 13-22)(best_num_trees: 294)\n",
            "Q:18 (year group: 13-22)(best_num_trees: 556)\n",
            "\n",
            "\n",
            "########################################\n",
            "#####            Fold 5            #####\n",
            "########################################\n",
            "Q:1 (year group: 0-4)(best_num_trees: 500)\n",
            "Q:2 (year group: 0-4)(best_num_trees: 615)\n",
            "Q:3 (year group: 0-4)(best_num_trees: 563)\n",
            "Q:4 (year group: 5-12)(best_num_trees: 504)\n",
            "Q:5 (year group: 5-12)(best_num_trees: 288)\n",
            "Q:6 (year group: 5-12)(best_num_trees: 544)\n",
            "Q:7 (year group: 5-12)(best_num_trees: 467)\n",
            "Q:8 (year group: 5-12)(best_num_trees: 320)\n",
            "Q:9 (year group: 5-12)(best_num_trees: 399)\n",
            "Q:10 (year group: 5-12)(best_num_trees: 276)\n",
            "Q:11 (year group: 5-12)(best_num_trees: 315)\n",
            "Q:12 (year group: 5-12)(best_num_trees: 396)\n",
            "Q:13 (year group: 5-12)(best_num_trees: 454)\n",
            "Q:14 (year group: 13-22)(best_num_trees: 319)\n",
            "Q:15 (year group: 13-22)(best_num_trees: 681)\n",
            "Q:16 (year group: 13-22)(best_num_trees: 241)\n",
            "Q:17 (year group: 13-22)(best_num_trees: 353)\n",
            "Q:18 (year group: 13-22)(best_num_trees: 528)\n",
            "\n",
            "\n",
            "########################################\n",
            "#####            Fold 6            #####\n",
            "########################################\n",
            "Q:1 (year group: 0-4)(best_num_trees: 473)\n",
            "Q:2 (year group: 0-4)(best_num_trees: 598)\n",
            "Q:3 (year group: 0-4)(best_num_trees: 539)\n",
            "Q:4 (year group: 5-12)(best_num_trees: 804)\n",
            "Q:5 (year group: 5-12)(best_num_trees: 376)\n",
            "Q:6 (year group: 5-12)(best_num_trees: 445)\n",
            "Q:7 (year group: 5-12)(best_num_trees: 421)\n",
            "Q:8 (year group: 5-12)(best_num_trees: 350)\n",
            "Q:9 (year group: 5-12)(best_num_trees: 294)\n",
            "Q:10 (year group: 5-12)(best_num_trees: 560)\n",
            "Q:11 (year group: 5-12)(best_num_trees: 304)\n",
            "Q:12 (year group: 5-12)(best_num_trees: 416)\n",
            "Q:13 (year group: 5-12)(best_num_trees: 463)\n",
            "Q:14 (year group: 13-22)(best_num_trees: 492)\n",
            "Q:15 (year group: 13-22)(best_num_trees: 423)\n",
            "Q:16 (year group: 13-22)(best_num_trees: 243)\n",
            "Q:17 (year group: 13-22)(best_num_trees: 229)\n",
            "Q:18 (year group: 13-22)(best_num_trees: 591)\n",
            "\n",
            "\n",
            "########################################\n",
            "#####            Fold 7            #####\n",
            "########################################\n",
            "Q:1 (year group: 0-4)(best_num_trees: 413)\n",
            "Q:2 (year group: 0-4)(best_num_trees: 638)\n",
            "Q:3 (year group: 0-4)(best_num_trees: 452)\n",
            "Q:4 (year group: 5-12)(best_num_trees: 458)\n",
            "Q:5 (year group: 5-12)(best_num_trees: 321)\n",
            "Q:6 (year group: 5-12)(best_num_trees: 728)\n",
            "Q:7 (year group: 5-12)(best_num_trees: 352)\n",
            "Q:8 (year group: 5-12)(best_num_trees: 179)\n",
            "Q:9 (year group: 5-12)(best_num_trees: 415)\n",
            "Q:10 (year group: 5-12)(best_num_trees: 274)\n",
            "Q:11 (year group: 5-12)(best_num_trees: 345)\n",
            "Q:12 (year group: 5-12)(best_num_trees: 434)\n",
            "Q:13 (year group: 5-12)(best_num_trees: 364)\n",
            "Q:14 (year group: 13-22)(best_num_trees: 560)\n",
            "Q:15 (year group: 13-22)(best_num_trees: 496)\n",
            "Q:16 (year group: 13-22)(best_num_trees: 590)\n",
            "Q:17 (year group: 13-22)(best_num_trees: 299)\n",
            "Q:18 (year group: 13-22)(best_num_trees: 533)\n",
            "\n",
            "\n",
            "########################################\n",
            "#####            Fold 8            #####\n",
            "########################################\n",
            "Q:1 (year group: 0-4)(best_num_trees: 524)\n",
            "Q:2 (year group: 0-4)(best_num_trees: 498)\n",
            "Q:3 (year group: 0-4)(best_num_trees: 504)\n",
            "Q:4 (year group: 5-12)(best_num_trees: 646)\n",
            "Q:5 (year group: 5-12)(best_num_trees: 425)\n",
            "Q:6 (year group: 5-12)(best_num_trees: 449)\n",
            "Q:7 (year group: 5-12)(best_num_trees: 514)\n",
            "Q:8 (year group: 5-12)(best_num_trees: 225)\n",
            "Q:9 (year group: 5-12)(best_num_trees: 490)\n",
            "Q:10 (year group: 5-12)(best_num_trees: 580)\n",
            "Q:11 (year group: 5-12)(best_num_trees: 326)\n",
            "Q:12 (year group: 5-12)(best_num_trees: 385)\n",
            "Q:13 (year group: 5-12)(best_num_trees: 311)\n",
            "Q:14 (year group: 13-22)(best_num_trees: 438)\n",
            "Q:15 (year group: 13-22)(best_num_trees: 379)\n",
            "Q:16 (year group: 13-22)(best_num_trees: 328)\n",
            "Q:17 (year group: 13-22)(best_num_trees: 365)\n",
            "Q:18 (year group: 13-22)(best_num_trees: 581)\n",
            "\n",
            "\n",
            "########################################\n",
            "#####            Fold 9            #####\n",
            "########################################\n",
            "Q:1 (year group: 0-4)(best_num_trees: 359)\n",
            "Q:2 (year group: 0-4)(best_num_trees: 675)\n",
            "Q:3 (year group: 0-4)(best_num_trees: 459)\n",
            "Q:4 (year group: 5-12)(best_num_trees: 605)\n",
            "Q:5 (year group: 5-12)(best_num_trees: 306)\n",
            "Q:6 (year group: 5-12)(best_num_trees: 539)\n",
            "Q:7 (year group: 5-12)(best_num_trees: 521)\n",
            "Q:8 (year group: 5-12)(best_num_trees: 254)\n",
            "Q:9 (year group: 5-12)(best_num_trees: 488)\n",
            "Q:10 (year group: 5-12)(best_num_trees: 303)\n",
            "Q:11 (year group: 5-12)(best_num_trees: 330)\n",
            "Q:12 (year group: 5-12)(best_num_trees: 462)\n",
            "Q:13 (year group: 5-12)(best_num_trees: 526)\n",
            "Q:14 (year group: 13-22)(best_num_trees: 496)\n",
            "Q:15 (year group: 13-22)(best_num_trees: 787)\n",
            "Q:16 (year group: 13-22)(best_num_trees: 475)\n",
            "Q:17 (year group: 13-22)(best_num_trees: 274)\n",
            "Q:18 (year group: 13-22)(best_num_trees: 723)\n",
            "\n",
            "\n",
            "########################################\n",
            "#####            Fold 10            #####\n",
            "########################################\n",
            "Q:1 (year group: 0-4)(best_num_trees: 654)\n",
            "Q:2 (year group: 0-4)(best_num_trees: 550)\n",
            "Q:3 (year group: 0-4)(best_num_trees: 362)\n",
            "Q:4 (year group: 5-12)(best_num_trees: 447)\n",
            "Q:5 (year group: 5-12)(best_num_trees: 439)\n",
            "Q:6 (year group: 5-12)(best_num_trees: 388)\n",
            "Q:7 (year group: 5-12)(best_num_trees: 401)\n",
            "Q:8 (year group: 5-12)(best_num_trees: 282)\n",
            "Q:9 (year group: 5-12)(best_num_trees: 335)\n",
            "Q:10 (year group: 5-12)(best_num_trees: 314)\n",
            "Q:11 (year group: 5-12)(best_num_trees: 349)\n",
            "Q:12 (year group: 5-12)(best_num_trees: 466)\n",
            "Q:13 (year group: 5-12)(best_num_trees: 464)\n",
            "Q:14 (year group: 13-22)(best_num_trees: 335)\n",
            "Q:15 (year group: 13-22)(best_num_trees: 389)\n",
            "Q:16 (year group: 13-22)(best_num_trees: 345)\n",
            "Q:17 (year group: 13-22)(best_num_trees: 367)\n",
            "Q:18 (year group: 13-22)(best_num_trees: 568)\n"
          ]
        }
      ],
      "source": [
        "# Define GroupKFold with 10 splits\n",
        "gkf = GroupKFold(n_splits=10)\n",
        "\n",
        "# Select features for the model\n",
        "features = [c for c in dataset_df.columns if c != 'level_group']\n",
        "\n",
        "# Get unique session IDs as validation data\n",
        "valid = dataset_df.index.unique()\n",
        "\n",
        "# Dictionary to store trained models\n",
        "models = {}\n",
        "\n",
        "# DataFrame to store model predictions\n",
        "out_prediction = pd.DataFrame(data = np.zeros((len(valid), 18)), index = valid)\n",
        "\n",
        "\n",
        "# Perform cross-validation with GroupKFold\n",
        "\n",
        "for i, (train_index, test_index) in enumerate(gkf.split(X = dataset_df, groups = dataset_df.index)):\n",
        "    print(); print()\n",
        "    print('#' * 40)\n",
        "    print('#' * 5, ' ' * 10, f'Fold {i+1}', ' ' * 10, '#' * 5)\n",
        "    print('#' * 40)\n",
        "\n",
        "    params = {\n",
        "        'objective': 'binary:logistic',\n",
        "        'eval_metric': 'logloss',\n",
        "        'learning_rate': 0.01,\n",
        "        'max_depth': 6,\n",
        "        'n_estimators': 1000,\n",
        "        'early_stopping_rounds': 50,\n",
        "        'subsample': 0.8,\n",
        "        'colsample_bytree': 0.8,\n",
        "    }\n",
        "\n",
        "    # Iterate through questions 1 to 18\n",
        "    for t in range(1, 19):\n",
        "\n",
        "        # Determine the level group for the current question\n",
        "        if t >= 0 and t <= 3:\n",
        "            year_group = '0-4'\n",
        "        elif t >= 4 and t <= 13:\n",
        "            year_group = '5-12'\n",
        "        elif t >= 14 and t <= 22:\n",
        "            year_group = '13-22'\n",
        "\n",
        "        # Get the train and validation data for the current question and level group\n",
        "        x_train = dataset_df.iloc[train_index]\n",
        "        x_train = x_train.loc[x_train.level_group == year_group]\n",
        "        train_users = x_train.index.values\n",
        "        y_train = labels.loc[labels.q == t].set_index('session').loc[train_users]\n",
        "\n",
        "        x_valid = dataset_df.iloc[test_index]\n",
        "        x_valid = x_valid.loc[x_valid.level_group == year_group]\n",
        "        valid_users = x_valid.index.values\n",
        "        y_valid = labels.loc[labels.q == t].set_index('session').loc[valid_users]\n",
        "\n",
        "        # Train an XGBoost model for the current question and level group\n",
        "        model = XGBClassifier(**params)\n",
        "        model.fit(\n",
        "            x_train[features].astype('float32'), y_train['correct'],\n",
        "            eval_set=[(x_valid[features].astype('float32'), y_valid['correct'])],\n",
        "            verbose=0\n",
        "        )\n",
        "\n",
        "        # print out the output\n",
        "        print(f'Q:{t} (year group: {year_group})(best_num_trees: {model.best_ntree_limit})', end='\\n')\n",
        "\n",
        "        # Store the trained model\n",
        "        models[f'{year_group}_{t}'] = model\n",
        "\n",
        "        out_prediction.loc[valid_users, t-1] = model.predict_proba(x_valid[features].astype('float32'))[:, 1]\n"
      ]
    },
    {
      "cell_type": "code",
      "execution_count": 24,
      "metadata": {
        "id": "BsxZvzzZhr_v"
      },
      "outputs": [],
      "source": [
        "# Create a copy of the out_prediction DataFrame\n",
        "true_table = out_prediction.copy()\n",
        "\n",
        "# Iterate through the questions (indices 0 to 17)\n",
        "for i in range(18):\n",
        "    # Filter the labels DataFrame for the current question and select the corresponding sessions in the validation set\n",
        "    tmp = labels.loc[labels.q == i + 1].set_index('session').loc[valid]\n",
        "\n",
        "    # Update the i-th column of the true_table DataFrame with the 'correct' values from tmp\n",
        "    true_table[i] = tmp.correct.values\n"
      ]
    },
    {
      "cell_type": "code",
      "execution_count": 25,
      "metadata": {
        "colab": {
          "base_uri": "https://localhost:8080/"
        },
        "id": "KNuPhF7chrzh",
        "outputId": "86232d66-e50b-4ebe-e68d-488551c3509e"
      },
      "outputs": [
        {
          "output_type": "stream",
          "name": "stdout",
          "text": [
            "threshold: 0.40, threshold: 0.41, threshold: 0.42, threshold: 0.43, threshold: 0.44, threshold: 0.45, threshold: 0.46, threshold: 0.47, threshold: 0.48, threshold: 0.49, threshold: 0.50, threshold: 0.51, threshold: 0.52, threshold: 0.53, threshold: 0.54, threshold: 0.55, threshold: 0.56, threshold: 0.57, threshold: 0.58, threshold: 0.59, threshold: 0.60, threshold: 0.61, threshold: 0.62, threshold: 0.63, threshold: 0.64, threshold: 0.65, threshold: 0.66, threshold: 0.67, threshold: 0.68, threshold: 0.69, threshold: 0.70, threshold: 0.71, threshold: 0.72, threshold: 0.73, threshold: 0.74, threshold: 0.75, threshold: 0.76, threshold: 0.77, threshold: 0.78, threshold: 0.79, threshold: 0.80, "
          ]
        }
      ],
      "source": [
        "scores = []; thresholds = []\n",
        "best_score = 0; best_threshold = 0\n",
        "\n",
        "# Iterate through a range of thresholds from 0.4 to 0.8 with a step size of 0.01\n",
        "for threshold in np.arange(0.4, 0.81, 0.01):\n",
        "    print(f'threshold: {threshold:.02f}, ', end='')\n",
        "\n",
        "    # Convert the predicted probabilities in out_prediction to binary predictions using the current threshold\n",
        "    preds = (out_prediction.values.reshape((-1)) > threshold).astype('int')\n",
        "\n",
        "    # Calculate the macro-average F1 score between the true_table and the binary predictions\n",
        "    m = f1_score(true_table.values.reshape((-1)), preds, average='macro')\n",
        "\n",
        "    # Append the F1 score and threshold to the scores and thresholds lists, respectively\n",
        "    scores.append(m)\n",
        "    thresholds.append(threshold)\n",
        "\n",
        "    # Check if the current F1 score is better than the previous best score\n",
        "    if m > best_score:\n",
        "        best_score = m\n",
        "        best_threshold = threshold\n"
      ]
    },
    {
      "cell_type": "code",
      "execution_count": 26,
      "metadata": {
        "colab": {
          "base_uri": "https://localhost:8080/",
          "height": 482
        },
        "id": "QPm386JHqypr",
        "outputId": "25c1e8dc-2b30-4011-f313-2a0a8783af2a"
      },
      "outputs": [
        {
          "output_type": "display_data",
          "data": {
            "text/plain": [
              "<Figure size 2000x500 with 1 Axes>"
            ],
            "image/png": "[encoded data removed]"
          },
          "metadata": {}
        }
      ],
      "source": [
        "import matplotlib.pyplot as plt\n",
        "\n",
        "# PLOT THRESHOLD VS. F1_SCORE\n",
        "plt.figure(figsize = (20, 5))\n",
        "plt.plot(thresholds, scores, '-o', color = 'blue')\n",
        "plt.scatter([best_threshold], [best_score], color = 'blue', s = 300, alpha = 1)\n",
        "plt.xlabel('Threshold', size = 14)\n",
        "plt.ylabel('Validation F1 Score', size = 14)\n",
        "plt.title(f'Threshold vs. F1_Score with Best F1_Score = {best_score:.3f} at Best Threshold = {best_threshold:.3}', size=18)\n",
        "plt.grid(alpha=0.1)\n",
        "plt.show()"
      ]
    },
    {
      "cell_type": "code",
      "execution_count": 27,
      "metadata": {
        "colab": {
          "base_uri": "https://localhost:8080/"
        },
        "id": "d8XpDfUKq2As",
        "outputId": "324431ed-7c55-40a5-9dab-9ca0965fbae6"
      },
      "outputs": [
        {
          "output_type": "stream",
          "name": "stdout",
          "text": [
            "When using optimal threshold...\n",
            "Question1: F1 = 0.565969492983956\n",
            "Question2: F1 = 0.49463795470144134\n",
            "Question3: F1 = 0.4867072878769665\n",
            "Question4: F1 = 0.5934369651011007\n",
            "Question5: F1 = 0.5555641093705429\n",
            "Question6: F1 = 0.6002627837444436\n",
            "Question7: F1 = 0.5791852612887199\n",
            "Question8: F1 = 0.5238130380621301\n",
            "Question9: F1 = 0.590443338285268\n",
            "Question10: F1 = 0.47527886731977137\n",
            "Question11: F1 = 0.5753767502365715\n",
            "Question12: F1 = 0.48087901047044856\n",
            "Question13: F1 = 0.42870306122694396\n",
            "Question14: F1 = 0.5966720313021173\n",
            "Question15: F1 = 0.4773457858021556\n",
            "Question16: F1 = 0.46279383901365023\n",
            "Question17: F1 = 0.5414619980837281\n",
            "Question18: F1 = 0.4881582282068438\n",
            "==> Overall F1 = 0.67305322892216\n"
          ]
        }
      ],
      "source": [
        "print('When using optimal threshold...')\n",
        "for k in range(18):\n",
        "\n",
        "    # COMPUTE F1 SCORE PER QUESTION\n",
        "    m = f1_score(true_table[k].values, (out_prediction[k].values > best_threshold).astype('int'), average='macro')\n",
        "    print(f'Question{k+1}: F1 =',m)\n",
        "\n",
        "# COMPUTE F1 SCORE OVERALL\n",
        "m = f1_score(true_table.values.reshape((-1)), (out_prediction.values.reshape((-1)) > best_threshold).astype('int'), average='macro')\n",
        "print('==> Overall F1 =',m)"
      ]
    },
    {
      "cell_type": "code",
      "execution_count": null,
      "metadata": {
        "colab": {
          "base_uri": "https://localhost:8080/"
        },
        "id": "7w4Rf8cDrRGQ",
        "outputId": "883ac595-d44f-440d-e669-3ba17614f04c"
      },
      "outputs": [
        {
          "name": "stdout",
          "output_type": "stream",
          "text": [
            "                         0         1         2         3         4         5   \\\n",
            "session_id                                                                      \n",
            "20090312431273200  0.779464  0.986927  0.956615  0.845035  0.688855  0.846843   \n",
            "20090312433251036  0.752163  0.980137  0.941633  0.571564  0.384448  0.615090   \n",
            "20090312455206810  0.743615  0.978442  0.947949  0.645614  0.569263  0.866203   \n",
            "20090313091715820  0.741239  0.982842  0.941179  0.780767  0.538492  0.832334   \n",
            "20090313571836404  0.824519  0.986013  0.947474  0.856602  0.647115  0.875363   \n",
            "...                     ...       ...       ...       ...       ...       ...   \n",
            "22100215342220508  0.635932  0.979927  0.913579  0.824919  0.509368  0.734860   \n",
            "22100215460321130  0.663798  0.977037  0.898011  0.739681  0.464234  0.696775   \n",
            "22100217104993650  0.605076  0.974528  0.896456  0.862864  0.591119  0.820513   \n",
            "22100219442786200  0.784620  0.984696  0.962326  0.795535  0.661728  0.847127   \n",
            "22100221145014656  0.610576  0.954948  0.914307  0.743819  0.462606  0.632885   \n",
            "\n",
            "                         6         7         8         9         10        11  \\\n",
            "session_id                                                                      \n",
            "20090312431273200  0.776842  0.688605  0.814292  0.584464  0.731900  0.867942   \n",
            "20090312433251036  0.643844  0.496280  0.657817  0.422861  0.523335  0.827142   \n",
            "20090312455206810  0.706667  0.704424  0.806368  0.544271  0.705725  0.740989   \n",
            "20090313091715820  0.742467  0.612945  0.722280  0.549469  0.650924  0.891995   \n",
            "20090313571836404  0.809529  0.663288  0.814499  0.596229  0.745868  0.897352   \n",
            "...                     ...       ...       ...       ...       ...       ...   \n",
            "22100215342220508  0.740536  0.577894  0.757586  0.447172  0.597135  0.879721   \n",
            "22100215460321130  0.656185  0.566794  0.647347  0.448160  0.630540  0.869084   \n",
            "22100217104993650  0.801355  0.582133  0.802872  0.546376  0.690091  0.910106   \n",
            "22100219442786200  0.765858  0.714278  0.815523  0.570340  0.777529  0.863256   \n",
            "22100221145014656  0.646942  0.602441  0.673924  0.329219  0.572337  0.846964   \n",
            "\n",
            "                         12        13        14        15        16        17  \n",
            "session_id                                                                     \n",
            "20090312431273200  0.425047  0.772564  0.535301  0.806556  0.759519  0.986887  \n",
            "20090312433251036  0.197597  0.473228  0.150707  0.635201  0.580775  0.797444  \n",
            "20090312455206810  0.490699  0.760068  0.527513  0.783154  0.776351  0.952304  \n",
            "20090313091715820  0.230579  0.709052  0.545264  0.727295  0.725589  0.964230  \n",
            "20090313571836404  0.390101  0.824267  0.575200  0.779301  0.753164  0.983816  \n",
            "...                     ...       ...       ...       ...       ...       ...  \n",
            "22100215342220508  0.199494  0.788349  0.639373  0.506986  0.595522  0.970763  \n",
            "22100215460321130  0.158919  0.699669  0.524638  0.727286  0.668426  0.967968  \n",
            "22100217104993650  0.179515  0.750626  0.493983  0.708735  0.644228  0.948166  \n",
            "22100219442786200  0.339707  0.759762  0.509035  0.752961  0.754716  0.968950  \n",
            "22100221145014656  0.200487  0.478240  0.244692  0.678408  0.571546  0.876818  \n",
            "\n",
            "[23562 rows x 18 columns]\n"
          ]
        }
      ],
      "source": [
        "print(out_prediction)"
      ]
    },
    {
      "cell_type": "code",
      "execution_count": null,
      "metadata": {
        "colab": {
          "base_uri": "https://localhost:8080/"
        },
        "id": "XfxYVOtfrb83",
        "outputId": "603f6c23-9543-48ab-c289-cee1774819cb"
      },
      "outputs": [
        {
          "name": "stdout",
          "output_type": "stream",
          "text": [
            "                   0   1   2   3   4   5   6   7   8   9   10  11  12  13  14  \\\n",
            "session_id                                                                      \n",
            "20090312431273200   1   1   1   1   1   1   1   1   1   1   1   1   0   1   1   \n",
            "20090312433251036   0   1   1   1   0   1   1   0   1   0   0   1   0   1   0   \n",
            "20090312455206810   1   1   1   1   1   1   1   1   1   1   1   1   1   1   0   \n",
            "20090313091715820   0   1   1   1   1   0   1   1   1   0   0   1   0   1   0   \n",
            "20090313571836404   1   1   1   1   1   1   1   1   1   1   1   0   1   0   1   \n",
            "...                ..  ..  ..  ..  ..  ..  ..  ..  ..  ..  ..  ..  ..  ..  ..   \n",
            "22100215342220508   1   1   1   1   1   1   1   0   1   1   1   1   0   1   1   \n",
            "22100215460321130   0   1   1   1   0   1   1   0   1   0   1   1   0   1   0   \n",
            "22100217104993650   1   1   1   1   1   1   1   1   1   0   1   1   1   1   0   \n",
            "22100219442786200   0   1   1   1   1   1   1   0   1   0   1   1   0   1   0   \n",
            "22100221145014656   0   1   0   1   0   0   0   0   1   0   1   1   0   0   0   \n",
            "\n",
            "                   15  16  17  \n",
            "session_id                     \n",
            "20090312431273200   0   1   1  \n",
            "20090312433251036   1   0   1  \n",
            "20090312455206810   1   1   1  \n",
            "20090313091715820   1   1   1  \n",
            "20090313571836404   1   1   1  \n",
            "...                ..  ..  ..  \n",
            "22100215342220508   1   1   1  \n",
            "22100215460321130   1   1   1  \n",
            "22100217104993650   0   1   1  \n",
            "22100219442786200   1   1   1  \n",
            "22100221145014656   0   1   1  \n",
            "\n",
            "[23562 rows x 18 columns]\n"
          ]
        }
      ],
      "source": [
        "print(true_table)"
      ]
    }
  ],
  "metadata": {
    "colab": {
      "provenance": []
    },
    "kernelspec": {
      "display_name": "Python 3 (ipykernel)",
      "language": "python",
      "name": "python3"
    },
    "language_info": {
      "codemirror_mode": {
        "name": "ipython",
        "version": 3
      },
      "file_extension": ".py",
      "mimetype": "text/x-python",
      "name": "python",
      "nbconvert_exporter": "python",
      "pygments_lexer": "ipython3",
      "version": "3.9.13"
    }
  },
  "nbformat": 4,
  "nbformat_minor": 0
}