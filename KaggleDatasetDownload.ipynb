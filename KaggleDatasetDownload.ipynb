{
  "nbformat": 4,
  "nbformat_minor": 0,
  "metadata": {
    "colab": {
      "provenance": [],
      "authorship_tag": "ABX9TyM0EOKLWtiabM1oKNMhCAli",
      "include_colab_link": true
    },
    "kernelspec": {
      "name": "python3",
      "display_name": "Python 3"
    },
    "language_info": {
      "name": "python"
    }
  },
  "cells": [
    {
      "cell_type": "markdown",
      "metadata": {
        "id": "view-in-github",
        "colab_type": "text"
      },
      "source": [
        "<a href=\"https://colab.research.google.com/github/LeechXDD/9417_Pro_Project/blob/main/KaggleDatasetDownload.ipynb\" target=\"_parent\"><img src=\"https://colab.research.google.com/assets/colab-badge.svg\" alt=\"Open In Colab\"/></a>"
      ]
    },
    {
      "cell_type": "markdown",
      "source": [
        "This file is used to download Kaggle datasets into a personal Google Drive.\n",
        "In order to use this, we need a kaggle.json file, which contains the API credentials.\n",
        "To obtain a kaggle.json file, sign into your Kaggle account and go to your profile, then 'My Account'. Under the API section, click 'Create New API Token' to generate the kaggle.json file. Afterwards, save it in the same directory as this .ipynb file."
      ],
      "metadata": {
        "id": "ZtIoc4SJZSZs"
      }
    },
    {
      "cell_type": "code",
      "execution_count": 7,
      "metadata": {
        "id": "BxcFP3Y8WiCn",
        "colab": {
          "base_uri": "https://localhost:8080/"
        },
        "outputId": "79651d11-269d-4141-e138-058976d7a0a9"
      },
      "outputs": [
        {
          "output_type": "stream",
          "name": "stdout",
          "text": [
            "Drive already mounted at /content/drive; to attempt to forcibly remount, call drive.mount(\"/content/drive\", force_remount=True).\n"
          ]
        }
      ],
      "source": [
        "!pip install -q kaggle\n",
        "from google.colab import drive\n",
        "drive.mount('/content/drive')\n"
      ]
    },
    {
      "cell_type": "code",
      "source": [
        "##change to your current directory\n",
        "!mkdir -p ~/.kaggle\n",
        "!cp /content/drive/My\\ Drive/9417project/kaggle.json ~/.kaggle/\n",
        "!chmod 600 ~/.kaggle/kaggle.json\n"
      ],
      "metadata": {
        "id": "jb9VASiMYKY7"
      },
      "execution_count": 8,
      "outputs": []
    },
    {
      "cell_type": "code",
      "source": [
        "##change to your current directory. Afterall, unzip your dataset\n",
        "!kaggle competitions download -c predict-student-performance-from-game-play -p /content/drive/My\\ Drive/9417project/\n"
      ],
      "metadata": {
        "id": "lHzAUznEYTVB",
        "colab": {
          "base_uri": "https://localhost:8080/"
        },
        "outputId": "9fb71409-1eb4-4024-bad1-834cd189ec1c"
      },
      "execution_count": 12,
      "outputs": [
        {
          "output_type": "stream",
          "name": "stdout",
          "text": [
            "Downloading predict-student-performance-from-game-play.zip to /content/drive/My Drive/9417project\n",
            "100% 965M/968M [00:09<00:00, 29.6MB/s]\n",
            "100% 968M/968M [00:09<00:00, 110MB/s] \n"
          ]
        }
      ]
    }
  ]
}